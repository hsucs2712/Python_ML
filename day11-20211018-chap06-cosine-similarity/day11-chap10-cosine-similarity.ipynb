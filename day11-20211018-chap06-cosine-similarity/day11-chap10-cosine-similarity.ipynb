{
 "cells": [
  {
   "cell_type": "code",
   "execution_count": 11,
   "id": "520fbfa6",
   "metadata": {},
   "outputs": [],
   "source": [
    "import numpy as np\n",
    "data1 = np.array([[1, 1]])\n",
    "data2 = np.array([[2, 2]])\n",
    "data3 = np.array([[-2, -2]])"
   ]
  },
  {
   "cell_type": "code",
   "execution_count": 12,
   "id": "488dc486",
   "metadata": {},
   "outputs": [
    {
     "name": "stdout",
     "output_type": "stream",
     "text": [
      "[[1.]]\n",
      "[[-1.]]\n"
     ]
    }
   ],
   "source": [
    "from sklearn.metrics.pairwise import cosine_similarity\n",
    "\n",
    "# sklearn.metrics.pairwise.cosine_similarity(X, Y=None, dense_output=True)[source]¶\n",
    "\n",
    "k = cosine_similarity(data1, data2)\n",
    "print(k)\n",
    "\n",
    "\n",
    "k = cosine_similarity(data1, data3)\n",
    "print(k)"
   ]
  }
 ],
 "metadata": {
  "kernelspec": {
   "display_name": "Python 3 (ipykernel)",
   "language": "python",
   "name": "python3"
  },
  "language_info": {
   "codemirror_mode": {
    "name": "ipython",
    "version": 3
   },
   "file_extension": ".py",
   "mimetype": "text/x-python",
   "name": "python",
   "nbconvert_exporter": "python",
   "pygments_lexer": "ipython3",
   "version": "3.8.8"
  }
 },
 "nbformat": 4,
 "nbformat_minor": 5
}
