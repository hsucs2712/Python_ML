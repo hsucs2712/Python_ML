{
 "cells": [
  {
   "cell_type": "code",
   "execution_count": 2,
   "id": "e61a31c1",
   "metadata": {},
   "outputs": [
    {
     "name": "stdout",
     "output_type": "stream",
     "text": [
      "你幫我看看我的電腦哪裡有問題\n",
      "你/幫/我/看看/我/的/電腦/哪裡/有/問題\n"
     ]
    }
   ],
   "source": [
    "import speech_recognition as sr\n",
    "\n",
    "# 錄音\n",
    "recognizer = sr.Recognizer()\n",
    "microphone = sr.Microphone()\n",
    "with microphone as source:\n",
    "    recognizer.adjust_for_ambient_noise(source)\n",
    "    audio = recognizer.listen(source)\n",
    "\n",
    "# 語音辨識    \n",
    "# pip install SpeechRecognition\n",
    "# pip install pyaudio\n",
    "try:\n",
    "    text=recognizer.recognize_google(audio, language='zh-tw')\n",
    "    print(text)\n",
    "except e:\n",
    "    pass\n",
    "\n",
    "# jieba 分詞\n",
    "# pip install jieba\n",
    "import jieba\n",
    "# 加詞\n",
    "#jieba.add_word('三天三夜')\n",
    "\n",
    "seg_list = jieba.cut(text)\n",
    "print(\"/\".join(seg_list))\n",
    "\n"
   ]
  },
  {
   "cell_type": "code",
   "execution_count": null,
   "id": "46761835",
   "metadata": {},
   "outputs": [],
   "source": []
  },
  {
   "cell_type": "code",
   "execution_count": null,
   "id": "63d2375d",
   "metadata": {},
   "outputs": [],
   "source": []
  }
 ],
 "metadata": {
  "kernelspec": {
   "display_name": "Python 3 (ipykernel)",
   "language": "python",
   "name": "python3"
  },
  "language_info": {
   "codemirror_mode": {
    "name": "ipython",
    "version": 3
   },
   "file_extension": ".py",
   "mimetype": "text/x-python",
   "name": "python",
   "nbconvert_exporter": "python",
   "pygments_lexer": "ipython3",
   "version": "3.8.8"
  }
 },
 "nbformat": 4,
 "nbformat_minor": 5
}
