{
 "cells": [
  {
   "cell_type": "code",
   "execution_count": 5,
   "id": "a87cb31a",
   "metadata": {},
   "outputs": [
    {
     "name": "stdout",
     "output_type": "stream",
     "text": [
      "['__class__', '__del__', '__delattr__', '__dict__', '__dir__', '__doc__', '__enter__', '__eq__', '__exit__', '__format__', '__ge__', '__getattribute__', '__gt__', '__hash__', '__init__', '__init_subclass__', '__le__', '__lt__', '__module__', '__ne__', '__new__', '__reduce__', '__reduce_ex__', '__repr__', '__setattr__', '__sizeof__', '__str__', '__subclasshook__', '__weakref__', '_compname', '_comptype', '_convert', '_data_chunk', '_data_seek_needed', '_file', '_fmt_chunk_read', '_framerate', '_framesize', '_i_opened_the_file', '_nchannels', '_nframes', '_read_fmt_chunk', '_sampwidth', '_soundpos', 'close', 'getcompname', 'getcomptype', 'getfp', 'getframerate', 'getmark', 'getmarkers', 'getnchannels', 'getnframes', 'getparams', 'getsampwidth', 'initfp', 'readframes', 'rewind', 'setpos', 'tell']\n"
     ]
    }
   ],
   "source": [
    "import wave\n",
    "f=wave.open('./audio_files/harvard.wav')\n",
    "f.getsampwidth()\n",
    "f.close()\n",
    "print(dir(f))"
   ]
  },
  {
   "cell_type": "code",
   "execution_count": 6,
   "id": "3c17e69f",
   "metadata": {
    "collapsed": true
   },
   "outputs": [
    {
     "name": "stderr",
     "output_type": "stream",
     "text": [
      "WARNING: Ignoring invalid distribution -illow (c:\\python38\\lib\\site-packages)\n",
      "WARNING: Ignoring invalid distribution -illow (c:\\python38\\lib\\site-packages)\n",
      "ERROR: Could not find a version that satisfies the requirement winsound (from versions: none)\n",
      "ERROR: No matching distribution found for winsound\n",
      "WARNING: Ignoring invalid distribution -illow (c:\\python38\\lib\\site-packages)\n",
      "WARNING: Ignoring invalid distribution -illow (c:\\python38\\lib\\site-packages)\n"
     ]
    }
   ],
   "source": [
    "!pip install winsound"
   ]
  },
  {
   "cell_type": "code",
   "execution_count": 10,
   "id": "813e2235",
   "metadata": {},
   "outputs": [],
   "source": [
    "from playsound import playsound\n",
    "playsound('./audio_files/jackhammer.wav')"
   ]
  },
  {
   "cell_type": "code",
   "execution_count": 7,
   "id": "2bac9b6b",
   "metadata": {
    "scrolled": false
   },
   "outputs": [
    {
     "ename": "KeyboardInterrupt",
     "evalue": "",
     "output_type": "error",
     "traceback": [
      "\u001b[1;31m---------------------------------------------------------------------------\u001b[0m",
      "\u001b[1;31mKeyboardInterrupt\u001b[0m                         Traceback (most recent call last)",
      "\u001b[1;32mC:\\Users\\LEWIS_~1\\AppData\\Local\\Temp/ipykernel_22832/4057162259.py\u001b[0m in \u001b[0;36m<module>\u001b[1;34m\u001b[0m\n\u001b[0;32m      2\u001b[0m \u001b[0mwinsound\u001b[0m\u001b[1;33m.\u001b[0m\u001b[0mPlaySound\u001b[0m\u001b[1;33m(\u001b[0m\u001b[1;34m\"SystemExit\"\u001b[0m\u001b[1;33m,\u001b[0m \u001b[0mwinsound\u001b[0m\u001b[1;33m.\u001b[0m\u001b[0mSND_ALIAS\u001b[0m\u001b[1;33m)\u001b[0m\u001b[1;33m\u001b[0m\u001b[1;33m\u001b[0m\u001b[0m\n\u001b[0;32m      3\u001b[0m \u001b[0mfilename\u001b[0m \u001b[1;33m=\u001b[0m \u001b[1;34m'./audio_files/harvard.wav'\u001b[0m\u001b[1;33m\u001b[0m\u001b[1;33m\u001b[0m\u001b[0m\n\u001b[1;32m----> 4\u001b[1;33m \u001b[0mwinsound\u001b[0m\u001b[1;33m.\u001b[0m\u001b[0mPlaySound\u001b[0m\u001b[1;33m(\u001b[0m\u001b[0mfilename\u001b[0m\u001b[1;33m,\u001b[0m \u001b[0mwinsound\u001b[0m\u001b[1;33m.\u001b[0m\u001b[0mSND_FILENAME\u001b[0m\u001b[1;33m)\u001b[0m\u001b[1;33m\u001b[0m\u001b[1;33m\u001b[0m\u001b[0m\n\u001b[0m",
      "\u001b[1;31mKeyboardInterrupt\u001b[0m: "
     ]
    }
   ],
   "source": [
    "import winsound\n",
    "winsound.PlaySound(\"SystemExit\", winsound.SND_ALIAS)\n",
    "filename = './audio_files/harvard.wav'\n",
    "winsound.PlaySound(filename, winsound.SND_FILENAME) "
   ]
  }
 ],
 "metadata": {
  "kernelspec": {
   "display_name": "Python 3 (ipykernel)",
   "language": "python",
   "name": "python3"
  },
  "language_info": {
   "codemirror_mode": {
    "name": "ipython",
    "version": 3
   },
   "file_extension": ".py",
   "mimetype": "text/x-python",
   "name": "python",
   "nbconvert_exporter": "python",
   "pygments_lexer": "ipython3",
   "version": "3.8.8"
  }
 },
 "nbformat": 4,
 "nbformat_minor": 5
}
