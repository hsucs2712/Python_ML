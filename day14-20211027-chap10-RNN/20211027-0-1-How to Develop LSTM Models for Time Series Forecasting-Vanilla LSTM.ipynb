{
 "cells": [
  {
   "cell_type": "code",
   "execution_count": null,
   "metadata": {},
   "outputs": [],
   "source": [
    "# https://machinelearningmastery.com/how-to-develop-lstm-models-for-time-series-forecasting/"
   ]
  },
  {
   "cell_type": "code",
   "execution_count": 1,
   "metadata": {},
   "outputs": [],
   "source": [
    "# 驗證函數\n",
    "from numpy import array\n",
    " \n",
    "# split a univariate sequence into samples\n",
    "def split_sequence(sequence, n_steps):\n",
    "\tX, y = list(), list()\n",
    "\tfor i in range(len(sequence)):\n",
    "\t\t# find the end of this pattern\n",
    "\t\tend_ix = i + n_steps\n",
    "\t\t# check if we are beyond the sequence\n",
    "\t\tif end_ix > len(sequence)-1:\n",
    "\t\t\tbreak\n",
    "\t\t# gather input and output parts of the pattern\n",
    "\t\tseq_x, seq_y = sequence[i:end_ix], sequence[end_ix]\n",
    "\t\tX.append(seq_x)\n",
    "\t\ty.append(seq_y)\n",
    "\treturn array(X), array(y)\n",
    " "
   ]
  },
  {
   "cell_type": "code",
   "execution_count": 2,
   "metadata": {},
   "outputs": [
    {
     "name": "stdout",
     "output_type": "stream",
     "text": [
      "[10 20 30] 40\n",
      "[20 30 40] 50\n",
      "[30 40 50] 60\n",
      "[40 50 60] 70\n",
      "[50 60 70] 80\n",
      "[60 70 80] 90\n"
     ]
    }
   ],
   "source": [
    "# 驗證一\n",
    "# define input sequence\n",
    "raw_seq = [10, 20, 30, 40, 50, 60, 70, 80, 90]\n",
    "# choose a number of time steps\n",
    "n_steps = 3\n",
    "# split into samples\n",
    "X, y = split_sequence(raw_seq, n_steps)\n",
    "# summarize the data\n",
    "for i in range(len(X)):\n",
    "\tprint(X[i], y[i])"
   ]
  },
  {
   "cell_type": "code",
   "execution_count": 3,
   "metadata": {},
   "outputs": [
    {
     "name": "stdout",
     "output_type": "stream",
     "text": [
      "Requirement already satisfied: pandas_datareader==0.10.0 in c:\\python37\\lib\\site-packages (0.10.0)\n",
      "Requirement already satisfied: pandas>=0.23 in c:\\python37\\lib\\site-packages (from pandas_datareader==0.10.0) (0.25.3)\n",
      "Requirement already satisfied: requests>=2.19.0 in c:\\python37\\lib\\site-packages (from pandas_datareader==0.10.0) (2.22.0)\n",
      "Requirement already satisfied: lxml in c:\\python37\\lib\\site-packages (from pandas_datareader==0.10.0) (4.6.2)\n",
      "Requirement already satisfied: pytz>=2017.2 in c:\\python37\\lib\\site-packages (from pandas>=0.23->pandas_datareader==0.10.0) (2019.3)\n",
      "Requirement already satisfied: python-dateutil>=2.6.1 in c:\\python37\\lib\\site-packages (from pandas>=0.23->pandas_datareader==0.10.0) (2.8.1)\n",
      "Requirement already satisfied: numpy>=1.13.3 in c:\\python37\\lib\\site-packages (from pandas>=0.23->pandas_datareader==0.10.0) (1.19.3)\n",
      "Requirement already satisfied: idna<2.9,>=2.5 in c:\\python37\\lib\\site-packages (from requests>=2.19.0->pandas_datareader==0.10.0) (2.8)\n",
      "Requirement already satisfied: chardet<3.1.0,>=3.0.2 in c:\\python37\\lib\\site-packages (from requests>=2.19.0->pandas_datareader==0.10.0) (3.0.4)\n",
      "Requirement already satisfied: certifi>=2017.4.17 in c:\\python37\\lib\\site-packages (from requests>=2.19.0->pandas_datareader==0.10.0) (2021.5.30)\n",
      "Requirement already satisfied: urllib3!=1.25.0,!=1.25.1,<1.26,>=1.21.1 in c:\\python37\\lib\\site-packages (from requests>=2.19.0->pandas_datareader==0.10.0) (1.25.6)\n",
      "Requirement already satisfied: six>=1.5 in c:\\python37\\lib\\site-packages (from python-dateutil>=2.6.1->pandas>=0.23->pandas_datareader==0.10.0) (1.15.0)\n"
     ]
    },
    {
     "name": "stderr",
     "output_type": "stream",
     "text": [
      "WARNING: You are using pip version 19.2.3, however version 21.3.1 is available.\n",
      "You should consider upgrading via the 'python -m pip install --upgrade pip' command.\n"
     ]
    }
   ],
   "source": [
    "!pip install pandas_datareader==0.10.0"
   ]
  },
  {
   "cell_type": "code",
   "execution_count": 4,
   "metadata": {},
   "outputs": [
    {
     "data": {
      "text/html": [
       "<div>\n",
       "<style scoped>\n",
       "    .dataframe tbody tr th:only-of-type {\n",
       "        vertical-align: middle;\n",
       "    }\n",
       "\n",
       "    .dataframe tbody tr th {\n",
       "        vertical-align: top;\n",
       "    }\n",
       "\n",
       "    .dataframe thead th {\n",
       "        text-align: right;\n",
       "    }\n",
       "</style>\n",
       "<table border=\"1\" class=\"dataframe\">\n",
       "  <thead>\n",
       "    <tr style=\"text-align: right;\">\n",
       "      <th></th>\n",
       "      <th>Date</th>\n",
       "      <th>High</th>\n",
       "      <th>Low</th>\n",
       "      <th>Open</th>\n",
       "      <th>Close</th>\n",
       "      <th>Volume</th>\n",
       "      <th>Adj Close</th>\n",
       "      <th>TickerId</th>\n",
       "      <th>TickerName</th>\n",
       "    </tr>\n",
       "  </thead>\n",
       "  <tbody>\n",
       "    <tr>\n",
       "      <th>5450</th>\n",
       "      <td>2021-10-25</td>\n",
       "      <td>597.0</td>\n",
       "      <td>590.0</td>\n",
       "      <td>597.0</td>\n",
       "      <td>593.0</td>\n",
       "      <td>16785568.0</td>\n",
       "      <td>593.0</td>\n",
       "      <td>2330</td>\n",
       "      <td>台積電</td>\n",
       "    </tr>\n",
       "    <tr>\n",
       "      <th>5451</th>\n",
       "      <td>2021-10-26</td>\n",
       "      <td>600.0</td>\n",
       "      <td>593.0</td>\n",
       "      <td>595.0</td>\n",
       "      <td>599.0</td>\n",
       "      <td>19998808.0</td>\n",
       "      <td>599.0</td>\n",
       "      <td>2330</td>\n",
       "      <td>台積電</td>\n",
       "    </tr>\n",
       "    <tr>\n",
       "      <th>5452</th>\n",
       "      <td>2021-10-27</td>\n",
       "      <td>598.0</td>\n",
       "      <td>594.0</td>\n",
       "      <td>598.0</td>\n",
       "      <td>599.0</td>\n",
       "      <td>15090461.0</td>\n",
       "      <td>599.0</td>\n",
       "      <td>2330</td>\n",
       "      <td>台積電</td>\n",
       "    </tr>\n",
       "  </tbody>\n",
       "</table>\n",
       "</div>"
      ],
      "text/plain": [
       "           Date   High    Low   Open  Close      Volume  Adj Close TickerId  \\\n",
       "5450 2021-10-25  597.0  590.0  597.0  593.0  16785568.0      593.0     2330   \n",
       "5451 2021-10-26  600.0  593.0  595.0  599.0  19998808.0      599.0     2330   \n",
       "5452 2021-10-27  598.0  594.0  598.0  599.0  15090461.0      599.0     2330   \n",
       "\n",
       "     TickerName  \n",
       "5450        台積電  \n",
       "5451        台積電  \n",
       "5452        台積電  "
      ]
     },
     "execution_count": 4,
     "metadata": {},
     "output_type": "execute_result"
    }
   ],
   "source": [
    "import pandas_datareader.data as web\n",
    "# 第一個數據\n",
    "predict_days = 6 # 用過去6天預測下一天\n",
    "df = web.DataReader('2330.tw', 'yahoo', '1999-01-01', '2021-10-27')\n",
    "data = df.reset_index()\n",
    "data['TickerId']   = '2330'\n",
    "data['TickerName'] = '台積電'\n",
    "data[-3:]"
   ]
  },
  {
   "cell_type": "code",
   "execution_count": 5,
   "metadata": {},
   "outputs": [],
   "source": [
    "# 使用台積電股價 驗證  ????\n",
    "# define input sequence\n",
    "raw_seq = data.Close #[10, 20, 30, 40, 50, 60, 70, 80, 90]\n",
    "# choose a number of time steps\n",
    "n_steps = 6\n",
    "# split into samples\n",
    "X, y = split_sequence(raw_seq, n_steps)\n",
    "# summarize the data\n",
    "# for i in range(len(X)):\n",
    "# \tprint(X[i], y[i])"
   ]
  },
  {
   "cell_type": "code",
   "execution_count": 6,
   "metadata": {},
   "outputs": [
    {
     "data": {
      "text/plain": [
       "(array([[573., 600., 590., 600., 598., 596.],\n",
       "        [600., 590., 600., 598., 596., 600.],\n",
       "        [590., 600., 598., 596., 600., 593.],\n",
       "        [600., 598., 596., 600., 593., 599.]]),\n",
       " array([600., 593., 599., 599.]))"
      ]
     },
     "execution_count": 6,
     "metadata": {},
     "output_type": "execute_result"
    }
   ],
   "source": [
    "X[-4:], y[-4:]"
   ]
  },
  {
   "cell_type": "code",
   "execution_count": 7,
   "metadata": {},
   "outputs": [
    {
     "name": "stdout",
     "output_type": "stream",
     "text": [
      "WARNING:tensorflow:Layer lstm will not use cuDNN kernels since it doesn't meet the criteria. It will use a generic GPU kernel as fallback when running on GPU.\n",
      "Model: \"sequential\"\n",
      "_________________________________________________________________\n",
      "Layer (type)                 Output Shape              Param #   \n",
      "=================================================================\n",
      "lstm (LSTM)                  (None, 50)                10400     \n",
      "_________________________________________________________________\n",
      "dense (Dense)                (None, 1)                 51        \n",
      "=================================================================\n",
      "Total params: 10,451\n",
      "Trainable params: 10,451\n",
      "Non-trainable params: 0\n",
      "_________________________________________________________________\n"
     ]
    }
   ],
   "source": [
    "# 使用 LSTM 看前看後記憶\n",
    "from keras.models import Sequential\n",
    "from keras.layers import Dense, Activation, LSTM\n",
    "n_steps = 6\n",
    "n_features = 1\n",
    "model = Sequential()\n",
    "model.add(LSTM(50, activation='relu', input_shape=(n_steps, n_features)))\n",
    "model.add(Dense(1))\n",
    "model.compile(optimizer='adam', loss='mse')\n",
    "model.summary()"
   ]
  },
  {
   "cell_type": "code",
   "execution_count": 8,
   "metadata": {},
   "outputs": [],
   "source": [
    "X = X.reshape((X.shape[0], X.shape[1], n_features)) # 多出一個維度"
   ]
  },
  {
   "cell_type": "code",
   "execution_count": 11,
   "metadata": {},
   "outputs": [
    {
     "data": {
      "text/plain": [
       "(5447, 6, 1)"
      ]
     },
     "execution_count": 11,
     "metadata": {},
     "output_type": "execute_result"
    }
   ],
   "source": [
    "X.shape"
   ]
  },
  {
   "cell_type": "code",
   "execution_count": 12,
   "metadata": {
    "scrolled": true
   },
   "outputs": [
    {
     "name": "stdout",
     "output_type": "stream",
     "text": [
      "Epoch 1/20\n",
      "171/171 - 5s - loss: 2918.8833\n",
      "Epoch 2/20\n",
      "171/171 - 3s - loss: 26.0039\n",
      "Epoch 3/20\n",
      "171/171 - 3s - loss: 25.5641\n",
      "Epoch 4/20\n",
      "171/171 - 3s - loss: 24.5912\n",
      "Epoch 5/20\n",
      "171/171 - 3s - loss: 25.0559\n",
      "Epoch 6/20\n",
      "171/171 - 3s - loss: 23.8553\n",
      "Epoch 7/20\n",
      "171/171 - 3s - loss: 22.6171\n",
      "Epoch 8/20\n",
      "171/171 - 3s - loss: 23.7154\n",
      "Epoch 9/20\n",
      "171/171 - 3s - loss: 22.6344\n",
      "Epoch 10/20\n",
      "171/171 - 3s - loss: 21.0707\n",
      "Epoch 11/20\n",
      "171/171 - 3s - loss: 21.1758\n",
      "Epoch 12/20\n",
      "171/171 - 3s - loss: 23.4309\n",
      "Epoch 13/20\n",
      "171/171 - 3s - loss: 21.9843\n",
      "Epoch 14/20\n",
      "171/171 - 3s - loss: 21.8503\n",
      "Epoch 15/20\n",
      "171/171 - 3s - loss: 18.5742\n",
      "Epoch 16/20\n",
      "171/171 - 3s - loss: 27.5547\n",
      "Epoch 17/20\n",
      "171/171 - 3s - loss: 24.9923\n",
      "Epoch 18/20\n",
      "171/171 - 3s - loss: 27.3719\n",
      "Epoch 19/20\n",
      "171/171 - 3s - loss: 25.3200\n",
      "Epoch 20/20\n",
      "171/171 - 3s - loss: 23.2224\n"
     ]
    }
   ],
   "source": [
    "# fit model\n",
    "history = model.fit(X, y, epochs=20, verbose=2)"
   ]
  },
  {
   "cell_type": "code",
   "execution_count": 13,
   "metadata": {},
   "outputs": [
    {
     "data": {
      "image/png": "[encoded data removed]",
      "text/plain": [
       "<Figure size 1152x216 with 1 Axes>"
      ]
     },
     "metadata": {
      "needs_background": "light"
     },
     "output_type": "display_data"
    }
   ],
   "source": [
    "%matplotlib inline\n",
    "import matplotlib.pyplot as plt\n",
    "plt.figure(figsize=(16,3))\n",
    "plt.grid()\n",
    "plt.plot( history.history.get('loss') , color='red')\n",
    "plt.show()"
   ]
  },
  {
   "cell_type": "code",
   "execution_count": 16,
   "metadata": {},
   "outputs": [
    {
     "data": {
      "text/plain": [
       "28.696631399314896"
      ]
     },
     "execution_count": 16,
     "metadata": {},
     "output_type": "execute_result"
    }
   ],
   "source": [
    "# 使用 Deep Learning 進行預測\n",
    "# 重要數據\n",
    "pre_Close = model.predict(X).ravel()\n",
    "Close = y\n",
    "\n",
    "sum((pre_Close - Close)**2) / len(Close)"
   ]
  },
  {
   "cell_type": "code",
   "execution_count": 18,
   "metadata": {},
   "outputs": [
    {
     "name": "stderr",
     "output_type": "stream",
     "text": [
      "c:\\python37\\lib\\site-packages\\pandas\\plotting\\_matplotlib\\converter.py:103: FutureWarning: Using an implicitly registered datetime converter for a matplotlib plotting method. The converter was registered by pandas on import. Future versions of pandas will require you to explicitly register matplotlib converters.\n",
      "\n",
      "To register the converters:\n",
      "\t>>> from pandas.plotting import register_matplotlib_converters\n",
      "\t>>> register_matplotlib_converters()\n",
      "  warnings.warn(msg, FutureWarning)\n"
     ]
    },
    {
     "data": {
      "image/png": "[encoded data removed]",
      "text/plain": [
       "<Figure size 1152x288 with 1 Axes>"
      ]
     },
     "metadata": {
      "needs_background": "light"
     },
     "output_type": "display_data"
    },
    {
     "data": {
      "image/png": "[encoded data removed]",
      "text/plain": [
       "<Figure size 1152x288 with 1 Axes>"
      ]
     },
     "metadata": {
      "needs_background": "light"
     },
     "output_type": "display_data"
    }
   ],
   "source": [
    "%matplotlib inline\n",
    "import pandas as pd\n",
    "import matplotlib.pyplot as plt\n",
    "\n",
    "data_plot = data[:len(pre_Close)]\n",
    "\n",
    "plt.figure(figsize=(16,4))\n",
    "plt.grid()\n",
    "plt.plot(pd.to_datetime(data_plot.Date), Close, color='red')\n",
    "plt.show()\n",
    "\n",
    "plt.figure(figsize=(16,4))\n",
    "plt.grid()\n",
    "plt.plot(pd.to_datetime(data_plot.Date), pre_Close, color='blue')\n",
    "plt.show()"
   ]
  },
  {
   "cell_type": "code",
   "execution_count": 19,
   "metadata": {},
   "outputs": [
    {
     "data": {
      "text/plain": [
       "array([[590.5063]], dtype=float32)"
      ]
     },
     "execution_count": 19,
     "metadata": {},
     "output_type": "execute_result"
    }
   ],
   "source": [
    "X.shape\n",
    "model.predict(X[-1].reshape(1, X[-1].shape[0], X[-1].shape[1]))"
   ]
  },
  {
   "cell_type": "code",
   "execution_count": 20,
   "metadata": {},
   "outputs": [
    {
     "data": {
      "text/plain": [
       "array([[600.],\n",
       "       [598.],\n",
       "       [596.],\n",
       "       [600.],\n",
       "       [593.],\n",
       "       [599.]])"
      ]
     },
     "execution_count": 20,
     "metadata": {},
     "output_type": "execute_result"
    }
   ],
   "source": [
    "X[-1]"
   ]
  },
  {
   "cell_type": "code",
   "execution_count": 21,
   "metadata": {},
   "outputs": [
    {
     "name": "stdout",
     "output_type": "stream",
     "text": [
      "[590.5063] 2021-10-27\n",
      "[588.11835] 2021-10-28\n",
      "[586.57385] 2021-10-29\n",
      "[585.4118] 2021-10-30\n",
      "[583.0335] 2021-10-31\n",
      "[581.5522] 2021-11-01\n",
      "[578.47296] 2021-11-02\n",
      "[576.3698] 2021-11-03\n",
      "[574.489] 2021-11-04\n",
      "[572.57916] 2021-11-05\n"
     ]
    }
   ],
   "source": [
    "# 針對最近數據預測 Deep Learning\n",
    "# 預測下個十天TSMC 股價\n",
    "import numpy as np\n",
    "from datetime import timedelta\n",
    "\n",
    "# 下一天\n",
    "next_data = X[-1]\n",
    "next_day = model.predict(X[-1].reshape(1, X[-1].shape[0], X[-1].shape[1]))\n",
    "print(next_day[0], data.Date[-1:].dt.strftime(\"%Y-%m-%d\").values[0])\n",
    "\n",
    "#next_data, next_day[0]\n",
    "\n",
    "#np.vstack( (next_data , next_day[0]) )[-5:, :]\n",
    "\n",
    "\n",
    "# 剩下的天數 再預測\n",
    "for i in range(1, 10, 1):\n",
    "    next_data = np.vstack( (next_data , next_day[0]) )[-1*predict_days:, :]\n",
    "    next_day = model.predict(next_data.reshape(1, next_data.shape[0], next_data.shape[1]))\n",
    "    print(next_day[0],  (data.Date[-1:] + timedelta(days=i)).dt.strftime(\"%Y-%m-%d\").values[0]  )\n"
   ]
  }
 ],
 "metadata": {
  "kernelspec": {
   "display_name": "Python 3",
   "language": "python",
   "name": "python3"
  },
  "language_info": {
   "codemirror_mode": {
    "name": "ipython",
    "version": 3
   },
   "file_extension": ".py",
   "mimetype": "text/x-python",
   "name": "python",
   "nbconvert_exporter": "python",
   "pygments_lexer": "ipython3",
   "version": "3.7.5"
  }
 },
 "nbformat": 4,
 "nbformat_minor": 2
}
