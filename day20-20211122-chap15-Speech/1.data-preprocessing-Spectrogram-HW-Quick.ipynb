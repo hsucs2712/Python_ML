{
 "cells": [
  {
   "cell_type": "code",
   "execution_count": 1,
   "metadata": {},
   "outputs": [],
   "source": [
    "# import librosa\n",
    "# songname = \"./genres/blues/blues.00000.wav\""
   ]
  },
  {
   "cell_type": "code",
   "execution_count": 2,
   "metadata": {},
   "outputs": [],
   "source": [
    "# import matplotlib.pyplot as plt\n",
    "\n",
    "# cmap = plt.get_cmap('inferno')\n",
    "# plt.figure(figsize=(10,10))\n",
    "\n",
    "# y, sr = librosa.load(songname, mono=True, duration=5)\n",
    "# plt.specgram(y, NFFT=2048, Fs=2, Fc=0, noverlap=128, cmap=cmap, sides='default', mode='default', scale='dB');\n",
    "# plt.axis('off');\n",
    "# plt.savefig('./blues.00000.wav.png')\n",
    "# plt.clf()"
   ]
  },
  {
   "cell_type": "code",
   "execution_count": 3,
   "metadata": {},
   "outputs": [],
   "source": [
    "# # 第一 將每一種歌曲型態轉換成Spectrogram\n",
    "# # 第二 參考CNN MODEL去進行分類\n",
    "# img = plt.imread('./blues.00000.wav.png')\n",
    "# plt.imshow(img)\n",
    "# plt.axis('off')\n",
    "# plt.show()"
   ]
  },
  {
   "cell_type": "code",
   "execution_count": null,
   "metadata": {},
   "outputs": [],
   "source": []
  },
  {
   "cell_type": "code",
   "execution_count": 4,
   "metadata": {},
   "outputs": [],
   "source": [
    "# import pandas as pd\n",
    "# path = './genres/'\n",
    "# df = pd.read_csv(path + 'input.mf', delimiter ='\\t', header=None, names=['fullpath', 'style'])\n",
    "# df['filename'] = df[:]['fullpath'].apply(lambda x: path+'/'.join(x.split('/')[-2:]))\n",
    "# df[:5]"
   ]
  },
  {
   "cell_type": "code",
   "execution_count": 5,
   "metadata": {},
   "outputs": [],
   "source": [
    "# df['filename'][:3].tolist()"
   ]
  },
  {
   "cell_type": "code",
   "execution_count": 6,
   "metadata": {
    "scrolled": true
   },
   "outputs": [],
   "source": [
    "# from tqdm import tqdm\n",
    "# for songname in tqdm(df['filename'][:].tolist()):\n",
    "#     cmap = plt.get_cmap('inferno')\n",
    "#     plt.figure(figsize=(10,10))\n",
    "#     y, sr = librosa.load(songname, mono=True, duration=5)\n",
    "#     plt.specgram(y, NFFT=2048, Fs=2, Fc=0, noverlap=128, cmap=cmap, sides='default', mode='default', scale='dB');\n",
    "#     plt.axis('off');\n",
    "#     plt.savefig('./CNN/{}.png'.format(songname.split('/')[-1]))\n",
    "#     plt.clf()\n",
    "#     plt.close()"
   ]
  },
  {
   "cell_type": "code",
   "execution_count": null,
   "metadata": {},
   "outputs": [],
   "source": []
  },
  {
   "cell_type": "code",
   "execution_count": 7,
   "metadata": {},
   "outputs": [],
   "source": [
    "# path = './CNN/'\n",
    "# X = []\n",
    "# import os\n",
    "# for root, dirs, files in os.walk(path):\n",
    "#     for f in files:\n",
    "#         X.append(root + f)\n",
    "\n",
    "# X[:3]"
   ]
  },
  {
   "cell_type": "code",
   "execution_count": 8,
   "metadata": {},
   "outputs": [],
   "source": [
    "# len(X)"
   ]
  },
  {
   "cell_type": "code",
   "execution_count": 9,
   "metadata": {},
   "outputs": [],
   "source": [
    "# sorted(X)[:3]"
   ]
  },
  {
   "cell_type": "code",
   "execution_count": 10,
   "metadata": {},
   "outputs": [],
   "source": [
    "# X = sorted(X)"
   ]
  },
  {
   "cell_type": "code",
   "execution_count": 11,
   "metadata": {},
   "outputs": [],
   "source": [
    "import pandas as pd\n",
    "sample = pd.read_csv('data.csv')\n",
    "# sample[:3]"
   ]
  },
  {
   "cell_type": "code",
   "execution_count": 12,
   "metadata": {},
   "outputs": [
    {
     "data": {
      "text/plain": [
       "array([0, 0, 0])"
      ]
     },
     "execution_count": 12,
     "metadata": {},
     "output_type": "execute_result"
    }
   ],
   "source": [
    "# y \n",
    "from sklearn.preprocessing import LabelEncoder\n",
    "le = LabelEncoder()\n",
    "y_raw = sample.iloc[:, -1].values\n",
    "y = le.fit_transform(y_raw)\n",
    "y[:3]"
   ]
  },
  {
   "cell_type": "code",
   "execution_count": 13,
   "metadata": {},
   "outputs": [],
   "source": [
    "# import matplotlib.pyplot as plt\n",
    "# from skimage import color\n",
    "# import numpy as np\n",
    "\n",
    "# path = './CNN/'\n",
    "\n",
    "# def read_image(f):\n",
    "#     img = plt.imread(fname=f)\n",
    "#     img_gray = color.rgb2gray(color.rgba2rgb(img))\n",
    "#     return(img_gray)\n",
    "\n",
    "# X = np.array([read_image(x) for x in X[:] ])        \n",
    "# X.shape"
   ]
  },
  {
   "cell_type": "code",
   "execution_count": 14,
   "metadata": {},
   "outputs": [],
   "source": [
    "# np.save('./X.npy', X)"
   ]
  },
  {
   "cell_type": "code",
   "execution_count": 15,
   "metadata": {},
   "outputs": [
    {
     "data": {
      "text/plain": [
       "(1000, 720, 720)"
      ]
     },
     "execution_count": 15,
     "metadata": {},
     "output_type": "execute_result"
    }
   ],
   "source": [
    "import numpy as np\n",
    "X = np.load('./X.npy')\n",
    "X.shape"
   ]
  },
  {
   "cell_type": "code",
   "execution_count": 16,
   "metadata": {},
   "outputs": [],
   "source": [
    "# https://stackoverflow.com/questions/47645115/oserror-cannot-identify-image-file-dataset-ds-store"
   ]
  },
  {
   "cell_type": "code",
   "execution_count": 17,
   "metadata": {},
   "outputs": [],
   "source": [
    "# 分割數據\n",
    "from sklearn.model_selection import train_test_split\n",
    "X_train, X_test, y_train, y_test = train_test_split(X, y, test_size=0.2, random_state=42)"
   ]
  },
  {
   "cell_type": "code",
   "execution_count": 18,
   "metadata": {},
   "outputs": [],
   "source": [
    "import keras\n",
    "from keras.utils  import np_utils\n",
    "from tensorflow.keras.optimizers import Adam\n",
    "from keras.layers import Dense, Activation #神經層\n",
    "from keras.layers import Conv2D, MaxPooling2D, Flatten"
   ]
  },
  {
   "cell_type": "code",
   "execution_count": 19,
   "metadata": {
    "scrolled": true
   },
   "outputs": [
    {
     "name": "stdout",
     "output_type": "stream",
     "text": [
      "Model: \"sequential\"\n",
      "_________________________________________________________________\n",
      "Layer (type)                 Output Shape              Param #   \n",
      "=================================================================\n",
      "conv2d (Conv2D)              (None, 720, 720, 12)      120       \n",
      "_________________________________________________________________\n",
      "max_pooling2d (MaxPooling2D) (None, 360, 360, 12)      0         \n",
      "_________________________________________________________________\n",
      "flatten (Flatten)            (None, 1555200)           0         \n",
      "_________________________________________________________________\n",
      "dense (Dense)                (None, 64)                99532864  \n",
      "_________________________________________________________________\n",
      "dense_1 (Dense)              (None, 10)                650       \n",
      "=================================================================\n",
      "Total params: 99,533,634\n",
      "Trainable params: 99,533,634\n",
      "Non-trainable params: 0\n",
      "_________________________________________________________________\n"
     ]
    }
   ],
   "source": [
    "# 建立簡單的線性執行的模型\n",
    "model = keras.models.Sequential()\n",
    "# Add Input layer, 隱藏層(hidden layer) 有 256個輸出變數\n",
    "model.add(Conv2D(filters=12, kernel_size=(3, 3),\n",
    "                 activation='relu', padding='same',\n",
    "                 input_shape=(720, 720, 1))) # 高 寬 RGB\n",
    "model.add(MaxPooling2D(pool_size=(2, 2)))  # kernel_size=(2, 2)\n",
    "model.add(Flatten())                       # fully-connected layer\n",
    "\n",
    "# model.add(Dense(units=256, kernel_initializer='normal', activation='relu'))             # input + hidder layer\n",
    "# model.add(Dense(units=128, kernel_initializer='normal', activation='relu'))  # hidder layer\n",
    "model.add(Dense(units=64, kernel_initializer='normal', activation='relu'))  # hidder layer\n",
    "model.add(Dense(units=10, kernel_initializer='normal', activation='softmax'))# Add output layer\n",
    "\n",
    "# 編譯: 選擇損失函數、優化方法及成效衡量方式\n",
    "opt = Adam(learning_rate=0.0001)\n",
    "model.compile(loss='categorical_crossentropy', \n",
    "              optimizer=opt, \n",
    "              metrics=['accuracy'])\n",
    "model.summary()"
   ]
  },
  {
   "cell_type": "code",
   "execution_count": 20,
   "metadata": {},
   "outputs": [
    {
     "name": "stdout",
     "output_type": "stream",
     "text": [
      "Epoch 1/50\n",
      "128/128 - 9s - loss: 2.7081 - accuracy: 0.0766 - val_loss: 2.3027 - val_accuracy: 0.1000\n",
      "Epoch 2/50\n",
      "128/128 - 5s - loss: 2.3026 - accuracy: 0.0891 - val_loss: 2.3027 - val_accuracy: 0.0938\n",
      "Epoch 3/50\n",
      "128/128 - 5s - loss: 2.3026 - accuracy: 0.1125 - val_loss: 2.3028 - val_accuracy: 0.0938\n",
      "Epoch 4/50\n",
      "128/128 - 5s - loss: 2.3025 - accuracy: 0.0891 - val_loss: 2.3029 - val_accuracy: 0.0938\n",
      "Epoch 5/50\n",
      "128/128 - 5s - loss: 2.3025 - accuracy: 0.1125 - val_loss: 2.3030 - val_accuracy: 0.0938\n",
      "Epoch 6/50\n",
      "128/128 - 5s - loss: 2.3024 - accuracy: 0.1125 - val_loss: 2.3030 - val_accuracy: 0.0938\n",
      "Epoch 7/50\n",
      "128/128 - 5s - loss: 2.3024 - accuracy: 0.1125 - val_loss: 2.3031 - val_accuracy: 0.0938\n",
      "Epoch 8/50\n",
      "128/128 - 5s - loss: 2.3024 - accuracy: 0.1000 - val_loss: 2.3032 - val_accuracy: 0.0938\n",
      "Epoch 9/50\n",
      "128/128 - 5s - loss: 2.3023 - accuracy: 0.1125 - val_loss: 2.3032 - val_accuracy: 0.0938\n",
      "Epoch 10/50\n",
      "128/128 - 5s - loss: 2.3023 - accuracy: 0.1125 - val_loss: 2.3033 - val_accuracy: 0.0938\n",
      "Epoch 11/50\n",
      "128/128 - 5s - loss: 2.3022 - accuracy: 0.1125 - val_loss: 2.3033 - val_accuracy: 0.0938\n",
      "Epoch 12/50\n",
      "128/128 - 5s - loss: 2.3022 - accuracy: 0.1125 - val_loss: 2.3034 - val_accuracy: 0.0938\n",
      "Epoch 13/50\n",
      "128/128 - 5s - loss: 2.3021 - accuracy: 0.1125 - val_loss: 2.3035 - val_accuracy: 0.0938\n",
      "Epoch 14/50\n",
      "128/128 - 5s - loss: 2.3021 - accuracy: 0.1125 - val_loss: 2.3035 - val_accuracy: 0.0938\n",
      "Epoch 15/50\n",
      "128/128 - 5s - loss: 2.3021 - accuracy: 0.1125 - val_loss: 2.3036 - val_accuracy: 0.0938\n",
      "Epoch 16/50\n",
      "128/128 - 5s - loss: 2.3020 - accuracy: 0.1125 - val_loss: 2.3036 - val_accuracy: 0.0938\n",
      "Epoch 17/50\n",
      "128/128 - 5s - loss: 2.3020 - accuracy: 0.1125 - val_loss: 2.3037 - val_accuracy: 0.0938\n",
      "Epoch 18/50\n",
      "128/128 - 5s - loss: 2.3019 - accuracy: 0.1125 - val_loss: 2.3038 - val_accuracy: 0.0938\n",
      "Epoch 19/50\n",
      "128/128 - 5s - loss: 2.3019 - accuracy: 0.1125 - val_loss: 2.3039 - val_accuracy: 0.0938\n",
      "Epoch 20/50\n",
      "128/128 - 5s - loss: 2.3019 - accuracy: 0.1125 - val_loss: 2.3039 - val_accuracy: 0.0938\n",
      "Epoch 21/50\n",
      "128/128 - 5s - loss: 2.3018 - accuracy: 0.1125 - val_loss: 2.3040 - val_accuracy: 0.0938\n",
      "Epoch 22/50\n",
      "128/128 - 5s - loss: 2.3018 - accuracy: 0.1125 - val_loss: 2.3041 - val_accuracy: 0.0938\n",
      "Epoch 23/50\n",
      "128/128 - 5s - loss: 2.3018 - accuracy: 0.1125 - val_loss: 2.3042 - val_accuracy: 0.0938\n",
      "Epoch 24/50\n",
      "128/128 - 5s - loss: 2.3017 - accuracy: 0.1125 - val_loss: 2.3042 - val_accuracy: 0.0938\n",
      "Epoch 25/50\n",
      "128/128 - 5s - loss: 2.3017 - accuracy: 0.1125 - val_loss: 2.3042 - val_accuracy: 0.0938\n",
      "Epoch 26/50\n",
      "128/128 - 5s - loss: 2.3017 - accuracy: 0.1125 - val_loss: 2.3043 - val_accuracy: 0.0938\n",
      "Epoch 27/50\n",
      "128/128 - 5s - loss: 2.3016 - accuracy: 0.1125 - val_loss: 2.3044 - val_accuracy: 0.0938\n",
      "Epoch 28/50\n",
      "128/128 - 5s - loss: 2.3016 - accuracy: 0.1125 - val_loss: 2.3044 - val_accuracy: 0.0938\n",
      "Epoch 29/50\n",
      "128/128 - 5s - loss: 2.3016 - accuracy: 0.1125 - val_loss: 2.3045 - val_accuracy: 0.0938\n",
      "Epoch 30/50\n",
      "128/128 - 5s - loss: 2.3015 - accuracy: 0.1125 - val_loss: 2.3046 - val_accuracy: 0.0938\n",
      "Epoch 31/50\n",
      "128/128 - 5s - loss: 2.3015 - accuracy: 0.1125 - val_loss: 2.3047 - val_accuracy: 0.0938\n",
      "Epoch 32/50\n",
      "128/128 - 5s - loss: 2.3015 - accuracy: 0.1125 - val_loss: 2.3047 - val_accuracy: 0.0938\n",
      "Epoch 33/50\n",
      "128/128 - 5s - loss: 2.3015 - accuracy: 0.1125 - val_loss: 2.3048 - val_accuracy: 0.0938\n",
      "Epoch 34/50\n",
      "128/128 - 5s - loss: 2.3014 - accuracy: 0.1125 - val_loss: 2.3048 - val_accuracy: 0.0938\n",
      "Epoch 35/50\n",
      "128/128 - 5s - loss: 2.3014 - accuracy: 0.1125 - val_loss: 2.3049 - val_accuracy: 0.0938\n",
      "Epoch 36/50\n",
      "128/128 - 5s - loss: 2.3014 - accuracy: 0.1125 - val_loss: 2.3049 - val_accuracy: 0.0938\n",
      "Epoch 37/50\n",
      "128/128 - 5s - loss: 2.3014 - accuracy: 0.1125 - val_loss: 2.3050 - val_accuracy: 0.0938\n",
      "Epoch 38/50\n",
      "128/128 - 5s - loss: 2.3013 - accuracy: 0.1125 - val_loss: 2.3051 - val_accuracy: 0.0938\n",
      "Epoch 39/50\n",
      "128/128 - 5s - loss: 2.3013 - accuracy: 0.1125 - val_loss: 2.3051 - val_accuracy: 0.0938\n",
      "Epoch 40/50\n",
      "128/128 - 5s - loss: 2.3013 - accuracy: 0.1125 - val_loss: 2.3052 - val_accuracy: 0.0938\n",
      "Epoch 41/50\n",
      "128/128 - 5s - loss: 2.3013 - accuracy: 0.1125 - val_loss: 2.3052 - val_accuracy: 0.0938\n",
      "Epoch 42/50\n",
      "128/128 - 5s - loss: 2.3012 - accuracy: 0.1125 - val_loss: 2.3053 - val_accuracy: 0.0938\n",
      "Epoch 43/50\n",
      "128/128 - 5s - loss: 2.3012 - accuracy: 0.1125 - val_loss: 2.3054 - val_accuracy: 0.0938\n",
      "Epoch 44/50\n",
      "128/128 - 5s - loss: 2.3012 - accuracy: 0.1125 - val_loss: 2.3054 - val_accuracy: 0.0938\n",
      "Epoch 45/50\n",
      "128/128 - 5s - loss: 2.3012 - accuracy: 0.1125 - val_loss: 2.3055 - val_accuracy: 0.0938\n",
      "Epoch 46/50\n",
      "128/128 - 5s - loss: 2.3012 - accuracy: 0.1125 - val_loss: 2.3055 - val_accuracy: 0.0938\n",
      "Epoch 47/50\n",
      "128/128 - 5s - loss: 2.3011 - accuracy: 0.1125 - val_loss: 2.3056 - val_accuracy: 0.0938\n",
      "Epoch 48/50\n",
      "128/128 - 5s - loss: 2.3011 - accuracy: 0.1125 - val_loss: 2.3056 - val_accuracy: 0.0938\n",
      "Epoch 49/50\n",
      "128/128 - 5s - loss: 2.3011 - accuracy: 0.1125 - val_loss: 2.3057 - val_accuracy: 0.0938\n",
      "Epoch 50/50\n",
      "128/128 - 5s - loss: 2.3011 - accuracy: 0.1125 - val_loss: 2.3058 - val_accuracy: 0.0938\n",
      "Completed!!\n"
     ]
    }
   ],
   "source": [
    "# 將 training 的 label 進行 one-hot encoding，例如數字 1 經過 One-hot encoding 轉換後是 01\n",
    "y_TrainOneHot = np_utils.to_categorical(y_train) \n",
    "y_TestOneHot = np_utils.to_categorical(y_test) \n",
    "\n",
    "# 將 training 的 input 資料轉為2維\n",
    "X_train_2D = X_train.reshape(X_train.shape[0], 720, 720, 1).astype('float32')  # 自己試試看float64\n",
    "X_test_2D  = X_test.reshape(X_test.shape[0], 720, 720, 1).astype('float32')  # 自己試試看float64\n",
    "\n",
    "\n",
    "X_train_norm = X_train_2D  # 將訊號 0- 255 轉換成 0-1.0\n",
    "X_test_norm = X_test_2D  # 將訊號 0- 255 轉換成 0-1.0\n",
    "\n",
    "# 進行訓練, 訓練過程會存在 train_history 變數中\n",
    "train_history = model.fit(x=X_train_norm, \n",
    "                          y=y_TrainOneHot, \n",
    "                          validation_split=0.2, \n",
    "                          epochs=50,      # <-------------------------------------調整\n",
    "                          batch_size=5,   # 21765\n",
    "                          verbose=2)       # 0 1 2\n",
    "\n",
    "print('Completed!!')"
   ]
  },
  {
   "cell_type": "code",
   "execution_count": 21,
   "metadata": {
    "collapsed": true
   },
   "outputs": [
    {
     "ename": "ResourceExhaustedError",
     "evalue": " OOM when allocating tensor with shape[32,12,720,720] and type float on /job:localhost/replica:0/task:0/device:GPU:0 by allocator GPU_0_bfc\n\t [[node sequential/conv2d/Conv2D (defined at <ipython-input-21-9d58a521c6ae>:4) ]]\nHint: If you want to see a list of allocated tensors when OOM happens, add report_tensor_allocations_upon_oom to RunOptions for current allocation info. This isn't available when running in Eager mode.\n [Op:__inference_test_function_17576]\n\nFunction call stack:\ntest_function\n",
     "output_type": "error",
     "traceback": [
      "\u001b[1;31m---------------------------------------------------------------------------\u001b[0m",
      "\u001b[1;31mResourceExhaustedError\u001b[0m                    Traceback (most recent call last)",
      "\u001b[1;32m<ipython-input-21-9d58a521c6ae>\u001b[0m in \u001b[0;36m<module>\u001b[1;34m\u001b[0m\n\u001b[0;32m      2\u001b[0m \u001b[1;31m# 根據 test 數據顯示訓練成果(分數)\u001b[0m\u001b[1;33m\u001b[0m\u001b[1;33m\u001b[0m\u001b[1;33m\u001b[0m\u001b[0m\n\u001b[0;32m      3\u001b[0m \u001b[1;31m# ############################## <--- exam\u001b[0m\u001b[1;33m\u001b[0m\u001b[1;33m\u001b[0m\u001b[1;33m\u001b[0m\u001b[0m\n\u001b[1;32m----> 4\u001b[1;33m \u001b[0mscores\u001b[0m \u001b[1;33m=\u001b[0m \u001b[0mmodel\u001b[0m\u001b[1;33m.\u001b[0m\u001b[0mevaluate\u001b[0m\u001b[1;33m(\u001b[0m\u001b[0mX_test_norm\u001b[0m\u001b[1;33m,\u001b[0m \u001b[0my_TestOneHot\u001b[0m\u001b[1;33m)\u001b[0m\u001b[1;33m\u001b[0m\u001b[1;33m\u001b[0m\u001b[0m\n\u001b[0m\u001b[0;32m      5\u001b[0m \u001b[0mprint\u001b[0m\u001b[1;33m(\u001b[0m\u001b[1;33m)\u001b[0m\u001b[1;33m\u001b[0m\u001b[1;33m\u001b[0m\u001b[0m\n\u001b[0;32m      6\u001b[0m \u001b[0mprint\u001b[0m\u001b[1;33m(\u001b[0m\u001b[1;34m\"\\t[Info] Accuracy of testing data = {:2.1f}%\"\u001b[0m\u001b[1;33m.\u001b[0m\u001b[0mformat\u001b[0m\u001b[1;33m(\u001b[0m\u001b[0mscores\u001b[0m\u001b[1;33m[\u001b[0m\u001b[1;36m1\u001b[0m\u001b[1;33m]\u001b[0m\u001b[1;33m*\u001b[0m\u001b[1;36m100.0\u001b[0m\u001b[1;33m)\u001b[0m\u001b[1;33m)\u001b[0m\u001b[1;33m\u001b[0m\u001b[1;33m\u001b[0m\u001b[0m\n",
      "\u001b[1;32mc:\\python37\\lib\\site-packages\\keras\\engine\\training.py\u001b[0m in \u001b[0;36mevaluate\u001b[1;34m(self, x, y, batch_size, verbose, sample_weight, steps, callbacks, max_queue_size, workers, use_multiprocessing, return_dict, **kwargs)\u001b[0m\n\u001b[0;32m   1499\u001b[0m             \u001b[1;32mwith\u001b[0m \u001b[0mtf\u001b[0m\u001b[1;33m.\u001b[0m\u001b[0mprofiler\u001b[0m\u001b[1;33m.\u001b[0m\u001b[0mexperimental\u001b[0m\u001b[1;33m.\u001b[0m\u001b[0mTrace\u001b[0m\u001b[1;33m(\u001b[0m\u001b[1;34m'test'\u001b[0m\u001b[1;33m,\u001b[0m \u001b[0mstep_num\u001b[0m\u001b[1;33m=\u001b[0m\u001b[0mstep\u001b[0m\u001b[1;33m,\u001b[0m \u001b[0m_r\u001b[0m\u001b[1;33m=\u001b[0m\u001b[1;36m1\u001b[0m\u001b[1;33m)\u001b[0m\u001b[1;33m:\u001b[0m\u001b[1;33m\u001b[0m\u001b[1;33m\u001b[0m\u001b[0m\n\u001b[0;32m   1500\u001b[0m               \u001b[0mcallbacks\u001b[0m\u001b[1;33m.\u001b[0m\u001b[0mon_test_batch_begin\u001b[0m\u001b[1;33m(\u001b[0m\u001b[0mstep\u001b[0m\u001b[1;33m)\u001b[0m\u001b[1;33m\u001b[0m\u001b[1;33m\u001b[0m\u001b[0m\n\u001b[1;32m-> 1501\u001b[1;33m               \u001b[0mtmp_logs\u001b[0m \u001b[1;33m=\u001b[0m \u001b[0mself\u001b[0m\u001b[1;33m.\u001b[0m\u001b[0mtest_function\u001b[0m\u001b[1;33m(\u001b[0m\u001b[0miterator\u001b[0m\u001b[1;33m)\u001b[0m\u001b[1;33m\u001b[0m\u001b[1;33m\u001b[0m\u001b[0m\n\u001b[0m\u001b[0;32m   1502\u001b[0m               \u001b[1;32mif\u001b[0m \u001b[0mdata_handler\u001b[0m\u001b[1;33m.\u001b[0m\u001b[0mshould_sync\u001b[0m\u001b[1;33m:\u001b[0m\u001b[1;33m\u001b[0m\u001b[1;33m\u001b[0m\u001b[0m\n\u001b[0;32m   1503\u001b[0m                 \u001b[0mcontext\u001b[0m\u001b[1;33m.\u001b[0m\u001b[0masync_wait\u001b[0m\u001b[1;33m(\u001b[0m\u001b[1;33m)\u001b[0m\u001b[1;33m\u001b[0m\u001b[1;33m\u001b[0m\u001b[0m\n",
      "\u001b[1;32mc:\\python37\\lib\\site-packages\\tensorflow\\python\\eager\\def_function.py\u001b[0m in \u001b[0;36m__call__\u001b[1;34m(self, *args, **kwds)\u001b[0m\n\u001b[0;32m    883\u001b[0m \u001b[1;33m\u001b[0m\u001b[0m\n\u001b[0;32m    884\u001b[0m       \u001b[1;32mwith\u001b[0m \u001b[0mOptionalXlaContext\u001b[0m\u001b[1;33m(\u001b[0m\u001b[0mself\u001b[0m\u001b[1;33m.\u001b[0m\u001b[0m_jit_compile\u001b[0m\u001b[1;33m)\u001b[0m\u001b[1;33m:\u001b[0m\u001b[1;33m\u001b[0m\u001b[1;33m\u001b[0m\u001b[0m\n\u001b[1;32m--> 885\u001b[1;33m         \u001b[0mresult\u001b[0m \u001b[1;33m=\u001b[0m \u001b[0mself\u001b[0m\u001b[1;33m.\u001b[0m\u001b[0m_call\u001b[0m\u001b[1;33m(\u001b[0m\u001b[1;33m*\u001b[0m\u001b[0margs\u001b[0m\u001b[1;33m,\u001b[0m \u001b[1;33m**\u001b[0m\u001b[0mkwds\u001b[0m\u001b[1;33m)\u001b[0m\u001b[1;33m\u001b[0m\u001b[1;33m\u001b[0m\u001b[0m\n\u001b[0m\u001b[0;32m    886\u001b[0m \u001b[1;33m\u001b[0m\u001b[0m\n\u001b[0;32m    887\u001b[0m       \u001b[0mnew_tracing_count\u001b[0m \u001b[1;33m=\u001b[0m \u001b[0mself\u001b[0m\u001b[1;33m.\u001b[0m\u001b[0mexperimental_get_tracing_count\u001b[0m\u001b[1;33m(\u001b[0m\u001b[1;33m)\u001b[0m\u001b[1;33m\u001b[0m\u001b[1;33m\u001b[0m\u001b[0m\n",
      "\u001b[1;32mc:\\python37\\lib\\site-packages\\tensorflow\\python\\eager\\def_function.py\u001b[0m in \u001b[0;36m_call\u001b[1;34m(self, *args, **kwds)\u001b[0m\n\u001b[0;32m    922\u001b[0m       \u001b[1;31m# In this case we have not created variables on the first call. So we can\u001b[0m\u001b[1;33m\u001b[0m\u001b[1;33m\u001b[0m\u001b[1;33m\u001b[0m\u001b[0m\n\u001b[0;32m    923\u001b[0m       \u001b[1;31m# run the first trace but we should fail if variables are created.\u001b[0m\u001b[1;33m\u001b[0m\u001b[1;33m\u001b[0m\u001b[1;33m\u001b[0m\u001b[0m\n\u001b[1;32m--> 924\u001b[1;33m       \u001b[0mresults\u001b[0m \u001b[1;33m=\u001b[0m \u001b[0mself\u001b[0m\u001b[1;33m.\u001b[0m\u001b[0m_stateful_fn\u001b[0m\u001b[1;33m(\u001b[0m\u001b[1;33m*\u001b[0m\u001b[0margs\u001b[0m\u001b[1;33m,\u001b[0m \u001b[1;33m**\u001b[0m\u001b[0mkwds\u001b[0m\u001b[1;33m)\u001b[0m\u001b[1;33m\u001b[0m\u001b[1;33m\u001b[0m\u001b[0m\n\u001b[0m\u001b[0;32m    925\u001b[0m       \u001b[1;32mif\u001b[0m \u001b[0mself\u001b[0m\u001b[1;33m.\u001b[0m\u001b[0m_created_variables\u001b[0m \u001b[1;32mand\u001b[0m \u001b[1;32mnot\u001b[0m \u001b[0mALLOW_DYNAMIC_VARIABLE_CREATION\u001b[0m\u001b[1;33m:\u001b[0m\u001b[1;33m\u001b[0m\u001b[1;33m\u001b[0m\u001b[0m\n\u001b[0;32m    926\u001b[0m         raise ValueError(\"Creating variables on a non-first call to a function\"\n",
      "\u001b[1;32mc:\\python37\\lib\\site-packages\\tensorflow\\python\\eager\\function.py\u001b[0m in \u001b[0;36m__call__\u001b[1;34m(self, *args, **kwargs)\u001b[0m\n\u001b[0;32m   3038\u001b[0m        filtered_flat_args) = self._maybe_define_function(args, kwargs)\n\u001b[0;32m   3039\u001b[0m     return graph_function._call_flat(\n\u001b[1;32m-> 3040\u001b[1;33m         filtered_flat_args, captured_inputs=graph_function.captured_inputs)  # pylint: disable=protected-access\n\u001b[0m\u001b[0;32m   3041\u001b[0m \u001b[1;33m\u001b[0m\u001b[0m\n\u001b[0;32m   3042\u001b[0m   \u001b[1;33m@\u001b[0m\u001b[0mproperty\u001b[0m\u001b[1;33m\u001b[0m\u001b[1;33m\u001b[0m\u001b[0m\n",
      "\u001b[1;32mc:\\python37\\lib\\site-packages\\tensorflow\\python\\eager\\function.py\u001b[0m in \u001b[0;36m_call_flat\u001b[1;34m(self, args, captured_inputs, cancellation_manager)\u001b[0m\n\u001b[0;32m   1962\u001b[0m       \u001b[1;31m# No tape is watching; skip to running the function.\u001b[0m\u001b[1;33m\u001b[0m\u001b[1;33m\u001b[0m\u001b[1;33m\u001b[0m\u001b[0m\n\u001b[0;32m   1963\u001b[0m       return self._build_call_outputs(self._inference_function.call(\n\u001b[1;32m-> 1964\u001b[1;33m           ctx, args, cancellation_manager=cancellation_manager))\n\u001b[0m\u001b[0;32m   1965\u001b[0m     forward_backward = self._select_forward_and_backward_functions(\n\u001b[0;32m   1966\u001b[0m         \u001b[0margs\u001b[0m\u001b[1;33m,\u001b[0m\u001b[1;33m\u001b[0m\u001b[1;33m\u001b[0m\u001b[0m\n",
      "\u001b[1;32mc:\\python37\\lib\\site-packages\\tensorflow\\python\\eager\\function.py\u001b[0m in \u001b[0;36mcall\u001b[1;34m(self, ctx, args, cancellation_manager)\u001b[0m\n\u001b[0;32m    594\u001b[0m               \u001b[0minputs\u001b[0m\u001b[1;33m=\u001b[0m\u001b[0margs\u001b[0m\u001b[1;33m,\u001b[0m\u001b[1;33m\u001b[0m\u001b[1;33m\u001b[0m\u001b[0m\n\u001b[0;32m    595\u001b[0m               \u001b[0mattrs\u001b[0m\u001b[1;33m=\u001b[0m\u001b[0mattrs\u001b[0m\u001b[1;33m,\u001b[0m\u001b[1;33m\u001b[0m\u001b[1;33m\u001b[0m\u001b[0m\n\u001b[1;32m--> 596\u001b[1;33m               ctx=ctx)\n\u001b[0m\u001b[0;32m    597\u001b[0m         \u001b[1;32melse\u001b[0m\u001b[1;33m:\u001b[0m\u001b[1;33m\u001b[0m\u001b[1;33m\u001b[0m\u001b[0m\n\u001b[0;32m    598\u001b[0m           outputs = execute.execute_with_cancellation(\n",
      "\u001b[1;32mc:\\python37\\lib\\site-packages\\tensorflow\\python\\eager\\execute.py\u001b[0m in \u001b[0;36mquick_execute\u001b[1;34m(op_name, num_outputs, inputs, attrs, ctx, name)\u001b[0m\n\u001b[0;32m     58\u001b[0m     \u001b[0mctx\u001b[0m\u001b[1;33m.\u001b[0m\u001b[0mensure_initialized\u001b[0m\u001b[1;33m(\u001b[0m\u001b[1;33m)\u001b[0m\u001b[1;33m\u001b[0m\u001b[1;33m\u001b[0m\u001b[0m\n\u001b[0;32m     59\u001b[0m     tensors = pywrap_tfe.TFE_Py_Execute(ctx._handle, device_name, op_name,\n\u001b[1;32m---> 60\u001b[1;33m                                         inputs, attrs, num_outputs)\n\u001b[0m\u001b[0;32m     61\u001b[0m   \u001b[1;32mexcept\u001b[0m \u001b[0mcore\u001b[0m\u001b[1;33m.\u001b[0m\u001b[0m_NotOkStatusException\u001b[0m \u001b[1;32mas\u001b[0m \u001b[0me\u001b[0m\u001b[1;33m:\u001b[0m\u001b[1;33m\u001b[0m\u001b[1;33m\u001b[0m\u001b[0m\n\u001b[0;32m     62\u001b[0m     \u001b[1;32mif\u001b[0m \u001b[0mname\u001b[0m \u001b[1;32mis\u001b[0m \u001b[1;32mnot\u001b[0m \u001b[1;32mNone\u001b[0m\u001b[1;33m:\u001b[0m\u001b[1;33m\u001b[0m\u001b[1;33m\u001b[0m\u001b[0m\n",
      "\u001b[1;31mResourceExhaustedError\u001b[0m:  OOM when allocating tensor with shape[32,12,720,720] and type float on /job:localhost/replica:0/task:0/device:GPU:0 by allocator GPU_0_bfc\n\t [[node sequential/conv2d/Conv2D (defined at <ipython-input-21-9d58a521c6ae>:4) ]]\nHint: If you want to see a list of allocated tensors when OOM happens, add report_tensor_allocations_upon_oom to RunOptions for current allocation info. This isn't available when running in Eager mode.\n [Op:__inference_test_function_17576]\n\nFunction call stack:\ntest_function\n"
     ]
    }
   ],
   "source": [
    "# ############################## <--- exam\n",
    "# 根據 test 數據顯示訓練成果(分數)\n",
    "# ############################## <--- exam\n",
    "scores = model.evaluate(X_test_norm, y_TestOneHot)  \n",
    "print()  \n",
    "print(\"\\t[Info] Accuracy of testing data = {:2.1f}%\".format(scores[1]*100.0))"
   ]
  },
  {
   "cell_type": "code",
   "execution_count": 23,
   "metadata": {},
   "outputs": [
    {
     "data": {
      "image/png": "[encoded data removed]",
      "text/plain": [
       "<Figure size 432x288 with 1 Axes>"
      ]
     },
     "metadata": {
      "needs_background": "light"
     },
     "output_type": "display_data"
    }
   ],
   "source": [
    "%matplotlib inline\n",
    "import matplotlib.pyplot as plt\n",
    "plt.plot(train_history.history['loss'], color='red')\n",
    "plt.plot(train_history.history['val_loss'], color='blue')\n",
    "plt.show()"
   ]
  },
  {
   "cell_type": "code",
   "execution_count": 24,
   "metadata": {},
   "outputs": [
    {
     "data": {
      "image/png": "[encoded data removed]",
      "text/plain": [
       "<Figure size 432x288 with 1 Axes>"
      ]
     },
     "metadata": {
      "needs_background": "light"
     },
     "output_type": "display_data"
    }
   ],
   "source": [
    "%matplotlib inline\n",
    "plt.plot(train_history.history['accuracy'], color='red')\n",
    "plt.plot(train_history.history['val_accuracy'], color='blue')\n",
    "plt.show()"
   ]
  },
  {
   "cell_type": "code",
   "execution_count": null,
   "metadata": {},
   "outputs": [],
   "source": []
  }
 ],
 "metadata": {
  "kernelspec": {
   "display_name": "Python 3",
   "language": "python",
   "name": "python3"
  },
  "language_info": {
   "codemirror_mode": {
    "name": "ipython",
    "version": 3
   },
   "file_extension": ".py",
   "mimetype": "text/x-python",
   "name": "python",
   "nbconvert_exporter": "python",
   "pygments_lexer": "ipython3",
   "version": "3.7.5"
  }
 },
 "nbformat": 4,
 "nbformat_minor": 5
}
