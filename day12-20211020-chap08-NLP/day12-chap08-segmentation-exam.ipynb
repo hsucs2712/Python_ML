{
 "cells": [
  {
   "cell_type": "code",
   "execution_count": 12,
   "id": "0fa39d6e",
   "metadata": {},
   "outputs": [],
   "source": [
    "news = '''\n",
    "\"Me realising I don't have to take revenge on my enemies as they've all had the jab,\" says a meme she posted in late August that shows a sly-faced Morticia from the Addams Family.\n",
    "\"Another hero emerges,\" Northrup writes of a doctor who refused to see vaccinated patients.\n",
    "Northrup is among a small group of doctors who have emerged as a huge source of misinformation -- whether as social-media influencers or family doctors meeting with patients in person -- about Covid-19 vaccines, which have thus far proven the most effective weapon against the deadliest pandemic in 100 years.\n",
    "The physicians are fueling the fire at a time when Covid-19 deaths in the United States have surpassed 724,000, and as the casualties increasingly come from the ranks of the unvaccinated.\n",
    "For the most part, they do so with impunity.\n",
    "In late July, the board of directors at the Federation of State Medical Boards released a statement notifying physicians that promoting dangerous falsehoods about the Covid-19 vaccines could put their medical licenses at risk. But while several state medical boards told CNN that complaints about misinformation are piling up, only a handful of low-profile doctors have been formally punished to date. And the high-profile doctors spreading misinformation to millions of followers have faced no such regulatory scrutiny.\n",
    "\"These doctors are taking advantage of the trust in them,\" said David Lazer, a political science and computer sciences professor at Northeastern University. He cites a monthly survey by the Covid States Project showing how, when it comes to trusted professions and groups, doctors rank at the very top for Democrats and Republicans alike. \"They are using the prestige of that term 'doctor' to convey misinformation,\" said Lazer, who co-leads the Covid States Project.\n",
    "'''"
   ]
  },
  {
   "cell_type": "code",
   "execution_count": 3,
   "id": "a0f11cb4",
   "metadata": {},
   "outputs": [
    {
     "name": "stderr",
     "output_type": "stream",
     "text": [
      "[nltk_data] Downloading package stopwords to\n",
      "[nltk_data]     C:\\Users\\lewis_yang\\AppData\\Roaming\\nltk_data...\n",
      "[nltk_data]   Unzipping corpora\\stopwords.zip.\n"
     ]
    },
    {
     "data": {
      "text/plain": [
       "True"
      ]
     },
     "execution_count": 3,
     "metadata": {},
     "output_type": "execute_result"
    }
   ],
   "source": [
    "import nltk \n",
    "nltk.download('stopwords')"
   ]
  },
  {
   "cell_type": "code",
   "execution_count": 16,
   "id": "8b50d33a",
   "metadata": {},
   "outputs": [
    {
     "data": {
      "text/plain": [
       "[\"''\", 'me', 'realising', 'i', 'do', \"n't\", 'have', 'to', 'take', 'revenge']"
      ]
     },
     "execution_count": 16,
     "metadata": {},
     "output_type": "execute_result"
    }
   ],
   "source": [
    "# 斷字\n",
    "from nltk.tokenize import word_tokenize\n",
    "word_tokens = word_tokenize(news.lower())\n",
    "word_tokens[:10]"
   ]
  },
  {
   "cell_type": "code",
   "execution_count": 10,
   "id": "55c02e9f",
   "metadata": {},
   "outputs": [
    {
     "data": {
      "text/plain": [
       "['below',\n",
       " 'those',\n",
       " 'nor',\n",
       " 'hasn',\n",
       " 'this',\n",
       " 'after',\n",
       " 'can',\n",
       " \"wasn't\",\n",
       " 'which',\n",
       " 'ma']"
      ]
     },
     "execution_count": 10,
     "metadata": {},
     "output_type": "execute_result"
    }
   ],
   "source": [
    "# stopwords\n",
    "from nltk.corpus import stopwords\n",
    "stop_words = set(stopwords.words('english'))\n",
    "list(stop_words)[:10]"
   ]
  },
  {
   "cell_type": "code",
   "execution_count": null,
   "id": "b766687d",
   "metadata": {},
   "outputs": [],
   "source": [
    "# before remove stopwords\n",
    "# Distribution"
   ]
  },
  {
   "cell_type": "code",
   "execution_count": null,
   "id": "e8de89eb",
   "metadata": {},
   "outputs": [],
   "source": [
    "# after remove stopwords\n",
    "# Distribution"
   ]
  }
 ],
 "metadata": {
  "kernelspec": {
   "display_name": "Python 3 (ipykernel)",
   "language": "python",
   "name": "python3"
  },
  "language_info": {
   "codemirror_mode": {
    "name": "ipython",
    "version": 3
   },
   "file_extension": ".py",
   "mimetype": "text/x-python",
   "name": "python",
   "nbconvert_exporter": "python",
   "pygments_lexer": "ipython3",
   "version": "3.8.8"
  }
 },
 "nbformat": 4,
 "nbformat_minor": 5
}
