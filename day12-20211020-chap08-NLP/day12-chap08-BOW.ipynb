{
 "cells": [
  {
   "cell_type": "code",
   "execution_count": null,
   "id": "71ecfe34",
   "metadata": {},
   "outputs": [],
   "source": [
    "# https://www.bloomberg.com/news/articles/2018-06-18/google-is-training-machines-to-predict-when-a-patient-will-die\n",
    "import collections\n",
    "\n",
    "maxlen=1000\n",
    "MAX_FEATURES = 10\n",
    "stop_words=['the', 'to', 'a', 'and', 'of', 'in', 'on', 'for', 'that', 'with', 'is', 'as', 'could', 'its', \\\n",
    "            'this', 'other','an', 'have', 'more', 'at',]\n",
    "\n",
    "word_freqs = collections.Counter()\n",
    "with open('./news.txt','r+', encoding='UTF-8') as f:\n",
    "    for line in f:\n",
    "        words = line.lower().split(' ')\n",
    "        if len(words) > maxlen:\n",
    "            maxlen = len(words)\n",
    "        for word in words:\n",
    "            if not (word in stop_words):\n",
    "                word_freqs[word] += 1\n",
    "\n",
    "print('max_len ',maxlen)\n",
    "print('nb_words ', len(word_freqs))\n",
    "print(word_freqs.most_common(MAX_FEATURES))\n"
   ]
  },
  {
   "cell_type": "code",
   "execution_count": 7,
   "id": "3c5ea9fa",
   "metadata": {},
   "outputs": [
    {
     "data": {
      "image/png": "[encoded data removed]",
      "text/plain": [
       "<Figure size 1440x144 with 1 Axes>"
      ]
     },
     "metadata": {
      "needs_background": "light"
     },
     "output_type": "display_data"
    }
   ],
   "source": [
    "import pandas as pd\n",
    "import matplotlib.pyplot as plt\n",
    "\n",
    "stop_words=['the', 'to', 'a', 'and', 'of', 'in', 'on', 'for', 'that', 'with', 'is', 'as', 'could', 'its', \\\n",
    "            'this', 'other','an', 'have', 'more', 'at',]\n",
    "\n",
    "with open('news.txt', encoding='utf-8') as f:\n",
    "    sample = f.read()\n",
    "    \n",
    "result = pd.Series([s for s in sample.lower().split(' ') if s not in stop_words]).value_counts()\n",
    "result[:20].plot(kind='bar', figsize=(20,2))\n",
    "plt.show()"
   ]
  }
 ],
 "metadata": {
  "kernelspec": {
   "display_name": "Python 3 (ipykernel)",
   "language": "python",
   "name": "python3"
  },
  "language_info": {
   "codemirror_mode": {
    "name": "ipython",
    "version": 3
   },
   "file_extension": ".py",
   "mimetype": "text/x-python",
   "name": "python",
   "nbconvert_exporter": "python",
   "pygments_lexer": "ipython3",
   "version": "3.8.8"
  }
 },
 "nbformat": 4,
 "nbformat_minor": 5
}
