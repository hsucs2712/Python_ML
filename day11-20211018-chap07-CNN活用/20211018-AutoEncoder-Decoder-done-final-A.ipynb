{
 "cells": [
  {
   "cell_type": "code",
   "execution_count": null,
   "metadata": {},
   "outputs": [],
   "source": [
    "# autoencoder 就是從大影像萃取出重要特徵 具備有從該萃取出來的精華向量 反推出原來的圖形\n",
    "\n",
    "# tf : 1.x tensorflow \n",
    "# tf : 2.* tensorflow : ValueError: None values not supported. remove : epsilon=None parameter\n",
    "#  "
   ]
  },
  {
   "cell_type": "code",
   "execution_count": 5,
   "metadata": {},
   "outputs": [],
   "source": [
    "import keras\n",
    "from keras.datasets import mnist\n",
    "from keras.models import Sequential\n",
    "from keras.layers import Dense, Dropout, Flatten\n",
    "from keras.layers import Conv2D, MaxPooling2D\n",
    "from keras import backend as K\n",
    "from tensorflow.keras import optimizers\n",
    "\n",
    "(x_train, y_train), (x_test, y_test) = mnist.load_data()\n",
    "\n",
    "img_rows, img_cols = 28, 28\n",
    "\n",
    "if K.image_data_format() == 'channels_first':\n",
    "    x_train = x_train.reshape(x_train.shape[0], 1, img_rows, img_cols)\n",
    "    x_test = x_test.reshape(x_test.shape[0], 1, img_rows, img_cols)\n",
    "    input_shape = (1, img_rows, img_cols)\n",
    "else:\n",
    "    x_train = x_train.reshape(x_train.shape[0], img_rows, img_cols, 1)\n",
    "    x_test = x_test.reshape(x_test.shape[0], img_rows, img_cols, 1)\n",
    "    input_shape = (img_rows, img_cols, 1)\n",
    "\n",
    "x_train = x_train.astype('float32')\n",
    "x_test = x_test.astype('float32')\n",
    "x_train /= 255\n",
    "x_test /= 255"
   ]
  },
  {
   "cell_type": "code",
   "execution_count": 6,
   "metadata": {},
   "outputs": [
    {
     "name": "stdout",
     "output_type": "stream",
     "text": [
      "Epoch 1/10\n",
      "235/235 [==============================] - 2s 6ms/step - loss: 0.0540 - accuracy: 0.0106\n",
      "Epoch 2/10\n",
      "235/235 [==============================] - 1s 6ms/step - loss: 0.0333 - accuracy: 0.0121\n",
      "Epoch 3/10\n",
      "235/235 [==============================] - 1s 6ms/step - loss: 0.0283 - accuracy: 0.0116\n",
      "Epoch 4/10\n",
      "235/235 [==============================] - 1s 6ms/step - loss: 0.0255 - accuracy: 0.0124\n",
      "Epoch 5/10\n",
      "235/235 [==============================] - 1s 6ms/step - loss: 0.0234 - accuracy: 0.0126\n",
      "Epoch 6/10\n",
      "235/235 [==============================] - 1s 6ms/step - loss: 0.0222 - accuracy: 0.0126\n",
      "Epoch 7/10\n",
      "235/235 [==============================] - 1s 6ms/step - loss: 0.0212 - accuracy: 0.0132\n",
      "Epoch 8/10\n",
      "235/235 [==============================] - 1s 6ms/step - loss: 0.0205 - accuracy: 0.0131\n",
      "Epoch 9/10\n",
      "235/235 [==============================] - 1s 6ms/step - loss: 0.0196 - accuracy: 0.0136\n",
      "Epoch 10/10\n",
      "235/235 [==============================] - 1s 6ms/step - loss: 0.0190 - accuracy: 0.0141\n"
     ]
    }
   ],
   "source": [
    "# 產生編碼後的重要向量 就是一沙一世界的沙\n",
    "import numpy as np\n",
    "\n",
    "temp = []\n",
    "for img in x_train:\n",
    "    t = []\n",
    "    for row in img:\n",
    "        for i in row:\n",
    "            t.append(i)\n",
    "    temp.append(t)\n",
    "x_train = []\n",
    "x_train = temp\n",
    "\n",
    "x_train = np.array(x_train)\n",
    "\n",
    "x_train = x_train.reshape(60000,784)\n",
    "\n",
    "#以上僅是將所有數據變平化\n",
    "\n",
    "model = Sequential()\n",
    "model.add(Dense(784,activation='relu',input_shape=(784,)  ))\n",
    "model.add(Dense(256,activation='relu'))\n",
    "model.add(Dense(128,activation='relu'))\n",
    "model.add(Dense(256,activation='relu'))\n",
    "model.add(Dense(784,activation='relu'))\n",
    "# 採用類似迴歸分析 mse , epsilon=None\n",
    "model.compile(loss=keras.losses.mean_squared_error,\n",
    "             optimizer=optimizers.RMSprop(learning_rate=0.0001, rho=0.9, decay=0.0),\n",
    "             metrics = ['accuracy'])\n",
    "\n",
    "history = model.fit(x_train, x_train, verbose=1, epochs=10, batch_size=256)\n",
    "model.save('auto_en.h5')\n"
   ]
  },
  {
   "cell_type": "code",
   "execution_count": null,
   "metadata": {},
   "outputs": [],
   "source": [
    "history.history.keys()\n",
    "import matplotlib.pyplot as plt\n",
    "plt.plot( history.history.get('loss') , color ='red')\n",
    "plt.show()"
   ]
  },
  {
   "cell_type": "code",
   "execution_count": null,
   "metadata": {},
   "outputs": [],
   "source": [
    "model.summary()\n",
    "for l in model.layers:\n",
    "    print(l, len(l.get_weights()[0]))"
   ]
  },
  {
   "cell_type": "code",
   "execution_count": null,
   "metadata": {},
   "outputs": [],
   "source": [
    "# 載入模型 \n",
    "%matplotlib inline\n",
    "import matplotlib.pyplot as plt\n",
    "from keras.models import load_model\n",
    "import matplotlib.pyplot as plt\n",
    "\n",
    "sampel = 1\n",
    "model = load_model('auto_en.h5')\n",
    "\n",
    "test_sample = x_train[sampel].reshape(1,784)\n",
    "print(len(test_sample[0]))\n",
    "\n",
    "y_test_pred = model.predict(test_sample)\n",
    "\n",
    "plt.imshow(y_test_pred.reshape(28,28), cmap='gray')\n",
    "plt.title(y_train[sampel])\n",
    "plt.show()"
   ]
  },
  {
   "cell_type": "code",
   "execution_count": null,
   "metadata": {},
   "outputs": [],
   "source": [
    "# 載入模型 \n",
    "from keras.models import load_model\n",
    "import matplotlib.pyplot as plt\n",
    "\n",
    "model = load_model('auto_en.h5')\n",
    "\n",
    "test = x_train[1].reshape(1,784)\n",
    "\n",
    "y_test_pred = model.predict(test)\n",
    "\n",
    "# 該部分就是reshape(28, 28 )\n",
    "inp_img = []\n",
    "temp = []\n",
    "for i in range(len(test[0])):\n",
    "    if((i+1)%28 == 0):\n",
    "        temp.append(test[0][i])\n",
    "        inp_img.append(temp)\n",
    "        temp = []\n",
    "    else:\n",
    "        temp.append(test[0][i])\n",
    "out_img = []\n",
    "temp = []\n",
    "# 這邊就是predict 784 pixel --> 28 * 28\n",
    "for i in range(len(y_test_pred[0])):\n",
    "    if((i+1)%28 == 0):\n",
    "        temp.append(y_test_pred[0][i])\n",
    "        out_img.append(temp)\n",
    "        temp = []\n",
    "    else:\n",
    "        temp.append(y_test_pred[0][i])\n",
    "        \n",
    "inp_img = np.array(inp_img)\n",
    "out_img = np.array(out_img)\n"
   ]
  },
  {
   "cell_type": "code",
   "execution_count": null,
   "metadata": {},
   "outputs": [],
   "source": [
    "%matplotlib inline\n",
    "plt.imshow(inp_img, cmap='gray')\n",
    "plt.title('Test Image')\n",
    "plt.show()\n",
    "plt.imshow(out_img, cmap='gray')\n",
    "plt.title('Output Image')\n",
    "plt.show()"
   ]
  },
  {
   "cell_type": "code",
   "execution_count": null,
   "metadata": {},
   "outputs": [],
   "source": [
    "# 針對 x_test 前面五筆數據 進行decoder 使用肉眼去辨識\n",
    "x_test[:5].shape ,y_test[:5].shape\n",
    "\n",
    "from keras.models import load_model\n",
    "import matplotlib.pyplot as plt\n",
    "\n",
    "data = x_test[:5].reshape(5, 784)\n",
    "\n",
    "model = load_model('auto_en.h5')\n",
    "data_pred = model.predict(data).reshape(5, 28, 28)\n",
    "\n",
    "for i in range(data_pred.shape[0]):\n",
    "    plt.imshow(data_pred[i], cmap='gray')\n",
    "    plt.title(y_test[i], color='red')\n",
    "    plt.show()"
   ]
  },
  {
   "cell_type": "code",
   "execution_count": null,
   "metadata": {},
   "outputs": [],
   "source": []
  }
 ],
 "metadata": {
  "kernelspec": {
   "display_name": "Python 3",
   "language": "python",
   "name": "python3"
  },
  "language_info": {
   "codemirror_mode": {
    "name": "ipython",
    "version": 3
   },
   "file_extension": ".py",
   "mimetype": "text/x-python",
   "name": "python",
   "nbconvert_exporter": "python",
   "pygments_lexer": "ipython3",
   "version": "3.7.5"
  }
 },
 "nbformat": 4,
 "nbformat_minor": 2
}
