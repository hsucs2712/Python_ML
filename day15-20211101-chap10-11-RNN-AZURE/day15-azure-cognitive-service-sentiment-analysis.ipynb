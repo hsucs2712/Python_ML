{
 "cells": [
  {
   "cell_type": "code",
   "execution_count": null,
   "id": "9fc0f388",
   "metadata": {},
   "outputs": [],
   "source": [
    "# https://docs.microsoft.com/en-us/python/api/overview/azure/ai-textanalytics-readme?view=azure-python\n",
    "#"
   ]
  },
  {
   "cell_type": "code",
   "execution_count": null,
   "id": "7150ce27",
   "metadata": {},
   "outputs": [],
   "source": [
    "# install package"
   ]
  },
  {
   "cell_type": "code",
   "execution_count": 1,
   "id": "47e6a3d6",
   "metadata": {},
   "outputs": [
    {
     "name": "stdout",
     "output_type": "stream",
     "text": [
      "Collecting azure-ai-textanalytics"
     ]
    },
    {
     "name": "stderr",
     "output_type": "stream",
     "text": [
      "WARNING: Ignoring invalid distribution -illow (c:\\python38\\lib\\site-packages)\n",
      "WARNING: Ignoring invalid distribution -illow (c:\\python38\\lib\\site-packages)\n",
      "WARNING: Ignoring invalid distribution -illow (c:\\python38\\lib\\site-packages)\n",
      "WARNING: Ignoring invalid distribution -illow (c:\\python38\\lib\\site-packages)\n",
      "WARNING: Ignoring invalid distribution -illow (c:\\python38\\lib\\site-packages)\n",
      "WARNING: Ignoring invalid distribution -illow (c:\\python38\\lib\\site-packages)\n",
      "WARNING: Ignoring invalid distribution -illow (c:\\python38\\lib\\site-packages)\n",
      "WARNING: Ignoring invalid distribution -illow (c:\\python38\\lib\\site-packages)\n",
      "WARNING: Ignoring invalid distribution -illow (c:\\python38\\lib\\site-packages)\n",
      "WARNING: Ignoring invalid distribution -illow (c:\\python38\\lib\\site-packages)\n"
     ]
    },
    {
     "name": "stdout",
     "output_type": "stream",
     "text": [
      "\n",
      "  Downloading azure_ai_textanalytics-5.1.0-py2.py3-none-any.whl (153 kB)\n",
      "Collecting azure-common~=1.1\n",
      "  Downloading azure_common-1.1.27-py2.py3-none-any.whl (12 kB)\n",
      "Collecting msrest>=0.6.21\n",
      "  Downloading msrest-0.6.21-py2.py3-none-any.whl (85 kB)\n",
      "Collecting azure-core<2.0.0,>=1.14.0\n",
      "  Downloading azure_core-1.19.0-py2.py3-none-any.whl (176 kB)\n",
      "Requirement already satisfied: six>=1.11.0 in c:\\python38\\lib\\site-packages (from azure-ai-textanalytics) (1.15.0)\n",
      "Requirement already satisfied: requests>=2.18.4 in c:\\python38\\lib\\site-packages (from azure-core<2.0.0,>=1.14.0->azure-ai-textanalytics) (2.26.0)\n",
      "Collecting isodate>=0.6.0\n",
      "  Downloading isodate-0.6.0-py2.py3-none-any.whl (45 kB)\n",
      "Requirement already satisfied: certifi>=2017.4.17 in c:\\python38\\lib\\site-packages (from msrest>=0.6.21->azure-ai-textanalytics) (2021.5.30)\n",
      "Requirement already satisfied: requests-oauthlib>=0.5.0 in c:\\python38\\lib\\site-packages (from msrest>=0.6.21->azure-ai-textanalytics) (1.3.0)\n",
      "Requirement already satisfied: urllib3<1.27,>=1.21.1 in c:\\python38\\lib\\site-packages (from requests>=2.18.4->azure-core<2.0.0,>=1.14.0->azure-ai-textanalytics) (1.26.6)\n",
      "Requirement already satisfied: idna<4,>=2.5 in c:\\python38\\lib\\site-packages (from requests>=2.18.4->azure-core<2.0.0,>=1.14.0->azure-ai-textanalytics) (3.2)\n",
      "Requirement already satisfied: charset-normalizer~=2.0.0 in c:\\python38\\lib\\site-packages (from requests>=2.18.4->azure-core<2.0.0,>=1.14.0->azure-ai-textanalytics) (2.0.4)\n",
      "Requirement already satisfied: oauthlib>=3.0.0 in c:\\python38\\lib\\site-packages (from requests-oauthlib>=0.5.0->msrest>=0.6.21->azure-ai-textanalytics) (3.1.1)\n",
      "Installing collected packages: isodate, msrest, azure-core, azure-common, azure-ai-textanalytics\n",
      "Successfully installed azure-ai-textanalytics-5.1.0 azure-common-1.1.27 azure-core-1.19.0 isodate-0.6.0 msrest-0.6.21\n"
     ]
    }
   ],
   "source": [
    "!pip install azure-ai-textanalytics"
   ]
  },
  {
   "cell_type": "code",
   "execution_count": 2,
   "id": "b7568413",
   "metadata": {},
   "outputs": [],
   "source": [
    "from azure.core.credentials import AzureKeyCredential\n",
    "from azure.ai.textanalytics import TextAnalyticsClient\n",
    "\n",
    "credential = AzureKeyCredential(\"e9497ce18022462b8594cd722fa08c68\")\n",
    "text_analytics_client = TextAnalyticsClient(endpoint=\"https://westus.api.cognitive.microsoft.com/\", \n",
    "                                            credential=credential)"
   ]
  },
  {
   "cell_type": "code",
   "execution_count": null,
   "id": "42cde307",
   "metadata": {},
   "outputs": [],
   "source": [
    "documents = [\"I hated the movie. It was so slow!\", \"The movie made it into my top ten favorites. What a great movie!\"]"
   ]
  },
  {
   "cell_type": "code",
   "execution_count": null,
   "id": "b6114d8d",
   "metadata": {},
   "outputs": [],
   "source": [
    "# https://docs.microsoft.com/en-us/python/api/overview/azure/ai-textanalytics-readme?view=azure-python"
   ]
  },
  {
   "cell_type": "code",
   "execution_count": 21,
   "id": "fc724607",
   "metadata": {},
   "outputs": [],
   "source": [
    "documents = [\n",
    "    {\"id\": \"1\", \"language\": \"en\", \"text\": \"I hated the movie. It was so slow!\"},\n",
    "    {\"id\": \"2\", \"language\": \"en\", \"text\": \"The movie made it into my top ten favorites. What a great movie!\"},\n",
    "    {\"id\": \"3\", \"language\": \"zh-hant\", \"text\": \"今天心情還可以\"},\n",
    "]"
   ]
  },
  {
   "cell_type": "code",
   "execution_count": 15,
   "id": "03191daa",
   "metadata": {
    "collapsed": true
   },
   "outputs": [
    {
     "name": "stdout",
     "output_type": "stream",
     "text": [
      "['__class__', '__delattr__', '__dict__', '__dir__', '__doc__', '__enter__', '__eq__', '__exit__', '__format__', '__ge__', '__getattribute__', '__gt__', '__hash__', '__init__', '__init_subclass__', '__le__', '__lt__', '__module__', '__ne__', '__new__', '__reduce__', '__reduce_ex__', '__repr__', '__setattr__', '__sizeof__', '__str__', '__subclasshook__', '__weakref__', '_analyze_result_callback', '_api_version', '_client', '_default_country_hint', '_default_language', '_healthcare_result_callback', '_string_index_type_default', 'analyze_sentiment', 'begin_analyze_actions', 'begin_analyze_healthcare_entities', 'close', 'detect_language', 'extract_key_phrases', 'recognize_entities', 'recognize_linked_entities', 'recognize_pii_entities']\n"
     ]
    }
   ],
   "source": [
    "print(dir(text_analytics_client))"
   ]
  },
  {
   "cell_type": "code",
   "execution_count": 22,
   "id": "83ae2ed3",
   "metadata": {},
   "outputs": [
    {
     "data": {
      "text/plain": [
       "[AnalyzeSentimentResult(id=1, sentiment=negative, warnings=[], statistics=None, confidence_scores=SentimentConfidenceScores(positive=0.0, neutral=0.0, negative=1.0), sentences=[SentenceSentiment(text=I hated the movie., sentiment=negative, confidence_scores=SentimentConfidenceScores(positive=0.0, neutral=0.0, negative=1.0), length=18, offset=0, mined_opinions=[]), SentenceSentiment(text=It was so slow!, sentiment=negative, confidence_scores=SentimentConfidenceScores(positive=0.0, neutral=0.0, negative=1.0), length=15, offset=19, mined_opinions=[])], is_error=False),\n",
       " AnalyzeSentimentResult(id=2, sentiment=positive, warnings=[], statistics=None, confidence_scores=SentimentConfidenceScores(positive=1.0, neutral=0.0, negative=0.0), sentences=[SentenceSentiment(text=The movie made it into my top ten favorites., sentiment=positive, confidence_scores=SentimentConfidenceScores(positive=1.0, neutral=0.0, negative=0.0), length=44, offset=0, mined_opinions=[]), SentenceSentiment(text=What a great movie!, sentiment=positive, confidence_scores=SentimentConfidenceScores(positive=1.0, neutral=0.0, negative=0.0), length=19, offset=45, mined_opinions=[])], is_error=False),\n",
       " AnalyzeSentimentResult(id=3, sentiment=neutral, warnings=[], statistics=None, confidence_scores=SentimentConfidenceScores(positive=0.2, neutral=0.73, negative=0.07), sentences=[SentenceSentiment(text=今天心情還可以, sentiment=neutral, confidence_scores=SentimentConfidenceScores(positive=0.2, neutral=0.73, negative=0.07), length=7, offset=0, mined_opinions=[])], is_error=False)]"
      ]
     },
     "execution_count": 22,
     "metadata": {},
     "output_type": "execute_result"
    }
   ],
   "source": [
    "response = text_analytics_client.analyze_sentiment(documents)\n",
    "successful_responses = [doc for doc in response if not doc.is_error]\n",
    "successful_responses"
   ]
  },
  {
   "cell_type": "code",
   "execution_count": 8,
   "id": "2de92129",
   "metadata": {},
   "outputs": [
    {
     "name": "stdout",
     "output_type": "stream",
     "text": [
      "Language:  French\n"
     ]
    }
   ],
   "source": [
    "def language_detection_example(client):\n",
    "    try:\n",
    "        documents = [\"Ce document est rédigé en Français.\"]\n",
    "        response = client.detect_language(documents = documents, country_hint = 'us')[0]\n",
    "        print(\"Language: \", response.primary_language.name)\n",
    "\n",
    "    except Exception as err:\n",
    "        print(\"Encountered exception. {}\".format(err))\n",
    "        \n",
    "language_detection_example(text_analytics_client)"
   ]
  },
  {
   "cell_type": "code",
   "execution_count": null,
   "id": "19e6b0d8",
   "metadata": {},
   "outputs": [],
   "source": [
    "# 請練習 \n",
    "# https://docs.microsoft.com/en-us/azure/cognitive-services/text-analytics/quickstarts/client-libraries-rest-api?tabs=version-3-1&pivots=programming-language-python"
   ]
  },
  {
   "cell_type": "code",
   "execution_count": 11,
   "id": "9529fe17",
   "metadata": {},
   "outputs": [
    {
     "name": "stdout",
     "output_type": "stream",
     "text": [
      "\tKey Phrases:\n",
      "\t\t Windows 10 Chinese Edition\n",
      "\t\t cat\n",
      "\t\t veterinarian\n"
     ]
    }
   ],
   "source": [
    "def key_phrase_extraction_example(client):\n",
    "\n",
    "    try:\n",
    "        documents = [\"My cat might need to see a veterinarian and Windows 10 Chinese Edition.\"]\n",
    "\n",
    "        response = client.extract_key_phrases(documents = documents)[0]\n",
    "\n",
    "        if not response.is_error:\n",
    "            print(\"\\tKey Phrases:\")\n",
    "            for phrase in response.key_phrases:\n",
    "                print(\"\\t\\t\", phrase)\n",
    "        else:\n",
    "            print(response.id, response.error)\n",
    "\n",
    "    except Exception as err:\n",
    "        print(\"Encountered exception. {}\".format(err))\n",
    "        \n",
    "key_phrase_extraction_example(text_analytics_client)"
   ]
  }
 ],
 "metadata": {
  "kernelspec": {
   "display_name": "Python 3 (ipykernel)",
   "language": "python",
   "name": "python3"
  },
  "language_info": {
   "codemirror_mode": {
    "name": "ipython",
    "version": 3
   },
   "file_extension": ".py",
   "mimetype": "text/x-python",
   "name": "python",
   "nbconvert_exporter": "python",
   "pygments_lexer": "ipython3",
   "version": "3.8.8"
  }
 },
 "nbformat": 4,
 "nbformat_minor": 5
}
