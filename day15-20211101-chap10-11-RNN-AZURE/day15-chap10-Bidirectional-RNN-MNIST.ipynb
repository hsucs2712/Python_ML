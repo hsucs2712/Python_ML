{
 "cells": [
  {
   "cell_type": "code",
   "execution_count": 1,
   "id": "9876d696",
   "metadata": {},
   "outputs": [],
   "source": [
    "# 導入函式庫\n",
    "import numpy as np\n",
    "from keras.datasets import mnist\n",
    "from keras.utils import np_utils\n",
    "from keras.models import Sequential\n",
    "from keras.layers import SimpleRNN, Activation, Dense, Bidirectional\n",
    "from keras.optimizers import Adam\n"
   ]
  },
  {
   "cell_type": "code",
   "execution_count": 2,
   "id": "d5e8d938",
   "metadata": {},
   "outputs": [],
   "source": [
    "# 固定亂數種子，使每次執行產生的亂數都一樣\n",
    "np.random.seed(1337)\n",
    "\n",
    "\n",
    "# 載入 MNIST 資料庫的訓練資料，並自動分為『訓練組』及『測試組』\n",
    "(X_train, y_train), (X_test, y_test_org) = mnist.load_data()"
   ]
  },
  {
   "cell_type": "code",
   "execution_count": 3,
   "id": "69055030",
   "metadata": {},
   "outputs": [],
   "source": [
    "# 將 training 的 input 資料轉為3維，並 normalize 把顏色控制在 0 ~ 1 之間\n",
    "X_train = X_train.reshape(-1, 28, 28) / 255.      \n",
    "X_test = X_test.reshape(-1, 28, 28) / 255.\n",
    "y_train = np_utils.to_categorical(y_train, num_classes=10)\n",
    "y_test = np_utils.to_categorical(y_test_org, num_classes=10)"
   ]
  },
  {
   "cell_type": "code",
   "execution_count": 5,
   "id": "54cece82",
   "metadata": {},
   "outputs": [],
   "source": [
    "# 建立簡單的線性執行的模型\n",
    "model = Sequential()\n",
    "# 加 RNN 隱藏層(hidden layer)\n",
    "model.add(Bidirectional(SimpleRNN(\n",
    "    # 如果後端使用tensorflow，batch_input_shape 的 batch_size 需設為 None.\n",
    "    # 否則執行 model.evaluate() 會有錯誤產生.\n",
    "    batch_input_shape=(None, 28, 28), \n",
    "    units= 50,\n",
    "    unroll=True,\n",
    "))) \n",
    "# 加 output 層\n",
    "model.add(Dense(units=10, kernel_initializer='normal', activation='softmax'))\n",
    "\n",
    "# 編譯: 選擇損失函數、優化方法及成效衡量方式\n",
    "LR = 0.001          # Learning Rate\n",
    "adam = Adam(LR)\n",
    "model.compile(loss='categorical_crossentropy', optimizer='adam', metrics=['accuracy']) \n",
    "#model.summary()        "
   ]
  },
  {
   "cell_type": "code",
   "execution_count": 6,
   "id": "87366065",
   "metadata": {},
   "outputs": [
    {
     "name": "stdout",
     "output_type": "stream",
     "text": [
      "test loss: 0.39376118779182434  test accuracy: 0.8873999714851379\n",
      "test loss: 0.25738802552223206  test accuracy: 0.9240000247955322\n",
      "test loss: 0.2216954529285431  test accuracy: 0.9351999759674072\n",
      "test loss: 0.20104259252548218  test accuracy: 0.9398999810218811\n",
      "test loss: 0.16216619312763214  test accuracy: 0.9524000287055969\n",
      "test loss: 0.16149085760116577  test accuracy: 0.954200029373169\n",
      "test loss: 0.14679931104183197  test accuracy: 0.9574000239372253\n",
      "test loss: 0.1598879098892212  test accuracy: 0.9527000188827515\n"
     ]
    }
   ],
   "source": [
    "# 一批訓練多少張圖片\n",
    "BATCH_SIZE = 50     \n",
    "BATCH_INDEX = 0     \n",
    "# 訓練模型 4001 次\n",
    "for step in range(1, 4001):\n",
    "    # data shape = (batch_num, steps, inputs/outputs)\n",
    "    X_batch = X_train[BATCH_INDEX: BATCH_INDEX+BATCH_SIZE, :, :]\n",
    "    Y_batch = y_train[BATCH_INDEX: BATCH_INDEX+BATCH_SIZE, :]\n",
    "    # 逐批訓練\n",
    "    loss = model.train_on_batch(X_batch, Y_batch)\n",
    "    BATCH_INDEX += BATCH_SIZE\n",
    "    BATCH_INDEX = 0 if BATCH_INDEX >= X_train.shape[0] else BATCH_INDEX\n",
    "\n",
    "    # 每 500 批，顯示測試的準確率\n",
    "    if step % 500 == 0:\n",
    "        # 模型評估\n",
    "        loss, accuracy = model.evaluate(X_test, y_test, batch_size=y_test.shape[0], \n",
    "            verbose=False)\n",
    "        print(\"test loss: {}  test accuracy: {}\".format(loss,accuracy))"
   ]
  },
  {
   "cell_type": "code",
   "execution_count": 8,
   "id": "66483f10",
   "metadata": {},
   "outputs": [
    {
     "name": "stdout",
     "output_type": "stream",
     "text": [
      "actual : [7 2 1 ... 4 5 6]\n",
      "predict: [7 2 1 ... 4 5 6]\n"
     ]
    }
   ],
   "source": [
    "# 預測(prediction)\n",
    "import numpy as np\n",
    "X = X_test[:,:]\n",
    "predictions = np.argmax(model.predict(X), axis=1)\n",
    "# get prediction result\n",
    "print('actual :', y_test_org[:])\n",
    "print('predict:', predictions)\n",
    "\n"
   ]
  },
  {
   "cell_type": "code",
   "execution_count": 10,
   "id": "c115f5e0",
   "metadata": {},
   "outputs": [
    {
     "data": {
      "text/plain": [
       "95.27"
      ]
     },
     "execution_count": 10,
     "metadata": {},
     "output_type": "execute_result"
    }
   ],
   "source": [
    "(y_test_org==predictions).sum() / len(predictions) * 100"
   ]
  }
 ],
 "metadata": {
  "kernelspec": {
   "display_name": "Python 3 (ipykernel)",
   "language": "python",
   "name": "python3"
  },
  "language_info": {
   "codemirror_mode": {
    "name": "ipython",
    "version": 3
   },
   "file_extension": ".py",
   "mimetype": "text/x-python",
   "name": "python",
   "nbconvert_exporter": "python",
   "pygments_lexer": "ipython3",
   "version": "3.8.8"
  }
 },
 "nbformat": 4,
 "nbformat_minor": 5
}
