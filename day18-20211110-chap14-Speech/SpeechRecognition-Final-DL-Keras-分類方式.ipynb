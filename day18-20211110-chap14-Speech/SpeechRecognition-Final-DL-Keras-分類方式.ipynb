{
 "cells": [
  {
   "cell_type": "code",
   "execution_count": null,
   "metadata": {},
   "outputs": [],
   "source": [
    "# debug - preprocess.py\n",
    "# import librosa\n",
    "# import os\n",
    "# from sklearn.model_selection import train_test_split\n",
    "# from keras.utils import to_categorical\n",
    "# import numpy as np\n",
    "\n",
    "# DATA_PATH = \"./data/\"\n",
    "\n",
    "\n",
    "# # Input: Folder Path\n",
    "# # Output: Tuple (Label, Indices of the labels, one-hot encoded labels)\n",
    "# def get_labels(path=DATA_PATH):\n",
    "#     labels = os.listdir(path)\n",
    "#     label_indices = np.arange(0, len(labels))\n",
    "#     return labels, label_indices, to_categorical(label_indices)\n",
    "\n",
    "# labels, indices, _ = get_labels(DATA_PATH)\n",
    "# labels[1:]"
   ]
  },
  {
   "cell_type": "code",
   "execution_count": null,
   "metadata": {},
   "outputs": [],
   "source": []
  },
  {
   "cell_type": "code",
   "execution_count": null,
   "metadata": {},
   "outputs": [],
   "source": [
    "# Keras                          2.4.3\n",
    "# tensorflow-gpu                 2.6.0"
   ]
  },
  {
   "cell_type": "code",
   "execution_count": 26,
   "metadata": {
    "collapsed": true
   },
   "outputs": [
    {
     "name": "stdout",
     "output_type": "stream",
     "text": [
      "Package                        Version"
     ]
    },
    {
     "name": "stderr",
     "output_type": "stream",
     "text": [
      "WARNING: Ignoring invalid distribution -illow (c:\\python38\\lib\\site-packages)\n",
      "WARNING: Ignoring invalid distribution -illow (c:\\python38\\lib\\site-packages)\n",
      "WARNING: Ignoring invalid distribution -illow (c:\\python38\\lib\\site-packages)\n"
     ]
    },
    {
     "name": "stdout",
     "output_type": "stream",
     "text": [
      "\n",
      "------------------------------ ------------\n",
      "absl-py                        0.13.0\n",
      "aiohttp                        3.7.4.post0\n",
      "appdirs                        1.4.4\n",
      "argon2-cffi                    21.1.0\n",
      "astunparse                     1.6.3\n",
      "async-timeout                  3.0.1\n",
      "attrs                          21.2.0\n",
      "audioread                      2.1.9\n",
      "azure-ai-textanalytics         5.1.0\n",
      "azure-cognitiveservices-speech 1.19.0\n",
      "azure-common                   1.1.27\n",
      "azure-core                     1.19.0\n",
      "backcall                       0.2.0\n",
      "bleach                         4.1.0\n",
      "cachetools                     4.2.2\n",
      "certifi                        2021.5.30\n",
      "cffi                           1.14.6\n",
      "chardet                        4.0.0\n",
      "charset-normalizer             2.0.4\n",
      "clang                          5.0\n",
      "click                          8.0.3\n",
      "colorama                       0.4.4\n",
      "comtypes                       1.1.10\n",
      "cycler                         0.10.0\n",
      "debugpy                        1.4.1\n",
      "decorator                      5.0.9\n",
      "defusedxml                     0.7.1\n",
      "entrypoints                    0.3\n",
      "et-xmlfile                     1.1.0\n",
      "flatbuffers                    1.12\n",
      "gast                           0.4.0\n",
      "geoip2                         4.4.0\n",
      "google-auth                    1.35.0\n",
      "google-auth-oauthlib           0.4.6\n",
      "google-pasta                   0.2.0\n",
      "greenlet                       1.1.2\n",
      "grpcio                         1.40.0\n",
      "gTTS                           2.2.3\n",
      "h5py                           2.10.0\n",
      "idna                           3.2\n",
      "imageai                        2.1.6\n",
      "imageio                        2.9.0\n",
      "ipykernel                      6.3.1\n",
      "ipython                        7.27.0\n",
      "ipython-genutils               0.2.0\n",
      "ipywidgets                     7.6.4\n",
      "isodate                        0.6.0\n",
      "jedi                           0.18.0\n",
      "jieba                          0.42.1\n",
      "Jinja2                         3.0.1\n",
      "joblib                         1.0.1\n",
      "jsonschema                     3.2.0\n",
      "jupyter                        1.0.0\n",
      "jupyter-client                 7.0.2\n",
      "jupyter-console                6.4.0\n",
      "jupyter-core                   4.7.1\n",
      "jupyterlab-pygments            0.1.2\n",
      "jupyterlab-widgets             1.0.1\n",
      "Keras                          2.4.3\n",
      "Keras-Preprocessing            1.1.2\n",
      "keras-resnet                   0.2.0\n",
      "kiwisolver                     1.3.2\n",
      "librosa                        0.8.1\n",
      "llvmlite                       0.37.0\n",
      "lxml                           4.6.3\n",
      "Markdown                       3.3.4\n",
      "MarkupSafe                     2.0.1\n",
      "matplotlib                     3.3.2\n",
      "matplotlib-inline              0.1.3\n",
      "maxminddb                      2.2.0\n",
      "mistune                        0.8.4\n",
      "msrest                         0.6.21\n",
      "multidict                      5.2.0\n",
      "nbclient                       0.5.4\n",
      "nbconvert                      6.1.0\n",
      "nbformat                       5.1.3\n",
      "nest-asyncio                   1.5.1\n",
      "networkx                       2.6.3\n",
      "nltk                           3.6.5\n",
      "notebook                       6.4.3\n",
      "numba                          0.54.1\n",
      "numpy                          1.19.3\n",
      "oauthlib                       3.1.1\n",
      "OpenCC                         1.1.1\n",
      "opencv-python                  4.5.3.56\n",
      "openpyxl                       3.0.9\n",
      "opt-einsum                     3.3.0\n",
      "packaging                      21.0\n",
      "pandas                         1.3.2\n",
      "pandas-datareader              0.10.0\n",
      "pandocfilters                  1.4.3\n",
      "parso                          0.8.2\n",
      "pickleshare                    0.7.5\n",
      "Pillow                         8.4.0\n",
      "pip                            21.3.1\n",
      "playsound                      1.3.0\n",
      "pooch                          1.5.2\n",
      "prometheus-client              0.11.0\n",
      "prompt-toolkit                 3.0.20\n",
      "protobuf                       3.17.3\n",
      "pyasn1                         0.4.8\n",
      "pyasn1-modules                 0.2.8\n",
      "PyAudio                        0.2.11\n",
      "pycparser                      2.20\n",
      "pygame                         2.1.0\n",
      "Pygments                       2.10.0\n",
      "pyodbc                         4.0.32\n",
      "pyparsing                      2.4.7\n",
      "pypiwin32                      223\n",
      "pyrsistent                     0.18.0\n",
      "python-dateutil                2.8.2\n",
      "pyttsx3                        2.90\n",
      "pytz                           2021.1\n",
      "PyWavelets                     1.1.1\n",
      "pywin32                        301\n",
      "pywinpty                       1.1.4\n",
      "PyYAML                         5.4.1\n",
      "pyzmq                          22.2.1\n",
      "qtconsole                      5.1.1\n",
      "QtPy                           1.11.0\n",
      "regex                          2021.10.8\n",
      "requests                       2.26.0\n",
      "requests-oauthlib              1.3.0\n",
      "resampy                        0.2.2\n",
      "rsa                            4.7.2\n",
      "scikit-image                   0.18.3\n",
      "scikit-learn                   0.24.2\n",
      "scipy                          1.4.1\n",
      "Send2Trash                     1.8.0\n",
      "setuptools                     49.2.1\n",
      "six                            1.15.0\n",
      "SoundFile                      0.10.3.post1\n",
      "SpeechRecognition              3.8.1\n",
      "SQLAlchemy                     1.4.26\n",
      "tensorboard                    2.6.0\n",
      "tensorboard-data-server        0.6.1\n",
      "tensorboard-plugin-wit         1.8.0\n",
      "tensorflow-estimator           2.6.0\n",
      "tensorflow-gpu                 2.6.0\n",
      "termcolor                      1.1.0\n",
      "terminado                      0.12.1\n",
      "testpath                       0.5.0\n",
      "threadpoolctl                  2.2.0\n",
      "tifffile                       2021.8.30\n",
      "tornado                        6.1\n",
      "tqdm                           4.62.2\n",
      "traitlets                      5.1.0\n",
      "typing-extensions              3.7.4.3\n",
      "urllib3                        1.26.6\n",
      "wcwidth                        0.2.5\n",
      "webencodings                   0.5.1\n",
      "Werkzeug                       2.0.1\n",
      "wget                           3.2\n",
      "wheel                          0.37.0\n",
      "widgetsnbextension             3.5.1\n",
      "wordcloud                      1.8.1\n",
      "wrapt                          1.12.1\n",
      "yarl                           1.7.0\n"
     ]
    }
   ],
   "source": [
    "!pip list"
   ]
  },
  {
   "cell_type": "code",
   "execution_count": 1,
   "metadata": {},
   "outputs": [],
   "source": [
    "from preprocess import * # 匯入 .py \n",
    "import keras\n",
    "from keras.models import Sequential\n",
    "from keras.layers import Dense, Dropout, Flatten, Conv2D, MaxPooling2D\n",
    "from keras.utils import to_categorical"
   ]
  },
  {
   "cell_type": "code",
   "execution_count": 2,
   "metadata": {
    "scrolled": true
   },
   "outputs": [
    {
     "name": "stdout",
     "output_type": "stream",
     "text": [
      "cat.npy\n",
      "down.npy\n",
      "go.npy\n",
      "happy.npy\n",
      "left.npy\n",
      "off.npy\n",
      "on.npy\n",
      "right.npy\n"
     ]
    }
   ],
   "source": [
    "X_train, X_test, y_train, y_test = get_train_test() #該方法來自preprocess.py\n",
    "X_train = X_train.reshape(X_train.shape[0], 20, 11, 1)\n",
    "X_test = X_test.reshape(X_test.shape[0], 20, 11, 1)"
   ]
  },
  {
   "cell_type": "code",
   "execution_count": 7,
   "metadata": {},
   "outputs": [
    {
     "data": {
      "text/plain": [
       "(20, 11, 1)"
      ]
     },
     "execution_count": 7,
     "metadata": {},
     "output_type": "execute_result"
    }
   ],
   "source": [
    "X_train[0].shape"
   ]
  },
  {
   "cell_type": "code",
   "execution_count": 13,
   "metadata": {},
   "outputs": [
    {
     "data": {
      "image/png": "[encoded data removed]",
      "text/plain": [
       "<Figure size 432x288 with 1 Axes>"
      ]
     },
     "metadata": {
      "needs_background": "light"
     },
     "output_type": "display_data"
    }
   ],
   "source": [
    "import matplotlib.pyplot as plt\n",
    "plt.imshow(X_train[0].reshape(20, 11), cmap='gray')\n",
    "plt.show()"
   ]
  },
  {
   "cell_type": "code",
   "execution_count": 3,
   "metadata": {},
   "outputs": [
    {
     "name": "stdout",
     "output_type": "stream",
     "text": [
      "(11617, 20, 11, 1)\n"
     ]
    }
   ],
   "source": [
    "y_train_hot = to_categorical(y_train)\n",
    "y_test_hot = to_categorical(y_test)\n",
    "print(X_train.shape)"
   ]
  },
  {
   "cell_type": "code",
   "execution_count": 16,
   "metadata": {},
   "outputs": [
    {
     "data": {
      "text/plain": [
       "array([[1., 0., 0., 0., 0., 0., 0., 0., 0.],\n",
       "       [0., 0., 0., 1., 0., 0., 0., 0., 0.],\n",
       "       [0., 0., 1., 0., 0., 0., 0., 0., 0.]], dtype=float32)"
      ]
     },
     "execution_count": 16,
     "metadata": {},
     "output_type": "execute_result"
    }
   ],
   "source": [
    "y_train_hot[:3]"
   ]
  },
  {
   "cell_type": "code",
   "execution_count": 15,
   "metadata": {},
   "outputs": [],
   "source": [
    "model = Sequential()\n",
    "model.add(Conv2D(32, kernel_size=(2, 2), activation='relu', input_shape=(20, 11, 1)))\n",
    "model.add(MaxPooling2D(pool_size=(2, 2)))\n",
    "model.add(Dropout(0.25))\n",
    "model.add(Flatten())\n",
    "model.add(Dense(128, activation='relu'))\n",
    "model.add(Dropout(0.25))\n",
    "model.add(Dense(9, activation='softmax'))\n",
    "model.compile(loss=keras.losses.categorical_crossentropy,\n",
    "              optimizer=keras.optimizers.Adadelta(),\n",
    "              metrics=['accuracy'])"
   ]
  },
  {
   "cell_type": "code",
   "execution_count": 5,
   "metadata": {},
   "outputs": [
    {
     "name": "stdout",
     "output_type": "stream",
     "text": [
      "Model: \"sequential\"\n",
      "_________________________________________________________________\n",
      "Layer (type)                 Output Shape              Param #   \n",
      "=================================================================\n",
      "conv2d (Conv2D)              (None, 19, 10, 32)        160       \n",
      "_________________________________________________________________\n",
      "max_pooling2d (MaxPooling2D) (None, 9, 5, 32)          0         \n",
      "_________________________________________________________________\n",
      "dropout (Dropout)            (None, 9, 5, 32)          0         \n",
      "_________________________________________________________________\n",
      "flatten (Flatten)            (None, 1440)              0         \n",
      "_________________________________________________________________\n",
      "dense (Dense)                (None, 128)               184448    \n",
      "_________________________________________________________________\n",
      "dropout_1 (Dropout)          (None, 128)               0         \n",
      "_________________________________________________________________\n",
      "dense_1 (Dense)              (None, 3)                 387       \n",
      "=================================================================\n",
      "Total params: 184,995\n",
      "Trainable params: 184,995\n",
      "Non-trainable params: 0\n",
      "_________________________________________________________________\n"
     ]
    }
   ],
   "source": [
    "model.summary()"
   ]
  },
  {
   "cell_type": "code",
   "execution_count": 17,
   "metadata": {},
   "outputs": [
    {
     "name": "stdout",
     "output_type": "stream",
     "text": [
      "Epoch 1/10\n",
      "117/117 [==============================] - 59s 51ms/step - loss: 30.4050 - accuracy: 0.1104 - val_loss: 20.0485 - val_accuracy: 0.1044\n",
      "Epoch 2/10\n",
      "117/117 [==============================] - 4s 35ms/step - loss: 28.4760 - accuracy: 0.1128 - val_loss: 18.1641 - val_accuracy: 0.1026\n",
      "Epoch 3/10\n",
      "117/117 [==============================] - 3s 27ms/step - loss: 27.3425 - accuracy: 0.1104 - val_loss: 16.5813 - val_accuracy: 0.1012\n",
      "Epoch 4/10\n",
      "117/117 [==============================] - 3s 22ms/step - loss: 26.0755 - accuracy: 0.1110 - val_loss: 15.2658 - val_accuracy: 0.1004\n",
      "Epoch 5/10\n",
      "117/117 [==============================] - 3s 22ms/step - loss: 24.9254 - accuracy: 0.1104 - val_loss: 14.1826 - val_accuracy: 0.1010\n",
      "Epoch 6/10\n",
      "117/117 [==============================] - 3s 23ms/step - loss: 24.6138 - accuracy: 0.1052 - val_loss: 13.3183 - val_accuracy: 0.1032\n",
      "Epoch 7/10\n",
      "117/117 [==============================] - 4s 36ms/step - loss: 23.4958 - accuracy: 0.1119 - val_loss: 12.5888 - val_accuracy: 0.1055\n",
      "Epoch 8/10\n",
      "117/117 [==============================] - 2s 18ms/step - loss: 23.0493 - accuracy: 0.1107 - val_loss: 12.0025 - val_accuracy: 0.1073\n",
      "Epoch 9/10\n",
      "117/117 [==============================] - 3s 22ms/step - loss: 22.2889 - accuracy: 0.1084 - val_loss: 11.4913 - val_accuracy: 0.1083\n",
      "Epoch 10/10\n",
      "117/117 [==============================] - 2s 21ms/step - loss: 21.9456 - accuracy: 0.1085 - val_loss: 11.0685 - val_accuracy: 0.1103\n"
     ]
    },
    {
     "data": {
      "text/plain": [
       "<tensorflow.python.keras.callbacks.History at 0x28931330940>"
      ]
     },
     "execution_count": 17,
     "metadata": {},
     "output_type": "execute_result"
    }
   ],
   "source": [
    "model.fit(X_train, y_train_hot, \n",
    "          batch_size=100, \n",
    "          epochs=100, \n",
    "          verbose=1, \n",
    "          validation_data=(X_test, y_test_hot))"
   ]
  },
  {
   "cell_type": "markdown",
   "metadata": {
    "collapsed": true
   },
   "source": [
    "from keras.datasets import mnist"
   ]
  },
  {
   "cell_type": "markdown",
   "metadata": {
    "collapsed": true
   },
   "source": [
    "(x_train, y_train), (x_test, y_test) = mnist.load_data()"
   ]
  },
  {
   "cell_type": "markdown",
   "metadata": {},
   "source": [
    "x_train.shape"
   ]
  },
  {
   "cell_type": "markdown",
   "metadata": {},
   "source": [
    "X_train.shape"
   ]
  },
  {
   "cell_type": "markdown",
   "metadata": {},
   "source": [
    "x_train = x_train.reshape(x_train.shape[0], 28, 28, 1)"
   ]
  },
  {
   "cell_type": "markdown",
   "metadata": {},
   "source": [
    "x_train.shape"
   ]
  },
  {
   "cell_type": "markdown",
   "metadata": {
    "collapsed": true
   },
   "source": [
    "X_train = X_train.reshape(X_train.shape[0], 20, 11, 1)"
   ]
  },
  {
   "cell_type": "markdown",
   "metadata": {},
   "source": [
    "X_train.shape"
   ]
  },
  {
   "cell_type": "markdown",
   "metadata": {
    "collapsed": true
   },
   "source": [
    "X_test = X_test.reshape(X_test.shape[0], 20, 11, 1)"
   ]
  },
  {
   "cell_type": "markdown",
   "metadata": {},
   "source": [
    "X_test.shape"
   ]
  },
  {
   "cell_type": "code",
   "execution_count": 18,
   "metadata": {},
   "outputs": [
    {
     "name": "stdout",
     "output_type": "stream",
     "text": [
      "243/243 [==============================] - 3s 13ms/step - loss: 11.0685 - accuracy: 0.1103\n"
     ]
    }
   ],
   "source": [
    "score = model.evaluate(X_test, y_test_hot, verbose=1)"
   ]
  },
  {
   "cell_type": "code",
   "execution_count": 19,
   "metadata": {},
   "outputs": [
    {
     "data": {
      "text/plain": [
       "[11.068521499633789, 0.11025045067071915]"
      ]
     },
     "execution_count": 19,
     "metadata": {},
     "output_type": "execute_result"
    }
   ],
   "source": [
    "score"
   ]
  },
  {
   "cell_type": "code",
   "execution_count": 20,
   "metadata": {},
   "outputs": [],
   "source": [
    "mfcc = wav2mfcc('./down.wav')"
   ]
  },
  {
   "cell_type": "code",
   "execution_count": 21,
   "metadata": {},
   "outputs": [],
   "source": [
    "mfcc_reshaped = mfcc.reshape(1, 20, 11, 1)"
   ]
  },
  {
   "cell_type": "code",
   "execution_count": 22,
   "metadata": {},
   "outputs": [
    {
     "data": {
      "text/plain": [
       "(1, 20, 11, 1)"
      ]
     },
     "execution_count": 22,
     "metadata": {},
     "output_type": "execute_result"
    }
   ],
   "source": [
    "mfcc_reshaped.shape"
   ]
  },
  {
   "cell_type": "code",
   "execution_count": 23,
   "metadata": {},
   "outputs": [
    {
     "data": {
      "image/png": "[encoded data removed]",
      "text/plain": [
       "<Figure size 432x288 with 1 Axes>"
      ]
     },
     "metadata": {
      "needs_background": "light"
     },
     "output_type": "display_data"
    }
   ],
   "source": [
    "import matplotlib.pyplot as plt\n",
    "plt.imshow(mfcc_reshaped[0].reshape(20, 11), cmap='gray')\n",
    "plt.show()"
   ]
  },
  {
   "cell_type": "code",
   "execution_count": 24,
   "metadata": {},
   "outputs": [
    {
     "data": {
      "text/plain": [
       "0"
      ]
     },
     "execution_count": 24,
     "metadata": {},
     "output_type": "execute_result"
    }
   ],
   "source": [
    "np.argmax(model.predict(mfcc_reshaped))"
   ]
  },
  {
   "cell_type": "code",
   "execution_count": 25,
   "metadata": {},
   "outputs": [
    {
     "data": {
      "text/plain": [
       "(['bed.npy',\n",
       "  'cat.npy',\n",
       "  'down.npy',\n",
       "  'go.npy',\n",
       "  'happy.npy',\n",
       "  'left.npy',\n",
       "  'off.npy',\n",
       "  'on.npy',\n",
       "  'right.npy'],\n",
       " array([0, 1, 2, 3, 4, 5, 6, 7, 8]),\n",
       " array([[1., 0., 0., 0., 0., 0., 0., 0., 0.],\n",
       "        [0., 1., 0., 0., 0., 0., 0., 0., 0.],\n",
       "        [0., 0., 1., 0., 0., 0., 0., 0., 0.],\n",
       "        [0., 0., 0., 1., 0., 0., 0., 0., 0.],\n",
       "        [0., 0., 0., 0., 1., 0., 0., 0., 0.],\n",
       "        [0., 0., 0., 0., 0., 1., 0., 0., 0.],\n",
       "        [0., 0., 0., 0., 0., 0., 1., 0., 0.],\n",
       "        [0., 0., 0., 0., 0., 0., 0., 1., 0.],\n",
       "        [0., 0., 0., 0., 0., 0., 0., 0., 1.]], dtype=float32))"
      ]
     },
     "execution_count": 25,
     "metadata": {},
     "output_type": "execute_result"
    }
   ],
   "source": [
    "get_labels()"
   ]
  },
  {
   "cell_type": "code",
   "execution_count": null,
   "metadata": {},
   "outputs": [],
   "source": []
  }
 ],
 "metadata": {
  "kernelspec": {
   "display_name": "Python 3 (ipykernel)",
   "language": "python",
   "name": "python3"
  },
  "language_info": {
   "codemirror_mode": {
    "name": "ipython",
    "version": 3
   },
   "file_extension": ".py",
   "mimetype": "text/x-python",
   "name": "python",
   "nbconvert_exporter": "python",
   "pygments_lexer": "ipython3",
   "version": "3.8.8"
  }
 },
 "nbformat": 4,
 "nbformat_minor": 2
}
