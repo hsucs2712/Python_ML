{
 "cells": [
  {
   "cell_type": "code",
   "execution_count": 1,
   "id": "8f09ffa2",
   "metadata": {},
   "outputs": [],
   "source": [
    "# source: https://fgc.stpi.narl.org.tw/activity/videoDetail/4b1141305ddf5522015de5479f4701b1\n",
    "# pip install jieba\n",
    "import numpy as np\n",
    "\n",
    "# 建立 詞向量 dict\n",
    "dim = 0\n",
    "word_vecs= {}\n",
    "# 開啟詞向量檔案 注意要去改你作業系統中該檔案的位置\n",
    "with open('C:/python/20210906-Python-第三階段-13/materials/eppy1109it2/code/cna.cbow.cwe_p.tar_g.512d.0.txt', encoding='utf-8') as f:\n",
    "  for line in f:\n",
    "    # 假設我們的詞向量有300維\n",
    "    # 由word以及向量中的元素共301個\n",
    "    # 以空格分隔組成詞向量檔案中一行\n",
    "    tokens = line.strip().split()\n",
    "\n",
    "    # 第一行是兩個整數，分別代表有幾個詞向量，以及詞向量維度\n",
    "    if len(tokens) == 2:\n",
    "      dim = int(tokens[1])\n",
    "      continue\n",
    "    \n",
    "    word = tokens[0] \n",
    "    vec = np.array([ float(t) for t in tokens[1:] ])\n",
    "    word_vecs[word] = vec\n",
    "    "
   ]
  },
  {
   "cell_type": "code",
   "execution_count": 6,
   "id": "54893313",
   "metadata": {},
   "outputs": [
    {
     "name": "stdout",
     "output_type": "stream",
     "text": [
      "#0 相似性: 0.403162\n",
      "#1 相似性: 0.295816\n",
      "#2 相似性: 0.216000\n",
      "#3 相似性: 0.247240\n",
      "#4 相似性: 0.423816\n",
      "#5 相似性: 0.846152\n",
      "問: 身體會釋放出有毒素的體液\n",
      "答: 不過蝦子死亡後 身體會釋放出有毒素的體液 可能造成水的變質\n",
      "答: 5\n",
      "Wall time: 4.99 ms\n"
     ]
    }
   ],
   "source": [
    "%%time\n",
    "import jieba\n",
    "import numpy as np\n",
    "\n",
    "# 我們要從answers中挑出應該接在dialogue之後的短句\n",
    "dialogue = \"如果飛機在飛行當中打一個小洞的話 會不會影響飛行的安全呢\"\n",
    "answers = [\n",
    "  \"其實狗搖尾巴有很多種方式 高興搖尾巴 生氣也搖尾巴\",  \n",
    "  \"如果這個洞的話經過仔細的設計的話 應該不至於造成太大問題\",\n",
    "  \"所以只要依照政府規定 在採收前十天不要噴灑農藥\", \n",
    "  \"靜電才是加油站爆炸的元凶 手機不過是代罪羔羊\",\n",
    "  \"我們可以用表面張力及附著力的原理 來測試看看\",\n",
    "  \"不過蝦子死亡後 身體會釋放出有毒素的體液 可能造成水的變質\"]\n",
    "\n",
    "emb_cnt = 0\n",
    "avg_dlg_emb = np.zeros((dim,))\n",
    "# jieba.cut 會把dialogue作分詞\n",
    "# 對於有在word_vecs裡面的詞我們才把它取出\n",
    "# 最後詞向量加總取平均，作為句子的向量表示\n",
    "for word in jieba.cut(dialogue):\n",
    "  if word in word_vecs:\n",
    "    avg_dlg_emb += word_vecs[word]\n",
    "    emb_cnt += 1\n",
    "avg_dlg_emb /= emb_cnt\n",
    "\n",
    "emb_cnt = 0\n",
    "max_idx = -1\n",
    "max_sim = -10\n",
    "# 在六個回答中，每個答句都取詞向量平均作為向量表示\n",
    "# 我們選出與dialogue句子向量表示cosine similarity最高的短句\n",
    "for idx,ans in enumerate(answers):\n",
    "  # 六個回答維度均設為 dim (訓練資料的維度)\n",
    "  avg_ans_emb = np.zeros((dim,))\n",
    "  for word in jieba.cut(ans):\n",
    "    if word in word_vecs:\n",
    "      avg_ans_emb += word_vecs[word]\n",
    "      emb_cnt += 1\n",
    "  # 計算 cosine 相似性    \n",
    "  sim = np.dot(avg_dlg_emb, avg_ans_emb) / np.linalg.norm(avg_dlg_emb) / np.linalg.norm(avg_ans_emb)\n",
    "  print(\"#%d 相似性: %f\" % (idx, sim))\n",
    "  if sim > max_sim:\n",
    "    max_idx = idx\n",
    "    max_sim = sim\n",
    "\n",
    "print('問: '+ dialogue)    \n",
    "print(\"答: \" + answers[max_idx])    \n",
    "print(\"答: %d\" % max_idx)    "
   ]
  }
 ],
 "metadata": {
  "kernelspec": {
   "display_name": "Python 3 (ipykernel)",
   "language": "python",
   "name": "python3"
  },
  "language_info": {
   "codemirror_mode": {
    "name": "ipython",
    "version": 3
   },
   "file_extension": ".py",
   "mimetype": "text/x-python",
   "name": "python",
   "nbconvert_exporter": "python",
   "pygments_lexer": "ipython3",
   "version": "3.8.8"
  }
 },
 "nbformat": 4,
 "nbformat_minor": 5
}
