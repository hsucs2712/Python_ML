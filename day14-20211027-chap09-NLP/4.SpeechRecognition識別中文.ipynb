{
 "cells": [
  {
   "cell_type": "code",
   "execution_count": 1,
   "id": "b2c278be",
   "metadata": {},
   "outputs": [
    {
     "name": "stdout",
     "output_type": "stream",
     "text": [
      "Collecting SpeechRecognition\n",
      "  Downloading SpeechRecognition-3.8.1-py2.py3-none-any.whl (32.8 MB)\n",
      "Installing collected packages: SpeechRecognition\n",
      "Successfully installed SpeechRecognition-3.8.1\n",
      "Collecting pyaudio"
     ]
    },
    {
     "name": "stderr",
     "output_type": "stream",
     "text": [
      "  ERROR: Command errored out with exit status 1:\n",
      "   command: 'c:\\python38\\python.exe' -u -c 'import io, os, sys, setuptools, tokenize; sys.argv[0] = '\"'\"'C:\\\\Users\\\\lewis_yang\\\\AppData\\\\Local\\\\Temp\\\\pip-install-st8khl5o\\\\pyaudio_50d5d41e53ef4256b1e87f91d33822af\\\\setup.py'\"'\"'; __file__='\"'\"'C:\\\\Users\\\\lewis_yang\\\\AppData\\\\Local\\\\Temp\\\\pip-install-st8khl5o\\\\pyaudio_50d5d41e53ef4256b1e87f91d33822af\\\\setup.py'\"'\"';f = getattr(tokenize, '\"'\"'open'\"'\"', open)(__file__) if os.path.exists(__file__) else io.StringIO('\"'\"'from setuptools import setup; setup()'\"'\"');code = f.read().replace('\"'\"'\\r\\n'\"'\"', '\"'\"'\\n'\"'\"');f.close();exec(compile(code, __file__, '\"'\"'exec'\"'\"'))' bdist_wheel -d 'C:\\Users\\lewis_yang\\AppData\\Local\\Temp\\pip-wheel-aozaesig'\n",
      "       cwd: C:\\Users\\lewis_yang\\AppData\\Local\\Temp\\pip-install-st8khl5o\\pyaudio_50d5d41e53ef4256b1e87f91d33822af\\\n",
      "  Complete output (9 lines):\n",
      "  running bdist_wheel\n",
      "  running build\n",
      "  running build_py\n",
      "  creating build\n",
      "  creating build\\lib.win-amd64-3.8\n",
      "  copying src\\pyaudio.py -> build\\lib.win-amd64-3.8\n",
      "  running build_ext\n",
      "  building '_portaudio' extension\n",
      "  error: Microsoft Visual C++ 14.0 is required. Get it with \"Build Tools for Visual Studio\": https://visualstudio.microsoft.com/downloads/\n",
      "  ----------------------------------------\n",
      "  ERROR: Failed building wheel for pyaudio\n",
      "    ERROR: Command errored out with exit status 1:\n",
      "     command: 'c:\\python38\\python.exe' -u -c 'import io, os, sys, setuptools, tokenize; sys.argv[0] = '\"'\"'C:\\\\Users\\\\lewis_yang\\\\AppData\\\\Local\\\\Temp\\\\pip-install-st8khl5o\\\\pyaudio_50d5d41e53ef4256b1e87f91d33822af\\\\setup.py'\"'\"'; __file__='\"'\"'C:\\\\Users\\\\lewis_yang\\\\AppData\\\\Local\\\\Temp\\\\pip-install-st8khl5o\\\\pyaudio_50d5d41e53ef4256b1e87f91d33822af\\\\setup.py'\"'\"';f = getattr(tokenize, '\"'\"'open'\"'\"', open)(__file__) if os.path.exists(__file__) else io.StringIO('\"'\"'from setuptools import setup; setup()'\"'\"');code = f.read().replace('\"'\"'\\r\\n'\"'\"', '\"'\"'\\n'\"'\"');f.close();exec(compile(code, __file__, '\"'\"'exec'\"'\"'))' install --record 'C:\\Users\\lewis_yang\\AppData\\Local\\Temp\\pip-record-b5z5jl55\\install-record.txt' --single-version-externally-managed --compile --install-headers 'c:\\python38\\Include\\pyaudio'\n",
      "         cwd: C:\\Users\\lewis_yang\\AppData\\Local\\Temp\\pip-install-st8khl5o\\pyaudio_50d5d41e53ef4256b1e87f91d33822af\\\n",
      "    Complete output (9 lines):\n",
      "    running install\n",
      "    running build\n",
      "    running build_py\n",
      "    creating build\n",
      "    creating build\\lib.win-amd64-3.8\n",
      "    copying src\\pyaudio.py -> build\\lib.win-amd64-3.8\n",
      "    running build_ext\n",
      "    building '_portaudio' extension\n",
      "    error: Microsoft Visual C++ 14.0 is required. Get it with \"Build Tools for Visual Studio\": https://visualstudio.microsoft.com/downloads/\n",
      "    ----------------------------------------\n",
      "ERROR: Command errored out with exit status 1: 'c:\\python38\\python.exe' -u -c 'import io, os, sys, setuptools, tokenize; sys.argv[0] = '\"'\"'C:\\\\Users\\\\lewis_yang\\\\AppData\\\\Local\\\\Temp\\\\pip-install-st8khl5o\\\\pyaudio_50d5d41e53ef4256b1e87f91d33822af\\\\setup.py'\"'\"'; __file__='\"'\"'C:\\\\Users\\\\lewis_yang\\\\AppData\\\\Local\\\\Temp\\\\pip-install-st8khl5o\\\\pyaudio_50d5d41e53ef4256b1e87f91d33822af\\\\setup.py'\"'\"';f = getattr(tokenize, '\"'\"'open'\"'\"', open)(__file__) if os.path.exists(__file__) else io.StringIO('\"'\"'from setuptools import setup; setup()'\"'\"');code = f.read().replace('\"'\"'\\r\\n'\"'\"', '\"'\"'\\n'\"'\"');f.close();exec(compile(code, __file__, '\"'\"'exec'\"'\"'))' install --record 'C:\\Users\\lewis_yang\\AppData\\Local\\Temp\\pip-record-b5z5jl55\\install-record.txt' --single-version-externally-managed --compile --install-headers 'c:\\python38\\Include\\pyaudio' Check the logs for full command output.\n"
     ]
    },
    {
     "name": "stdout",
     "output_type": "stream",
     "text": [
      "\n",
      "  Downloading PyAudio-0.2.11.tar.gz (37 kB)\n",
      "  Preparing metadata (setup.py): started\n",
      "  Preparing metadata (setup.py): finished with status 'done'\n",
      "Building wheels for collected packages: pyaudio\n",
      "  Building wheel for pyaudio (setup.py): started\n",
      "  Building wheel for pyaudio (setup.py): finished with status 'error'\n",
      "  Running setup.py clean for pyaudio\n",
      "Failed to build pyaudio\n",
      "Installing collected packages: pyaudio\n",
      "    Running setup.py install for pyaudio: started\n",
      "    Running setup.py install for pyaudio: finished with status 'error'\n"
     ]
    }
   ],
   "source": [
    "!pip install SpeechRecognition\n",
    "!pip install pyaudio\n",
    "#!pip install jieba\n"
   ]
  },
  {
   "cell_type": "code",
   "execution_count": null,
   "id": "c1f3bd3c",
   "metadata": {},
   "outputs": [],
   "source": [
    "import speech_recognition as sr\n",
    "\n",
    "# 錄音\n",
    "recognizer = sr.Recognizer()\n",
    "microphone = sr.Microphone()\n",
    "with microphone as source:\n",
    "    recognizer.adjust_for_ambient_noise(source)\n",
    "    audio = recognizer.listen(source)\n",
    "\n",
    "# 語音辨識    \n",
    "# pip install SpeechRecognition\n",
    "# pip install pyaudio\n",
    "try:\n",
    "    text=recognizer.recognize_google(audio, language='zh-tw')\n",
    "    print(text)\n",
    "except e:\n",
    "    pass\n",
    "\n",
    "# jieba 分詞\n",
    "# pip install jieba\n",
    "# import jieba\n",
    "# # 加詞\n",
    "# jieba.add_word('三天三夜')\n",
    "\n",
    "# seg_list = jieba.cut(text)\n",
    "# print(\"/\".join(seg_list))\n",
    "\n"
   ]
  }
 ],
 "metadata": {
  "kernelspec": {
   "display_name": "Python 3 (ipykernel)",
   "language": "python",
   "name": "python3"
  },
  "language_info": {
   "codemirror_mode": {
    "name": "ipython",
    "version": 3
   },
   "file_extension": ".py",
   "mimetype": "text/x-python",
   "name": "python",
   "nbconvert_exporter": "python",
   "pygments_lexer": "ipython3",
   "version": "3.8.8"
  }
 },
 "nbformat": 4,
 "nbformat_minor": 5
}
