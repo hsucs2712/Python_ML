{
 "cells": [
  {
   "cell_type": "code",
   "execution_count": 1,
   "metadata": {},
   "outputs": [
    {
     "name": "stdout",
     "output_type": "stream",
     "text": [
      "Collecting opencc\n",
      "  Downloading OpenCC-1.1.1-py2.py3-none-win_amd64.whl (726 kB)\n",
      "Installing collected packages: opencc\n",
      "Successfully installed opencc-1.1.1\n"
     ]
    }
   ],
   "source": [
    "!pip install opencc"
   ]
  },
  {
   "cell_type": "code",
   "execution_count": 2,
   "metadata": {},
   "outputs": [
    {
     "data": {
      "text/plain": [
       "'漢字'"
      ]
     },
     "execution_count": 2,
     "metadata": {},
     "output_type": "execute_result"
    }
   ],
   "source": [
    "import opencc\n",
    "converter = opencc.OpenCC('s2t.json')\n",
    "converter.convert('汉字')  # 漢字"
   ]
  },
  {
   "cell_type": "code",
   "execution_count": 7,
   "metadata": {},
   "outputs": [
    {
     "data": {
      "text/plain": [
       "'Yahoo奇摩提供即时新闻、气象、购物、信箱、搜索、政治、国际、运动、股市、娱乐、科技、电影、汽机车、旅游、游戏。每天赚奇摩值、发掘更多精彩内容、一站获取丰富 ...您曾多次浏览这个网页。上次浏览日期：2021/10/23'"
      ]
     },
     "execution_count": 7,
     "metadata": {},
     "output_type": "execute_result"
    }
   ],
   "source": [
    "import opencc\n",
    "converter = opencc.OpenCC('tw2sp.json')\n",
    "converter.convert('Yahoo奇摩提供即時新聞、氣象、購物、信箱、搜尋、政治、國際、運動、股市、娛樂、科技、電影、汽機車、旅遊、遊戲。每天賺奇摩值、發掘更多精彩內容、一站獲取豐富 ...您曾多次瀏覽這個網頁。上次瀏覽日期：2021/10/23')  # 漢字"
   ]
  }
 ],
 "metadata": {
  "kernelspec": {
   "display_name": "Python 3 (ipykernel)",
   "language": "python",
   "name": "python3"
  },
  "language_info": {
   "codemirror_mode": {
    "name": "ipython",
    "version": 3
   },
   "file_extension": ".py",
   "mimetype": "text/x-python",
   "name": "python",
   "nbconvert_exporter": "python",
   "pygments_lexer": "ipython3",
   "version": "3.8.8"
  }
 },
 "nbformat": 4,
 "nbformat_minor": 4
}
