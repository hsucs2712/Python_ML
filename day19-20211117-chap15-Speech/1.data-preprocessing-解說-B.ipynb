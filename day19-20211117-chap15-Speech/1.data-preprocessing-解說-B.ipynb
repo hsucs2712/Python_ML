{
 "cells": [
  {
   "cell_type": "code",
   "execution_count": 1,
   "id": "403815eb",
   "metadata": {},
   "outputs": [
    {
     "name": "stdout",
     "output_type": "stream",
     "text": [
      " Volume in drive C is OSDisk\n",
      " Volume Serial Number is 382F-FA9C\n",
      "\n",
      " Directory of c:\\python\\20210906-Python-第三階段-13\\UseCase-genres\\genres\n",
      "\n",
      "11/17/2021  07:12 PM    <DIR>          .\n",
      "11/17/2021  07:12 PM    <DIR>          ..\n",
      "11/17/2021  03:17 PM    <DIR>          .ipynb_checkpoints\n",
      "03/06/2014  02:06 AM            64,978 bextract_single.mf\n",
      "03/06/2014  02:06 AM             5,902 bl.mf\n",
      "11/17/2021  03:13 PM    <DIR>          blues\n",
      "03/06/2014  02:07 AM             6,702 cl.mf\n",
      "11/17/2021  03:13 PM    <DIR>          classical\n",
      "03/06/2014  02:07 AM             6,302 co.mf\n",
      "11/17/2021  03:13 PM    <DIR>          country\n",
      "03/06/2014  02:07 AM             5,902 di.mf\n",
      "11/17/2021  03:13 PM    <DIR>          disco\n",
      "03/06/2014  02:07 AM             6,102 hi.mf\n",
      "11/17/2021  03:13 PM    <DIR>          hiphop\n",
      "03/06/2014  02:07 AM            59,200 input.mf\n",
      "03/06/2014  02:07 AM             5,702 ja.mf\n",
      "11/17/2021  03:13 PM    <DIR>          jazz\n",
      "03/06/2014  02:07 AM             5,902 me.mf\n",
      "11/17/2021  03:13 PM    <DIR>          metal\n",
      "03/06/2014  02:08 AM             5,502 po.mf\n",
      "11/17/2021  03:13 PM    <DIR>          pop\n",
      "03/06/2014  02:08 AM             6,102 re.mf\n",
      "11/17/2021  03:13 PM    <DIR>          reggae\n",
      "03/06/2014  02:08 AM             5,702 ro.mf\n",
      "11/17/2021  03:13 PM    <DIR>          rock\n",
      "              12 File(s)        183,998 bytes\n",
      "              13 Dir(s)  332,039,012,352 bytes free\n"
     ]
    }
   ],
   "source": [
    "!dir \"./genres/\""
   ]
  },
  {
   "cell_type": "code",
   "execution_count": 2,
   "id": "eb9b782b",
   "metadata": {},
   "outputs": [
    {
     "data": {
      "text/html": [
       "<div>\n",
       "<style scoped>\n",
       "    .dataframe tbody tr th:only-of-type {\n",
       "        vertical-align: middle;\n",
       "    }\n",
       "\n",
       "    .dataframe tbody tr th {\n",
       "        vertical-align: top;\n",
       "    }\n",
       "\n",
       "    .dataframe thead th {\n",
       "        text-align: right;\n",
       "    }\n",
       "</style>\n",
       "<table border=\"1\" class=\"dataframe\">\n",
       "  <thead>\n",
       "    <tr style=\"text-align: right;\">\n",
       "      <th></th>\n",
       "      <th>fullpath</th>\n",
       "      <th>style</th>\n",
       "    </tr>\n",
       "  </thead>\n",
       "  <tbody>\n",
       "    <tr>\n",
       "      <th>0</th>\n",
       "      <td>/Users/sness/mirex2008/genres/blues/blues.0000...</td>\n",
       "      <td>blues</td>\n",
       "    </tr>\n",
       "    <tr>\n",
       "      <th>1</th>\n",
       "      <td>/Users/sness/mirex2008/genres/blues/blues.0000...</td>\n",
       "      <td>blues</td>\n",
       "    </tr>\n",
       "    <tr>\n",
       "      <th>2</th>\n",
       "      <td>/Users/sness/mirex2008/genres/blues/blues.0000...</td>\n",
       "      <td>blues</td>\n",
       "    </tr>\n",
       "  </tbody>\n",
       "</table>\n",
       "</div>"
      ],
      "text/plain": [
       "                                            fullpath  style\n",
       "0  /Users/sness/mirex2008/genres/blues/blues.0000...  blues\n",
       "1  /Users/sness/mirex2008/genres/blues/blues.0000...  blues\n",
       "2  /Users/sness/mirex2008/genres/blues/blues.0000...  blues"
      ]
     },
     "execution_count": 2,
     "metadata": {},
     "output_type": "execute_result"
    }
   ],
   "source": [
    "# 讀取標籤\n",
    "path = './genres/'\n",
    "file = 'input.mf'\n",
    "import pandas as pd\n",
    "df = pd.read_csv(path + file, header=None, delimiter='\\t', names=['fullpath', 'style'])\n",
    "df[:3]"
   ]
  },
  {
   "cell_type": "code",
   "execution_count": 3,
   "id": "c4b0c494",
   "metadata": {},
   "outputs": [],
   "source": [
    "pd.read_csv?"
   ]
  },
  {
   "cell_type": "code",
   "execution_count": 4,
   "id": "97d51cff",
   "metadata": {},
   "outputs": [
    {
     "data": {
      "text/plain": [
       "'/Users/sness/mirex2008/genres/blues/blues.00000.wav'"
      ]
     },
     "execution_count": 4,
     "metadata": {},
     "output_type": "execute_result"
    }
   ],
   "source": [
    "# 找第一個範例\n",
    "df[:1]['fullpath'][0]"
   ]
  },
  {
   "cell_type": "code",
   "execution_count": 5,
   "id": "b48c5a22",
   "metadata": {},
   "outputs": [
    {
     "data": {
      "text/plain": [
       "'c:\\\\python\\\\20210906-Python-第三階段-13\\\\UseCase-genres'"
      ]
     },
     "execution_count": 5,
     "metadata": {},
     "output_type": "execute_result"
    }
   ],
   "source": [
    "%pwd"
   ]
  },
  {
   "cell_type": "code",
   "execution_count": 6,
   "id": "3dd7251c",
   "metadata": {},
   "outputs": [
    {
     "name": "stdout",
     "output_type": "stream",
     "text": [
      " Volume in drive C is OSDisk\n",
      " Volume Serial Number is 382F-FA9C\n",
      "\n",
      " Directory of c:\\python\\20210906-Python-第三階段-13\\UseCase-genres\\genres\\blues\n",
      "\n",
      "03/06/2014  02:06 AM         1,323,632 blues.00000.wav\n",
      "               1 File(s)      1,323,632 bytes\n",
      "               0 Dir(s)  332,038,946,816 bytes free\n"
     ]
    }
   ],
   "source": [
    "#檔案確實存在\n",
    "!dir \".\\\\genres\\\\blues\\\\blues.00000.wav\""
   ]
  },
  {
   "cell_type": "code",
   "execution_count": 7,
   "id": "03c8ae0e",
   "metadata": {},
   "outputs": [
    {
     "data": {
      "text/plain": [
       "0    [blues, blues.00000.wav]\n",
       "1    [blues, blues.00001.wav]\n",
       "2    [blues, blues.00002.wav]\n",
       "Name: fullpath, dtype: object"
      ]
     },
     "execution_count": 7,
     "metadata": {},
     "output_type": "execute_result"
    }
   ],
   "source": [
    "# 取出檔案名稱-part1\n",
    "df[:3]['fullpath'].apply(lambda x: x.split('/')[-2:]  )"
   ]
  },
  {
   "cell_type": "code",
   "execution_count": 8,
   "id": "96af4117",
   "metadata": {},
   "outputs": [
    {
     "data": {
      "text/plain": [
       "0    ./genres/blues/blues.00000.wav\n",
       "1    ./genres/blues/blues.00001.wav\n",
       "2    ./genres/blues/blues.00002.wav\n",
       "Name: fullpath, dtype: object"
      ]
     },
     "execution_count": 8,
     "metadata": {},
     "output_type": "execute_result"
    }
   ],
   "source": [
    "# 取出檔案名稱-part2\n",
    "df[:3]['fullpath'].apply(lambda x: path + '/'.join(x.split('/')[-2:])  )"
   ]
  },
  {
   "cell_type": "code",
   "execution_count": 9,
   "id": "df4e567f",
   "metadata": {},
   "outputs": [
    {
     "data": {
      "text/html": [
       "<div>\n",
       "<style scoped>\n",
       "    .dataframe tbody tr th:only-of-type {\n",
       "        vertical-align: middle;\n",
       "    }\n",
       "\n",
       "    .dataframe tbody tr th {\n",
       "        vertical-align: top;\n",
       "    }\n",
       "\n",
       "    .dataframe thead th {\n",
       "        text-align: right;\n",
       "    }\n",
       "</style>\n",
       "<table border=\"1\" class=\"dataframe\">\n",
       "  <thead>\n",
       "    <tr style=\"text-align: right;\">\n",
       "      <th></th>\n",
       "      <th>fullpath</th>\n",
       "      <th>style</th>\n",
       "      <th>filename</th>\n",
       "    </tr>\n",
       "  </thead>\n",
       "  <tbody>\n",
       "    <tr>\n",
       "      <th>0</th>\n",
       "      <td>/Users/sness/mirex2008/genres/blues/blues.0000...</td>\n",
       "      <td>blues</td>\n",
       "      <td>./genres/blues/blues.00000.wav</td>\n",
       "    </tr>\n",
       "    <tr>\n",
       "      <th>1</th>\n",
       "      <td>/Users/sness/mirex2008/genres/blues/blues.0000...</td>\n",
       "      <td>blues</td>\n",
       "      <td>./genres/blues/blues.00001.wav</td>\n",
       "    </tr>\n",
       "    <tr>\n",
       "      <th>2</th>\n",
       "      <td>/Users/sness/mirex2008/genres/blues/blues.0000...</td>\n",
       "      <td>blues</td>\n",
       "      <td>./genres/blues/blues.00002.wav</td>\n",
       "    </tr>\n",
       "  </tbody>\n",
       "</table>\n",
       "</div>"
      ],
      "text/plain": [
       "                                            fullpath  style  \\\n",
       "0  /Users/sness/mirex2008/genres/blues/blues.0000...  blues   \n",
       "1  /Users/sness/mirex2008/genres/blues/blues.0000...  blues   \n",
       "2  /Users/sness/mirex2008/genres/blues/blues.0000...  blues   \n",
       "\n",
       "                         filename  \n",
       "0  ./genres/blues/blues.00000.wav  \n",
       "1  ./genres/blues/blues.00001.wav  \n",
       "2  ./genres/blues/blues.00002.wav  "
      ]
     },
     "execution_count": 9,
     "metadata": {},
     "output_type": "execute_result"
    }
   ],
   "source": [
    "df['filename'] = df[:]['fullpath'].apply(lambda x: path + '/'.join(x.split('/')[-2:])  )\n",
    "df[:3]"
   ]
  },
  {
   "cell_type": "code",
   "execution_count": 10,
   "id": "3a5e5675",
   "metadata": {},
   "outputs": [
    {
     "data": {
      "text/html": [
       "<div>\n",
       "<style scoped>\n",
       "    .dataframe tbody tr th:only-of-type {\n",
       "        vertical-align: middle;\n",
       "    }\n",
       "\n",
       "    .dataframe tbody tr th {\n",
       "        vertical-align: top;\n",
       "    }\n",
       "\n",
       "    .dataframe thead th {\n",
       "        text-align: right;\n",
       "    }\n",
       "</style>\n",
       "<table border=\"1\" class=\"dataframe\">\n",
       "  <thead>\n",
       "    <tr style=\"text-align: right;\">\n",
       "      <th></th>\n",
       "      <th>filename</th>\n",
       "    </tr>\n",
       "    <tr>\n",
       "      <th>style</th>\n",
       "      <th></th>\n",
       "    </tr>\n",
       "  </thead>\n",
       "  <tbody>\n",
       "    <tr>\n",
       "      <th>blues</th>\n",
       "      <td>100</td>\n",
       "    </tr>\n",
       "    <tr>\n",
       "      <th>classical</th>\n",
       "      <td>100</td>\n",
       "    </tr>\n",
       "    <tr>\n",
       "      <th>country</th>\n",
       "      <td>100</td>\n",
       "    </tr>\n",
       "    <tr>\n",
       "      <th>disco</th>\n",
       "      <td>100</td>\n",
       "    </tr>\n",
       "    <tr>\n",
       "      <th>hiphop</th>\n",
       "      <td>100</td>\n",
       "    </tr>\n",
       "    <tr>\n",
       "      <th>jazz</th>\n",
       "      <td>100</td>\n",
       "    </tr>\n",
       "    <tr>\n",
       "      <th>metal</th>\n",
       "      <td>100</td>\n",
       "    </tr>\n",
       "    <tr>\n",
       "      <th>pop</th>\n",
       "      <td>100</td>\n",
       "    </tr>\n",
       "    <tr>\n",
       "      <th>reggae</th>\n",
       "      <td>100</td>\n",
       "    </tr>\n",
       "    <tr>\n",
       "      <th>rock</th>\n",
       "      <td>100</td>\n",
       "    </tr>\n",
       "  </tbody>\n",
       "</table>\n",
       "</div>"
      ],
      "text/plain": [
       "           filename\n",
       "style              \n",
       "blues           100\n",
       "classical       100\n",
       "country         100\n",
       "disco           100\n",
       "hiphop          100\n",
       "jazz            100\n",
       "metal           100\n",
       "pop             100\n",
       "reggae          100\n",
       "rock            100"
      ]
     },
     "execution_count": 10,
     "metadata": {},
     "output_type": "execute_result"
    }
   ],
   "source": [
    "# 分析文件的內容數據\n",
    "df.groupby('style')[['filename']].count()\n",
    "dfagg = df.groupby('style')[['filename']].count()\n",
    "dfagg"
   ]
  },
  {
   "cell_type": "code",
   "execution_count": 11,
   "id": "b1e1081c",
   "metadata": {},
   "outputs": [
    {
     "data": {
      "text/plain": [
       "Index(['blues', 'classical', 'country', 'disco', 'hiphop', 'jazz', 'metal',\n",
       "       'pop', 'reggae', 'rock'],\n",
       "      dtype='object', name='style')"
      ]
     },
     "execution_count": 11,
     "metadata": {},
     "output_type": "execute_result"
    }
   ],
   "source": [
    "dfagg.index"
   ]
  },
  {
   "cell_type": "code",
   "execution_count": 12,
   "id": "b5be161b",
   "metadata": {},
   "outputs": [],
   "source": [
    "# os.walk\n",
    "import os\n",
    "os.walk?"
   ]
  },
  {
   "cell_type": "code",
   "execution_count": 13,
   "id": "6e8ae655",
   "metadata": {},
   "outputs": [
    {
     "name": "stdout",
     "output_type": "stream",
     "text": [
      "./genres/ consumes 183998bytes in  12 non-directory files\n",
      "./genres/.ipynb_checkpoints consumes 0bytes in  0 non-directory files\n",
      "./genres/blues consumes 132363200bytes in  100 non-directory files\n",
      "./genres/classical consumes 132427620bytes in  100 non-directory files\n",
      "./genres/country consumes 132409952bytes in  100 non-directory files\n",
      "./genres/disco consumes 132391360bytes in  100 non-directory files\n",
      "./genres/hiphop consumes 132698048bytes in  100 non-directory files\n",
      "./genres/jazz consumes 132451056bytes in  100 non-directory files\n",
      "./genres/metal consumes 132323760bytes in  100 non-directory files\n",
      "./genres/pop consumes 132305200bytes in  100 non-directory files\n",
      "./genres/reggae consumes 132328980bytes in  100 non-directory files\n",
      "./genres/rock consumes 132406516bytes in  100 non-directory files\n"
     ]
    }
   ],
   "source": [
    "import os\n",
    "from os.path import join, getsize\n",
    "for root, dirs, files in os.walk(path):\n",
    "    print(root, \"consumes \", end=\"\")\n",
    "    print(sum(getsize(join(root, name)) for name in files), end=\"\")\n",
    "    print(\"bytes in \", len(files), \"non-directory files\")\n",
    "    "
   ]
  },
  {
   "cell_type": "code",
   "execution_count": 14,
   "id": "6442177b",
   "metadata": {},
   "outputs": [
    {
     "name": "stdout",
     "output_type": "stream",
     "text": [
      "./genres/blues consumes 132363200 bytes in 100 non-directory files\n",
      "./genres/classical consumes 132427620 bytes in 100 non-directory files\n",
      "./genres/country consumes 132409952 bytes in 100 non-directory files\n",
      "./genres/disco consumes 132391360 bytes in 100 non-directory files\n",
      "./genres/hiphop consumes 132698048 bytes in 100 non-directory files\n",
      "./genres/jazz consumes 132451056 bytes in 100 non-directory files\n",
      "./genres/metal consumes 132323760 bytes in 100 non-directory files\n",
      "./genres/pop consumes 132305200 bytes in 100 non-directory files\n",
      "./genres/reggae consumes 132328980 bytes in 100 non-directory files\n",
      "./genres/rock consumes 132406516 bytes in 100 non-directory files\n"
     ]
    }
   ],
   "source": [
    "# 確認文件內容 所載的檔案個數 = 實際檔案的每一個類別的個數\n",
    "import os\n",
    "from os.path import join, getsize\n",
    "for root, dirs, files in os.walk(path):\n",
    "    if (root.split('/')[-1]) in dfagg.index: \n",
    "        print(root, \"consumes \", end=\"\")\n",
    "        print(sum(getsize(join(root, name)) for name in files), end=\"\")\n",
    "        print(\" bytes in\", len(files), \"non-directory files\")\n",
    "    "
   ]
  }
 ],
 "metadata": {
  "kernelspec": {
   "display_name": "Python 3 (ipykernel)",
   "language": "python",
   "name": "python3"
  },
  "language_info": {
   "codemirror_mode": {
    "name": "ipython",
    "version": 3
   },
   "file_extension": ".py",
   "mimetype": "text/x-python",
   "name": "python",
   "nbconvert_exporter": "python",
   "pygments_lexer": "ipython3",
   "version": "3.8.8"
  }
 },
 "nbformat": 4,
 "nbformat_minor": 5
}
