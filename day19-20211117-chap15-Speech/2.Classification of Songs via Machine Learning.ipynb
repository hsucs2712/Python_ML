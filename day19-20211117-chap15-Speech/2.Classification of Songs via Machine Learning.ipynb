{
 "cells": [
  {
   "cell_type": "code",
   "execution_count": 1,
   "id": "91b85b7c",
   "metadata": {},
   "outputs": [
    {
     "data": {
      "text/html": [
       "<div>\n",
       "<style scoped>\n",
       "    .dataframe tbody tr th:only-of-type {\n",
       "        vertical-align: middle;\n",
       "    }\n",
       "\n",
       "    .dataframe tbody tr th {\n",
       "        vertical-align: top;\n",
       "    }\n",
       "\n",
       "    .dataframe thead th {\n",
       "        text-align: right;\n",
       "    }\n",
       "</style>\n",
       "<table border=\"1\" class=\"dataframe\">\n",
       "  <thead>\n",
       "    <tr style=\"text-align: right;\">\n",
       "      <th></th>\n",
       "      <th>filename</th>\n",
       "      <th>chroma_stft</th>\n",
       "      <th>rmse</th>\n",
       "      <th>spectral_centroid</th>\n",
       "      <th>spectral_bandwidth</th>\n",
       "      <th>rolloff</th>\n",
       "      <th>zero_crossing_rate</th>\n",
       "      <th>mfcc1</th>\n",
       "      <th>mfcc2</th>\n",
       "      <th>mfcc3</th>\n",
       "      <th>...</th>\n",
       "      <th>mfcc12</th>\n",
       "      <th>mfcc13</th>\n",
       "      <th>mfcc14</th>\n",
       "      <th>mfcc15</th>\n",
       "      <th>mfcc16</th>\n",
       "      <th>mfcc17</th>\n",
       "      <th>mfcc18</th>\n",
       "      <th>mfcc19</th>\n",
       "      <th>mfcc20</th>\n",
       "      <th>style</th>\n",
       "    </tr>\n",
       "  </thead>\n",
       "  <tbody>\n",
       "    <tr>\n",
       "      <th>0</th>\n",
       "      <td>blues.00000.wav</td>\n",
       "      <td>0.34994322</td>\n",
       "      <td>0.13022463</td>\n",
       "      <td>1784.4204464946633</td>\n",
       "      <td>2002.6501916232635</td>\n",
       "      <td>3806.4853160373937</td>\n",
       "      <td>0.08306639113293343</td>\n",
       "      <td>-113.59675</td>\n",
       "      <td>121.5573</td>\n",
       "      <td>-19.158825</td>\n",
       "      <td>...</td>\n",
       "      <td>8.810669</td>\n",
       "      <td>-3.6673682</td>\n",
       "      <td>5.751691</td>\n",
       "      <td>-5.1627626</td>\n",
       "      <td>0.75094783</td>\n",
       "      <td>-1.6919376</td>\n",
       "      <td>-0.40995264</td>\n",
       "      <td>-2.3002088</td>\n",
       "      <td>1.2199285</td>\n",
       "      <td>blues</td>\n",
       "    </tr>\n",
       "    <tr>\n",
       "      <th>0</th>\n",
       "      <td>blues.00001.wav</td>\n",
       "      <td>0.3409832</td>\n",
       "      <td>0.095918424</td>\n",
       "      <td>1529.8353159300755</td>\n",
       "      <td>2038.6175789692213</td>\n",
       "      <td>3548.8202074363876</td>\n",
       "      <td>0.056044256724071206</td>\n",
       "      <td>-207.5568</td>\n",
       "      <td>124.00672</td>\n",
       "      <td>8.93056</td>\n",
       "      <td>...</td>\n",
       "      <td>5.376803</td>\n",
       "      <td>-2.2391195</td>\n",
       "      <td>4.2169633</td>\n",
       "      <td>-6.0122733</td>\n",
       "      <td>0.9361094</td>\n",
       "      <td>-0.71653724</td>\n",
       "      <td>0.29387605</td>\n",
       "      <td>-0.2874308</td>\n",
       "      <td>0.5315728</td>\n",
       "      <td>blues</td>\n",
       "    </tr>\n",
       "    <tr>\n",
       "      <th>0</th>\n",
       "      <td>blues.00002.wav</td>\n",
       "      <td>0.36360285</td>\n",
       "      <td>0.17557304</td>\n",
       "      <td>1552.4819582458863</td>\n",
       "      <td>1747.1659849613065</td>\n",
       "      <td>3040.514947755418</td>\n",
       "      <td>0.07630074799245357</td>\n",
       "      <td>-90.75439</td>\n",
       "      <td>140.4599</td>\n",
       "      <td>-29.109964</td>\n",
       "      <td>...</td>\n",
       "      <td>5.789265</td>\n",
       "      <td>-8.905224</td>\n",
       "      <td>-1.08372</td>\n",
       "      <td>-9.218358</td>\n",
       "      <td>2.455806</td>\n",
       "      <td>-7.726901</td>\n",
       "      <td>-1.815723</td>\n",
       "      <td>-3.4334342</td>\n",
       "      <td>-2.2268214</td>\n",
       "      <td>blues</td>\n",
       "    </tr>\n",
       "  </tbody>\n",
       "</table>\n",
       "<p>3 rows × 28 columns</p>\n",
       "</div>"
      ],
      "text/plain": [
       "          filename chroma_stft         rmse   spectral_centroid  \\\n",
       "0  blues.00000.wav  0.34994322   0.13022463  1784.4204464946633   \n",
       "0  blues.00001.wav   0.3409832  0.095918424  1529.8353159300755   \n",
       "0  blues.00002.wav  0.36360285   0.17557304  1552.4819582458863   \n",
       "\n",
       "   spectral_bandwidth             rolloff    zero_crossing_rate       mfcc1  \\\n",
       "0  2002.6501916232635  3806.4853160373937   0.08306639113293343  -113.59675   \n",
       "0  2038.6175789692213  3548.8202074363876  0.056044256724071206   -207.5568   \n",
       "0  1747.1659849613065   3040.514947755418   0.07630074799245357   -90.75439   \n",
       "\n",
       "       mfcc2       mfcc3  ...    mfcc12      mfcc13     mfcc14      mfcc15  \\\n",
       "0   121.5573  -19.158825  ...  8.810669  -3.6673682   5.751691  -5.1627626   \n",
       "0  124.00672     8.93056  ...  5.376803  -2.2391195  4.2169633  -6.0122733   \n",
       "0   140.4599  -29.109964  ...  5.789265   -8.905224   -1.08372   -9.218358   \n",
       "\n",
       "       mfcc16       mfcc17       mfcc18      mfcc19      mfcc20  style  \n",
       "0  0.75094783   -1.6919376  -0.40995264  -2.3002088   1.2199285  blues  \n",
       "0   0.9361094  -0.71653724   0.29387605  -0.2874308   0.5315728  blues  \n",
       "0    2.455806    -7.726901    -1.815723  -3.4334342  -2.2268214  blues  \n",
       "\n",
       "[3 rows x 28 columns]"
      ]
     },
     "execution_count": 1,
     "metadata": {},
     "output_type": "execute_result"
    }
   ],
   "source": [
    "############################\n",
    "#For skip data preprocessing\n",
    "############################\n",
    "import pandas as pd\n",
    "sample = pd.read_pickle('data.pickle')\n",
    "sample[:3]"
   ]
  },
  {
   "cell_type": "code",
   "execution_count": 2,
   "id": "7e679992",
   "metadata": {},
   "outputs": [],
   "source": [
    "# X, y\n",
    "# y <-- one-hot encoder or label encoder\n",
    "# X <-- data type astype('float32')\n",
    "# standarization(optional)\n",
    "# train_test_split\n",
    "# build model with algorithm\n",
    "# model.fit\n",
    "# model.score & model.predict"
   ]
  },
  {
   "cell_type": "code",
   "execution_count": 12,
   "id": "f3d636df",
   "metadata": {},
   "outputs": [
    {
     "data": {
      "text/plain": [
       "array([0, 0, 0])"
      ]
     },
     "execution_count": 12,
     "metadata": {},
     "output_type": "execute_result"
    }
   ],
   "source": [
    "# y \n",
    "from sklearn.preprocessing import LabelEncoder\n",
    "le = LabelEncoder()\n",
    "y_raw = sample.iloc[:, -1].values\n",
    "y = le.fit_transform(y_raw)\n",
    "y[:3]"
   ]
  },
  {
   "cell_type": "code",
   "execution_count": 13,
   "id": "319db573",
   "metadata": {
    "collapsed": true
   },
   "outputs": [
    {
     "data": {
      "text/plain": [
       "array([[ 3.49943221e-01,  1.30224630e-01,  1.78442041e+03,\n",
       "         2.00265015e+03,  3.80648535e+03,  8.30663890e-02,\n",
       "        -1.13596748e+02,  1.21557297e+02, -1.91588249e+01,\n",
       "         4.23510323e+01, -6.37645817e+00,  1.86188755e+01,\n",
       "        -1.36979113e+01,  1.53446312e+01, -1.22852669e+01,\n",
       "         1.09804916e+01, -8.32432461e+00,  8.81066895e+00,\n",
       "        -3.66736817e+00,  5.75169086e+00, -5.16276264e+00,\n",
       "         7.50947833e-01, -1.69193757e+00, -4.09952641e-01,\n",
       "        -2.30020881e+00,  1.21992850e+00],\n",
       "       [ 3.40983212e-01,  9.59184244e-02,  1.52983533e+03,\n",
       "         2.03861755e+03,  3.54882031e+03,  5.60442582e-02,\n",
       "        -2.07556793e+02,  1.24006721e+02,  8.93056011e+00,\n",
       "         3.58746872e+01,  2.91603684e+00,  2.15237255e+01,\n",
       "        -8.55470371e+00,  2.33586712e+01, -1.01036167e+01,\n",
       "         1.19037437e+01, -5.56038809e+00,  5.37680292e+00,\n",
       "        -2.23911953e+00,  4.21696329e+00, -6.01227331e+00,\n",
       "         9.36109424e-01, -7.16537237e-01,  2.93876052e-01,\n",
       "        -2.87430793e-01,  5.31572819e-01],\n",
       "       [ 3.63602847e-01,  1.75573036e-01,  1.55248193e+03,\n",
       "         1.74716602e+03,  3.04051489e+03,  7.63007477e-02,\n",
       "        -9.07543869e+01,  1.40459900e+02, -2.91099644e+01,\n",
       "         3.16890144e+01, -1.39870358e+01,  2.57547588e+01,\n",
       "        -1.36495867e+01,  1.16292715e+01, -1.17805891e+01,\n",
       "         9.70644283e+00, -1.31231108e+01,  5.78926516e+00,\n",
       "        -8.90522385e+00, -1.08371997e+00, -9.21835804e+00,\n",
       "         2.45580602e+00, -7.72690105e+00, -1.81572294e+00,\n",
       "        -3.43343425e+00, -2.22682142e+00]], dtype=float32)"
      ]
     },
     "execution_count": 13,
     "metadata": {},
     "output_type": "execute_result"
    }
   ],
   "source": [
    "# X 頭filename　尾style　不要\n",
    "X = sample.iloc[:, 1:-1].values.astype('float32')\n",
    "X[:3]"
   ]
  },
  {
   "cell_type": "code",
   "execution_count": 25,
   "id": "99ca3999",
   "metadata": {},
   "outputs": [],
   "source": [
    "# 加入資料前處理\n",
    "from sklearn.preprocessing import StandardScaler\n",
    "ss = StandardScaler()\n",
    "X_ss = ss.fit_transform(X)"
   ]
  },
  {
   "cell_type": "code",
   "execution_count": 26,
   "id": "7c684274",
   "metadata": {},
   "outputs": [],
   "source": [
    "# 分割數據\n",
    "from sklearn.model_selection import train_test_split\n",
    "X_train, X_test, y_train, y_test = train_test_split(X_ss, y, test_size=0.2, random_state=42)"
   ]
  },
  {
   "cell_type": "code",
   "execution_count": 27,
   "id": "5fc3486a",
   "metadata": {},
   "outputs": [
    {
     "data": {
      "text/plain": [
       "array([80, 87, 73, 79, 85, 78, 75, 87, 77, 79], dtype=int64)"
      ]
     },
     "execution_count": 27,
     "metadata": {},
     "output_type": "execute_result"
    }
   ],
   "source": [
    "# 確認數據種類 & 個數\n",
    "import numpy as np\n",
    "np.bincount(y_train)"
   ]
  },
  {
   "cell_type": "code",
   "execution_count": null,
   "id": "85e6c5b8",
   "metadata": {},
   "outputs": [],
   "source": []
  },
  {
   "cell_type": "code",
   "execution_count": 35,
   "id": "b9852ac3",
   "metadata": {},
   "outputs": [
    {
     "data": {
      "text/plain": [
       "ExtraTreesClassifier()"
      ]
     },
     "execution_count": 35,
     "metadata": {},
     "output_type": "execute_result"
    }
   ],
   "source": [
    "from sklearn.ensemble import ExtraTreesClassifier\n",
    "from sklearn.neural_network import MLPClassifier\n",
    "from sklearn.ensemble import RandomForestClassifier\n",
    "from sklearn.linear_model import LogisticRegression\n",
    "model = ExtraTreesClassifier()\n",
    "# model = MLPClassifier()\n",
    "# model = RandomForestClassifier()\n",
    "# model = LogisticRegression(max_iter = 1000)\n",
    "model.fit(X_train, y_train)"
   ]
  },
  {
   "cell_type": "code",
   "execution_count": 37,
   "id": "758112d5",
   "metadata": {},
   "outputs": [
    {
     "data": {
      "text/plain": [
       "(0.99875, 0.64)"
      ]
     },
     "execution_count": 37,
     "metadata": {},
     "output_type": "execute_result"
    }
   ],
   "source": [
    "model.score(X_train, y_train), model.score(X_test, y_test)\n",
    "# (0.99875, 0.645) wo standardization\n",
    "# (0.99875, 0.635) w standardization"
   ]
  }
 ],
 "metadata": {
  "kernelspec": {
   "display_name": "Python 3 (ipykernel)",
   "language": "python",
   "name": "python3"
  },
  "language_info": {
   "codemirror_mode": {
    "name": "ipython",
    "version": 3
   },
   "file_extension": ".py",
   "mimetype": "text/x-python",
   "name": "python",
   "nbconvert_exporter": "python",
   "pygments_lexer": "ipython3",
   "version": "3.8.8"
  }
 },
 "nbformat": 4,
 "nbformat_minor": 5
}
