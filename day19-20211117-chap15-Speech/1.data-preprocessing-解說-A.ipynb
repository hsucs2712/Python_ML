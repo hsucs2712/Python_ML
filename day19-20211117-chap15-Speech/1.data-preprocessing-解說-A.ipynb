{
 "cells": [
  {
   "cell_type": "code",
   "execution_count": 7,
   "id": "78088571",
   "metadata": {
    "collapsed": true
   },
   "outputs": [
    {
     "name": "stdout",
     "output_type": "stream",
     "text": [
      " Volume in drive C is OSDisk\n",
      " Volume Serial Number is 382F-FA9C\n",
      "\n",
      " Directory of c:\\python\\20210906-Python-第三階段-13\\UseCase-genres\\genres\n",
      "\n",
      "11/17/2021  07:12 PM    <DIR>          .\n",
      "11/17/2021  07:12 PM    <DIR>          ..\n",
      "11/17/2021  03:17 PM    <DIR>          .ipynb_checkpoints\n",
      "03/06/2014  02:06 AM            64,978 bextract_single.mf\n",
      "03/06/2014  02:06 AM             5,902 bl.mf\n",
      "11/17/2021  03:13 PM    <DIR>          blues\n",
      "03/06/2014  02:07 AM             6,702 cl.mf\n",
      "11/17/2021  03:13 PM    <DIR>          classical\n",
      "03/06/2014  02:07 AM             6,302 co.mf\n",
      "11/17/2021  03:13 PM    <DIR>          country\n",
      "03/06/2014  02:07 AM             5,902 di.mf\n",
      "11/17/2021  03:13 PM    <DIR>          disco\n",
      "03/06/2014  02:07 AM             6,102 hi.mf\n",
      "11/17/2021  03:13 PM    <DIR>          hiphop\n",
      "03/06/2014  02:07 AM            59,200 input.mf\n",
      "03/06/2014  02:07 AM             5,702 ja.mf\n",
      "11/17/2021  03:13 PM    <DIR>          jazz\n",
      "03/06/2014  02:07 AM             5,902 me.mf\n",
      "11/17/2021  03:13 PM    <DIR>          metal\n",
      "03/06/2014  02:08 AM             5,502 po.mf\n",
      "11/17/2021  03:13 PM    <DIR>          pop\n",
      "03/06/2014  02:08 AM             6,102 re.mf\n",
      "11/17/2021  03:13 PM    <DIR>          reggae\n",
      "03/06/2014  02:08 AM             5,702 ro.mf\n",
      "11/17/2021  03:13 PM    <DIR>          rock\n",
      "              12 File(s)        183,998 bytes\n",
      "              13 Dir(s)  332,047,970,304 bytes free\n"
     ]
    }
   ],
   "source": [
    "!dir \"./genres/\""
   ]
  },
  {
   "cell_type": "code",
   "execution_count": 27,
   "id": "296eed54",
   "metadata": {},
   "outputs": [
    {
     "data": {
      "text/html": [
       "<div>\n",
       "<style scoped>\n",
       "    .dataframe tbody tr th:only-of-type {\n",
       "        vertical-align: middle;\n",
       "    }\n",
       "\n",
       "    .dataframe tbody tr th {\n",
       "        vertical-align: top;\n",
       "    }\n",
       "\n",
       "    .dataframe thead th {\n",
       "        text-align: right;\n",
       "    }\n",
       "</style>\n",
       "<table border=\"1\" class=\"dataframe\">\n",
       "  <thead>\n",
       "    <tr style=\"text-align: right;\">\n",
       "      <th></th>\n",
       "      <th>fullpath</th>\n",
       "      <th>style</th>\n",
       "    </tr>\n",
       "  </thead>\n",
       "  <tbody>\n",
       "    <tr>\n",
       "      <th>0</th>\n",
       "      <td>/Users/sness/mirex2008/genres/blues/blues.0000...</td>\n",
       "      <td>blues</td>\n",
       "    </tr>\n",
       "    <tr>\n",
       "      <th>1</th>\n",
       "      <td>/Users/sness/mirex2008/genres/blues/blues.0000...</td>\n",
       "      <td>blues</td>\n",
       "    </tr>\n",
       "    <tr>\n",
       "      <th>2</th>\n",
       "      <td>/Users/sness/mirex2008/genres/blues/blues.0000...</td>\n",
       "      <td>blues</td>\n",
       "    </tr>\n",
       "  </tbody>\n",
       "</table>\n",
       "</div>"
      ],
      "text/plain": [
       "                                            fullpath  style\n",
       "0  /Users/sness/mirex2008/genres/blues/blues.0000...  blues\n",
       "1  /Users/sness/mirex2008/genres/blues/blues.0000...  blues\n",
       "2  /Users/sness/mirex2008/genres/blues/blues.0000...  blues"
      ]
     },
     "execution_count": 27,
     "metadata": {},
     "output_type": "execute_result"
    }
   ],
   "source": [
    "# 讀取標籤\n",
    "path = './genres/'\n",
    "file = 'input.mf'\n",
    "import pandas as pd\n",
    "df = pd.read_csv(path + file, header=None, delimiter='\\t', names=['fullpath', 'style'])\n",
    "df[:3]"
   ]
  },
  {
   "cell_type": "code",
   "execution_count": 10,
   "id": "f6fd95ec",
   "metadata": {},
   "outputs": [],
   "source": [
    "pd.read_csv?"
   ]
  },
  {
   "cell_type": "code",
   "execution_count": 26,
   "id": "1c9203b5",
   "metadata": {},
   "outputs": [
    {
     "data": {
      "text/plain": [
       "'/Users/sness/mirex2008/genres/blues/blues.00000.wav'"
      ]
     },
     "execution_count": 26,
     "metadata": {},
     "output_type": "execute_result"
    }
   ],
   "source": [
    "# 找第一個範例\n",
    "df[:1]['fullpath'][0]"
   ]
  },
  {
   "cell_type": "code",
   "execution_count": 31,
   "id": "b22b2af9",
   "metadata": {},
   "outputs": [
    {
     "data": {
      "text/plain": [
       "'c:\\\\python\\\\20210906-Python-第三階段-13\\\\UseCase-genres'"
      ]
     },
     "execution_count": 31,
     "metadata": {},
     "output_type": "execute_result"
    }
   ],
   "source": [
    "%pwd"
   ]
  },
  {
   "cell_type": "code",
   "execution_count": 32,
   "id": "523b3fae",
   "metadata": {},
   "outputs": [
    {
     "name": "stdout",
     "output_type": "stream",
     "text": [
      " Volume in drive C is OSDisk\n",
      " Volume Serial Number is 382F-FA9C\n",
      "\n",
      " Directory of c:\\python\\20210906-Python-第三階段-13\\UseCase-genres\\genres\\blues\n",
      "\n",
      "03/06/2014  02:06 AM         1,323,632 blues.00000.wav\n",
      "               1 File(s)      1,323,632 bytes\n",
      "               0 Dir(s)  332,045,647,872 bytes free\n"
     ]
    }
   ],
   "source": [
    "#檔案確實存在\n",
    "!dir \".\\\\genres\\\\blues\\\\blues.00000.wav\""
   ]
  },
  {
   "cell_type": "code",
   "execution_count": 40,
   "id": "056c6c96",
   "metadata": {},
   "outputs": [
    {
     "data": {
      "text/plain": [
       "0    [blues, blues.00000.wav]\n",
       "1    [blues, blues.00001.wav]\n",
       "2    [blues, blues.00002.wav]\n",
       "Name: fullpath, dtype: object"
      ]
     },
     "execution_count": 40,
     "metadata": {},
     "output_type": "execute_result"
    }
   ],
   "source": [
    "# 取出檔案名稱-part1\n",
    "df[:3]['fullpath'].apply(lambda x: x.split('/')[-2:]  )"
   ]
  },
  {
   "cell_type": "code",
   "execution_count": 43,
   "id": "9214a66c",
   "metadata": {},
   "outputs": [
    {
     "data": {
      "text/plain": [
       "0    ./genres/blues/blues.00000.wav\n",
       "1    ./genres/blues/blues.00001.wav\n",
       "2    ./genres/blues/blues.00002.wav\n",
       "Name: fullpath, dtype: object"
      ]
     },
     "execution_count": 43,
     "metadata": {},
     "output_type": "execute_result"
    }
   ],
   "source": [
    "# 取出檔案名稱-part2\n",
    "df[:3]['fullpath'].apply(lambda x: path + '/'.join(x.split('/')[-2:])  )"
   ]
  },
  {
   "cell_type": "code",
   "execution_count": 45,
   "id": "e1f2278a",
   "metadata": {},
   "outputs": [
    {
     "data": {
      "text/html": [
       "<div>\n",
       "<style scoped>\n",
       "    .dataframe tbody tr th:only-of-type {\n",
       "        vertical-align: middle;\n",
       "    }\n",
       "\n",
       "    .dataframe tbody tr th {\n",
       "        vertical-align: top;\n",
       "    }\n",
       "\n",
       "    .dataframe thead th {\n",
       "        text-align: right;\n",
       "    }\n",
       "</style>\n",
       "<table border=\"1\" class=\"dataframe\">\n",
       "  <thead>\n",
       "    <tr style=\"text-align: right;\">\n",
       "      <th></th>\n",
       "      <th>fullpath</th>\n",
       "      <th>style</th>\n",
       "      <th>filename</th>\n",
       "    </tr>\n",
       "  </thead>\n",
       "  <tbody>\n",
       "    <tr>\n",
       "      <th>0</th>\n",
       "      <td>/Users/sness/mirex2008/genres/blues/blues.0000...</td>\n",
       "      <td>blues</td>\n",
       "      <td>./genres/blues/blues.00000.wav</td>\n",
       "    </tr>\n",
       "    <tr>\n",
       "      <th>1</th>\n",
       "      <td>/Users/sness/mirex2008/genres/blues/blues.0000...</td>\n",
       "      <td>blues</td>\n",
       "      <td>./genres/blues/blues.00001.wav</td>\n",
       "    </tr>\n",
       "    <tr>\n",
       "      <th>2</th>\n",
       "      <td>/Users/sness/mirex2008/genres/blues/blues.0000...</td>\n",
       "      <td>blues</td>\n",
       "      <td>./genres/blues/blues.00002.wav</td>\n",
       "    </tr>\n",
       "  </tbody>\n",
       "</table>\n",
       "</div>"
      ],
      "text/plain": [
       "                                            fullpath  style  \\\n",
       "0  /Users/sness/mirex2008/genres/blues/blues.0000...  blues   \n",
       "1  /Users/sness/mirex2008/genres/blues/blues.0000...  blues   \n",
       "2  /Users/sness/mirex2008/genres/blues/blues.0000...  blues   \n",
       "\n",
       "                         filename  \n",
       "0  ./genres/blues/blues.00000.wav  \n",
       "1  ./genres/blues/blues.00001.wav  \n",
       "2  ./genres/blues/blues.00002.wav  "
      ]
     },
     "execution_count": 45,
     "metadata": {},
     "output_type": "execute_result"
    }
   ],
   "source": [
    "df['filename'] = df[:]['fullpath'].apply(lambda x: path + '/'.join(x.split('/')[-2:])  )\n",
    "df[:3]"
   ]
  }
 ],
 "metadata": {
  "kernelspec": {
   "display_name": "Python 3 (ipykernel)",
   "language": "python",
   "name": "python3"
  },
  "language_info": {
   "codemirror_mode": {
    "name": "ipython",
    "version": 3
   },
   "file_extension": ".py",
   "mimetype": "text/x-python",
   "name": "python",
   "nbconvert_exporter": "python",
   "pygments_lexer": "ipython3",
   "version": "3.8.8"
  }
 },
 "nbformat": 4,
 "nbformat_minor": 5
}
