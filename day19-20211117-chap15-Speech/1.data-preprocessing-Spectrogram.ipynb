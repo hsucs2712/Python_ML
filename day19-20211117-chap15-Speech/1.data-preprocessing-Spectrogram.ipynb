{
 "cells": [
  {
   "cell_type": "code",
   "execution_count": 1,
   "id": "1c9bafc2",
   "metadata": {},
   "outputs": [],
   "source": [
    "import librosa\n",
    "songname = \"./genres/blues/blues.00000.wav\""
   ]
  },
  {
   "cell_type": "code",
   "execution_count": 3,
   "id": "94ed8c03",
   "metadata": {},
   "outputs": [
    {
     "data": {
      "text/plain": [
       "<Figure size 720x720 with 0 Axes>"
      ]
     },
     "metadata": {},
     "output_type": "display_data"
    }
   ],
   "source": [
    "import matplotlib.pyplot as plt\n",
    "\n",
    "cmap = plt.get_cmap('inferno')\n",
    "plt.figure(figsize=(10,10))\n",
    "\n",
    "y, sr = librosa.load(songname, mono=True, duration=5)\n",
    "plt.specgram(y, NFFT=2048, Fs=2, Fc=0, noverlap=128, cmap=cmap, sides='default', mode='default', scale='dB');\n",
    "plt.axis('off');\n",
    "plt.savefig('./blues.00000.wav.png')\n",
    "plt.clf()"
   ]
  },
  {
   "cell_type": "code",
   "execution_count": null,
   "id": "f2addc9c",
   "metadata": {},
   "outputs": [],
   "source": [
    "# 第一 將每一種歌曲型態轉換成Spectrogram\n",
    "# 第二 參考CNN MODEL去進行分類\n"
   ]
  }
 ],
 "metadata": {
  "kernelspec": {
   "display_name": "Python 3 (ipykernel)",
   "language": "python",
   "name": "python3"
  },
  "language_info": {
   "codemirror_mode": {
    "name": "ipython",
    "version": 3
   },
   "file_extension": ".py",
   "mimetype": "text/x-python",
   "name": "python",
   "nbconvert_exporter": "python",
   "pygments_lexer": "ipython3",
   "version": "3.8.8"
  }
 },
 "nbformat": 4,
 "nbformat_minor": 5
}
