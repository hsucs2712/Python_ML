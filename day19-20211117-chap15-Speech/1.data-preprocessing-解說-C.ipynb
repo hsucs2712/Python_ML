{
 "cells": [
  {
   "cell_type": "code",
   "execution_count": 1,
   "id": "9791404e",
   "metadata": {},
   "outputs": [
    {
     "name": "stdout",
     "output_type": "stream",
     "text": [
      " Volume in drive C is OSDisk\n",
      " Volume Serial Number is 382F-FA9C\n",
      "\n",
      " Directory of c:\\python\\20210906-Python-第三階段-13\\UseCase-genres\\genres\n",
      "\n",
      "11/17/2021  07:12 PM    <DIR>          .\n",
      "11/17/2021  07:12 PM    <DIR>          ..\n",
      "11/17/2021  03:17 PM    <DIR>          .ipynb_checkpoints\n",
      "03/06/2014  02:06 AM            64,978 bextract_single.mf\n",
      "03/06/2014  02:06 AM             5,902 bl.mf\n",
      "11/17/2021  03:13 PM    <DIR>          blues\n",
      "03/06/2014  02:07 AM             6,702 cl.mf\n",
      "11/17/2021  03:13 PM    <DIR>          classical\n",
      "03/06/2014  02:07 AM             6,302 co.mf\n",
      "11/17/2021  03:13 PM    <DIR>          country\n",
      "03/06/2014  02:07 AM             5,902 di.mf\n",
      "11/17/2021  03:13 PM    <DIR>          disco\n",
      "03/06/2014  02:07 AM             6,102 hi.mf\n",
      "11/17/2021  03:13 PM    <DIR>          hiphop\n",
      "03/06/2014  02:07 AM            59,200 input.mf\n",
      "03/06/2014  02:07 AM             5,702 ja.mf\n",
      "11/17/2021  03:13 PM    <DIR>          jazz\n",
      "03/06/2014  02:07 AM             5,902 me.mf\n",
      "11/17/2021  03:13 PM    <DIR>          metal\n",
      "03/06/2014  02:08 AM             5,502 po.mf\n",
      "11/17/2021  03:13 PM    <DIR>          pop\n",
      "03/06/2014  02:08 AM             6,102 re.mf\n",
      "11/17/2021  03:13 PM    <DIR>          reggae\n",
      "03/06/2014  02:08 AM             5,702 ro.mf\n",
      "11/17/2021  03:13 PM    <DIR>          rock\n",
      "              12 File(s)        183,998 bytes\n",
      "              13 Dir(s)  332,039,012,352 bytes free\n"
     ]
    }
   ],
   "source": [
    "!dir \"./genres/\""
   ]
  },
  {
   "cell_type": "code",
   "execution_count": 2,
   "id": "c861c7ef",
   "metadata": {},
   "outputs": [
    {
     "data": {
      "text/html": [
       "<div>\n",
       "<style scoped>\n",
       "    .dataframe tbody tr th:only-of-type {\n",
       "        vertical-align: middle;\n",
       "    }\n",
       "\n",
       "    .dataframe tbody tr th {\n",
       "        vertical-align: top;\n",
       "    }\n",
       "\n",
       "    .dataframe thead th {\n",
       "        text-align: right;\n",
       "    }\n",
       "</style>\n",
       "<table border=\"1\" class=\"dataframe\">\n",
       "  <thead>\n",
       "    <tr style=\"text-align: right;\">\n",
       "      <th></th>\n",
       "      <th>fullpath</th>\n",
       "      <th>style</th>\n",
       "    </tr>\n",
       "  </thead>\n",
       "  <tbody>\n",
       "    <tr>\n",
       "      <th>0</th>\n",
       "      <td>/Users/sness/mirex2008/genres/blues/blues.0000...</td>\n",
       "      <td>blues</td>\n",
       "    </tr>\n",
       "    <tr>\n",
       "      <th>1</th>\n",
       "      <td>/Users/sness/mirex2008/genres/blues/blues.0000...</td>\n",
       "      <td>blues</td>\n",
       "    </tr>\n",
       "    <tr>\n",
       "      <th>2</th>\n",
       "      <td>/Users/sness/mirex2008/genres/blues/blues.0000...</td>\n",
       "      <td>blues</td>\n",
       "    </tr>\n",
       "  </tbody>\n",
       "</table>\n",
       "</div>"
      ],
      "text/plain": [
       "                                            fullpath  style\n",
       "0  /Users/sness/mirex2008/genres/blues/blues.0000...  blues\n",
       "1  /Users/sness/mirex2008/genres/blues/blues.0000...  blues\n",
       "2  /Users/sness/mirex2008/genres/blues/blues.0000...  blues"
      ]
     },
     "execution_count": 2,
     "metadata": {},
     "output_type": "execute_result"
    }
   ],
   "source": [
    "# 讀取標籤\n",
    "path = './genres/'\n",
    "file = 'input.mf'\n",
    "import pandas as pd\n",
    "df = pd.read_csv(path + file, header=None, delimiter='\\t', names=['fullpath', 'style'])\n",
    "df[:3]"
   ]
  },
  {
   "cell_type": "code",
   "execution_count": 3,
   "id": "9e940fef",
   "metadata": {},
   "outputs": [],
   "source": [
    "pd.read_csv?"
   ]
  },
  {
   "cell_type": "code",
   "execution_count": 4,
   "id": "15ba0632",
   "metadata": {},
   "outputs": [
    {
     "data": {
      "text/plain": [
       "'/Users/sness/mirex2008/genres/blues/blues.00000.wav'"
      ]
     },
     "execution_count": 4,
     "metadata": {},
     "output_type": "execute_result"
    }
   ],
   "source": [
    "# 找第一個範例\n",
    "df[:1]['fullpath'][0]"
   ]
  },
  {
   "cell_type": "code",
   "execution_count": 5,
   "id": "de128bc7",
   "metadata": {},
   "outputs": [
    {
     "data": {
      "text/plain": [
       "'c:\\\\python\\\\20210906-Python-第三階段-13\\\\UseCase-genres'"
      ]
     },
     "execution_count": 5,
     "metadata": {},
     "output_type": "execute_result"
    }
   ],
   "source": [
    "%pwd"
   ]
  },
  {
   "cell_type": "code",
   "execution_count": 6,
   "id": "0890155f",
   "metadata": {},
   "outputs": [
    {
     "name": "stdout",
     "output_type": "stream",
     "text": [
      " Volume in drive C is OSDisk\n",
      " Volume Serial Number is 382F-FA9C\n",
      "\n",
      " Directory of c:\\python\\20210906-Python-第三階段-13\\UseCase-genres\\genres\\blues\n",
      "\n",
      "03/06/2014  02:06 AM         1,323,632 blues.00000.wav\n",
      "               1 File(s)      1,323,632 bytes\n",
      "               0 Dir(s)  332,038,946,816 bytes free\n"
     ]
    }
   ],
   "source": [
    "#檔案確實存在\n",
    "!dir \".\\\\genres\\\\blues\\\\blues.00000.wav\""
   ]
  },
  {
   "cell_type": "code",
   "execution_count": 7,
   "id": "2dddfcfa",
   "metadata": {},
   "outputs": [
    {
     "data": {
      "text/plain": [
       "0    [blues, blues.00000.wav]\n",
       "1    [blues, blues.00001.wav]\n",
       "2    [blues, blues.00002.wav]\n",
       "Name: fullpath, dtype: object"
      ]
     },
     "execution_count": 7,
     "metadata": {},
     "output_type": "execute_result"
    }
   ],
   "source": [
    "# 取出檔案名稱-part1\n",
    "df[:3]['fullpath'].apply(lambda x: x.split('/')[-2:]  )"
   ]
  },
  {
   "cell_type": "code",
   "execution_count": 8,
   "id": "ad5d9a0d",
   "metadata": {},
   "outputs": [
    {
     "data": {
      "text/plain": [
       "0    ./genres/blues/blues.00000.wav\n",
       "1    ./genres/blues/blues.00001.wav\n",
       "2    ./genres/blues/blues.00002.wav\n",
       "Name: fullpath, dtype: object"
      ]
     },
     "execution_count": 8,
     "metadata": {},
     "output_type": "execute_result"
    }
   ],
   "source": [
    "# 取出檔案名稱-part2\n",
    "df[:3]['fullpath'].apply(lambda x: path + '/'.join(x.split('/')[-2:])  )"
   ]
  },
  {
   "cell_type": "code",
   "execution_count": 9,
   "id": "76f95b36",
   "metadata": {},
   "outputs": [
    {
     "data": {
      "text/html": [
       "<div>\n",
       "<style scoped>\n",
       "    .dataframe tbody tr th:only-of-type {\n",
       "        vertical-align: middle;\n",
       "    }\n",
       "\n",
       "    .dataframe tbody tr th {\n",
       "        vertical-align: top;\n",
       "    }\n",
       "\n",
       "    .dataframe thead th {\n",
       "        text-align: right;\n",
       "    }\n",
       "</style>\n",
       "<table border=\"1\" class=\"dataframe\">\n",
       "  <thead>\n",
       "    <tr style=\"text-align: right;\">\n",
       "      <th></th>\n",
       "      <th>fullpath</th>\n",
       "      <th>style</th>\n",
       "      <th>filename</th>\n",
       "    </tr>\n",
       "  </thead>\n",
       "  <tbody>\n",
       "    <tr>\n",
       "      <th>0</th>\n",
       "      <td>/Users/sness/mirex2008/genres/blues/blues.0000...</td>\n",
       "      <td>blues</td>\n",
       "      <td>./genres/blues/blues.00000.wav</td>\n",
       "    </tr>\n",
       "    <tr>\n",
       "      <th>1</th>\n",
       "      <td>/Users/sness/mirex2008/genres/blues/blues.0000...</td>\n",
       "      <td>blues</td>\n",
       "      <td>./genres/blues/blues.00001.wav</td>\n",
       "    </tr>\n",
       "    <tr>\n",
       "      <th>2</th>\n",
       "      <td>/Users/sness/mirex2008/genres/blues/blues.0000...</td>\n",
       "      <td>blues</td>\n",
       "      <td>./genres/blues/blues.00002.wav</td>\n",
       "    </tr>\n",
       "  </tbody>\n",
       "</table>\n",
       "</div>"
      ],
      "text/plain": [
       "                                            fullpath  style  \\\n",
       "0  /Users/sness/mirex2008/genres/blues/blues.0000...  blues   \n",
       "1  /Users/sness/mirex2008/genres/blues/blues.0000...  blues   \n",
       "2  /Users/sness/mirex2008/genres/blues/blues.0000...  blues   \n",
       "\n",
       "                         filename  \n",
       "0  ./genres/blues/blues.00000.wav  \n",
       "1  ./genres/blues/blues.00001.wav  \n",
       "2  ./genres/blues/blues.00002.wav  "
      ]
     },
     "execution_count": 9,
     "metadata": {},
     "output_type": "execute_result"
    }
   ],
   "source": [
    "df['filename'] = df[:]['fullpath'].apply(lambda x: path + '/'.join(x.split('/')[-2:])  )\n",
    "df[:3]"
   ]
  },
  {
   "cell_type": "code",
   "execution_count": 10,
   "id": "33375fa1",
   "metadata": {},
   "outputs": [
    {
     "data": {
      "text/html": [
       "<div>\n",
       "<style scoped>\n",
       "    .dataframe tbody tr th:only-of-type {\n",
       "        vertical-align: middle;\n",
       "    }\n",
       "\n",
       "    .dataframe tbody tr th {\n",
       "        vertical-align: top;\n",
       "    }\n",
       "\n",
       "    .dataframe thead th {\n",
       "        text-align: right;\n",
       "    }\n",
       "</style>\n",
       "<table border=\"1\" class=\"dataframe\">\n",
       "  <thead>\n",
       "    <tr style=\"text-align: right;\">\n",
       "      <th></th>\n",
       "      <th>filename</th>\n",
       "    </tr>\n",
       "    <tr>\n",
       "      <th>style</th>\n",
       "      <th></th>\n",
       "    </tr>\n",
       "  </thead>\n",
       "  <tbody>\n",
       "    <tr>\n",
       "      <th>blues</th>\n",
       "      <td>100</td>\n",
       "    </tr>\n",
       "    <tr>\n",
       "      <th>classical</th>\n",
       "      <td>100</td>\n",
       "    </tr>\n",
       "    <tr>\n",
       "      <th>country</th>\n",
       "      <td>100</td>\n",
       "    </tr>\n",
       "    <tr>\n",
       "      <th>disco</th>\n",
       "      <td>100</td>\n",
       "    </tr>\n",
       "    <tr>\n",
       "      <th>hiphop</th>\n",
       "      <td>100</td>\n",
       "    </tr>\n",
       "    <tr>\n",
       "      <th>jazz</th>\n",
       "      <td>100</td>\n",
       "    </tr>\n",
       "    <tr>\n",
       "      <th>metal</th>\n",
       "      <td>100</td>\n",
       "    </tr>\n",
       "    <tr>\n",
       "      <th>pop</th>\n",
       "      <td>100</td>\n",
       "    </tr>\n",
       "    <tr>\n",
       "      <th>reggae</th>\n",
       "      <td>100</td>\n",
       "    </tr>\n",
       "    <tr>\n",
       "      <th>rock</th>\n",
       "      <td>100</td>\n",
       "    </tr>\n",
       "  </tbody>\n",
       "</table>\n",
       "</div>"
      ],
      "text/plain": [
       "           filename\n",
       "style              \n",
       "blues           100\n",
       "classical       100\n",
       "country         100\n",
       "disco           100\n",
       "hiphop          100\n",
       "jazz            100\n",
       "metal           100\n",
       "pop             100\n",
       "reggae          100\n",
       "rock            100"
      ]
     },
     "execution_count": 10,
     "metadata": {},
     "output_type": "execute_result"
    }
   ],
   "source": [
    "# 分析文件的內容數據\n",
    "df.groupby('style')[['filename']].count()\n",
    "dfagg = df.groupby('style')[['filename']].count()\n",
    "dfagg"
   ]
  },
  {
   "cell_type": "code",
   "execution_count": 11,
   "id": "7d21baa1",
   "metadata": {},
   "outputs": [
    {
     "data": {
      "text/plain": [
       "Index(['blues', 'classical', 'country', 'disco', 'hiphop', 'jazz', 'metal',\n",
       "       'pop', 'reggae', 'rock'],\n",
       "      dtype='object', name='style')"
      ]
     },
     "execution_count": 11,
     "metadata": {},
     "output_type": "execute_result"
    }
   ],
   "source": [
    "dfagg.index"
   ]
  },
  {
   "cell_type": "code",
   "execution_count": 12,
   "id": "9e6cf65f",
   "metadata": {},
   "outputs": [],
   "source": [
    "# os.walk\n",
    "import os\n",
    "os.walk?"
   ]
  },
  {
   "cell_type": "code",
   "execution_count": 13,
   "id": "105cc0a6",
   "metadata": {},
   "outputs": [
    {
     "name": "stdout",
     "output_type": "stream",
     "text": [
      "./genres/ consumes 183998bytes in  12 non-directory files\n",
      "./genres/.ipynb_checkpoints consumes 0bytes in  0 non-directory files\n",
      "./genres/blues consumes 132363200bytes in  100 non-directory files\n",
      "./genres/classical consumes 132427620bytes in  100 non-directory files\n",
      "./genres/country consumes 132409952bytes in  100 non-directory files\n",
      "./genres/disco consumes 132391360bytes in  100 non-directory files\n",
      "./genres/hiphop consumes 132698048bytes in  100 non-directory files\n",
      "./genres/jazz consumes 132451056bytes in  100 non-directory files\n",
      "./genres/metal consumes 132323760bytes in  100 non-directory files\n",
      "./genres/pop consumes 132305200bytes in  100 non-directory files\n",
      "./genres/reggae consumes 132328980bytes in  100 non-directory files\n",
      "./genres/rock consumes 132406516bytes in  100 non-directory files\n"
     ]
    }
   ],
   "source": [
    "import os\n",
    "from os.path import join, getsize\n",
    "for root, dirs, files in os.walk(path):\n",
    "    print(root, \"consumes \", end=\"\")\n",
    "    print(sum(getsize(join(root, name)) for name in files), end=\"\")\n",
    "    print(\"bytes in \", len(files), \"non-directory files\")\n",
    "    "
   ]
  },
  {
   "cell_type": "code",
   "execution_count": 14,
   "id": "cb79afab",
   "metadata": {},
   "outputs": [
    {
     "name": "stdout",
     "output_type": "stream",
     "text": [
      "./genres/blues consumes 132363200 bytes in 100 non-directory files\n",
      "./genres/classical consumes 132427620 bytes in 100 non-directory files\n",
      "./genres/country consumes 132409952 bytes in 100 non-directory files\n",
      "./genres/disco consumes 132391360 bytes in 100 non-directory files\n",
      "./genres/hiphop consumes 132698048 bytes in 100 non-directory files\n",
      "./genres/jazz consumes 132451056 bytes in 100 non-directory files\n",
      "./genres/metal consumes 132323760 bytes in 100 non-directory files\n",
      "./genres/pop consumes 132305200 bytes in 100 non-directory files\n",
      "./genres/reggae consumes 132328980 bytes in 100 non-directory files\n",
      "./genres/rock consumes 132406516 bytes in 100 non-directory files\n"
     ]
    }
   ],
   "source": [
    "# 確認文件內容 所載的檔案個數 = 實際檔案的每一個類別的個數\n",
    "import os\n",
    "from os.path import join, getsize\n",
    "for root, dirs, files in os.walk(path):\n",
    "    if (root.split('/')[-1]) in dfagg.index: \n",
    "        print(root, \"consumes \", end=\"\")\n",
    "        print(sum(getsize(join(root, name)) for name in files), end=\"\")\n",
    "        print(\" bytes in\", len(files), \"non-directory files\")\n",
    "    "
   ]
  },
  {
   "cell_type": "code",
   "execution_count": 17,
   "id": "3ba8dbc9",
   "metadata": {
    "collapsed": true
   },
   "outputs": [
    {
     "data": {
      "text/plain": [
       "array([[0.39141446, 0.24780884, 0.8714165 , ..., 0.14128597, 0.15691066,\n",
       "        1.        ],\n",
       "       [0.5478196 , 0.32853892, 0.68826514, ..., 0.14279746, 0.13222209,\n",
       "        0.7264195 ],\n",
       "       [0.45784435, 0.42671594, 0.51602733, ..., 0.40771392, 0.25044858,\n",
       "        0.5109983 ],\n",
       "       ...,\n",
       "       [1.        , 1.        , 1.        , ..., 0.1719772 , 0.2619948 ,\n",
       "        0.90304345],\n",
       "       [0.39603353, 0.36431643, 0.6217583 , ..., 1.        , 1.        ,\n",
       "        0.93397397],\n",
       "       [0.2770659 , 0.19175553, 0.64925486, ..., 0.99700594, 0.6287608 ,\n",
       "        0.7571646 ]], dtype=float32)"
      ]
     },
     "execution_count": 17,
     "metadata": {},
     "output_type": "execute_result"
    }
   ],
   "source": [
    "###########取出特徵\n",
    "import librosa\n",
    "songname = \"./genres/blues/blues.00000.wav\"\n",
    "y, sr = librosa.load(songname, mono=True, duration=30)\n",
    "chroma_stft = librosa.feature.chroma_stft(y=y, sr=sr)\n",
    "spec_cent = librosa.feature.spectral_centroid(y=y, sr=sr)\n",
    "spec_bw = librosa.feature.spectral_bandwidth(y=y, sr=sr)\n",
    "rolloff = librosa.feature.spectral_rolloff(y=y, sr=sr)\n",
    "zcr = librosa.feature.zero_crossing_rate(y)\n",
    "mfcc = librosa.feature.mfcc(y=y, sr=sr)\n",
    "chroma_stft"
   ]
  },
  {
   "cell_type": "code",
   "execution_count": 18,
   "id": "3dd98053",
   "metadata": {},
   "outputs": [
    {
     "data": {
      "text/plain": [
       "(12, 1292)"
      ]
     },
     "execution_count": 18,
     "metadata": {},
     "output_type": "execute_result"
    }
   ],
   "source": [
    "chroma_stft.shape"
   ]
  },
  {
   "cell_type": "code",
   "execution_count": 19,
   "id": "205c6c13",
   "metadata": {},
   "outputs": [
    {
     "data": {
      "text/plain": [
       "0.34994322"
      ]
     },
     "execution_count": 19,
     "metadata": {},
     "output_type": "execute_result"
    }
   ],
   "source": [
    "import numpy as np\n",
    "np.mean(chroma_stft)"
   ]
  },
  {
   "cell_type": "code",
   "execution_count": 20,
   "id": "0db9ad8b",
   "metadata": {},
   "outputs": [],
   "source": [
    "np.mean?"
   ]
  },
  {
   "cell_type": "code",
   "execution_count": null,
   "id": "29857e11",
   "metadata": {},
   "outputs": [],
   "source": [
    "# 第2個問題 rmse\n",
    "# 第1個問題 mfcc"
   ]
  },
  {
   "cell_type": "code",
   "execution_count": 21,
   "id": "ea8d361a",
   "metadata": {},
   "outputs": [
    {
     "data": {
      "text/plain": [
       "(20, 1292)"
      ]
     },
     "execution_count": 21,
     "metadata": {},
     "output_type": "execute_result"
    }
   ],
   "source": [
    "mfcc.shape"
   ]
  },
  {
   "cell_type": "code",
   "execution_count": 24,
   "id": "0cff908d",
   "metadata": {
    "collapsed": true
   },
   "outputs": [
    {
     "name": "stdout",
     "output_type": "stream",
     "text": [
      "0 -113.59675\n",
      "1 121.5573\n",
      "2 -19.158825\n",
      "3 42.351032\n",
      "4 -6.376458\n",
      "5 18.618876\n",
      "6 -13.697911\n",
      "7 15.344631\n",
      "8 -12.285267\n",
      "9 10.980492\n",
      "10 -8.324325\n",
      "11 8.810669\n",
      "12 -3.6673682\n",
      "13 5.751691\n",
      "14 -5.1627626\n",
      "15 0.75094783\n",
      "16 -1.6919376\n",
      "17 -0.40995264\n",
      "18 -2.3002088\n",
      "19 1.2199285\n"
     ]
    }
   ],
   "source": [
    "# 拆解 mfcc\n",
    "for i, e in enumerate(mfcc):\n",
    "    print(i, np.mean(e) )"
   ]
  },
  {
   "cell_type": "code",
   "execution_count": 25,
   "id": "f4afcda6",
   "metadata": {},
   "outputs": [
    {
     "ename": "AttributeError",
     "evalue": "module 'librosa.feature' has no attribute 'rmse'",
     "output_type": "error",
     "traceback": [
      "\u001b[1;31m---------------------------------------------------------------------------\u001b[0m",
      "\u001b[1;31mAttributeError\u001b[0m                            Traceback (most recent call last)",
      "\u001b[1;32mC:\\Users\\LEWIS_~1\\AppData\\Local\\Temp/ipykernel_31348/594039209.py\u001b[0m in \u001b[0;36m<module>\u001b[1;34m\u001b[0m\n\u001b[0;32m      7\u001b[0m \u001b[0my\u001b[0m\u001b[1;33m,\u001b[0m \u001b[0msr\u001b[0m \u001b[1;33m=\u001b[0m \u001b[0mlibrosa\u001b[0m\u001b[1;33m.\u001b[0m\u001b[0mload\u001b[0m\u001b[1;33m(\u001b[0m\u001b[0msongname\u001b[0m\u001b[1;33m,\u001b[0m \u001b[0mmono\u001b[0m\u001b[1;33m=\u001b[0m\u001b[1;32mTrue\u001b[0m\u001b[1;33m,\u001b[0m \u001b[0mduration\u001b[0m\u001b[1;33m=\u001b[0m\u001b[1;36m30\u001b[0m\u001b[1;33m)\u001b[0m\u001b[1;33m\u001b[0m\u001b[1;33m\u001b[0m\u001b[0m\n\u001b[0;32m      8\u001b[0m \u001b[0mchroma_stft\u001b[0m \u001b[1;33m=\u001b[0m \u001b[0mlibrosa\u001b[0m\u001b[1;33m.\u001b[0m\u001b[0mfeature\u001b[0m\u001b[1;33m.\u001b[0m\u001b[0mchroma_stft\u001b[0m\u001b[1;33m(\u001b[0m\u001b[0my\u001b[0m\u001b[1;33m=\u001b[0m\u001b[0my\u001b[0m\u001b[1;33m,\u001b[0m \u001b[0msr\u001b[0m\u001b[1;33m=\u001b[0m\u001b[0msr\u001b[0m\u001b[1;33m)\u001b[0m\u001b[1;33m\u001b[0m\u001b[1;33m\u001b[0m\u001b[0m\n\u001b[1;32m----> 9\u001b[1;33m \u001b[0mrmse\u001b[0m \u001b[1;33m=\u001b[0m \u001b[0mlibrosa\u001b[0m\u001b[1;33m.\u001b[0m\u001b[0mfeature\u001b[0m\u001b[1;33m.\u001b[0m\u001b[0mrmse\u001b[0m\u001b[1;33m(\u001b[0m\u001b[0my\u001b[0m\u001b[1;33m=\u001b[0m\u001b[0my\u001b[0m\u001b[1;33m,\u001b[0m \u001b[0msr\u001b[0m\u001b[1;33m=\u001b[0m\u001b[0msr\u001b[0m\u001b[1;33m)\u001b[0m\u001b[1;33m\u001b[0m\u001b[1;33m\u001b[0m\u001b[0m\n\u001b[0m\u001b[0;32m     10\u001b[0m \u001b[0mspec_cent\u001b[0m \u001b[1;33m=\u001b[0m \u001b[0mlibrosa\u001b[0m\u001b[1;33m.\u001b[0m\u001b[0mfeature\u001b[0m\u001b[1;33m.\u001b[0m\u001b[0mspectral_centroid\u001b[0m\u001b[1;33m(\u001b[0m\u001b[0my\u001b[0m\u001b[1;33m=\u001b[0m\u001b[0my\u001b[0m\u001b[1;33m,\u001b[0m \u001b[0msr\u001b[0m\u001b[1;33m=\u001b[0m\u001b[0msr\u001b[0m\u001b[1;33m)\u001b[0m\u001b[1;33m\u001b[0m\u001b[1;33m\u001b[0m\u001b[0m\n\u001b[0;32m     11\u001b[0m \u001b[0mspec_bw\u001b[0m \u001b[1;33m=\u001b[0m \u001b[0mlibrosa\u001b[0m\u001b[1;33m.\u001b[0m\u001b[0mfeature\u001b[0m\u001b[1;33m.\u001b[0m\u001b[0mspectral_bandwidth\u001b[0m\u001b[1;33m(\u001b[0m\u001b[0my\u001b[0m\u001b[1;33m=\u001b[0m\u001b[0my\u001b[0m\u001b[1;33m,\u001b[0m \u001b[0msr\u001b[0m\u001b[1;33m=\u001b[0m\u001b[0msr\u001b[0m\u001b[1;33m)\u001b[0m\u001b[1;33m\u001b[0m\u001b[1;33m\u001b[0m\u001b[0m\n",
      "\u001b[1;31mAttributeError\u001b[0m: module 'librosa.feature' has no attribute 'rmse'"
     ]
    }
   ],
   "source": [
    "# 第2個問題\n",
    "# rmse\n",
    "\n",
    "###########取出特徵\n",
    "import librosa\n",
    "songname = \"./genres/blues/blues.00000.wav\"\n",
    "y, sr = librosa.load(songname, mono=True, duration=30)\n",
    "chroma_stft = librosa.feature.chroma_stft(y=y, sr=sr)\n",
    "# rmse = librosa.feature.rmse(y=y, sr=sr) #<------------------------這裡解開會出錯\n",
    "spec_cent = librosa.feature.spectral_centroid(y=y, sr=sr)\n",
    "spec_bw = librosa.feature.spectral_bandwidth(y=y, sr=sr)\n",
    "rolloff = librosa.feature.spectral_rolloff(y=y, sr=sr)\n",
    "zcr = librosa.feature.zero_crossing_rate(y)\n",
    "mfcc = librosa.feature.mfcc(y=y, sr=sr)\n",
    "chroma_stft\n",
    "\n",
    "# ---------------------------------------------------------------------------\n",
    "# AttributeError                            Traceback (most recent call last)\n",
    "# C:\\Users\\LEWIS_~1\\AppData\\Local\\Temp/ipykernel_31348/594039209.py in <module>\n",
    "#       7 y, sr = librosa.load(songname, mono=True, duration=30)\n",
    "#       8 chroma_stft = librosa.feature.chroma_stft(y=y, sr=sr)\n",
    "# ----> 9 rmse = librosa.feature.rmse(y=y, sr=sr)\n",
    "#      10 spec_cent = librosa.feature.spectral_centroid(y=y, sr=sr)\n",
    "#      11 spec_bw = librosa.feature.spectral_bandwidth(y=y, sr=sr)\n",
    "\n",
    "# AttributeError: module 'librosa.feature' has no attribute 'rmse'"
   ]
  },
  {
   "cell_type": "code",
   "execution_count": 28,
   "id": "92cd7e07",
   "metadata": {},
   "outputs": [
    {
     "data": {
      "text/plain": [
       "(array([0.02698701, 0.03934191, 0.0497628 , ..., 0.1287345 , 0.14060998,\n",
       "        0.14974149], dtype=float32),\n",
       " 0.13022463)"
      ]
     },
     "execution_count": 28,
     "metadata": {},
     "output_type": "execute_result"
    }
   ],
   "source": [
    "# rmse=librosa.feature.rms(y=y)[0]\n",
    "import librosa\n",
    "songname = \"./genres/blues/blues.00000.wav\"\n",
    "y, sr = librosa.load(songname, mono=True, duration=30)\n",
    "chroma_stft = librosa.feature.chroma_stft(y=y, sr=sr)\n",
    "rmse = librosa.feature.rms(y=y)[0]\n",
    "spec_cent = librosa.feature.spectral_centroid(y=y, sr=sr)\n",
    "spec_bw = librosa.feature.spectral_bandwidth(y=y, sr=sr)\n",
    "rolloff = librosa.feature.spectral_rolloff(y=y, sr=sr)\n",
    "zcr = librosa.feature.zero_crossing_rate(y)\n",
    "mfcc = librosa.feature.mfcc(y=y, sr=sr)\n",
    "rmse, np.mean(rmse)"
   ]
  },
  {
   "cell_type": "code",
   "execution_count": 31,
   "id": "781319df",
   "metadata": {},
   "outputs": [
    {
     "data": {
      "text/plain": [
       "['./genres/blues/blues.00000.wav',\n",
       " './genres/blues/blues.00001.wav',\n",
       " './genres/blues/blues.00002.wav']"
      ]
     },
     "execution_count": 31,
     "metadata": {},
     "output_type": "execute_result"
    }
   ],
   "source": [
    "# 跑迴圈\n",
    "\n",
    "df[:3]['filename'].tolist()"
   ]
  },
  {
   "cell_type": "code",
   "execution_count": null,
   "id": "98fe07a2",
   "metadata": {},
   "outputs": [
    {
     "name": "stdout",
     "output_type": "stream",
     "text": [
      "./genres/blues/blues.00000.wav 0.13022463\n"
     ]
    }
   ],
   "source": [
    "# 跑迴圈\n",
    "from tqdm import tqdm\n",
    "for songname in df[:10]['filename'].tolist():\n",
    "    y, sr = librosa.load(songname, mono=True, duration=30)\n",
    "    chroma_stft = librosa.feature.chroma_stft(y=y, sr=sr)\n",
    "    rmse = librosa.feature.rms(y=y)[0]\n",
    "    spec_cent = librosa.feature.spectral_centroid(y=y, sr=sr)\n",
    "    spec_bw = librosa.feature.spectral_bandwidth(y=y, sr=sr)\n",
    "    rolloff = librosa.feature.spectral_rolloff(y=y, sr=sr)\n",
    "    zcr = librosa.feature.zero_crossing_rate(y)\n",
    "    mfcc = librosa.feature.mfcc(y=y, sr=sr)\n",
    "    print(songname , np.mean(rmse) )\n",
    "    "
   ]
  },
  {
   "cell_type": "code",
   "execution_count": 35,
   "id": "157457d2",
   "metadata": {},
   "outputs": [
    {
     "name": "stderr",
     "output_type": "stream",
     "text": [
      "100%|██████████████████████████████████████████████████████████████████████████████████| 10/10 [00:07<00:00,  1.38it/s]\n"
     ]
    }
   ],
   "source": [
    "# 跑迴圈\n",
    "from tqdm import tqdm\n",
    "for songname in tqdm(df[:10]['filename'].tolist()):\n",
    "    y, sr = librosa.load(songname, mono=True, duration=30)\n",
    "    chroma_stft = librosa.feature.chroma_stft(y=y, sr=sr)\n",
    "    rmse = librosa.feature.rms(y=y)[0]\n",
    "    spec_cent = librosa.feature.spectral_centroid(y=y, sr=sr)\n",
    "    spec_bw = librosa.feature.spectral_bandwidth(y=y, sr=sr)\n",
    "    rolloff = librosa.feature.spectral_rolloff(y=y, sr=sr)\n",
    "    zcr = librosa.feature.zero_crossing_rate(y)\n",
    "    mfcc = librosa.feature.mfcc(y=y, sr=sr)\n",
    "    #print(songname , np.mean(rmse) )\n",
    "    "
   ]
  }
 ],
 "metadata": {
  "kernelspec": {
   "display_name": "Python 3 (ipykernel)",
   "language": "python",
   "name": "python3"
  },
  "language_info": {
   "codemirror_mode": {
    "name": "ipython",
    "version": 3
   },
   "file_extension": ".py",
   "mimetype": "text/x-python",
   "name": "python",
   "nbconvert_exporter": "python",
   "pygments_lexer": "ipython3",
   "version": "3.8.8"
  }
 },
 "nbformat": 4,
 "nbformat_minor": 5
}
