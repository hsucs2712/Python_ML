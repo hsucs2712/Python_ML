{
 "cells": [
  {
   "cell_type": "code",
   "execution_count": 1,
   "id": "7b575fb8",
   "metadata": {},
   "outputs": [
    {
     "name": "stdout",
     "output_type": "stream",
     "text": [
      " Volume in drive C is OSDisk\n",
      " Volume Serial Number is 382F-FA9C\n",
      "\n",
      " Directory of c:\\python\\20210906-Python-第三階段-13\\UseCase-genres\\genres\n",
      "\n",
      "11/17/2021  07:12 PM    <DIR>          .\n",
      "11/17/2021  07:12 PM    <DIR>          ..\n",
      "11/17/2021  03:17 PM    <DIR>          .ipynb_checkpoints\n",
      "03/06/2014  02:06 AM            64,978 bextract_single.mf\n",
      "03/06/2014  02:06 AM             5,902 bl.mf\n",
      "11/17/2021  03:13 PM    <DIR>          blues\n",
      "03/06/2014  02:07 AM             6,702 cl.mf\n",
      "11/17/2021  03:13 PM    <DIR>          classical\n",
      "03/06/2014  02:07 AM             6,302 co.mf\n",
      "11/17/2021  03:13 PM    <DIR>          country\n",
      "03/06/2014  02:07 AM             5,902 di.mf\n",
      "11/17/2021  03:13 PM    <DIR>          disco\n",
      "03/06/2014  02:07 AM             6,102 hi.mf\n",
      "11/17/2021  03:13 PM    <DIR>          hiphop\n",
      "03/06/2014  02:07 AM            59,200 input.mf\n",
      "03/06/2014  02:07 AM             5,702 ja.mf\n",
      "11/17/2021  03:13 PM    <DIR>          jazz\n",
      "03/06/2014  02:07 AM             5,902 me.mf\n",
      "11/17/2021  03:13 PM    <DIR>          metal\n",
      "03/06/2014  02:08 AM             5,502 po.mf\n",
      "11/17/2021  03:13 PM    <DIR>          pop\n",
      "03/06/2014  02:08 AM             6,102 re.mf\n",
      "11/17/2021  03:13 PM    <DIR>          reggae\n",
      "03/06/2014  02:08 AM             5,702 ro.mf\n",
      "11/17/2021  03:13 PM    <DIR>          rock\n",
      "              12 File(s)        183,998 bytes\n",
      "              13 Dir(s)  332,039,012,352 bytes free\n"
     ]
    }
   ],
   "source": [
    "!dir \"./genres/\""
   ]
  },
  {
   "cell_type": "code",
   "execution_count": 2,
   "id": "6d03a716",
   "metadata": {},
   "outputs": [
    {
     "data": {
      "text/html": [
       "<div>\n",
       "<style scoped>\n",
       "    .dataframe tbody tr th:only-of-type {\n",
       "        vertical-align: middle;\n",
       "    }\n",
       "\n",
       "    .dataframe tbody tr th {\n",
       "        vertical-align: top;\n",
       "    }\n",
       "\n",
       "    .dataframe thead th {\n",
       "        text-align: right;\n",
       "    }\n",
       "</style>\n",
       "<table border=\"1\" class=\"dataframe\">\n",
       "  <thead>\n",
       "    <tr style=\"text-align: right;\">\n",
       "      <th></th>\n",
       "      <th>fullpath</th>\n",
       "      <th>style</th>\n",
       "    </tr>\n",
       "  </thead>\n",
       "  <tbody>\n",
       "    <tr>\n",
       "      <th>0</th>\n",
       "      <td>/Users/sness/mirex2008/genres/blues/blues.0000...</td>\n",
       "      <td>blues</td>\n",
       "    </tr>\n",
       "    <tr>\n",
       "      <th>1</th>\n",
       "      <td>/Users/sness/mirex2008/genres/blues/blues.0000...</td>\n",
       "      <td>blues</td>\n",
       "    </tr>\n",
       "    <tr>\n",
       "      <th>2</th>\n",
       "      <td>/Users/sness/mirex2008/genres/blues/blues.0000...</td>\n",
       "      <td>blues</td>\n",
       "    </tr>\n",
       "  </tbody>\n",
       "</table>\n",
       "</div>"
      ],
      "text/plain": [
       "                                            fullpath  style\n",
       "0  /Users/sness/mirex2008/genres/blues/blues.0000...  blues\n",
       "1  /Users/sness/mirex2008/genres/blues/blues.0000...  blues\n",
       "2  /Users/sness/mirex2008/genres/blues/blues.0000...  blues"
      ]
     },
     "execution_count": 2,
     "metadata": {},
     "output_type": "execute_result"
    }
   ],
   "source": [
    "# 讀取標籤\n",
    "path = './genres/'\n",
    "file = 'input.mf'\n",
    "import pandas as pd\n",
    "df = pd.read_csv(path + file, header=None, delimiter='\\t', names=['fullpath', 'style'])\n",
    "df[:3]"
   ]
  },
  {
   "cell_type": "code",
   "execution_count": 3,
   "id": "246aebea",
   "metadata": {},
   "outputs": [],
   "source": [
    "pd.read_csv?"
   ]
  },
  {
   "cell_type": "code",
   "execution_count": 4,
   "id": "837dbb12",
   "metadata": {},
   "outputs": [
    {
     "data": {
      "text/plain": [
       "'/Users/sness/mirex2008/genres/blues/blues.00000.wav'"
      ]
     },
     "execution_count": 4,
     "metadata": {},
     "output_type": "execute_result"
    }
   ],
   "source": [
    "# 找第一個範例\n",
    "df[:1]['fullpath'][0]"
   ]
  },
  {
   "cell_type": "code",
   "execution_count": 5,
   "id": "add4b4a5",
   "metadata": {},
   "outputs": [
    {
     "data": {
      "text/plain": [
       "'c:\\\\python\\\\20210906-Python-第三階段-13\\\\UseCase-genres'"
      ]
     },
     "execution_count": 5,
     "metadata": {},
     "output_type": "execute_result"
    }
   ],
   "source": [
    "%pwd"
   ]
  },
  {
   "cell_type": "code",
   "execution_count": 6,
   "id": "2555c067",
   "metadata": {},
   "outputs": [
    {
     "name": "stdout",
     "output_type": "stream",
     "text": [
      " Volume in drive C is OSDisk\n",
      " Volume Serial Number is 382F-FA9C\n",
      "\n",
      " Directory of c:\\python\\20210906-Python-第三階段-13\\UseCase-genres\\genres\\blues\n",
      "\n",
      "03/06/2014  02:06 AM         1,323,632 blues.00000.wav\n",
      "               1 File(s)      1,323,632 bytes\n",
      "               0 Dir(s)  332,038,946,816 bytes free\n"
     ]
    }
   ],
   "source": [
    "#檔案確實存在\n",
    "!dir \".\\\\genres\\\\blues\\\\blues.00000.wav\""
   ]
  },
  {
   "cell_type": "code",
   "execution_count": 7,
   "id": "24115628",
   "metadata": {},
   "outputs": [
    {
     "data": {
      "text/plain": [
       "0    [blues, blues.00000.wav]\n",
       "1    [blues, blues.00001.wav]\n",
       "2    [blues, blues.00002.wav]\n",
       "Name: fullpath, dtype: object"
      ]
     },
     "execution_count": 7,
     "metadata": {},
     "output_type": "execute_result"
    }
   ],
   "source": [
    "# 取出檔案名稱-part1\n",
    "df[:3]['fullpath'].apply(lambda x: x.split('/')[-2:]  )"
   ]
  },
  {
   "cell_type": "code",
   "execution_count": 8,
   "id": "a3c23501",
   "metadata": {},
   "outputs": [
    {
     "data": {
      "text/plain": [
       "0    ./genres/blues/blues.00000.wav\n",
       "1    ./genres/blues/blues.00001.wav\n",
       "2    ./genres/blues/blues.00002.wav\n",
       "Name: fullpath, dtype: object"
      ]
     },
     "execution_count": 8,
     "metadata": {},
     "output_type": "execute_result"
    }
   ],
   "source": [
    "# 取出檔案名稱-part2\n",
    "df[:3]['fullpath'].apply(lambda x: path + '/'.join(x.split('/')[-2:])  )"
   ]
  },
  {
   "cell_type": "code",
   "execution_count": 9,
   "id": "85e5c18e",
   "metadata": {},
   "outputs": [
    {
     "data": {
      "text/html": [
       "<div>\n",
       "<style scoped>\n",
       "    .dataframe tbody tr th:only-of-type {\n",
       "        vertical-align: middle;\n",
       "    }\n",
       "\n",
       "    .dataframe tbody tr th {\n",
       "        vertical-align: top;\n",
       "    }\n",
       "\n",
       "    .dataframe thead th {\n",
       "        text-align: right;\n",
       "    }\n",
       "</style>\n",
       "<table border=\"1\" class=\"dataframe\">\n",
       "  <thead>\n",
       "    <tr style=\"text-align: right;\">\n",
       "      <th></th>\n",
       "      <th>fullpath</th>\n",
       "      <th>style</th>\n",
       "      <th>filename</th>\n",
       "    </tr>\n",
       "  </thead>\n",
       "  <tbody>\n",
       "    <tr>\n",
       "      <th>0</th>\n",
       "      <td>/Users/sness/mirex2008/genres/blues/blues.0000...</td>\n",
       "      <td>blues</td>\n",
       "      <td>./genres/blues/blues.00000.wav</td>\n",
       "    </tr>\n",
       "    <tr>\n",
       "      <th>1</th>\n",
       "      <td>/Users/sness/mirex2008/genres/blues/blues.0000...</td>\n",
       "      <td>blues</td>\n",
       "      <td>./genres/blues/blues.00001.wav</td>\n",
       "    </tr>\n",
       "    <tr>\n",
       "      <th>2</th>\n",
       "      <td>/Users/sness/mirex2008/genres/blues/blues.0000...</td>\n",
       "      <td>blues</td>\n",
       "      <td>./genres/blues/blues.00002.wav</td>\n",
       "    </tr>\n",
       "  </tbody>\n",
       "</table>\n",
       "</div>"
      ],
      "text/plain": [
       "                                            fullpath  style  \\\n",
       "0  /Users/sness/mirex2008/genres/blues/blues.0000...  blues   \n",
       "1  /Users/sness/mirex2008/genres/blues/blues.0000...  blues   \n",
       "2  /Users/sness/mirex2008/genres/blues/blues.0000...  blues   \n",
       "\n",
       "                         filename  \n",
       "0  ./genres/blues/blues.00000.wav  \n",
       "1  ./genres/blues/blues.00001.wav  \n",
       "2  ./genres/blues/blues.00002.wav  "
      ]
     },
     "execution_count": 9,
     "metadata": {},
     "output_type": "execute_result"
    }
   ],
   "source": [
    "df['filename'] = df[:]['fullpath'].apply(lambda x: path + '/'.join(x.split('/')[-2:])  )\n",
    "df[:3]"
   ]
  },
  {
   "cell_type": "code",
   "execution_count": 10,
   "id": "c97a0930",
   "metadata": {},
   "outputs": [
    {
     "data": {
      "text/html": [
       "<div>\n",
       "<style scoped>\n",
       "    .dataframe tbody tr th:only-of-type {\n",
       "        vertical-align: middle;\n",
       "    }\n",
       "\n",
       "    .dataframe tbody tr th {\n",
       "        vertical-align: top;\n",
       "    }\n",
       "\n",
       "    .dataframe thead th {\n",
       "        text-align: right;\n",
       "    }\n",
       "</style>\n",
       "<table border=\"1\" class=\"dataframe\">\n",
       "  <thead>\n",
       "    <tr style=\"text-align: right;\">\n",
       "      <th></th>\n",
       "      <th>filename</th>\n",
       "    </tr>\n",
       "    <tr>\n",
       "      <th>style</th>\n",
       "      <th></th>\n",
       "    </tr>\n",
       "  </thead>\n",
       "  <tbody>\n",
       "    <tr>\n",
       "      <th>blues</th>\n",
       "      <td>100</td>\n",
       "    </tr>\n",
       "    <tr>\n",
       "      <th>classical</th>\n",
       "      <td>100</td>\n",
       "    </tr>\n",
       "    <tr>\n",
       "      <th>country</th>\n",
       "      <td>100</td>\n",
       "    </tr>\n",
       "    <tr>\n",
       "      <th>disco</th>\n",
       "      <td>100</td>\n",
       "    </tr>\n",
       "    <tr>\n",
       "      <th>hiphop</th>\n",
       "      <td>100</td>\n",
       "    </tr>\n",
       "    <tr>\n",
       "      <th>jazz</th>\n",
       "      <td>100</td>\n",
       "    </tr>\n",
       "    <tr>\n",
       "      <th>metal</th>\n",
       "      <td>100</td>\n",
       "    </tr>\n",
       "    <tr>\n",
       "      <th>pop</th>\n",
       "      <td>100</td>\n",
       "    </tr>\n",
       "    <tr>\n",
       "      <th>reggae</th>\n",
       "      <td>100</td>\n",
       "    </tr>\n",
       "    <tr>\n",
       "      <th>rock</th>\n",
       "      <td>100</td>\n",
       "    </tr>\n",
       "  </tbody>\n",
       "</table>\n",
       "</div>"
      ],
      "text/plain": [
       "           filename\n",
       "style              \n",
       "blues           100\n",
       "classical       100\n",
       "country         100\n",
       "disco           100\n",
       "hiphop          100\n",
       "jazz            100\n",
       "metal           100\n",
       "pop             100\n",
       "reggae          100\n",
       "rock            100"
      ]
     },
     "execution_count": 10,
     "metadata": {},
     "output_type": "execute_result"
    }
   ],
   "source": [
    "# 分析文件的內容數據\n",
    "df.groupby('style')[['filename']].count()\n",
    "dfagg = df.groupby('style')[['filename']].count()\n",
    "dfagg"
   ]
  },
  {
   "cell_type": "code",
   "execution_count": 11,
   "id": "5d61d158",
   "metadata": {},
   "outputs": [
    {
     "data": {
      "text/plain": [
       "Index(['blues', 'classical', 'country', 'disco', 'hiphop', 'jazz', 'metal',\n",
       "       'pop', 'reggae', 'rock'],\n",
       "      dtype='object', name='style')"
      ]
     },
     "execution_count": 11,
     "metadata": {},
     "output_type": "execute_result"
    }
   ],
   "source": [
    "dfagg.index"
   ]
  },
  {
   "cell_type": "code",
   "execution_count": 12,
   "id": "c55aea24",
   "metadata": {},
   "outputs": [],
   "source": [
    "# os.walk\n",
    "import os\n",
    "os.walk?"
   ]
  },
  {
   "cell_type": "code",
   "execution_count": 13,
   "id": "688e0731",
   "metadata": {},
   "outputs": [
    {
     "name": "stdout",
     "output_type": "stream",
     "text": [
      "./genres/ consumes 183998bytes in  12 non-directory files\n",
      "./genres/.ipynb_checkpoints consumes 0bytes in  0 non-directory files\n",
      "./genres/blues consumes 132363200bytes in  100 non-directory files\n",
      "./genres/classical consumes 132427620bytes in  100 non-directory files\n",
      "./genres/country consumes 132409952bytes in  100 non-directory files\n",
      "./genres/disco consumes 132391360bytes in  100 non-directory files\n",
      "./genres/hiphop consumes 132698048bytes in  100 non-directory files\n",
      "./genres/jazz consumes 132451056bytes in  100 non-directory files\n",
      "./genres/metal consumes 132323760bytes in  100 non-directory files\n",
      "./genres/pop consumes 132305200bytes in  100 non-directory files\n",
      "./genres/reggae consumes 132328980bytes in  100 non-directory files\n",
      "./genres/rock consumes 132406516bytes in  100 non-directory files\n"
     ]
    }
   ],
   "source": [
    "import os\n",
    "from os.path import join, getsize\n",
    "for root, dirs, files in os.walk(path):\n",
    "    print(root, \"consumes \", end=\"\")\n",
    "    print(sum(getsize(join(root, name)) for name in files), end=\"\")\n",
    "    print(\"bytes in \", len(files), \"non-directory files\")\n",
    "    "
   ]
  },
  {
   "cell_type": "code",
   "execution_count": 14,
   "id": "19bb9859",
   "metadata": {},
   "outputs": [
    {
     "name": "stdout",
     "output_type": "stream",
     "text": [
      "./genres/blues consumes 132363200 bytes in 100 non-directory files\n",
      "./genres/classical consumes 132427620 bytes in 100 non-directory files\n",
      "./genres/country consumes 132409952 bytes in 100 non-directory files\n",
      "./genres/disco consumes 132391360 bytes in 100 non-directory files\n",
      "./genres/hiphop consumes 132698048 bytes in 100 non-directory files\n",
      "./genres/jazz consumes 132451056 bytes in 100 non-directory files\n",
      "./genres/metal consumes 132323760 bytes in 100 non-directory files\n",
      "./genres/pop consumes 132305200 bytes in 100 non-directory files\n",
      "./genres/reggae consumes 132328980 bytes in 100 non-directory files\n",
      "./genres/rock consumes 132406516 bytes in 100 non-directory files\n"
     ]
    }
   ],
   "source": [
    "# 確認文件內容 所載的檔案個數 = 實際檔案的每一個類別的個數\n",
    "import os\n",
    "from os.path import join, getsize\n",
    "for root, dirs, files in os.walk(path):\n",
    "    if (root.split('/')[-1]) in dfagg.index: \n",
    "        print(root, \"consumes \", end=\"\")\n",
    "        print(sum(getsize(join(root, name)) for name in files), end=\"\")\n",
    "        print(\" bytes in\", len(files), \"non-directory files\")\n",
    "    "
   ]
  },
  {
   "cell_type": "code",
   "execution_count": 17,
   "id": "cdf78d29",
   "metadata": {
    "collapsed": true
   },
   "outputs": [
    {
     "data": {
      "text/plain": [
       "array([[0.39141446, 0.24780884, 0.8714165 , ..., 0.14128597, 0.15691066,\n",
       "        1.        ],\n",
       "       [0.5478196 , 0.32853892, 0.68826514, ..., 0.14279746, 0.13222209,\n",
       "        0.7264195 ],\n",
       "       [0.45784435, 0.42671594, 0.51602733, ..., 0.40771392, 0.25044858,\n",
       "        0.5109983 ],\n",
       "       ...,\n",
       "       [1.        , 1.        , 1.        , ..., 0.1719772 , 0.2619948 ,\n",
       "        0.90304345],\n",
       "       [0.39603353, 0.36431643, 0.6217583 , ..., 1.        , 1.        ,\n",
       "        0.93397397],\n",
       "       [0.2770659 , 0.19175553, 0.64925486, ..., 0.99700594, 0.6287608 ,\n",
       "        0.7571646 ]], dtype=float32)"
      ]
     },
     "execution_count": 17,
     "metadata": {},
     "output_type": "execute_result"
    }
   ],
   "source": [
    "###########取出特徵\n",
    "import librosa\n",
    "songname = \"./genres/blues/blues.00000.wav\"\n",
    "y, sr = librosa.load(songname, mono=True, duration=30)\n",
    "chroma_stft = librosa.feature.chroma_stft(y=y, sr=sr)\n",
    "spec_cent = librosa.feature.spectral_centroid(y=y, sr=sr)\n",
    "spec_bw = librosa.feature.spectral_bandwidth(y=y, sr=sr)\n",
    "rolloff = librosa.feature.spectral_rolloff(y=y, sr=sr)\n",
    "zcr = librosa.feature.zero_crossing_rate(y)\n",
    "mfcc = librosa.feature.mfcc(y=y, sr=sr)\n",
    "chroma_stft"
   ]
  },
  {
   "cell_type": "code",
   "execution_count": 18,
   "id": "5debf868",
   "metadata": {},
   "outputs": [
    {
     "data": {
      "text/plain": [
       "(12, 1292)"
      ]
     },
     "execution_count": 18,
     "metadata": {},
     "output_type": "execute_result"
    }
   ],
   "source": [
    "chroma_stft.shape"
   ]
  },
  {
   "cell_type": "code",
   "execution_count": 19,
   "id": "af3d2450",
   "metadata": {},
   "outputs": [
    {
     "data": {
      "text/plain": [
       "0.34994322"
      ]
     },
     "execution_count": 19,
     "metadata": {},
     "output_type": "execute_result"
    }
   ],
   "source": [
    "import numpy as np\n",
    "np.mean(chroma_stft)"
   ]
  },
  {
   "cell_type": "code",
   "execution_count": 20,
   "id": "b21fe239",
   "metadata": {},
   "outputs": [],
   "source": [
    "np.mean?"
   ]
  },
  {
   "cell_type": "code",
   "execution_count": null,
   "id": "100eec16",
   "metadata": {},
   "outputs": [],
   "source": [
    "# 第2個問題 rmse\n",
    "# 第1個問題 mfcc"
   ]
  },
  {
   "cell_type": "code",
   "execution_count": 21,
   "id": "c163996a",
   "metadata": {},
   "outputs": [
    {
     "data": {
      "text/plain": [
       "(20, 1292)"
      ]
     },
     "execution_count": 21,
     "metadata": {},
     "output_type": "execute_result"
    }
   ],
   "source": [
    "mfcc.shape"
   ]
  },
  {
   "cell_type": "code",
   "execution_count": 24,
   "id": "15e4f19d",
   "metadata": {
    "collapsed": true
   },
   "outputs": [
    {
     "name": "stdout",
     "output_type": "stream",
     "text": [
      "0 -113.59675\n",
      "1 121.5573\n",
      "2 -19.158825\n",
      "3 42.351032\n",
      "4 -6.376458\n",
      "5 18.618876\n",
      "6 -13.697911\n",
      "7 15.344631\n",
      "8 -12.285267\n",
      "9 10.980492\n",
      "10 -8.324325\n",
      "11 8.810669\n",
      "12 -3.6673682\n",
      "13 5.751691\n",
      "14 -5.1627626\n",
      "15 0.75094783\n",
      "16 -1.6919376\n",
      "17 -0.40995264\n",
      "18 -2.3002088\n",
      "19 1.2199285\n"
     ]
    }
   ],
   "source": [
    "# 拆解 mfcc\n",
    "for i, e in enumerate(mfcc):\n",
    "    print(i, np.mean(e) )"
   ]
  },
  {
   "cell_type": "code",
   "execution_count": 25,
   "id": "bf2d5734",
   "metadata": {},
   "outputs": [
    {
     "ename": "AttributeError",
     "evalue": "module 'librosa.feature' has no attribute 'rmse'",
     "output_type": "error",
     "traceback": [
      "\u001b[1;31m---------------------------------------------------------------------------\u001b[0m",
      "\u001b[1;31mAttributeError\u001b[0m                            Traceback (most recent call last)",
      "\u001b[1;32mC:\\Users\\LEWIS_~1\\AppData\\Local\\Temp/ipykernel_31348/594039209.py\u001b[0m in \u001b[0;36m<module>\u001b[1;34m\u001b[0m\n\u001b[0;32m      7\u001b[0m \u001b[0my\u001b[0m\u001b[1;33m,\u001b[0m \u001b[0msr\u001b[0m \u001b[1;33m=\u001b[0m \u001b[0mlibrosa\u001b[0m\u001b[1;33m.\u001b[0m\u001b[0mload\u001b[0m\u001b[1;33m(\u001b[0m\u001b[0msongname\u001b[0m\u001b[1;33m,\u001b[0m \u001b[0mmono\u001b[0m\u001b[1;33m=\u001b[0m\u001b[1;32mTrue\u001b[0m\u001b[1;33m,\u001b[0m \u001b[0mduration\u001b[0m\u001b[1;33m=\u001b[0m\u001b[1;36m30\u001b[0m\u001b[1;33m)\u001b[0m\u001b[1;33m\u001b[0m\u001b[1;33m\u001b[0m\u001b[0m\n\u001b[0;32m      8\u001b[0m \u001b[0mchroma_stft\u001b[0m \u001b[1;33m=\u001b[0m \u001b[0mlibrosa\u001b[0m\u001b[1;33m.\u001b[0m\u001b[0mfeature\u001b[0m\u001b[1;33m.\u001b[0m\u001b[0mchroma_stft\u001b[0m\u001b[1;33m(\u001b[0m\u001b[0my\u001b[0m\u001b[1;33m=\u001b[0m\u001b[0my\u001b[0m\u001b[1;33m,\u001b[0m \u001b[0msr\u001b[0m\u001b[1;33m=\u001b[0m\u001b[0msr\u001b[0m\u001b[1;33m)\u001b[0m\u001b[1;33m\u001b[0m\u001b[1;33m\u001b[0m\u001b[0m\n\u001b[1;32m----> 9\u001b[1;33m \u001b[0mrmse\u001b[0m \u001b[1;33m=\u001b[0m \u001b[0mlibrosa\u001b[0m\u001b[1;33m.\u001b[0m\u001b[0mfeature\u001b[0m\u001b[1;33m.\u001b[0m\u001b[0mrmse\u001b[0m\u001b[1;33m(\u001b[0m\u001b[0my\u001b[0m\u001b[1;33m=\u001b[0m\u001b[0my\u001b[0m\u001b[1;33m,\u001b[0m \u001b[0msr\u001b[0m\u001b[1;33m=\u001b[0m\u001b[0msr\u001b[0m\u001b[1;33m)\u001b[0m\u001b[1;33m\u001b[0m\u001b[1;33m\u001b[0m\u001b[0m\n\u001b[0m\u001b[0;32m     10\u001b[0m \u001b[0mspec_cent\u001b[0m \u001b[1;33m=\u001b[0m \u001b[0mlibrosa\u001b[0m\u001b[1;33m.\u001b[0m\u001b[0mfeature\u001b[0m\u001b[1;33m.\u001b[0m\u001b[0mspectral_centroid\u001b[0m\u001b[1;33m(\u001b[0m\u001b[0my\u001b[0m\u001b[1;33m=\u001b[0m\u001b[0my\u001b[0m\u001b[1;33m,\u001b[0m \u001b[0msr\u001b[0m\u001b[1;33m=\u001b[0m\u001b[0msr\u001b[0m\u001b[1;33m)\u001b[0m\u001b[1;33m\u001b[0m\u001b[1;33m\u001b[0m\u001b[0m\n\u001b[0;32m     11\u001b[0m \u001b[0mspec_bw\u001b[0m \u001b[1;33m=\u001b[0m \u001b[0mlibrosa\u001b[0m\u001b[1;33m.\u001b[0m\u001b[0mfeature\u001b[0m\u001b[1;33m.\u001b[0m\u001b[0mspectral_bandwidth\u001b[0m\u001b[1;33m(\u001b[0m\u001b[0my\u001b[0m\u001b[1;33m=\u001b[0m\u001b[0my\u001b[0m\u001b[1;33m,\u001b[0m \u001b[0msr\u001b[0m\u001b[1;33m=\u001b[0m\u001b[0msr\u001b[0m\u001b[1;33m)\u001b[0m\u001b[1;33m\u001b[0m\u001b[1;33m\u001b[0m\u001b[0m\n",
      "\u001b[1;31mAttributeError\u001b[0m: module 'librosa.feature' has no attribute 'rmse'"
     ]
    }
   ],
   "source": [
    "# 第2個問題\n",
    "# rmse\n",
    "\n",
    "###########取出特徵\n",
    "import librosa\n",
    "songname = \"./genres/blues/blues.00000.wav\"\n",
    "y, sr = librosa.load(songname, mono=True, duration=30)\n",
    "chroma_stft = librosa.feature.chroma_stft(y=y, sr=sr)\n",
    "# rmse = librosa.feature.rmse(y=y, sr=sr) #<------------------------這裡解開會出錯\n",
    "spec_cent = librosa.feature.spectral_centroid(y=y, sr=sr)\n",
    "spec_bw = librosa.feature.spectral_bandwidth(y=y, sr=sr)\n",
    "rolloff = librosa.feature.spectral_rolloff(y=y, sr=sr)\n",
    "zcr = librosa.feature.zero_crossing_rate(y)\n",
    "mfcc = librosa.feature.mfcc(y=y, sr=sr)\n",
    "chroma_stft\n",
    "\n",
    "# ---------------------------------------------------------------------------\n",
    "# AttributeError                            Traceback (most recent call last)\n",
    "# C:\\Users\\LEWIS_~1\\AppData\\Local\\Temp/ipykernel_31348/594039209.py in <module>\n",
    "#       7 y, sr = librosa.load(songname, mono=True, duration=30)\n",
    "#       8 chroma_stft = librosa.feature.chroma_stft(y=y, sr=sr)\n",
    "# ----> 9 rmse = librosa.feature.rmse(y=y, sr=sr)\n",
    "#      10 spec_cent = librosa.feature.spectral_centroid(y=y, sr=sr)\n",
    "#      11 spec_bw = librosa.feature.spectral_bandwidth(y=y, sr=sr)\n",
    "\n",
    "# AttributeError: module 'librosa.feature' has no attribute 'rmse'"
   ]
  },
  {
   "cell_type": "code",
   "execution_count": 28,
   "id": "2cbdf4a4",
   "metadata": {},
   "outputs": [
    {
     "data": {
      "text/plain": [
       "(array([0.02698701, 0.03934191, 0.0497628 , ..., 0.1287345 , 0.14060998,\n",
       "        0.14974149], dtype=float32),\n",
       " 0.13022463)"
      ]
     },
     "execution_count": 28,
     "metadata": {},
     "output_type": "execute_result"
    }
   ],
   "source": [
    "# rmse=librosa.feature.rms(y=y)[0]\n",
    "import librosa\n",
    "songname = \"./genres/blues/blues.00000.wav\"\n",
    "y, sr = librosa.load(songname, mono=True, duration=30)\n",
    "chroma_stft = librosa.feature.chroma_stft(y=y, sr=sr)\n",
    "rmse = librosa.feature.rms(y=y)[0]\n",
    "spec_cent = librosa.feature.spectral_centroid(y=y, sr=sr)\n",
    "spec_bw = librosa.feature.spectral_bandwidth(y=y, sr=sr)\n",
    "rolloff = librosa.feature.spectral_rolloff(y=y, sr=sr)\n",
    "zcr = librosa.feature.zero_crossing_rate(y)\n",
    "mfcc = librosa.feature.mfcc(y=y, sr=sr)\n",
    "rmse, np.mean(rmse)"
   ]
  },
  {
   "cell_type": "code",
   "execution_count": 31,
   "id": "790e4d88",
   "metadata": {},
   "outputs": [
    {
     "data": {
      "text/plain": [
       "['./genres/blues/blues.00000.wav',\n",
       " './genres/blues/blues.00001.wav',\n",
       " './genres/blues/blues.00002.wav']"
      ]
     },
     "execution_count": 31,
     "metadata": {},
     "output_type": "execute_result"
    }
   ],
   "source": [
    "# 跑迴圈\n",
    "\n",
    "df[:3]['filename'].tolist()"
   ]
  },
  {
   "cell_type": "code",
   "execution_count": 36,
   "id": "0fad9af1",
   "metadata": {},
   "outputs": [
    {
     "name": "stdout",
     "output_type": "stream",
     "text": [
      "./genres/blues/blues.00000.wav 0.13022463\n",
      "./genres/blues/blues.00001.wav 0.095918424\n",
      "./genres/blues/blues.00002.wav 0.17557304\n",
      "./genres/blues/blues.00003.wav 0.14119118\n",
      "./genres/blues/blues.00004.wav 0.09156322\n",
      "./genres/blues/blues.00005.wav 0.10346758\n",
      "./genres/blues/blues.00006.wav 0.14179581\n",
      "./genres/blues/blues.00007.wav 0.13178548\n",
      "./genres/blues/blues.00008.wav 0.1424381\n",
      "./genres/blues/blues.00009.wav 0.08135202\n"
     ]
    }
   ],
   "source": [
    "# 跑迴圈\n",
    "from tqdm import tqdm\n",
    "for songname in df[:10]['filename'].tolist():\n",
    "    y, sr = librosa.load(songname, mono=True, duration=30)\n",
    "    chroma_stft = librosa.feature.chroma_stft(y=y, sr=sr)\n",
    "    rmse = librosa.feature.rms(y=y)[0]\n",
    "    spec_cent = librosa.feature.spectral_centroid(y=y, sr=sr)\n",
    "    spec_bw = librosa.feature.spectral_bandwidth(y=y, sr=sr)\n",
    "    rolloff = librosa.feature.spectral_rolloff(y=y, sr=sr)\n",
    "    zcr = librosa.feature.zero_crossing_rate(y)\n",
    "    mfcc = librosa.feature.mfcc(y=y, sr=sr)\n",
    "    print(songname , np.mean(rmse) )\n",
    "    "
   ]
  },
  {
   "cell_type": "code",
   "execution_count": 35,
   "id": "31830c5e",
   "metadata": {},
   "outputs": [
    {
     "name": "stderr",
     "output_type": "stream",
     "text": [
      "100%|██████████████████████████████████████████████████████████████████████████████████| 10/10 [00:07<00:00,  1.38it/s]\n"
     ]
    }
   ],
   "source": [
    "# 跑迴圈\n",
    "from tqdm import tqdm\n",
    "for songname in tqdm(df[:10]['filename'].tolist()):\n",
    "    y, sr = librosa.load(songname, mono=True, duration=30)\n",
    "    chroma_stft = librosa.feature.chroma_stft(y=y, sr=sr)\n",
    "    rmse = librosa.feature.rms(y=y)[0]\n",
    "    spec_cent = librosa.feature.spectral_centroid(y=y, sr=sr)\n",
    "    spec_bw = librosa.feature.spectral_bandwidth(y=y, sr=sr)\n",
    "    rolloff = librosa.feature.spectral_rolloff(y=y, sr=sr)\n",
    "    zcr = librosa.feature.zero_crossing_rate(y)\n",
    "    mfcc = librosa.feature.mfcc(y=y, sr=sr)\n",
    "    #print(songname , np.mean(rmse) )\n",
    "    "
   ]
  },
  {
   "cell_type": "code",
   "execution_count": 39,
   "id": "e36c82ce",
   "metadata": {},
   "outputs": [
    {
     "data": {
      "text/plain": [
       "(20, 1292)"
      ]
     },
     "execution_count": 39,
     "metadata": {},
     "output_type": "execute_result"
    }
   ],
   "source": [
    "mfcc.shape"
   ]
  },
  {
   "cell_type": "code",
   "execution_count": 42,
   "id": "4bf496e3",
   "metadata": {},
   "outputs": [
    {
     "data": {
      "text/plain": [
       "(20,)"
      ]
     },
     "execution_count": 42,
     "metadata": {},
     "output_type": "execute_result"
    }
   ],
   "source": [
    "np.mean(mfcc, axis=1).shape"
   ]
  },
  {
   "cell_type": "code",
   "execution_count": 47,
   "id": "624f7309",
   "metadata": {},
   "outputs": [
    {
     "name": "stdout",
     "output_type": "stream",
     "text": [
      "./genres/blues/blues.00000.wav\n",
      "['blues.00000.wav' '0.34994322' '0.13022463' '1784.4204464946633'\n",
      " '2002.6501916232635' '3806.4853160373937' '0.08306639113293343'\n",
      " '-113.59675' '121.5573' '-19.158825' '42.351032' '-6.376458' '18.618876'\n",
      " '-13.697911' '15.344631' '-12.285267' '10.980492' '-8.324325' '8.810669'\n",
      " '-3.6673682' '5.751691' '-5.1627626' '0.75094783' '-1.6919376'\n",
      " '-0.40995264' '-2.3002088' '1.2199285']\n",
      "./genres/blues/blues.00001.wav\n",
      "['blues.00001.wav' '0.3409832' '0.095918424' '1529.8353159300755'\n",
      " '2038.6175789692213' '3548.8202074363876' '0.056044256724071206'\n",
      " '-207.5568' '124.00672' '8.93056' '35.874687' '2.9160368' '21.523726'\n",
      " '-8.554704' '23.358671' '-10.103617' '11.903744' '-5.560388' '5.376803'\n",
      " '-2.2391195' '4.2169633' '-6.0122733' '0.9361094' '-0.71653724'\n",
      " '0.29387605' '-0.2874308' '0.5315728']\n"
     ]
    }
   ],
   "source": [
    "# .. .. .. .. .. .. .. .......... .. <-- header\n",
    "# NN NN NN NN NN NN NN .mfcc1-20. NN <-- np.hstack((.., .., .., ..))\n",
    "# NN NN NN NN NN NN NN .mfcc1-20. NN <-- np.hstack((.., .., .., ..))\n",
    "import pandas as pd\n",
    "data = pd.DataFrame()\n",
    "for songname in df[:2]['filename'].tolist():\n",
    "    print(songname)\n",
    "    y, sr = librosa.load(songname, mono=True, duration=30)\n",
    "    chroma_stft = librosa.feature.chroma_stft(y=y, sr=sr)\n",
    "    rmse = librosa.feature.rms(y=y)[0]\n",
    "    spec_cent = librosa.feature.spectral_centroid(y=y, sr=sr)\n",
    "    spec_bw = librosa.feature.spectral_bandwidth(y=y, sr=sr)\n",
    "    rolloff = librosa.feature.spectral_rolloff(y=y, sr=sr)\n",
    "    zcr = librosa.feature.zero_crossing_rate(y)\n",
    "    mfcc = librosa.feature.mfcc(y=y, sr=sr)\n",
    "    \n",
    "\n",
    "    row=np.hstack(\n",
    "              ( songname.split('/')[-1],\n",
    "                np.mean(chroma_stft),\n",
    "                np.mean(rmse),\n",
    "                np.mean(spec_cent),\n",
    "                np.mean(spec_bw),\n",
    "                np.mean(rolloff),\n",
    "                np.mean(zcr),                \n",
    "                np.mean(mfcc, axis=1)\n",
    "               \n",
    "              ) \n",
    "             )\n",
    "    print(row)"
   ]
  },
  {
   "cell_type": "code",
   "execution_count": 49,
   "id": "5ac5f76f",
   "metadata": {},
   "outputs": [
    {
     "data": {
      "text/html": [
       "<div>\n",
       "<style scoped>\n",
       "    .dataframe tbody tr th:only-of-type {\n",
       "        vertical-align: middle;\n",
       "    }\n",
       "\n",
       "    .dataframe tbody tr th {\n",
       "        vertical-align: top;\n",
       "    }\n",
       "\n",
       "    .dataframe thead th {\n",
       "        text-align: right;\n",
       "    }\n",
       "</style>\n",
       "<table border=\"1\" class=\"dataframe\">\n",
       "  <thead>\n",
       "    <tr style=\"text-align: right;\">\n",
       "      <th></th>\n",
       "      <th>fullpath</th>\n",
       "      <th>style</th>\n",
       "      <th>filename</th>\n",
       "    </tr>\n",
       "  </thead>\n",
       "  <tbody>\n",
       "    <tr>\n",
       "      <th>0</th>\n",
       "      <td>/Users/sness/mirex2008/genres/blues/blues.0000...</td>\n",
       "      <td>blues</td>\n",
       "      <td>./genres/blues/blues.00000.wav</td>\n",
       "    </tr>\n",
       "    <tr>\n",
       "      <th>1</th>\n",
       "      <td>/Users/sness/mirex2008/genres/blues/blues.0000...</td>\n",
       "      <td>blues</td>\n",
       "      <td>./genres/blues/blues.00001.wav</td>\n",
       "    </tr>\n",
       "    <tr>\n",
       "      <th>2</th>\n",
       "      <td>/Users/sness/mirex2008/genres/blues/blues.0000...</td>\n",
       "      <td>blues</td>\n",
       "      <td>./genres/blues/blues.00002.wav</td>\n",
       "    </tr>\n",
       "    <tr>\n",
       "      <th>3</th>\n",
       "      <td>/Users/sness/mirex2008/genres/blues/blues.0000...</td>\n",
       "      <td>blues</td>\n",
       "      <td>./genres/blues/blues.00003.wav</td>\n",
       "    </tr>\n",
       "    <tr>\n",
       "      <th>4</th>\n",
       "      <td>/Users/sness/mirex2008/genres/blues/blues.0000...</td>\n",
       "      <td>blues</td>\n",
       "      <td>./genres/blues/blues.00004.wav</td>\n",
       "    </tr>\n",
       "  </tbody>\n",
       "</table>\n",
       "</div>"
      ],
      "text/plain": [
       "                                            fullpath  style  \\\n",
       "0  /Users/sness/mirex2008/genres/blues/blues.0000...  blues   \n",
       "1  /Users/sness/mirex2008/genres/blues/blues.0000...  blues   \n",
       "2  /Users/sness/mirex2008/genres/blues/blues.0000...  blues   \n",
       "3  /Users/sness/mirex2008/genres/blues/blues.0000...  blues   \n",
       "4  /Users/sness/mirex2008/genres/blues/blues.0000...  blues   \n",
       "\n",
       "                         filename  \n",
       "0  ./genres/blues/blues.00000.wav  \n",
       "1  ./genres/blues/blues.00001.wav  \n",
       "2  ./genres/blues/blues.00002.wav  \n",
       "3  ./genres/blues/blues.00003.wav  \n",
       "4  ./genres/blues/blues.00004.wav  "
      ]
     },
     "execution_count": 49,
     "metadata": {},
     "output_type": "execute_result"
    }
   ],
   "source": [
    "df[:5]"
   ]
  },
  {
   "cell_type": "code",
   "execution_count": 54,
   "id": "7fd8455a",
   "metadata": {},
   "outputs": [
    {
     "name": "stdout",
     "output_type": "stream",
     "text": [
      "rock\n",
      "rock\n",
      "rock\n",
      "rock\n",
      "rock\n",
      "rock\n",
      "rock\n",
      "rock\n",
      "rock\n",
      "rock\n"
     ]
    }
   ],
   "source": [
    "# 對應出答案\n",
    "for songname in df[-10:]['filename'].tolist():\n",
    "    print(df[df.filename==songname]['style'].tolist()[0])\n",
    "    #print(songname)"
   ]
  },
  {
   "cell_type": "code",
   "execution_count": 55,
   "id": "169a75b4",
   "metadata": {},
   "outputs": [
    {
     "name": "stdout",
     "output_type": "stream",
     "text": [
      "['blues.00000.wav' '0.34994322' '0.13022463' '1784.4204464946633'\n",
      " '2002.6501916232635' '3806.4853160373937' '0.08306639113293343'\n",
      " '-113.59675' '121.5573' '-19.158825' '42.351032' '-6.376458' '18.618876'\n",
      " '-13.697911' '15.344631' '-12.285267' '10.980492' '-8.324325' '8.810669'\n",
      " '-3.6673682' '5.751691' '-5.1627626' '0.75094783' '-1.6919376'\n",
      " '-0.40995264' '-2.3002088' '1.2199285' 'blues']\n",
      "['blues.00001.wav' '0.3409832' '0.095918424' '1529.8353159300755'\n",
      " '2038.6175789692213' '3548.8202074363876' '0.056044256724071206'\n",
      " '-207.5568' '124.00672' '8.93056' '35.874687' '2.9160368' '21.523726'\n",
      " '-8.554704' '23.358671' '-10.103617' '11.903744' '-5.560388' '5.376803'\n",
      " '-2.2391195' '4.2169633' '-6.0122733' '0.9361094' '-0.71653724'\n",
      " '0.29387605' '-0.2874308' '0.5315728' 'blues']\n"
     ]
    }
   ],
   "source": [
    "# .. .. .. .. .. .. .. .......... .. <-- header\n",
    "# NN NN NN NN NN NN NN .mfcc1-20. NN <-- np.hstack((.., .., .., ..))\n",
    "# NN NN NN NN NN NN NN .mfcc1-20. NN <-- np.hstack((.., .., .., ..))\n",
    "import pandas as pd\n",
    "data = pd.DataFrame()\n",
    "for songname in df[:2]['filename'].tolist():\n",
    "    #print(songname)\n",
    "    label = df[df.filename==songname]['style'].tolist()[0]\n",
    "    y, sr = librosa.load(songname, mono=True, duration=30)\n",
    "    chroma_stft = librosa.feature.chroma_stft(y=y, sr=sr)\n",
    "    rmse = librosa.feature.rms(y=y)[0]\n",
    "    spec_cent = librosa.feature.spectral_centroid(y=y, sr=sr)\n",
    "    spec_bw = librosa.feature.spectral_bandwidth(y=y, sr=sr)\n",
    "    rolloff = librosa.feature.spectral_rolloff(y=y, sr=sr)\n",
    "    zcr = librosa.feature.zero_crossing_rate(y)\n",
    "    mfcc = librosa.feature.mfcc(y=y, sr=sr)\n",
    "    \n",
    "\n",
    "    row=np.hstack(\n",
    "              ( songname.split('/')[-1],\n",
    "                np.mean(chroma_stft),\n",
    "                np.mean(rmse),\n",
    "                np.mean(spec_cent),\n",
    "                np.mean(spec_bw),\n",
    "                np.mean(rolloff),\n",
    "                np.mean(zcr),                \n",
    "                np.mean(mfcc, axis=1),\n",
    "                label\n",
    "               \n",
    "              ) \n",
    "             )\n",
    "    print(row)"
   ]
  },
  {
   "cell_type": "code",
   "execution_count": 59,
   "id": "aff85321",
   "metadata": {
    "collapsed": true
   },
   "outputs": [
    {
     "data": {
      "text/html": [
       "<div>\n",
       "<style scoped>\n",
       "    .dataframe tbody tr th:only-of-type {\n",
       "        vertical-align: middle;\n",
       "    }\n",
       "\n",
       "    .dataframe tbody tr th {\n",
       "        vertical-align: top;\n",
       "    }\n",
       "\n",
       "    .dataframe thead th {\n",
       "        text-align: right;\n",
       "    }\n",
       "</style>\n",
       "<table border=\"1\" class=\"dataframe\">\n",
       "  <thead>\n",
       "    <tr style=\"text-align: right;\">\n",
       "      <th></th>\n",
       "      <th>0</th>\n",
       "    </tr>\n",
       "  </thead>\n",
       "  <tbody>\n",
       "    <tr>\n",
       "      <th>0</th>\n",
       "      <td>blues.00001.wav</td>\n",
       "    </tr>\n",
       "    <tr>\n",
       "      <th>1</th>\n",
       "      <td>0.3409832</td>\n",
       "    </tr>\n",
       "    <tr>\n",
       "      <th>2</th>\n",
       "      <td>0.095918424</td>\n",
       "    </tr>\n",
       "    <tr>\n",
       "      <th>3</th>\n",
       "      <td>1529.8353159300755</td>\n",
       "    </tr>\n",
       "    <tr>\n",
       "      <th>4</th>\n",
       "      <td>2038.6175789692213</td>\n",
       "    </tr>\n",
       "    <tr>\n",
       "      <th>5</th>\n",
       "      <td>3548.8202074363876</td>\n",
       "    </tr>\n",
       "    <tr>\n",
       "      <th>6</th>\n",
       "      <td>0.056044256724071206</td>\n",
       "    </tr>\n",
       "    <tr>\n",
       "      <th>7</th>\n",
       "      <td>-207.5568</td>\n",
       "    </tr>\n",
       "    <tr>\n",
       "      <th>8</th>\n",
       "      <td>124.00672</td>\n",
       "    </tr>\n",
       "    <tr>\n",
       "      <th>9</th>\n",
       "      <td>8.93056</td>\n",
       "    </tr>\n",
       "    <tr>\n",
       "      <th>10</th>\n",
       "      <td>35.874687</td>\n",
       "    </tr>\n",
       "    <tr>\n",
       "      <th>11</th>\n",
       "      <td>2.9160368</td>\n",
       "    </tr>\n",
       "    <tr>\n",
       "      <th>12</th>\n",
       "      <td>21.523726</td>\n",
       "    </tr>\n",
       "    <tr>\n",
       "      <th>13</th>\n",
       "      <td>-8.554704</td>\n",
       "    </tr>\n",
       "    <tr>\n",
       "      <th>14</th>\n",
       "      <td>23.358671</td>\n",
       "    </tr>\n",
       "    <tr>\n",
       "      <th>15</th>\n",
       "      <td>-10.103617</td>\n",
       "    </tr>\n",
       "    <tr>\n",
       "      <th>16</th>\n",
       "      <td>11.903744</td>\n",
       "    </tr>\n",
       "    <tr>\n",
       "      <th>17</th>\n",
       "      <td>-5.560388</td>\n",
       "    </tr>\n",
       "    <tr>\n",
       "      <th>18</th>\n",
       "      <td>5.376803</td>\n",
       "    </tr>\n",
       "    <tr>\n",
       "      <th>19</th>\n",
       "      <td>-2.2391195</td>\n",
       "    </tr>\n",
       "    <tr>\n",
       "      <th>20</th>\n",
       "      <td>4.2169633</td>\n",
       "    </tr>\n",
       "    <tr>\n",
       "      <th>21</th>\n",
       "      <td>-6.0122733</td>\n",
       "    </tr>\n",
       "    <tr>\n",
       "      <th>22</th>\n",
       "      <td>0.9361094</td>\n",
       "    </tr>\n",
       "    <tr>\n",
       "      <th>23</th>\n",
       "      <td>-0.71653724</td>\n",
       "    </tr>\n",
       "    <tr>\n",
       "      <th>24</th>\n",
       "      <td>0.29387605</td>\n",
       "    </tr>\n",
       "    <tr>\n",
       "      <th>25</th>\n",
       "      <td>-0.2874308</td>\n",
       "    </tr>\n",
       "    <tr>\n",
       "      <th>26</th>\n",
       "      <td>0.5315728</td>\n",
       "    </tr>\n",
       "    <tr>\n",
       "      <th>27</th>\n",
       "      <td>blues</td>\n",
       "    </tr>\n",
       "  </tbody>\n",
       "</table>\n",
       "</div>"
      ],
      "text/plain": [
       "                       0\n",
       "0        blues.00001.wav\n",
       "1              0.3409832\n",
       "2            0.095918424\n",
       "3     1529.8353159300755\n",
       "4     2038.6175789692213\n",
       "5     3548.8202074363876\n",
       "6   0.056044256724071206\n",
       "7              -207.5568\n",
       "8              124.00672\n",
       "9                8.93056\n",
       "10             35.874687\n",
       "11             2.9160368\n",
       "12             21.523726\n",
       "13             -8.554704\n",
       "14             23.358671\n",
       "15            -10.103617\n",
       "16             11.903744\n",
       "17             -5.560388\n",
       "18              5.376803\n",
       "19            -2.2391195\n",
       "20             4.2169633\n",
       "21            -6.0122733\n",
       "22             0.9361094\n",
       "23           -0.71653724\n",
       "24            0.29387605\n",
       "25            -0.2874308\n",
       "26             0.5315728\n",
       "27                 blues"
      ]
     },
     "execution_count": 59,
     "metadata": {},
     "output_type": "execute_result"
    }
   ],
   "source": [
    "# 將每一數據新增到 DataFrame\n",
    "# 有問題\n",
    "import pandas as pd\n",
    "data = pd.DataFrame()\n",
    "data = data.append(pd.DataFrame(row))\n",
    "data"
   ]
  },
  {
   "cell_type": "code",
   "execution_count": 60,
   "id": "94dd9224",
   "metadata": {},
   "outputs": [
    {
     "data": {
      "text/html": [
       "<div>\n",
       "<style scoped>\n",
       "    .dataframe tbody tr th:only-of-type {\n",
       "        vertical-align: middle;\n",
       "    }\n",
       "\n",
       "    .dataframe tbody tr th {\n",
       "        vertical-align: top;\n",
       "    }\n",
       "\n",
       "    .dataframe thead th {\n",
       "        text-align: right;\n",
       "    }\n",
       "</style>\n",
       "<table border=\"1\" class=\"dataframe\">\n",
       "  <thead>\n",
       "    <tr style=\"text-align: right;\">\n",
       "      <th></th>\n",
       "      <th>0</th>\n",
       "      <th>1</th>\n",
       "      <th>2</th>\n",
       "      <th>3</th>\n",
       "      <th>4</th>\n",
       "      <th>5</th>\n",
       "      <th>6</th>\n",
       "      <th>7</th>\n",
       "      <th>8</th>\n",
       "      <th>9</th>\n",
       "      <th>...</th>\n",
       "      <th>18</th>\n",
       "      <th>19</th>\n",
       "      <th>20</th>\n",
       "      <th>21</th>\n",
       "      <th>22</th>\n",
       "      <th>23</th>\n",
       "      <th>24</th>\n",
       "      <th>25</th>\n",
       "      <th>26</th>\n",
       "      <th>27</th>\n",
       "    </tr>\n",
       "  </thead>\n",
       "  <tbody>\n",
       "    <tr>\n",
       "      <th>0</th>\n",
       "      <td>blues.00001.wav</td>\n",
       "      <td>0.3409832</td>\n",
       "      <td>0.095918424</td>\n",
       "      <td>1529.8353159300755</td>\n",
       "      <td>2038.6175789692213</td>\n",
       "      <td>3548.8202074363876</td>\n",
       "      <td>0.056044256724071206</td>\n",
       "      <td>-207.5568</td>\n",
       "      <td>124.00672</td>\n",
       "      <td>8.93056</td>\n",
       "      <td>...</td>\n",
       "      <td>5.376803</td>\n",
       "      <td>-2.2391195</td>\n",
       "      <td>4.2169633</td>\n",
       "      <td>-6.0122733</td>\n",
       "      <td>0.9361094</td>\n",
       "      <td>-0.71653724</td>\n",
       "      <td>0.29387605</td>\n",
       "      <td>-0.2874308</td>\n",
       "      <td>0.5315728</td>\n",
       "      <td>blues</td>\n",
       "    </tr>\n",
       "  </tbody>\n",
       "</table>\n",
       "<p>1 rows × 28 columns</p>\n",
       "</div>"
      ],
      "text/plain": [
       "                0          1            2                   3   \\\n",
       "0  blues.00001.wav  0.3409832  0.095918424  1529.8353159300755   \n",
       "\n",
       "                   4                   5                     6          7   \\\n",
       "0  2038.6175789692213  3548.8202074363876  0.056044256724071206  -207.5568   \n",
       "\n",
       "          8        9   ...        18          19         20          21  \\\n",
       "0  124.00672  8.93056  ...  5.376803  -2.2391195  4.2169633  -6.0122733   \n",
       "\n",
       "          22           23          24          25         26     27  \n",
       "0  0.9361094  -0.71653724  0.29387605  -0.2874308  0.5315728  blues  \n",
       "\n",
       "[1 rows x 28 columns]"
      ]
     },
     "execution_count": 60,
     "metadata": {},
     "output_type": "execute_result"
    }
   ],
   "source": [
    "# 將每一數據新增到 DataFrame\n",
    "# 正確\n",
    "import pandas as pd\n",
    "data = pd.DataFrame()\n",
    "data = data.append(pd.DataFrame(row.reshape(1, -1)))\n",
    "data"
   ]
  },
  {
   "cell_type": "code",
   "execution_count": 63,
   "id": "c260d00c",
   "metadata": {},
   "outputs": [
    {
     "data": {
      "text/html": [
       "<div>\n",
       "<style scoped>\n",
       "    .dataframe tbody tr th:only-of-type {\n",
       "        vertical-align: middle;\n",
       "    }\n",
       "\n",
       "    .dataframe tbody tr th {\n",
       "        vertical-align: top;\n",
       "    }\n",
       "\n",
       "    .dataframe thead th {\n",
       "        text-align: right;\n",
       "    }\n",
       "</style>\n",
       "<table border=\"1\" class=\"dataframe\">\n",
       "  <thead>\n",
       "    <tr style=\"text-align: right;\">\n",
       "      <th></th>\n",
       "      <th>0</th>\n",
       "      <th>1</th>\n",
       "      <th>2</th>\n",
       "      <th>3</th>\n",
       "      <th>4</th>\n",
       "      <th>5</th>\n",
       "      <th>6</th>\n",
       "      <th>7</th>\n",
       "      <th>8</th>\n",
       "      <th>9</th>\n",
       "      <th>...</th>\n",
       "      <th>18</th>\n",
       "      <th>19</th>\n",
       "      <th>20</th>\n",
       "      <th>21</th>\n",
       "      <th>22</th>\n",
       "      <th>23</th>\n",
       "      <th>24</th>\n",
       "      <th>25</th>\n",
       "      <th>26</th>\n",
       "      <th>27</th>\n",
       "    </tr>\n",
       "  </thead>\n",
       "  <tbody>\n",
       "    <tr>\n",
       "      <th>0</th>\n",
       "      <td>blues.00000.wav</td>\n",
       "      <td>0.34994322</td>\n",
       "      <td>0.13022463</td>\n",
       "      <td>1784.4204464946633</td>\n",
       "      <td>2002.6501916232635</td>\n",
       "      <td>3806.4853160373937</td>\n",
       "      <td>0.08306639113293343</td>\n",
       "      <td>-113.59675</td>\n",
       "      <td>121.5573</td>\n",
       "      <td>-19.158825</td>\n",
       "      <td>...</td>\n",
       "      <td>8.810669</td>\n",
       "      <td>-3.6673682</td>\n",
       "      <td>5.751691</td>\n",
       "      <td>-5.1627626</td>\n",
       "      <td>0.75094783</td>\n",
       "      <td>-1.6919376</td>\n",
       "      <td>-0.40995264</td>\n",
       "      <td>-2.3002088</td>\n",
       "      <td>1.2199285</td>\n",
       "      <td>blues</td>\n",
       "    </tr>\n",
       "    <tr>\n",
       "      <th>0</th>\n",
       "      <td>blues.00001.wav</td>\n",
       "      <td>0.3409832</td>\n",
       "      <td>0.095918424</td>\n",
       "      <td>1529.8353159300755</td>\n",
       "      <td>2038.6175789692213</td>\n",
       "      <td>3548.8202074363876</td>\n",
       "      <td>0.056044256724071206</td>\n",
       "      <td>-207.5568</td>\n",
       "      <td>124.00672</td>\n",
       "      <td>8.93056</td>\n",
       "      <td>...</td>\n",
       "      <td>5.376803</td>\n",
       "      <td>-2.2391195</td>\n",
       "      <td>4.2169633</td>\n",
       "      <td>-6.0122733</td>\n",
       "      <td>0.9361094</td>\n",
       "      <td>-0.71653724</td>\n",
       "      <td>0.29387605</td>\n",
       "      <td>-0.2874308</td>\n",
       "      <td>0.5315728</td>\n",
       "      <td>blues</td>\n",
       "    </tr>\n",
       "    <tr>\n",
       "      <th>0</th>\n",
       "      <td>blues.00002.wav</td>\n",
       "      <td>0.36360285</td>\n",
       "      <td>0.17557304</td>\n",
       "      <td>1552.4819582458863</td>\n",
       "      <td>1747.1659849613065</td>\n",
       "      <td>3040.514947755418</td>\n",
       "      <td>0.07630074799245357</td>\n",
       "      <td>-90.75439</td>\n",
       "      <td>140.4599</td>\n",
       "      <td>-29.109964</td>\n",
       "      <td>...</td>\n",
       "      <td>5.789265</td>\n",
       "      <td>-8.905224</td>\n",
       "      <td>-1.08372</td>\n",
       "      <td>-9.218358</td>\n",
       "      <td>2.455806</td>\n",
       "      <td>-7.726901</td>\n",
       "      <td>-1.815723</td>\n",
       "      <td>-3.4334342</td>\n",
       "      <td>-2.2268214</td>\n",
       "      <td>blues</td>\n",
       "    </tr>\n",
       "    <tr>\n",
       "      <th>0</th>\n",
       "      <td>blues.00003.wav</td>\n",
       "      <td>0.404779</td>\n",
       "      <td>0.14119118</td>\n",
       "      <td>1070.1199533246056</td>\n",
       "      <td>1596.333947762686</td>\n",
       "      <td>2185.028454098539</td>\n",
       "      <td>0.03330894446594427</td>\n",
       "      <td>-199.43115</td>\n",
       "      <td>150.09921</td>\n",
       "      <td>5.647593</td>\n",
       "      <td>...</td>\n",
       "      <td>6.087676</td>\n",
       "      <td>-2.4764209</td>\n",
       "      <td>-1.0738901</td>\n",
       "      <td>-2.8747776</td>\n",
       "      <td>0.78097713</td>\n",
       "      <td>-3.316932</td>\n",
       "      <td>0.6379816</td>\n",
       "      <td>-0.61968994</td>\n",
       "      <td>-3.4082334</td>\n",
       "      <td>blues</td>\n",
       "    </tr>\n",
       "    <tr>\n",
       "      <th>0</th>\n",
       "      <td>blues.00004.wav</td>\n",
       "      <td>0.3085901</td>\n",
       "      <td>0.09156322</td>\n",
       "      <td>1835.4946028033319</td>\n",
       "      <td>1748.3624480992835</td>\n",
       "      <td>3580.945013182082</td>\n",
       "      <td>0.1015001421004257</td>\n",
       "      <td>-160.26604</td>\n",
       "      <td>126.19881</td>\n",
       "      <td>-35.60545</td>\n",
       "      <td>...</td>\n",
       "      <td>-2.8063834</td>\n",
       "      <td>-6.934123</td>\n",
       "      <td>-7.558618</td>\n",
       "      <td>-9.173553</td>\n",
       "      <td>-4.5121646</td>\n",
       "      <td>-5.4535384</td>\n",
       "      <td>-0.9241607</td>\n",
       "      <td>-4.4093328</td>\n",
       "      <td>-11.703781</td>\n",
       "      <td>blues</td>\n",
       "    </tr>\n",
       "  </tbody>\n",
       "</table>\n",
       "<p>5 rows × 28 columns</p>\n",
       "</div>"
      ],
      "text/plain": [
       "                0           1            2                   3   \\\n",
       "0  blues.00000.wav  0.34994322   0.13022463  1784.4204464946633   \n",
       "0  blues.00001.wav   0.3409832  0.095918424  1529.8353159300755   \n",
       "0  blues.00002.wav  0.36360285   0.17557304  1552.4819582458863   \n",
       "0  blues.00003.wav    0.404779   0.14119118  1070.1199533246056   \n",
       "0  blues.00004.wav   0.3085901   0.09156322  1835.4946028033319   \n",
       "\n",
       "                   4                   5                     6           7   \\\n",
       "0  2002.6501916232635  3806.4853160373937   0.08306639113293343  -113.59675   \n",
       "0  2038.6175789692213  3548.8202074363876  0.056044256724071206   -207.5568   \n",
       "0  1747.1659849613065   3040.514947755418   0.07630074799245357   -90.75439   \n",
       "0   1596.333947762686   2185.028454098539   0.03330894446594427  -199.43115   \n",
       "0  1748.3624480992835   3580.945013182082    0.1015001421004257  -160.26604   \n",
       "\n",
       "          8           9   ...          18          19          20          21  \\\n",
       "0   121.5573  -19.158825  ...    8.810669  -3.6673682    5.751691  -5.1627626   \n",
       "0  124.00672     8.93056  ...    5.376803  -2.2391195   4.2169633  -6.0122733   \n",
       "0   140.4599  -29.109964  ...    5.789265   -8.905224    -1.08372   -9.218358   \n",
       "0  150.09921    5.647593  ...    6.087676  -2.4764209  -1.0738901  -2.8747776   \n",
       "0  126.19881   -35.60545  ...  -2.8063834   -6.934123   -7.558618   -9.173553   \n",
       "\n",
       "           22           23           24           25          26     27  \n",
       "0  0.75094783   -1.6919376  -0.40995264   -2.3002088   1.2199285  blues  \n",
       "0   0.9361094  -0.71653724   0.29387605   -0.2874308   0.5315728  blues  \n",
       "0    2.455806    -7.726901    -1.815723   -3.4334342  -2.2268214  blues  \n",
       "0  0.78097713    -3.316932    0.6379816  -0.61968994  -3.4082334  blues  \n",
       "0  -4.5121646   -5.4535384   -0.9241607   -4.4093328  -11.703781  blues  \n",
       "\n",
       "[5 rows x 28 columns]"
      ]
     },
     "execution_count": 63,
     "metadata": {},
     "output_type": "execute_result"
    }
   ],
   "source": [
    "# .. .. .. .. .. .. .. .......... .. <-- header\n",
    "# NN NN NN NN NN NN NN .mfcc1-20. NN <-- np.hstack((.., .., .., ..))\n",
    "# NN NN NN NN NN NN NN .mfcc1-20. NN <-- np.hstack((.., .., .., ..))\n",
    "import pandas as pd\n",
    "data = pd.DataFrame()\n",
    "for songname in df[:5]['filename'].tolist():\n",
    "    #print(songname)\n",
    "    label = df[df.filename==songname]['style'].tolist()[0]\n",
    "    y, sr = librosa.load(songname, mono=True, duration=30)\n",
    "    chroma_stft = librosa.feature.chroma_stft(y=y, sr=sr)\n",
    "    rmse = librosa.feature.rms(y=y)[0]\n",
    "    spec_cent = librosa.feature.spectral_centroid(y=y, sr=sr)\n",
    "    spec_bw = librosa.feature.spectral_bandwidth(y=y, sr=sr)\n",
    "    rolloff = librosa.feature.spectral_rolloff(y=y, sr=sr)\n",
    "    zcr = librosa.feature.zero_crossing_rate(y)\n",
    "    mfcc = librosa.feature.mfcc(y=y, sr=sr)\n",
    "    \n",
    "\n",
    "    row=np.hstack(\n",
    "              ( songname.split('/')[-1],\n",
    "                np.mean(chroma_stft),\n",
    "                np.mean(rmse),\n",
    "                np.mean(spec_cent),\n",
    "                np.mean(spec_bw),\n",
    "                np.mean(rolloff),\n",
    "                np.mean(zcr),                \n",
    "                np.mean(mfcc, axis=1),\n",
    "                label\n",
    "               \n",
    "              ) \n",
    "             )\n",
    "    data = data.append(pd.DataFrame(row.reshape(1, -1)))\n",
    "    \n",
    "data"
   ]
  },
  {
   "cell_type": "code",
   "execution_count": 64,
   "id": "a52507e9",
   "metadata": {},
   "outputs": [
    {
     "name": "stdout",
     "output_type": "stream",
     "text": [
      "['filename', 'chroma_stft', 'rmse', 'spectral_centroid', 'spectral_bandwidth', 'rolloff', 'zero_crossing_rate', 'mfcc1', 'mfcc2', 'mfcc3', 'mfcc4', 'mfcc5', 'mfcc6', 'mfcc7', 'mfcc8', 'mfcc9', 'mfcc10', 'mfcc11', 'mfcc12', 'mfcc13', 'mfcc14', 'mfcc15', 'mfcc16', 'mfcc17', 'mfcc18', 'mfcc19', 'mfcc20', 'style']\n"
     ]
    }
   ],
   "source": [
    "# 標題\n",
    "# dataFrame \n",
    "cols = ['filename', 'chroma_stft', 'rmse', 'spectral_centroid', 'spectral_bandwidth', 'rolloff', 'zero_crossing_rate']\n",
    "for m in range(1, 21):\n",
    "    cols.append('mfcc' + str(m))\n",
    "cols.append('style')\n",
    "print(cols)"
   ]
  },
  {
   "cell_type": "code",
   "execution_count": 67,
   "id": "aaf43b4e",
   "metadata": {},
   "outputs": [
    {
     "data": {
      "text/html": [
       "<div>\n",
       "<style scoped>\n",
       "    .dataframe tbody tr th:only-of-type {\n",
       "        vertical-align: middle;\n",
       "    }\n",
       "\n",
       "    .dataframe tbody tr th {\n",
       "        vertical-align: top;\n",
       "    }\n",
       "\n",
       "    .dataframe thead th {\n",
       "        text-align: right;\n",
       "    }\n",
       "</style>\n",
       "<table border=\"1\" class=\"dataframe\">\n",
       "  <thead>\n",
       "    <tr style=\"text-align: right;\">\n",
       "      <th></th>\n",
       "      <th>filename</th>\n",
       "      <th>chroma_stft</th>\n",
       "      <th>rmse</th>\n",
       "      <th>spectral_centroid</th>\n",
       "      <th>spectral_bandwidth</th>\n",
       "      <th>rolloff</th>\n",
       "      <th>zero_crossing_rate</th>\n",
       "      <th>mfcc1</th>\n",
       "      <th>mfcc2</th>\n",
       "      <th>mfcc3</th>\n",
       "      <th>...</th>\n",
       "      <th>mfcc12</th>\n",
       "      <th>mfcc13</th>\n",
       "      <th>mfcc14</th>\n",
       "      <th>mfcc15</th>\n",
       "      <th>mfcc16</th>\n",
       "      <th>mfcc17</th>\n",
       "      <th>mfcc18</th>\n",
       "      <th>mfcc19</th>\n",
       "      <th>mfcc20</th>\n",
       "      <th>style</th>\n",
       "    </tr>\n",
       "  </thead>\n",
       "  <tbody>\n",
       "    <tr>\n",
       "      <th>0</th>\n",
       "      <td>blues.00000.wav</td>\n",
       "      <td>0.34994322</td>\n",
       "      <td>0.13022463</td>\n",
       "      <td>1784.4204464946633</td>\n",
       "      <td>2002.6501916232635</td>\n",
       "      <td>3806.4853160373937</td>\n",
       "      <td>0.08306639113293343</td>\n",
       "      <td>-113.59675</td>\n",
       "      <td>121.5573</td>\n",
       "      <td>-19.158825</td>\n",
       "      <td>...</td>\n",
       "      <td>8.810669</td>\n",
       "      <td>-3.6673682</td>\n",
       "      <td>5.751691</td>\n",
       "      <td>-5.1627626</td>\n",
       "      <td>0.75094783</td>\n",
       "      <td>-1.6919376</td>\n",
       "      <td>-0.40995264</td>\n",
       "      <td>-2.3002088</td>\n",
       "      <td>1.2199285</td>\n",
       "      <td>blues</td>\n",
       "    </tr>\n",
       "    <tr>\n",
       "      <th>0</th>\n",
       "      <td>blues.00001.wav</td>\n",
       "      <td>0.3409832</td>\n",
       "      <td>0.095918424</td>\n",
       "      <td>1529.8353159300755</td>\n",
       "      <td>2038.6175789692213</td>\n",
       "      <td>3548.8202074363876</td>\n",
       "      <td>0.056044256724071206</td>\n",
       "      <td>-207.5568</td>\n",
       "      <td>124.00672</td>\n",
       "      <td>8.93056</td>\n",
       "      <td>...</td>\n",
       "      <td>5.376803</td>\n",
       "      <td>-2.2391195</td>\n",
       "      <td>4.2169633</td>\n",
       "      <td>-6.0122733</td>\n",
       "      <td>0.9361094</td>\n",
       "      <td>-0.71653724</td>\n",
       "      <td>0.29387605</td>\n",
       "      <td>-0.2874308</td>\n",
       "      <td>0.5315728</td>\n",
       "      <td>blues</td>\n",
       "    </tr>\n",
       "    <tr>\n",
       "      <th>0</th>\n",
       "      <td>blues.00002.wav</td>\n",
       "      <td>0.36360285</td>\n",
       "      <td>0.17557304</td>\n",
       "      <td>1552.4819582458863</td>\n",
       "      <td>1747.1659849613065</td>\n",
       "      <td>3040.514947755418</td>\n",
       "      <td>0.07630074799245357</td>\n",
       "      <td>-90.75439</td>\n",
       "      <td>140.4599</td>\n",
       "      <td>-29.109964</td>\n",
       "      <td>...</td>\n",
       "      <td>5.789265</td>\n",
       "      <td>-8.905224</td>\n",
       "      <td>-1.08372</td>\n",
       "      <td>-9.218358</td>\n",
       "      <td>2.455806</td>\n",
       "      <td>-7.726901</td>\n",
       "      <td>-1.815723</td>\n",
       "      <td>-3.4334342</td>\n",
       "      <td>-2.2268214</td>\n",
       "      <td>blues</td>\n",
       "    </tr>\n",
       "  </tbody>\n",
       "</table>\n",
       "<p>3 rows × 28 columns</p>\n",
       "</div>"
      ],
      "text/plain": [
       "          filename chroma_stft         rmse   spectral_centroid  \\\n",
       "0  blues.00000.wav  0.34994322   0.13022463  1784.4204464946633   \n",
       "0  blues.00001.wav   0.3409832  0.095918424  1529.8353159300755   \n",
       "0  blues.00002.wav  0.36360285   0.17557304  1552.4819582458863   \n",
       "\n",
       "   spectral_bandwidth             rolloff    zero_crossing_rate       mfcc1  \\\n",
       "0  2002.6501916232635  3806.4853160373937   0.08306639113293343  -113.59675   \n",
       "0  2038.6175789692213  3548.8202074363876  0.056044256724071206   -207.5568   \n",
       "0  1747.1659849613065   3040.514947755418   0.07630074799245357   -90.75439   \n",
       "\n",
       "       mfcc2       mfcc3  ...    mfcc12      mfcc13     mfcc14      mfcc15  \\\n",
       "0   121.5573  -19.158825  ...  8.810669  -3.6673682   5.751691  -5.1627626   \n",
       "0  124.00672     8.93056  ...  5.376803  -2.2391195  4.2169633  -6.0122733   \n",
       "0   140.4599  -29.109964  ...  5.789265   -8.905224   -1.08372   -9.218358   \n",
       "\n",
       "       mfcc16       mfcc17       mfcc18      mfcc19      mfcc20  style  \n",
       "0  0.75094783   -1.6919376  -0.40995264  -2.3002088   1.2199285  blues  \n",
       "0   0.9361094  -0.71653724   0.29387605  -0.2874308   0.5315728  blues  \n",
       "0    2.455806    -7.726901    -1.815723  -3.4334342  -2.2268214  blues  \n",
       "\n",
       "[3 rows x 28 columns]"
      ]
     },
     "execution_count": 67,
     "metadata": {},
     "output_type": "execute_result"
    }
   ],
   "source": [
    "data.columns = cols \n",
    "data[:3]"
   ]
  },
  {
   "cell_type": "code",
   "execution_count": 68,
   "id": "7fc30cf2",
   "metadata": {
    "collapsed": true
   },
   "outputs": [
    {
     "data": {
      "text/plain": [
       "filename              object\n",
       "chroma_stft           object\n",
       "rmse                  object\n",
       "spectral_centroid     object\n",
       "spectral_bandwidth    object\n",
       "rolloff               object\n",
       "zero_crossing_rate    object\n",
       "mfcc1                 object\n",
       "mfcc2                 object\n",
       "mfcc3                 object\n",
       "mfcc4                 object\n",
       "mfcc5                 object\n",
       "mfcc6                 object\n",
       "mfcc7                 object\n",
       "mfcc8                 object\n",
       "mfcc9                 object\n",
       "mfcc10                object\n",
       "mfcc11                object\n",
       "mfcc12                object\n",
       "mfcc13                object\n",
       "mfcc14                object\n",
       "mfcc15                object\n",
       "mfcc16                object\n",
       "mfcc17                object\n",
       "mfcc18                object\n",
       "mfcc19                object\n",
       "mfcc20                object\n",
       "style                 object\n",
       "dtype: object"
      ]
     },
     "execution_count": 68,
     "metadata": {},
     "output_type": "execute_result"
    }
   ],
   "source": [
    "# 注意資料型態\n",
    "data.dtypes"
   ]
  }
 ],
 "metadata": {
  "kernelspec": {
   "display_name": "Python 3 (ipykernel)",
   "language": "python",
   "name": "python3"
  },
  "language_info": {
   "codemirror_mode": {
    "name": "ipython",
    "version": 3
   },
   "file_extension": ".py",
   "mimetype": "text/x-python",
   "name": "python",
   "nbconvert_exporter": "python",
   "pygments_lexer": "ipython3",
   "version": "3.8.8"
  }
 },
 "nbformat": 4,
 "nbformat_minor": 5
}
