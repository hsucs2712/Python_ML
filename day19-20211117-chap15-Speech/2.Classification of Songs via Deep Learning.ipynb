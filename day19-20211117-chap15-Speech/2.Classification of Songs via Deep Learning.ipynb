{
 "cells": [
  {
   "cell_type": "code",
   "execution_count": 3,
   "id": "91b85b7c",
   "metadata": {},
   "outputs": [
    {
     "data": {
      "text/html": [
       "<div>\n",
       "<style scoped>\n",
       "    .dataframe tbody tr th:only-of-type {\n",
       "        vertical-align: middle;\n",
       "    }\n",
       "\n",
       "    .dataframe tbody tr th {\n",
       "        vertical-align: top;\n",
       "    }\n",
       "\n",
       "    .dataframe thead th {\n",
       "        text-align: right;\n",
       "    }\n",
       "</style>\n",
       "<table border=\"1\" class=\"dataframe\">\n",
       "  <thead>\n",
       "    <tr style=\"text-align: right;\">\n",
       "      <th></th>\n",
       "      <th>filename</th>\n",
       "      <th>chroma_stft</th>\n",
       "      <th>rmse</th>\n",
       "      <th>spectral_centroid</th>\n",
       "      <th>spectral_bandwidth</th>\n",
       "      <th>rolloff</th>\n",
       "      <th>zero_crossing_rate</th>\n",
       "      <th>mfcc1</th>\n",
       "      <th>mfcc2</th>\n",
       "      <th>mfcc3</th>\n",
       "      <th>...</th>\n",
       "      <th>mfcc12</th>\n",
       "      <th>mfcc13</th>\n",
       "      <th>mfcc14</th>\n",
       "      <th>mfcc15</th>\n",
       "      <th>mfcc16</th>\n",
       "      <th>mfcc17</th>\n",
       "      <th>mfcc18</th>\n",
       "      <th>mfcc19</th>\n",
       "      <th>mfcc20</th>\n",
       "      <th>style</th>\n",
       "    </tr>\n",
       "  </thead>\n",
       "  <tbody>\n",
       "    <tr>\n",
       "      <th>0</th>\n",
       "      <td>blues.00000.wav</td>\n",
       "      <td>0.34994322</td>\n",
       "      <td>0.13022463</td>\n",
       "      <td>1784.4204464946633</td>\n",
       "      <td>2002.6501916232635</td>\n",
       "      <td>3806.4853160373937</td>\n",
       "      <td>0.08306639113293343</td>\n",
       "      <td>-113.59675</td>\n",
       "      <td>121.5573</td>\n",
       "      <td>-19.158825</td>\n",
       "      <td>...</td>\n",
       "      <td>8.810669</td>\n",
       "      <td>-3.6673682</td>\n",
       "      <td>5.751691</td>\n",
       "      <td>-5.1627626</td>\n",
       "      <td>0.75094783</td>\n",
       "      <td>-1.6919376</td>\n",
       "      <td>-0.40995264</td>\n",
       "      <td>-2.3002088</td>\n",
       "      <td>1.2199285</td>\n",
       "      <td>blues</td>\n",
       "    </tr>\n",
       "    <tr>\n",
       "      <th>0</th>\n",
       "      <td>blues.00001.wav</td>\n",
       "      <td>0.3409832</td>\n",
       "      <td>0.095918424</td>\n",
       "      <td>1529.8353159300755</td>\n",
       "      <td>2038.6175789692213</td>\n",
       "      <td>3548.8202074363876</td>\n",
       "      <td>0.056044256724071206</td>\n",
       "      <td>-207.5568</td>\n",
       "      <td>124.00672</td>\n",
       "      <td>8.93056</td>\n",
       "      <td>...</td>\n",
       "      <td>5.376803</td>\n",
       "      <td>-2.2391195</td>\n",
       "      <td>4.2169633</td>\n",
       "      <td>-6.0122733</td>\n",
       "      <td>0.9361094</td>\n",
       "      <td>-0.71653724</td>\n",
       "      <td>0.29387605</td>\n",
       "      <td>-0.2874308</td>\n",
       "      <td>0.5315728</td>\n",
       "      <td>blues</td>\n",
       "    </tr>\n",
       "    <tr>\n",
       "      <th>0</th>\n",
       "      <td>blues.00002.wav</td>\n",
       "      <td>0.36360285</td>\n",
       "      <td>0.17557304</td>\n",
       "      <td>1552.4819582458863</td>\n",
       "      <td>1747.1659849613065</td>\n",
       "      <td>3040.514947755418</td>\n",
       "      <td>0.07630074799245357</td>\n",
       "      <td>-90.75439</td>\n",
       "      <td>140.4599</td>\n",
       "      <td>-29.109964</td>\n",
       "      <td>...</td>\n",
       "      <td>5.789265</td>\n",
       "      <td>-8.905224</td>\n",
       "      <td>-1.08372</td>\n",
       "      <td>-9.218358</td>\n",
       "      <td>2.455806</td>\n",
       "      <td>-7.726901</td>\n",
       "      <td>-1.815723</td>\n",
       "      <td>-3.4334342</td>\n",
       "      <td>-2.2268214</td>\n",
       "      <td>blues</td>\n",
       "    </tr>\n",
       "  </tbody>\n",
       "</table>\n",
       "<p>3 rows × 28 columns</p>\n",
       "</div>"
      ],
      "text/plain": [
       "          filename chroma_stft         rmse   spectral_centroid  \\\n",
       "0  blues.00000.wav  0.34994322   0.13022463  1784.4204464946633   \n",
       "0  blues.00001.wav   0.3409832  0.095918424  1529.8353159300755   \n",
       "0  blues.00002.wav  0.36360285   0.17557304  1552.4819582458863   \n",
       "\n",
       "   spectral_bandwidth             rolloff    zero_crossing_rate       mfcc1  \\\n",
       "0  2002.6501916232635  3806.4853160373937   0.08306639113293343  -113.59675   \n",
       "0  2038.6175789692213  3548.8202074363876  0.056044256724071206   -207.5568   \n",
       "0  1747.1659849613065   3040.514947755418   0.07630074799245357   -90.75439   \n",
       "\n",
       "       mfcc2       mfcc3  ...    mfcc12      mfcc13     mfcc14      mfcc15  \\\n",
       "0   121.5573  -19.158825  ...  8.810669  -3.6673682   5.751691  -5.1627626   \n",
       "0  124.00672     8.93056  ...  5.376803  -2.2391195  4.2169633  -6.0122733   \n",
       "0   140.4599  -29.109964  ...  5.789265   -8.905224   -1.08372   -9.218358   \n",
       "\n",
       "       mfcc16       mfcc17       mfcc18      mfcc19      mfcc20  style  \n",
       "0  0.75094783   -1.6919376  -0.40995264  -2.3002088   1.2199285  blues  \n",
       "0   0.9361094  -0.71653724   0.29387605  -0.2874308   0.5315728  blues  \n",
       "0    2.455806    -7.726901    -1.815723  -3.4334342  -2.2268214  blues  \n",
       "\n",
       "[3 rows x 28 columns]"
      ]
     },
     "execution_count": 3,
     "metadata": {},
     "output_type": "execute_result"
    }
   ],
   "source": [
    "############################\n",
    "#For skip data preprocessing\n",
    "############################\n",
    "import pandas as pd\n",
    "sample = pd.read_pickle('data.pickle')\n",
    "sample[:3]"
   ]
  },
  {
   "cell_type": "code",
   "execution_count": 4,
   "id": "7e679992",
   "metadata": {},
   "outputs": [],
   "source": [
    "# X, y\n",
    "# y <-- one-hot encoder or label encoder\n",
    "# X <-- data type astype('float32')\n",
    "# standarization(optional)\n",
    "# train_test_split\n",
    "# build model with algorithm\n",
    "# model.fit\n",
    "# model.score & model.predict"
   ]
  },
  {
   "cell_type": "code",
   "execution_count": 5,
   "id": "f3d636df",
   "metadata": {},
   "outputs": [
    {
     "data": {
      "text/plain": [
       "array([0, 0, 0])"
      ]
     },
     "execution_count": 5,
     "metadata": {},
     "output_type": "execute_result"
    }
   ],
   "source": [
    "# y \n",
    "from sklearn.preprocessing import LabelEncoder\n",
    "le = LabelEncoder()\n",
    "y_raw = sample.iloc[:, -1].values\n",
    "y = le.fit_transform(y_raw)\n",
    "y[:3]"
   ]
  },
  {
   "cell_type": "code",
   "execution_count": 6,
   "id": "319db573",
   "metadata": {},
   "outputs": [
    {
     "data": {
      "text/plain": [
       "array([[ 3.49943221e-01,  1.30224630e-01,  1.78442041e+03,\n",
       "         2.00265015e+03,  3.80648535e+03,  8.30663890e-02,\n",
       "        -1.13596748e+02,  1.21557297e+02, -1.91588249e+01,\n",
       "         4.23510323e+01, -6.37645817e+00,  1.86188755e+01,\n",
       "        -1.36979113e+01,  1.53446312e+01, -1.22852669e+01,\n",
       "         1.09804916e+01, -8.32432461e+00,  8.81066895e+00,\n",
       "        -3.66736817e+00,  5.75169086e+00, -5.16276264e+00,\n",
       "         7.50947833e-01, -1.69193757e+00, -4.09952641e-01,\n",
       "        -2.30020881e+00,  1.21992850e+00],\n",
       "       [ 3.40983212e-01,  9.59184244e-02,  1.52983533e+03,\n",
       "         2.03861755e+03,  3.54882031e+03,  5.60442582e-02,\n",
       "        -2.07556793e+02,  1.24006721e+02,  8.93056011e+00,\n",
       "         3.58746872e+01,  2.91603684e+00,  2.15237255e+01,\n",
       "        -8.55470371e+00,  2.33586712e+01, -1.01036167e+01,\n",
       "         1.19037437e+01, -5.56038809e+00,  5.37680292e+00,\n",
       "        -2.23911953e+00,  4.21696329e+00, -6.01227331e+00,\n",
       "         9.36109424e-01, -7.16537237e-01,  2.93876052e-01,\n",
       "        -2.87430793e-01,  5.31572819e-01],\n",
       "       [ 3.63602847e-01,  1.75573036e-01,  1.55248193e+03,\n",
       "         1.74716602e+03,  3.04051489e+03,  7.63007477e-02,\n",
       "        -9.07543869e+01,  1.40459900e+02, -2.91099644e+01,\n",
       "         3.16890144e+01, -1.39870358e+01,  2.57547588e+01,\n",
       "        -1.36495867e+01,  1.16292715e+01, -1.17805891e+01,\n",
       "         9.70644283e+00, -1.31231108e+01,  5.78926516e+00,\n",
       "        -8.90522385e+00, -1.08371997e+00, -9.21835804e+00,\n",
       "         2.45580602e+00, -7.72690105e+00, -1.81572294e+00,\n",
       "        -3.43343425e+00, -2.22682142e+00]], dtype=float32)"
      ]
     },
     "execution_count": 6,
     "metadata": {},
     "output_type": "execute_result"
    }
   ],
   "source": [
    "# X 頭filename　尾style　不要\n",
    "X = sample.iloc[:, 1:-1].values.astype('float32')\n",
    "X[:3]"
   ]
  },
  {
   "cell_type": "code",
   "execution_count": 7,
   "id": "99ca3999",
   "metadata": {},
   "outputs": [],
   "source": [
    "# 加入資料前處理\n",
    "from sklearn.preprocessing import StandardScaler\n",
    "ss = StandardScaler()\n",
    "X_ss = ss.fit_transform(X)"
   ]
  },
  {
   "cell_type": "code",
   "execution_count": 8,
   "id": "7c684274",
   "metadata": {},
   "outputs": [],
   "source": [
    "# 分割數據\n",
    "from sklearn.model_selection import train_test_split\n",
    "X_train, X_test, y_train, y_test = train_test_split(X_ss, y, test_size=0.2, random_state=42)"
   ]
  },
  {
   "cell_type": "code",
   "execution_count": 9,
   "id": "5fc3486a",
   "metadata": {},
   "outputs": [
    {
     "data": {
      "text/plain": [
       "array([80, 87, 73, 79, 85, 78, 75, 87, 77, 79], dtype=int64)"
      ]
     },
     "execution_count": 9,
     "metadata": {},
     "output_type": "execute_result"
    }
   ],
   "source": [
    "# 確認數據種類 & 個數\n",
    "import numpy as np\n",
    "np.bincount(y_train)"
   ]
  },
  {
   "cell_type": "code",
   "execution_count": null,
   "id": "85e6c5b8",
   "metadata": {},
   "outputs": [],
   "source": []
  },
  {
   "cell_type": "code",
   "execution_count": 10,
   "id": "b9852ac3",
   "metadata": {},
   "outputs": [
    {
     "name": "stdout",
     "output_type": "stream",
     "text": [
      "Model: \"sequential_1\"\n",
      "_________________________________________________________________\n",
      "Layer (type)                 Output Shape              Param #   \n",
      "=================================================================\n",
      "dense (Dense)                (None, 256)               6912      \n",
      "_________________________________________________________________\n",
      "dense_1 (Dense)              (None, 128)               32896     \n",
      "_________________________________________________________________\n",
      "dense_2 (Dense)              (None, 64)                8256      \n",
      "_________________________________________________________________\n",
      "dense_3 (Dense)              (None, 10)                650       \n",
      "=================================================================\n",
      "Total params: 48,714\n",
      "Trainable params: 48,714\n",
      "Non-trainable params: 0\n",
      "_________________________________________________________________\n"
     ]
    }
   ],
   "source": [
    "# 導入函式庫\n",
    "import numpy as np  \n",
    "import keras\n",
    "from keras.layers import Dense, Activation #神經層\n",
    "from keras.utils import np_utils           # 用來後續將 label 標籤轉為 one-hot-encoding  \n",
    "\n",
    "\n",
    "# 建立簡單的線性執行的模型\n",
    "model = keras.models.Sequential()\n",
    "\n",
    "# Add Input layer, 隱藏層(hidden layer) 有 256個輸出變數\n",
    "model.add(Dense(units=256, input_dim=X_train.shape[1], \n",
    "                kernel_initializer='normal', activation='relu'))             # input + hidder layer\n",
    "model.add(Dense(units=128, kernel_initializer='normal', activation='relu'))  # hidder layer\n",
    "model.add(Dense(units=64, kernel_initializer='normal', activation='relu'))  # hidder layer\n",
    "model.add(Dense(units=10, kernel_initializer='normal', activation='softmax'))# Add output layer\n",
    "\n",
    "\n",
    "# 編譯: 選擇損失函數、優化方法及成效衡量方式\n",
    "model.compile(loss='categorical_crossentropy', optimizer='adam', metrics=['accuracy'])\n",
    "model.summary()"
   ]
  },
  {
   "cell_type": "code",
   "execution_count": 14,
   "id": "758112d5",
   "metadata": {},
   "outputs": [],
   "source": [
    "y_TrainOneHot = np_utils.to_categorical(y_train).astype('int32')\n",
    "y_TestOneHot = np_utils.to_categorical(y_test).astype('int32')"
   ]
  },
  {
   "cell_type": "code",
   "execution_count": 16,
   "id": "4d133e9b",
   "metadata": {},
   "outputs": [
    {
     "data": {
      "text/plain": [
       "(800, 26)"
      ]
     },
     "execution_count": 16,
     "metadata": {},
     "output_type": "execute_result"
    }
   ],
   "source": [
    "X_train.shape"
   ]
  },
  {
   "cell_type": "code",
   "execution_count": 19,
   "id": "a3597371",
   "metadata": {},
   "outputs": [
    {
     "name": "stdout",
     "output_type": "stream",
     "text": [
      "Epoch 1/10\n",
      "13/13 - 1s - loss: 0.5868 - accuracy: 0.8047 - val_loss: 1.1062 - val_accuracy: 0.6625\n",
      "Epoch 2/10\n",
      "13/13 - 0s - loss: 0.5377 - accuracy: 0.8188 - val_loss: 1.0872 - val_accuracy: 0.6812\n",
      "Epoch 3/10\n",
      "13/13 - 0s - loss: 0.5127 - accuracy: 0.8391 - val_loss: 1.1049 - val_accuracy: 0.6375\n",
      "Epoch 4/10\n",
      "13/13 - 0s - loss: 0.5028 - accuracy: 0.8344 - val_loss: 1.1082 - val_accuracy: 0.6687\n",
      "Epoch 5/10\n",
      "13/13 - 0s - loss: 0.4933 - accuracy: 0.8375 - val_loss: 1.1180 - val_accuracy: 0.6500\n",
      "Epoch 6/10\n",
      "13/13 - 1s - loss: 0.4644 - accuracy: 0.8562 - val_loss: 1.1097 - val_accuracy: 0.6750\n",
      "Epoch 7/10\n",
      "13/13 - 0s - loss: 0.4529 - accuracy: 0.8672 - val_loss: 1.1142 - val_accuracy: 0.6750\n",
      "Epoch 8/10\n",
      "13/13 - 1s - loss: 0.4388 - accuracy: 0.8594 - val_loss: 1.1116 - val_accuracy: 0.6687\n",
      "Epoch 9/10\n",
      "13/13 - 0s - loss: 0.4237 - accuracy: 0.8719 - val_loss: 1.1317 - val_accuracy: 0.6562\n",
      "Epoch 10/10\n",
      "13/13 - 0s - loss: 0.4116 - accuracy: 0.8703 - val_loss: 1.1132 - val_accuracy: 0.6875\n",
      "Done!!\n"
     ]
    }
   ],
   "source": [
    "# 進行訓練, 訓練過程會存在 train_history 變數中\n",
    "train_history = model.fit(x=X_train, \n",
    "                          y=y_TrainOneHot, \n",
    "                          validation_split=0.2, \n",
    "                          epochs=50, \n",
    "                          batch_size=10, \n",
    "                          verbose=2)  \n",
    "\n",
    "print('Done!!')"
   ]
  },
  {
   "cell_type": "code",
   "execution_count": 20,
   "id": "debf2a91",
   "metadata": {},
   "outputs": [
    {
     "name": "stdout",
     "output_type": "stream",
     "text": [
      "7/7 [==============================] - 0s 23ms/step - loss: 1.3848 - accuracy: 0.6000\n",
      "\n",
      "\t[Info] Accuracy of testing data = 60.0%\n"
     ]
    }
   ],
   "source": [
    "scores = model.evaluate(X_test, y_TestOneHot)  \n",
    "print()  \n",
    "print(\"\\t[Info] Accuracy of testing data = {:2.1f}%\".format(scores[1]*100.0))  \n"
   ]
  },
  {
   "cell_type": "code",
   "execution_count": 22,
   "id": "87c10f02",
   "metadata": {},
   "outputs": [
    {
     "data": {
      "image/png": "[encoded data removed]",
      "text/plain": [
       "<Figure size 432x288 with 1 Axes>"
      ]
     },
     "metadata": {
      "needs_background": "light"
     },
     "output_type": "display_data"
    }
   ],
   "source": [
    "%matplotlib inline\n",
    "import matplotlib.pyplot as plt\n",
    "plt.plot(train_history.history['loss'], color='red')\n",
    "plt.plot(train_history.history['val_loss'], color='blue')\n",
    "plt.show()"
   ]
  },
  {
   "cell_type": "code",
   "execution_count": 23,
   "id": "b20ee0ae",
   "metadata": {},
   "outputs": [
    {
     "data": {
      "image/png": "[encoded data removed]",
      "text/plain": [
       "<Figure size 432x288 with 1 Axes>"
      ]
     },
     "metadata": {
      "needs_background": "light"
     },
     "output_type": "display_data"
    }
   ],
   "source": [
    "%matplotlib inline\n",
    "import matplotlib.pyplot as plt\n",
    "plt.plot(train_history.history['accuracy'], color='red')\n",
    "plt.plot(train_history.history['val_accuracy'], color='blue')\n",
    "plt.show()"
   ]
  }
 ],
 "metadata": {
  "kernelspec": {
   "display_name": "Python 3 (ipykernel)",
   "language": "python",
   "name": "python3"
  },
  "language_info": {
   "codemirror_mode": {
    "name": "ipython",
    "version": 3
   },
   "file_extension": ".py",
   "mimetype": "text/x-python",
   "name": "python",
   "nbconvert_exporter": "python",
   "pygments_lexer": "ipython3",
   "version": "3.8.8"
  }
 },
 "nbformat": 4,
 "nbformat_minor": 5
}
