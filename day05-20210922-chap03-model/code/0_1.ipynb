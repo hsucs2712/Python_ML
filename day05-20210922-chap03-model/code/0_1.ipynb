{
 "cells": [
  {
   "cell_type": "code",
   "execution_count": 1,
   "metadata": {},
   "outputs": [
    {
     "name": "stderr",
     "output_type": "stream",
     "text": [
      "d:\\Anaconda3\\lib\\site-packages\\h5py\\__init__.py:36: FutureWarning: Conversion of the second argument of issubdtype from `float` to `np.floating` is deprecated. In future, it will be treated as `np.float64 == np.dtype(float).type`.\n",
      "  from ._conv import register_converters as _register_converters\n",
      "Using TensorFlow backend.\n"
     ]
    }
   ],
   "source": [
    "import numpy as np \n",
    "from keras.models import Sequential \n",
    "from keras.models import model_from_json\n",
    "#model = Sequential() \n",
    "with open(\"model.config\", \"r\") as text_file:\n",
    "    json_string = text_file.read()\n",
    "model = model_from_json(json_string)\n",
    "model.load_weights(\"model.weight\", by_name=False)\n"
   ]
  },
  {
   "cell_type": "code",
   "execution_count": 2,
   "metadata": {},
   "outputs": [
    {
     "name": "stdout",
     "output_type": "stream",
     "text": [
      "[9]\n",
      "[1]\n",
      "[2]\n",
      "[3]\n",
      "[4]\n",
      "[7]\n",
      "[6]\n",
      "[7]\n",
      "[5]\n",
      "[9]\n"
     ]
    }
   ],
   "source": [
    "# read my data\n",
    "for i in range(0, 10):\n",
    "    X2 = np.genfromtxt('./'+str(i)+'.csv', delimiter=',').astype('float32')  \n",
    "    X1 = X2.reshape(1,28*28) / 255\n",
    "    predictions = model.predict_classes(X1)\n",
    "    # get prediction result\n",
    "    print(predictions)\n"
   ]
  },
  {
   "cell_type": "code",
   "execution_count": null,
   "metadata": {},
   "outputs": [],
   "source": []
  }
 ],
 "metadata": {
  "kernelspec": {
   "display_name": "Python 3",
   "language": "python",
   "name": "python3"
  },
  "language_info": {
   "codemirror_mode": {
    "name": "ipython",
    "version": 3
   },
   "file_extension": ".py",
   "mimetype": "text/x-python",
   "name": "python",
   "nbconvert_exporter": "python",
   "pygments_lexer": "ipython3",
   "version": "3.6.4"
  }
 },
 "nbformat": 4,
 "nbformat_minor": 2
}
