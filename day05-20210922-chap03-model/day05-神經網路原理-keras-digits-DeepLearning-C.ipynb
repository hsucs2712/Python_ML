{
 "cells": [
  {
   "cell_type": "code",
   "execution_count": 1,
   "metadata": {},
   "outputs": [
    {
     "name": "stderr",
     "output_type": "stream",
     "text": [
      "Using TensorFlow backend.\n"
     ]
    },
    {
     "name": "stdout",
     "output_type": "stream",
     "text": [
      "Model: \"sequential_1\"\n",
      "_________________________________________________________________\n",
      "Layer (type)                 Output Shape              Param #   \n",
      "=================================================================\n",
      "dense_1 (Dense)              (None, 100)               78500     \n",
      "_________________________________________________________________\n",
      "dense_2 (Dense)              (None, 10)                1010      \n",
      "=================================================================\n",
      "Total params: 79,510\n",
      "Trainable params: 79,510\n",
      "Non-trainable params: 0\n",
      "_________________________________________________________________\n",
      "None\n"
     ]
    }
   ],
   "source": [
    "# 導入函式庫\n",
    "import numpy as np  \n",
    "import keras\n",
    "# from keras.models import Sequential\n",
    "from keras.datasets import mnist\n",
    "from keras.layers import Dense, Dropout, Activation, Flatten\n",
    "from keras.utils import np_utils  # 用來後續將 label 標籤轉為 one-hot-encoding  \n",
    "from matplotlib import pyplot as plt\n",
    "import os\n",
    "from datetime import datetime\n",
    "\n",
    "start=datetime.now()\n",
    "\n",
    "# 載入 MNIST 資料庫的訓練資料，並自動分為『訓練組』及『測試組』\n",
    "# 請使用sklearn.datasets.load_digits()\n",
    "(X_train, y_train), (X_test, y_test) = mnist.load_data() # <------------------------\n",
    "\n",
    "\n",
    "# 建立簡單的線性執行的模型\n",
    "model = keras.models.Sequential()\n",
    "# Add Input layer, 隱藏層(hidden layer) 有 256個輸出變數\n",
    "model.add(Dense(units=100, input_dim=784, kernel_initializer='normal', activation='relu')) \n",
    "# Add output layer\n",
    "model.add(Dense(units=10, kernel_initializer='normal', activation='softmax'))\n",
    "\n",
    "# 編譯: 選擇損失函數、優化方法及成效衡量方式\n",
    "model.compile(loss='categorical_crossentropy', optimizer='adam', metrics=['accuracy']) \n",
    "\n",
    "# 將 training 的 label 進行 one-hot encoding，例如數字 7 經過 One-hot encoding 轉換後是 0000001000，即第7個值為 1\n",
    "\n",
    "y_TestOneHot = np_utils.to_categorical(y_test) \n",
    "\n",
    "# 將 training 的 label 進行 one-hot encoding，例如數字 7 經過 One-hot encoding 轉換後是 0000001000，即第7個值為 1\n",
    "y_TrainOneHot = np_utils.to_categorical(y_train) \n",
    "y_TestOneHot = np_utils.to_categorical(y_test) \n",
    "\n",
    "\n",
    "# 將 training 的 input 資料轉為2維\n",
    "X_train_2D = X_train.reshape(60000, 28*28).astype('float32')  \n",
    "X_test_2D = X_test.reshape(10000, 28*28).astype('float32')  \n",
    "\n",
    "x_Train_norm = X_train_2D/1 #255\n",
    "x_Test_norm = X_test_2D/1   #255\n",
    "\n",
    "print(model.summary())"
   ]
  },
  {
   "cell_type": "code",
   "execution_count": 2,
   "metadata": {
    "collapsed": true
   },
   "outputs": [
    {
     "name": "stdout",
     "output_type": "stream",
     "text": [
      "Train on 48000 samples, validate on 12000 samples\n",
      "Epoch 1/50\n",
      " - 1s - loss: 2.8892 - accuracy: 0.8227 - val_loss: 0.6028 - val_accuracy: 0.8921\n",
      "Epoch 2/50\n",
      " - 1s - loss: 0.4184 - accuracy: 0.9123 - val_loss: 0.3632 - val_accuracy: 0.9221\n",
      "Epoch 3/50\n",
      " - 1s - loss: 0.2461 - accuracy: 0.9358 - val_loss: 0.3002 - val_accuracy: 0.9317\n",
      "Epoch 4/50\n",
      " - 1s - loss: 0.1783 - accuracy: 0.9506 - val_loss: 0.2608 - val_accuracy: 0.9355\n",
      "Epoch 5/50\n",
      " - 1s - loss: 0.1388 - accuracy: 0.9594 - val_loss: 0.2369 - val_accuracy: 0.9468\n",
      "Epoch 6/50\n",
      " - 1s - loss: 0.1157 - accuracy: 0.9654 - val_loss: 0.2367 - val_accuracy: 0.9426\n",
      "Epoch 7/50\n",
      " - 1s - loss: 0.1027 - accuracy: 0.9679 - val_loss: 0.2286 - val_accuracy: 0.9491\n",
      "Epoch 8/50\n",
      " - 1s - loss: 0.0893 - accuracy: 0.9729 - val_loss: 0.2380 - val_accuracy: 0.9484\n",
      "Epoch 9/50\n",
      " - 1s - loss: 0.0827 - accuracy: 0.9739 - val_loss: 0.2230 - val_accuracy: 0.9507\n",
      "Epoch 10/50\n",
      " - 1s - loss: 0.0792 - accuracy: 0.9746 - val_loss: 0.2441 - val_accuracy: 0.9487\n",
      "Epoch 11/50\n",
      " - 1s - loss: 0.0809 - accuracy: 0.9746 - val_loss: 0.2240 - val_accuracy: 0.9524\n",
      "Epoch 12/50\n",
      " - 1s - loss: 0.0672 - accuracy: 0.9784 - val_loss: 0.2403 - val_accuracy: 0.9535\n",
      "Epoch 13/50\n",
      " - 1s - loss: 0.0676 - accuracy: 0.9792 - val_loss: 0.2447 - val_accuracy: 0.9534\n",
      "Epoch 14/50\n",
      " - 1s - loss: 0.0750 - accuracy: 0.9782 - val_loss: 0.2521 - val_accuracy: 0.9527\n",
      "Epoch 15/50\n",
      " - 1s - loss: 0.0671 - accuracy: 0.9792 - val_loss: 0.2611 - val_accuracy: 0.9547\n",
      "Epoch 16/50\n",
      " - 1s - loss: 0.0612 - accuracy: 0.9811 - val_loss: 0.2486 - val_accuracy: 0.9540\n",
      "Epoch 17/50\n",
      " - 1s - loss: 0.0633 - accuracy: 0.9808 - val_loss: 0.2518 - val_accuracy: 0.9563\n",
      "Epoch 18/50\n",
      " - 1s - loss: 0.0648 - accuracy: 0.9812 - val_loss: 0.2725 - val_accuracy: 0.9557\n",
      "Epoch 19/50\n",
      " - 1s - loss: 0.0676 - accuracy: 0.9811 - val_loss: 0.2831 - val_accuracy: 0.9559\n",
      "Epoch 20/50\n",
      " - 1s - loss: 0.0671 - accuracy: 0.9814 - val_loss: 0.2990 - val_accuracy: 0.9550\n",
      "Epoch 21/50\n",
      " - 1s - loss: 0.0616 - accuracy: 0.9834 - val_loss: 0.2659 - val_accuracy: 0.9598\n",
      "Epoch 22/50\n",
      " - 1s - loss: 0.0535 - accuracy: 0.9851 - val_loss: 0.3011 - val_accuracy: 0.9583\n",
      "Epoch 23/50\n",
      " - 1s - loss: 0.0661 - accuracy: 0.9824 - val_loss: 0.3164 - val_accuracy: 0.9576\n",
      "Epoch 24/50\n",
      " - 1s - loss: 0.0571 - accuracy: 0.9842 - val_loss: 0.3110 - val_accuracy: 0.9598\n",
      "Epoch 25/50\n",
      " - 1s - loss: 0.0495 - accuracy: 0.9865 - val_loss: 0.3228 - val_accuracy: 0.9619\n",
      "Epoch 26/50\n",
      " - 1s - loss: 0.0585 - accuracy: 0.9856 - val_loss: 0.3001 - val_accuracy: 0.9620\n",
      "Epoch 27/50\n",
      " - 1s - loss: 0.0566 - accuracy: 0.9853 - val_loss: 0.3160 - val_accuracy: 0.9614\n",
      "Epoch 28/50\n",
      " - 1s - loss: 0.0494 - accuracy: 0.9868 - val_loss: 0.3150 - val_accuracy: 0.9617\n",
      "Epoch 29/50\n",
      " - 1s - loss: 0.0527 - accuracy: 0.9861 - val_loss: 0.3420 - val_accuracy: 0.9628\n",
      "Epoch 30/50\n",
      " - 1s - loss: 0.0628 - accuracy: 0.9864 - val_loss: 0.3673 - val_accuracy: 0.9587\n",
      "Epoch 31/50\n",
      " - 1s - loss: 0.0530 - accuracy: 0.9871 - val_loss: 0.3590 - val_accuracy: 0.9645\n",
      "Epoch 32/50\n",
      " - 1s - loss: 0.0459 - accuracy: 0.9887 - val_loss: 0.3875 - val_accuracy: 0.9629\n",
      "Epoch 33/50\n",
      " - 1s - loss: 0.0554 - accuracy: 0.9874 - val_loss: 0.3478 - val_accuracy: 0.9651\n",
      "Epoch 34/50\n",
      " - 1s - loss: 0.0428 - accuracy: 0.9896 - val_loss: 0.3684 - val_accuracy: 0.9652\n",
      "Epoch 35/50\n",
      " - 1s - loss: 0.0409 - accuracy: 0.9904 - val_loss: 0.3767 - val_accuracy: 0.9662\n",
      "Epoch 36/50\n",
      " - 1s - loss: 0.0520 - accuracy: 0.9877 - val_loss: 0.3596 - val_accuracy: 0.9657\n",
      "Epoch 37/50\n",
      " - 1s - loss: 0.0588 - accuracy: 0.9875 - val_loss: 0.4093 - val_accuracy: 0.9652\n",
      "Epoch 38/50\n",
      " - 1s - loss: 0.0477 - accuracy: 0.9894 - val_loss: 0.4062 - val_accuracy: 0.9672\n",
      "Epoch 39/50\n",
      " - 1s - loss: 0.0496 - accuracy: 0.9896 - val_loss: 0.4104 - val_accuracy: 0.9654\n",
      "Epoch 40/50\n",
      " - 1s - loss: 0.0428 - accuracy: 0.9902 - val_loss: 0.4200 - val_accuracy: 0.9657\n",
      "Epoch 41/50\n",
      " - 1s - loss: 0.0362 - accuracy: 0.9919 - val_loss: 0.4060 - val_accuracy: 0.9668\n",
      "Epoch 42/50\n",
      " - 1s - loss: 0.0361 - accuracy: 0.9918 - val_loss: 0.4655 - val_accuracy: 0.9664\n",
      "Epoch 43/50\n",
      " - 1s - loss: 0.0476 - accuracy: 0.9899 - val_loss: 0.4610 - val_accuracy: 0.9663\n",
      "Epoch 44/50\n",
      " - 1s - loss: 0.0369 - accuracy: 0.9918 - val_loss: 0.4575 - val_accuracy: 0.9687\n",
      "Epoch 45/50\n",
      " - 1s - loss: 0.0426 - accuracy: 0.9905 - val_loss: 0.4799 - val_accuracy: 0.9653\n",
      "Epoch 46/50\n",
      " - 1s - loss: 0.0437 - accuracy: 0.9906 - val_loss: 0.4707 - val_accuracy: 0.9668\n",
      "Epoch 47/50\n",
      " - 1s - loss: 0.0386 - accuracy: 0.9922 - val_loss: 0.4962 - val_accuracy: 0.9642\n",
      "Epoch 48/50\n",
      " - 1s - loss: 0.0383 - accuracy: 0.9920 - val_loss: 0.5418 - val_accuracy: 0.9649\n",
      "Epoch 49/50\n",
      " - 1s - loss: 0.0324 - accuracy: 0.9930 - val_loss: 0.5314 - val_accuracy: 0.9659\n",
      "Epoch 50/50\n",
      " - 1s - loss: 0.0392 - accuracy: 0.9921 - val_loss: 0.5690 - val_accuracy: 0.9655\n"
     ]
    }
   ],
   "source": [
    "# 進行訓練, 訓練過程會存在 train_history 變數中\n",
    "# calllback\n",
    "train_history = model.fit(x=x_Train_norm, \n",
    "                          y=y_TrainOneHot, \n",
    "                          validation_split=0.2, \n",
    "                          epochs=50, \n",
    "                          batch_size=200, \n",
    "                          verbose=2)  \n"
   ]
  },
  {
   "cell_type": "code",
   "execution_count": 5,
   "metadata": {},
   "outputs": [
    {
     "data": {
      "image/png": "[encoded data removed]",
      "text/plain": [
       "<Figure size 432x288 with 1 Axes>"
      ]
     },
     "metadata": {
      "needs_background": "light"
     },
     "output_type": "display_data"
    }
   ],
   "source": [
    "%matplotlib inline\n",
    "plt.plot(train_history.history['loss'], color='red')\n",
    "plt.plot(train_history.history['val_loss'], color='blue')\n",
    "plt.show()"
   ]
  },
  {
   "cell_type": "code",
   "execution_count": 6,
   "metadata": {},
   "outputs": [
    {
     "data": {
      "image/png": "[encoded data removed]",
      "text/plain": [
       "<Figure size 432x288 with 1 Axes>"
      ]
     },
     "metadata": {
      "needs_background": "light"
     },
     "output_type": "display_data"
    }
   ],
   "source": [
    "%matplotlib inline\n",
    "plt.plot(train_history.history['accuracy'], color='red')\n",
    "plt.plot(train_history.history['val_accuracy'], color='blue')\n",
    "plt.show()"
   ]
  },
  {
   "cell_type": "code",
   "execution_count": 3,
   "metadata": {},
   "outputs": [
    {
     "name": "stdout",
     "output_type": "stream",
     "text": [
      "60000/60000 [==============================] - 2s 35us/step\n",
      "\n",
      "\t[Info] Accuracy of training data = 98.7%\n"
     ]
    }
   ],
   "source": [
    "# 顯示訓練成果(分數)\n",
    "scores = model.evaluate(x_Train_norm, y_TrainOneHot)  \n",
    "print()  \n",
    "print(\"\\t[Info] Accuracy of training data = {:2.1f}%\".format(scores[1]*100.0))  \n"
   ]
  },
  {
   "cell_type": "code",
   "execution_count": 4,
   "metadata": {},
   "outputs": [
    {
     "name": "stdout",
     "output_type": "stream",
     "text": [
      "10000/10000 [==============================] - 0s 36us/step\n",
      "\n",
      "\t[Info] Accuracy of testing data = 96.2%\n"
     ]
    }
   ],
   "source": [
    "# 顯示訓練成果(分數)\n",
    "scores = model.evaluate(x_Test_norm, y_TestOneHot)  \n",
    "print()  \n",
    "print(\"\\t[Info] Accuracy of testing data = {:2.1f}%\".format(scores[1]*100.0))  \n"
   ]
  },
  {
   "cell_type": "code",
   "execution_count": null,
   "metadata": {},
   "outputs": [],
   "source": []
  }
 ],
 "metadata": {
  "kernelspec": {
   "display_name": "Python 3",
   "language": "python",
   "name": "python3"
  },
  "language_info": {
   "codemirror_mode": {
    "name": "ipython",
    "version": 3
   },
   "file_extension": ".py",
   "mimetype": "text/x-python",
   "name": "python",
   "nbconvert_exporter": "python",
   "pygments_lexer": "ipython3",
   "version": "3.7.5"
  }
 },
 "nbformat": 4,
 "nbformat_minor": 5
}
