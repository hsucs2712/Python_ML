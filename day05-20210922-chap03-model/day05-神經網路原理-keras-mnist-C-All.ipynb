{
 "cells": [
  {
   "cell_type": "code",
   "execution_count": null,
   "metadata": {},
   "outputs": [],
   "source": [
    "# from sklearn import datasets\n",
    "# mnist = datasets.load_digits()\n",
    "# mnist.keys()\n",
    "from keras.datasets import mnist\n",
    "(X_train, y_train), (X_test, y_test) = mnist.load_data()"
   ]
  },
  {
   "cell_type": "code",
   "execution_count": null,
   "metadata": {},
   "outputs": [],
   "source": [
    "X_train.shape, X_test.shape"
   ]
  },
  {
   "cell_type": "code",
   "execution_count": null,
   "metadata": {},
   "outputs": [],
   "source": [
    "# 畫圖 第九個檔案\n",
    "import matplotlib.pyplot as plt\n",
    "plt.title(y_train[9])\n",
    "plt.imshow(X_train[9, :, :], cmap='gray_r')\n",
    "plt.show()"
   ]
  },
  {
   "cell_type": "code",
   "execution_count": null,
   "metadata": {},
   "outputs": [],
   "source": [
    "%%time\n",
    "# sklearn multiclass classification and multiple label\n",
    "# https://scikit-learn.org/stable/modules/multiclass.html\n",
    "from sklearn.neural_network import MLPClassifier\n",
    "model = MLPClassifier()\n",
    "model.fit(X_train.reshape(X_train.shape[0], X_train.shape[1]*X_train.shape[2]), y_train)\n",
    "#predict\n",
    "print(model.score(X_train.reshape(X_train.shape[0], X_train.shape[1]*X_train.shape[2]), y_train))\n",
    "print(model.score(X_test.reshape(X_test.shape[0], X_test.shape[1]*X_test.shape[2]), y_test))"
   ]
  },
  {
   "cell_type": "code",
   "execution_count": null,
   "metadata": {},
   "outputs": [],
   "source": [
    "%%time\n",
    "# sklearn multiclass classification and multiple label\n",
    "# https://scikit-learn.org/stable/modules/multiclass.html\n",
    "from sklearn.linear_model import LogisticRegression\n",
    "model = LogisticRegression()\n",
    "model.fit(X_train.reshape(X_train.shape[0], X_train.shape[1]*X_train.shape[2]), y_train)\n",
    "#predict\n",
    "print(model.score(X_train.reshape(X_train.shape[0], X_train.shape[1]*X_train.shape[2]), y_train))\n",
    "print(model.score(X_test.reshape(X_test.shape[0], X_test.shape[1]*X_test.shape[2]), y_test))"
   ]
  },
  {
   "cell_type": "code",
   "execution_count": null,
   "metadata": {},
   "outputs": [],
   "source": [
    "%%time\n",
    "# sklearn multiclass classification and multiple label\n",
    "# https://scikit-learn.org/stable/modules/multiclass.html\n",
    "from sklearn.svm import LinearSVC\n",
    "model = LinearSVC()\n",
    "model.fit(X_train.reshape(X_train.shape[0], X_train.shape[1]*X_train.shape[2]), y_train)\n",
    "#predict\n",
    "print(model.score(X_train.reshape(X_train.shape[0], X_train.shape[1]*X_train.shape[2]), y_train))\n",
    "print(model.score(X_test.reshape(X_test.shape[0], X_test.shape[1]*X_test.shape[2]), y_test))"
   ]
  }
 ],
 "metadata": {
  "kernelspec": {
   "display_name": "Python 3",
   "language": "python",
   "name": "python3"
  },
  "language_info": {
   "codemirror_mode": {
    "name": "ipython",
    "version": 3
   },
   "file_extension": ".py",
   "mimetype": "text/x-python",
   "name": "python",
   "nbconvert_exporter": "python",
   "pygments_lexer": "ipython3",
   "version": "3.7.5"
  }
 },
 "nbformat": 4,
 "nbformat_minor": 5
}
