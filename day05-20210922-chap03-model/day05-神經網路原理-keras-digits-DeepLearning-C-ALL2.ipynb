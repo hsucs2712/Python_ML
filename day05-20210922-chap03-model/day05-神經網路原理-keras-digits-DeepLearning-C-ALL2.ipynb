{
 "cells": [
  {
   "cell_type": "code",
   "execution_count": 1,
   "metadata": {},
   "outputs": [
    {
     "name": "stderr",
     "output_type": "stream",
     "text": [
      "Using TensorFlow backend.\n"
     ]
    },
    {
     "name": "stdout",
     "output_type": "stream",
     "text": [
      "Model: \"sequential_1\"\n",
      "_________________________________________________________________\n",
      "Layer (type)                 Output Shape              Param #   \n",
      "=================================================================\n",
      "dense_1 (Dense)              (None, 100)               6500      \n",
      "_________________________________________________________________\n",
      "dense_2 (Dense)              (None, 10)                1010      \n",
      "=================================================================\n",
      "Total params: 7,510\n",
      "Trainable params: 7,510\n",
      "Non-trainable params: 0\n",
      "_________________________________________________________________\n",
      "None\n"
     ]
    }
   ],
   "source": [
    "# 導入函式庫\n",
    "import numpy as np  \n",
    "import keras\n",
    "# from keras.models import Sequential\n",
    "from keras.datasets import mnist\n",
    "from keras.layers import Dense, Dropout, Activation, Flatten\n",
    "from keras.utils import np_utils  # 用來後續將 label 標籤轉為 one-hot-encoding  \n",
    "from matplotlib import pyplot as plt\n",
    "import os\n",
    "from datetime import datetime\n",
    "#---------------------------------------------------\n",
    "from sklearn import datasets\n",
    "from sklearn.model_selection import train_test_split \n",
    "#---------------------------------------------------\n",
    "start=datetime.now()\n",
    "\n",
    "#---------------------------------------------------\n",
    "mnist = datasets.load_digits()\n",
    "X, y = mnist.data, mnist.target\n",
    "#---------------------------------------------------\n",
    "# 載入 MNIST 資料庫的訓練資料，並自動分為『訓練組』及『測試組』\n",
    "# 請使用sklearn.datasets.load_digits()\n",
    "#---------------------------------------------------\n",
    "X_train, X_test, y_train, y_test = train_test_split(X, y, test_size=0.2, random_state=42)\n",
    "#---------------------------------------------------\n",
    "\n",
    "# 建立簡單的線性執行的模型\n",
    "model = keras.models.Sequential()\n",
    "# Add Input layer, 隱藏層(hidden layer) 有 256個輸出變數\n",
    "model.add(Dense(units=100, input_dim=X_train.shape[1], kernel_initializer='normal', activation='relu')) \n",
    "# Add output layer\n",
    "model.add(Dense(units=10, kernel_initializer='normal', activation='softmax'))\n",
    "\n",
    "# 編譯: 選擇損失函數、優化方法及成效衡量方式\n",
    "model.compile(loss='categorical_crossentropy', optimizer='adam', metrics=['accuracy']) \n",
    "\n",
    "\n",
    "# 將 training 的 label 進行 one-hot encoding，例如數字 7 經過 One-hot encoding 轉換後是 0000001000，即第7個值為 1\n",
    "y_TrainOneHot = np_utils.to_categorical(y_train) \n",
    "y_TestOneHot = np_utils.to_categorical(y_test) \n",
    "\n",
    "\n",
    "# 將 training 的 input 資料轉為2維\n",
    "X_train_2D = X_train.reshape(X_train.shape[0], X_train.shape[1]).astype('float32')  \n",
    "X_test_2D = X_test.reshape(X_test.shape[0], X_test.shape[1]).astype('float32')  \n",
    "\n",
    "x_Train_norm = X_train_2D/1 #255\n",
    "x_Test_norm = X_test_2D/1   #255\n",
    "\n",
    "print(model.summary())"
   ]
  },
  {
   "cell_type": "code",
   "execution_count": 2,
   "metadata": {},
   "outputs": [
    {
     "data": {
      "text/plain": [
       "(1797, 64)"
      ]
     },
     "execution_count": 2,
     "metadata": {},
     "output_type": "execute_result"
    }
   ],
   "source": [
    "X.shape"
   ]
  },
  {
   "cell_type": "code",
   "execution_count": 3,
   "metadata": {
    "collapsed": true
   },
   "outputs": [
    {
     "name": "stdout",
     "output_type": "stream",
     "text": [
      "Train on 1149 samples, validate on 288 samples\n",
      "Epoch 1/50\n",
      " - 0s - loss: 2.3048 - accuracy: 0.2019 - val_loss: 1.8383 - val_accuracy: 0.4653\n",
      "Epoch 2/50\n",
      " - 0s - loss: 1.5827 - accuracy: 0.5770 - val_loss: 1.2959 - val_accuracy: 0.6736\n",
      "Epoch 3/50\n",
      " - 0s - loss: 1.0980 - accuracy: 0.7937 - val_loss: 0.8930 - val_accuracy: 0.8229\n",
      "Epoch 4/50\n",
      " - 0s - loss: 0.7710 - accuracy: 0.8912 - val_loss: 0.6481 - val_accuracy: 0.8715\n",
      "Epoch 5/50\n",
      " - 0s - loss: 0.5693 - accuracy: 0.8973 - val_loss: 0.5036 - val_accuracy: 0.8785\n",
      "Epoch 6/50\n",
      " - 0s - loss: 0.4336 - accuracy: 0.9234 - val_loss: 0.4122 - val_accuracy: 0.9062\n",
      "Epoch 7/50\n",
      " - 0s - loss: 0.3424 - accuracy: 0.9373 - val_loss: 0.3512 - val_accuracy: 0.9097\n",
      "Epoch 8/50\n",
      " - 0s - loss: 0.2826 - accuracy: 0.9469 - val_loss: 0.3071 - val_accuracy: 0.9132\n",
      "Epoch 9/50\n",
      " - 0s - loss: 0.2402 - accuracy: 0.9539 - val_loss: 0.2779 - val_accuracy: 0.9201\n",
      "Epoch 10/50\n",
      " - 0s - loss: 0.2085 - accuracy: 0.9565 - val_loss: 0.2537 - val_accuracy: 0.9236\n",
      "Epoch 11/50\n",
      " - 0s - loss: 0.1822 - accuracy: 0.9634 - val_loss: 0.2368 - val_accuracy: 0.9271\n",
      "Epoch 12/50\n",
      " - 0s - loss: 0.1650 - accuracy: 0.9695 - val_loss: 0.2236 - val_accuracy: 0.9410\n",
      "Epoch 13/50\n",
      " - 0s - loss: 0.1497 - accuracy: 0.9739 - val_loss: 0.2118 - val_accuracy: 0.9375\n",
      "Epoch 14/50\n",
      " - 0s - loss: 0.1380 - accuracy: 0.9791 - val_loss: 0.2025 - val_accuracy: 0.9375\n",
      "Epoch 15/50\n",
      " - 0s - loss: 0.1273 - accuracy: 0.9791 - val_loss: 0.1982 - val_accuracy: 0.9410\n",
      "Epoch 16/50\n",
      " - 0s - loss: 0.1196 - accuracy: 0.9835 - val_loss: 0.1897 - val_accuracy: 0.9340\n",
      "Epoch 17/50\n",
      " - 0s - loss: 0.1114 - accuracy: 0.9843 - val_loss: 0.1866 - val_accuracy: 0.9340\n",
      "Epoch 18/50\n",
      " - 0s - loss: 0.1050 - accuracy: 0.9843 - val_loss: 0.1814 - val_accuracy: 0.9375\n",
      "Epoch 19/50\n",
      " - 0s - loss: 0.0984 - accuracy: 0.9861 - val_loss: 0.1788 - val_accuracy: 0.9444\n",
      "Epoch 20/50\n",
      " - 0s - loss: 0.0926 - accuracy: 0.9878 - val_loss: 0.1709 - val_accuracy: 0.9306\n",
      "Epoch 21/50\n",
      " - 0s - loss: 0.0874 - accuracy: 0.9861 - val_loss: 0.1720 - val_accuracy: 0.9444\n",
      "Epoch 22/50\n",
      " - 0s - loss: 0.0822 - accuracy: 0.9878 - val_loss: 0.1653 - val_accuracy: 0.9340\n",
      "Epoch 23/50\n",
      " - 0s - loss: 0.0784 - accuracy: 0.9878 - val_loss: 0.1645 - val_accuracy: 0.9479\n",
      "Epoch 24/50\n",
      " - 0s - loss: 0.0737 - accuracy: 0.9887 - val_loss: 0.1588 - val_accuracy: 0.9410\n",
      "Epoch 25/50\n",
      " - 0s - loss: 0.0707 - accuracy: 0.9896 - val_loss: 0.1585 - val_accuracy: 0.9444\n",
      "Epoch 26/50\n",
      " - 0s - loss: 0.0665 - accuracy: 0.9896 - val_loss: 0.1555 - val_accuracy: 0.9444\n",
      "Epoch 27/50\n",
      " - 0s - loss: 0.0641 - accuracy: 0.9904 - val_loss: 0.1502 - val_accuracy: 0.9375\n",
      "Epoch 28/50\n",
      " - 0s - loss: 0.0609 - accuracy: 0.9913 - val_loss: 0.1506 - val_accuracy: 0.9479\n",
      "Epoch 29/50\n",
      " - 0s - loss: 0.0581 - accuracy: 0.9922 - val_loss: 0.1475 - val_accuracy: 0.9410\n",
      "Epoch 30/50\n",
      " - 0s - loss: 0.0544 - accuracy: 0.9939 - val_loss: 0.1488 - val_accuracy: 0.9410\n",
      "Epoch 31/50\n",
      " - 0s - loss: 0.0523 - accuracy: 0.9939 - val_loss: 0.1457 - val_accuracy: 0.9410\n",
      "Epoch 32/50\n",
      " - 0s - loss: 0.0498 - accuracy: 0.9930 - val_loss: 0.1458 - val_accuracy: 0.9410\n",
      "Epoch 33/50\n",
      " - 0s - loss: 0.0475 - accuracy: 0.9939 - val_loss: 0.1424 - val_accuracy: 0.9444\n",
      "Epoch 34/50\n",
      " - 0s - loss: 0.0460 - accuracy: 0.9939 - val_loss: 0.1388 - val_accuracy: 0.9444\n",
      "Epoch 35/50\n",
      " - 0s - loss: 0.0436 - accuracy: 0.9939 - val_loss: 0.1408 - val_accuracy: 0.9410\n",
      "Epoch 36/50\n",
      " - 0s - loss: 0.0428 - accuracy: 0.9965 - val_loss: 0.1413 - val_accuracy: 0.9444\n",
      "Epoch 37/50\n",
      " - 0s - loss: 0.0392 - accuracy: 0.9956 - val_loss: 0.1362 - val_accuracy: 0.9479\n",
      "Epoch 38/50\n",
      " - 0s - loss: 0.0398 - accuracy: 0.9956 - val_loss: 0.1359 - val_accuracy: 0.9514\n",
      "Epoch 39/50\n",
      " - 0s - loss: 0.0369 - accuracy: 0.9965 - val_loss: 0.1369 - val_accuracy: 0.9444\n",
      "Epoch 40/50\n",
      " - 0s - loss: 0.0353 - accuracy: 0.9965 - val_loss: 0.1333 - val_accuracy: 0.9549\n",
      "Epoch 41/50\n",
      " - 0s - loss: 0.0340 - accuracy: 0.9974 - val_loss: 0.1317 - val_accuracy: 0.9514\n",
      "Epoch 42/50\n",
      " - 0s - loss: 0.0324 - accuracy: 0.9974 - val_loss: 0.1331 - val_accuracy: 0.9479\n",
      "Epoch 43/50\n",
      " - 0s - loss: 0.0310 - accuracy: 0.9974 - val_loss: 0.1292 - val_accuracy: 0.9479\n",
      "Epoch 44/50\n",
      " - 0s - loss: 0.0297 - accuracy: 0.9974 - val_loss: 0.1279 - val_accuracy: 0.9479\n",
      "Epoch 45/50\n",
      " - 0s - loss: 0.0289 - accuracy: 0.9974 - val_loss: 0.1278 - val_accuracy: 0.9514\n",
      "Epoch 46/50\n",
      " - 0s - loss: 0.0276 - accuracy: 0.9974 - val_loss: 0.1262 - val_accuracy: 0.9514\n",
      "Epoch 47/50\n",
      " - 0s - loss: 0.0273 - accuracy: 0.9974 - val_loss: 0.1244 - val_accuracy: 0.9549\n",
      "Epoch 48/50\n",
      " - 0s - loss: 0.0260 - accuracy: 0.9983 - val_loss: 0.1257 - val_accuracy: 0.9514\n",
      "Epoch 49/50\n",
      " - 0s - loss: 0.0251 - accuracy: 0.9974 - val_loss: 0.1267 - val_accuracy: 0.9549\n",
      "Epoch 50/50\n",
      " - 0s - loss: 0.0242 - accuracy: 0.9974 - val_loss: 0.1211 - val_accuracy: 0.9549\n"
     ]
    }
   ],
   "source": [
    "# 進行訓練, 訓練過程會存在 train_history 變數中\n",
    "# calllback\n",
    "train_history = model.fit(x=x_Train_norm, \n",
    "                          y=y_TrainOneHot, \n",
    "                          validation_split=0.2, \n",
    "                          epochs=50, \n",
    "                          batch_size=200, \n",
    "                          verbose=2)  \n"
   ]
  },
  {
   "cell_type": "code",
   "execution_count": 8,
   "metadata": {},
   "outputs": [
    {
     "data": {
      "text/plain": [
       "(0.0, 16.0)"
      ]
     },
     "execution_count": 8,
     "metadata": {},
     "output_type": "execute_result"
    }
   ],
   "source": [
    "# InternalError:  Blas GEMM launch failed : a.shape=(200, 64), b.shape=(64, 100), m=200, n=100, k=64\n",
    "# \t [[node dense_4/MatMul (defined at c:\\python37\\lib\\site-packages\\tensorflow_core\\python\\framework\\ops.py:1751) ]] [Op:__inference_keras_scratch_graph_908]\n",
    "\n",
    "# Function call stack:\n",
    "# keras_scratch_graph\n",
    "X.min(), X.max()"
   ]
  },
  {
   "cell_type": "code",
   "execution_count": 4,
   "metadata": {},
   "outputs": [
    {
     "data": {
      "image/png": "[encoded data removed]",
      "text/plain": [
       "<Figure size 432x288 with 1 Axes>"
      ]
     },
     "metadata": {
      "needs_background": "light"
     },
     "output_type": "display_data"
    }
   ],
   "source": [
    "%matplotlib inline\n",
    "plt.plot(train_history.history['loss'], color='red')\n",
    "plt.plot(train_history.history['val_loss'], color='blue')\n",
    "plt.show()"
   ]
  },
  {
   "cell_type": "code",
   "execution_count": 5,
   "metadata": {},
   "outputs": [
    {
     "data": {
      "image/png": "[encoded data removed]",
      "text/plain": [
       "<Figure size 432x288 with 1 Axes>"
      ]
     },
     "metadata": {
      "needs_background": "light"
     },
     "output_type": "display_data"
    }
   ],
   "source": [
    "%matplotlib inline\n",
    "plt.plot(train_history.history['accuracy'], color='red')\n",
    "plt.plot(train_history.history['val_accuracy'], color='blue')\n",
    "plt.show()"
   ]
  },
  {
   "cell_type": "code",
   "execution_count": 9,
   "metadata": {},
   "outputs": [
    {
     "name": "stdout",
     "output_type": "stream",
     "text": [
      "1437/1437 [==============================] - 0s 46us/step\n",
      "\n",
      "\t[Info] Accuracy of training data = 99.0%\n"
     ]
    }
   ],
   "source": [
    "# 顯示訓練成果(分數)\n",
    "scores = model.evaluate(x_Train_norm, y_TrainOneHot)  \n",
    "print()  \n",
    "print(\"\\t[Info] Accuracy of training data = {:2.1f}%\".format(scores[1]*100.0))  \n"
   ]
  },
  {
   "cell_type": "code",
   "execution_count": 10,
   "metadata": {},
   "outputs": [
    {
     "name": "stdout",
     "output_type": "stream",
     "text": [
      "360/360 [==============================] - 0s 61us/step\n",
      "\n",
      "\t[Info] Accuracy of testing data = 96.9%\n"
     ]
    }
   ],
   "source": [
    "# 顯示訓練成果(分數)\n",
    "scores = model.evaluate(x_Test_norm, y_TestOneHot)  \n",
    "print()  \n",
    "print(\"\\t[Info] Accuracy of testing data = {:2.1f}%\".format(scores[1]*100.0))  \n"
   ]
  },
  {
   "cell_type": "code",
   "execution_count": null,
   "metadata": {},
   "outputs": [],
   "source": []
  }
 ],
 "metadata": {
  "kernelspec": {
   "display_name": "Python 3",
   "language": "python",
   "name": "python3"
  },
  "language_info": {
   "codemirror_mode": {
    "name": "ipython",
    "version": 3
   },
   "file_extension": ".py",
   "mimetype": "text/x-python",
   "name": "python",
   "nbconvert_exporter": "python",
   "pygments_lexer": "ipython3",
   "version": "3.7.5"
  }
 },
 "nbformat": 4,
 "nbformat_minor": 5
}
