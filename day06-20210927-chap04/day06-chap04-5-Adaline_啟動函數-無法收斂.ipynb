{
 "cells": [
  {
   "cell_type": "code",
   "execution_count": 1,
   "id": "eb151d46",
   "metadata": {
    "id": "eb151d46",
    "outputId": "009eae12-3bab-406c-e380-3f3930363822"
   },
   "outputs": [
    {
     "data": {
      "text/plain": [
       "dict_keys(['data', 'target', 'frame', 'target_names', 'DESCR', 'feature_names', 'filename'])"
      ]
     },
     "execution_count": 1,
     "metadata": {},
     "output_type": "execute_result"
    }
   ],
   "source": [
    "import numpy as np\n",
    "from sklearn import datasets\n",
    "iris = datasets.load_iris()\n",
    "iris.keys()"
   ]
  },
  {
   "cell_type": "code",
   "execution_count": 2,
   "id": "40f8ae10",
   "metadata": {
    "id": "40f8ae10",
    "outputId": "7411df5c-eda2-4bf6-90fe-cdb57c21fba8"
   },
   "outputs": [
    {
     "data": {
      "text/plain": [
       "(array([[5.1, 3.5, 1.4, 0.2],\n",
       "        [4.9, 3. , 1.4, 0.2],\n",
       "        [4.7, 3.2, 1.3, 0.2]]),\n",
       " array([-1, -1, -1]))"
      ]
     },
     "execution_count": 2,
     "metadata": {},
     "output_type": "execute_result"
    }
   ],
   "source": [
    "X, y = iris.data[:100], np.where(iris.target[:100] > 0, 1, -1)\n",
    "X[:3], y[:3]"
   ]
  },
  {
   "cell_type": "code",
   "execution_count": 3,
   "id": "bb1ee8e0",
   "metadata": {
    "id": "bb1ee8e0"
   },
   "outputs": [],
   "source": [
    "# 加上 StandardScalar\n",
    "# <---------------\n",
    "# from sklearn.preprocessing import StandardScaler \n",
    "# ss = StandardScaler()\n",
    "# X = ss.fit_transform(X)"
   ]
  },
  {
   "cell_type": "code",
   "execution_count": 4,
   "id": "7ab4eee6",
   "metadata": {
    "id": "7ab4eee6"
   },
   "outputs": [],
   "source": [
    "from math import floor\n",
    "import numpy as np\n",
    "class AdalineGD(object):\n",
    "    \"\"\"ADAptive LInear NEuron classifier.\n",
    "\n",
    "    Parameters\n",
    "    ------------\n",
    "    eta : float\n",
    "      Learning rate (between 0.0 and 1.0)\n",
    "    n_iter : int\n",
    "      Passes over the training dataset.\n",
    "    random_state : int\n",
    "      Random number generator seed for random weight\n",
    "      initialization.\n",
    "\n",
    "\n",
    "    Attributes\n",
    "    -----------\n",
    "    w_ : 1d-array\n",
    "      Weights after fitting.\n",
    "    cost_ : list\n",
    "      Sum-of-squares cost function value in each epoch.\n",
    "\n",
    "    \"\"\"\n",
    "    def __init__(self, eta=0.01, n_iter=50, random_state=1):\n",
    "        self.eta = eta                   #權重改變比率\n",
    "        self.n_iter = n_iter             #經過幾次的計算\n",
    "        self.random_state = random_state #權重初始化亂數種子\n",
    "\n",
    "    def fit(self, X, y):\n",
    "        \"\"\" Fit training data.\n",
    "\n",
    "        Parameters\n",
    "        ----------\n",
    "        X : {array-like}, shape = [n_samples, n_features]\n",
    "          Training vectors, where n_samples is the number of samples and\n",
    "          n_features is the number of features.\n",
    "        y : array-like, shape = [n_samples]\n",
    "          Target values.\n",
    "\n",
    "        Returns\n",
    "        -------\n",
    "        self : object\n",
    "\n",
    "        \"\"\"\n",
    "        rgen = np.random.RandomState(self.random_state)                #初始化權重\n",
    "        self.w_ = rgen.normal(loc=0.0, scale=0.01, size=1 + X.shape[1])#初始化權重個數= w0 + 所有特徵\n",
    "        self.cost_ = []                                                #每一 round 計算的所有成本\n",
    "\n",
    "        for i in range(self.n_iter):\n",
    "            net_input = self.net_input(X)                              # 針對全部的資料進行預測值\n",
    "            # Please note that the \"activation\" method has no effect\n",
    "            # in the code since it is simply an identity function. We\n",
    "            # could write `output = self.net_input(X)` directly instead.\n",
    "            # The purpose of the activation is more conceptual, i.e.,  \n",
    "            # in the case of logistic regression (as we will see later), \n",
    "            # we could change it to\n",
    "            # a sigmoid function to implement a logistic regression classifier.\n",
    "            output = self.activation(net_input)                        # 經過啟動函數，這邊沒改變\n",
    "            errors = (y - output)                                      # 真正資料 跟 預測的差距\n",
    "            self.w_[1:] += self.eta * X.T.dot(errors)                  # 產生對應特徵變更的權重 X=100,4, error=100,1\n",
    "            self.w_[0] += self.eta * errors.sum()                      # 產生w0變更的權重\n",
    "            cost = (errors**2).sum() / 2.0                             # 計算該次(round)的所有資料差距產生成本\n",
    "            self.cost_.append(cost)                                    # 針對該次產生成本加入變數\n",
    "            # <--- 最後三次 當連續三次 的訓練成本 到小數點下三位都一樣( 無條件捨去 )\n",
    "            if len(self.cost_)>3 and (floor(self.cost_[-3]*1000)/1000.0==floor(self.cost_[-2]*1000)/1000.0==floor(self.cost_[-1]*1000)/1000.0   ):\n",
    "                print('Early Stopping', i)\n",
    "                break\n",
    "#             last3 = model.cost_[-3:]\n",
    "#             print(last3)\n",
    "#             if pd.value_counts(np.ceil(last3*1000)).size==1 :\n",
    "#                 print('Early Stopping', i)\n",
    "#                 break\n",
    "        return self\n",
    "\n",
    "    def net_input(self, X):\n",
    "        \"\"\"Calculate net input\"\"\"\n",
    "        return np.dot(X, self.w_[1:]) + self.w_[0]\n",
    "    # activation 20210916\n",
    "    def logistic(self, X):\n",
    "        return( 1/ (1+np.exp(-1*X)))\n",
    "    \n",
    "    def tanh(self, X):\n",
    "        return( (np.exp(X) - np.exp(-1*X))/(np.exp(X) + np.exp(-1*X) ) )\n",
    "    \n",
    "    def activation(self, X):\n",
    "        \"\"\"Compute linear activation\"\"\"\n",
    "#         return self.tanh(X)\n",
    "        return X\n",
    "\n",
    "    def predict(self, X):\n",
    "        \"\"\"Return class label after unit step\"\"\"\n",
    "        return np.where(self.activation(self.net_input(X)) >= 0.0, 1, -1)"
   ]
  },
  {
   "cell_type": "code",
   "execution_count": 7,
   "id": "c432e5d1",
   "metadata": {
    "id": "c432e5d1",
    "outputId": "b6bce8f3-4378-4c49-a821-21649711ea95"
   },
   "outputs": [
    {
     "data": {
      "text/plain": [
       "<__main__.AdalineGD at 0x1e4a40fcd00>"
      ]
     },
     "execution_count": 7,
     "metadata": {},
     "output_type": "execute_result"
    }
   ],
   "source": [
    "model = AdalineGD(n_iter=10, eta=0.01) # <----------------改小\n",
    "model.fit(X, y)"
   ]
  },
  {
   "cell_type": "code",
   "execution_count": 8,
   "id": "12084e18",
   "metadata": {
    "id": "12084e18",
    "outputId": "6ad12edd-bcaf-47fd-de41-84aac6d77503"
   },
   "outputs": [
    {
     "data": {
      "text/plain": [
       "[1.4445014778982618e+17,\n",
       " 3.524774962859041e+20,\n",
       " 8.60091784528655e+23,\n",
       " 2.0987378927976967e+27,\n",
       " 5.121198483576689e+30]"
      ]
     },
     "execution_count": 8,
     "metadata": {},
     "output_type": "execute_result"
    }
   ],
   "source": [
    "# 怎樣讓 程式碼自動停止 當連續三次 的訓練成本 到小數點下三位都一樣 ?\n",
    "model.cost_[-5:]"
   ]
  },
  {
   "cell_type": "code",
   "execution_count": 9,
   "id": "de75c30e",
   "metadata": {
    "id": "de75c30e",
    "outputId": "547024ab-7d2a-4716-ccc0-d76ae0ac063e"
   },
   "outputs": [
    {
     "data": {
      "image/png": "[encoded data removed]",
      "text/plain": [
       "<Figure size 432x288 with 1 Axes>"
      ]
     },
     "metadata": {
      "needs_background": "light"
     },
     "output_type": "display_data"
    }
   ],
   "source": [
    "# 畫圖 <----------------------------- 針對 model.cost_ 取 log 再畫圖\n",
    "\n",
    "import matplotlib.pyplot as plt\n",
    "plt.plot(model.cost_)\n",
    "plt.scatter(range(len(model.cost_)), model.cost_)\n",
    "plt.show()"
   ]
  },
  {
   "cell_type": "code",
   "execution_count": 10,
   "id": "4113699f",
   "metadata": {
    "id": "4113699f",
    "outputId": "efc7b667-87a8-4ef3-f2f7-9a732ec9d332"
   },
   "outputs": [
    {
     "data": {
      "image/png": "[encoded data removed]",
      "text/plain": [
       "<Figure size 432x288 with 1 Axes>"
      ]
     },
     "metadata": {
      "needs_background": "light"
     },
     "output_type": "display_data"
    }
   ],
   "source": [
    "# 畫圖 <----------------------------- 針對 model.cost_ 取 log 再畫圖\n",
    "\n",
    "import matplotlib.pyplot as plt\n",
    "plt.plot(np.log(model.cost_))\n",
    "plt.scatter(range(len(model.cost_)), np.log(model.cost_))\n",
    "plt.show()"
   ]
  },
  {
   "cell_type": "code",
   "execution_count": null,
   "id": "630bc090",
   "metadata": {
    "id": "630bc090"
   },
   "outputs": [],
   "source": []
  }
 ],
 "metadata": {
  "colab": {
   "name": "day12-chap11-Adaline-D-EXAM-Ans.ipynb",
   "provenance": []
  },
  "kernelspec": {
   "display_name": "Python 3 (ipykernel)",
   "language": "python",
   "name": "python3"
  },
  "language_info": {
   "codemirror_mode": {
    "name": "ipython",
    "version": 3
   },
   "file_extension": ".py",
   "mimetype": "text/x-python",
   "name": "python",
   "nbconvert_exporter": "python",
   "pygments_lexer": "ipython3",
   "version": "3.8.8"
  }
 },
 "nbformat": 4,
 "nbformat_minor": 5
}
