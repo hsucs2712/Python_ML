{
 "cells": [
  {
   "cell_type": "code",
   "execution_count": null,
   "id": "eb4213ee",
   "metadata": {},
   "outputs": [],
   "source": [
    "# 建立簡單的線性執行的模型\n",
    "model = keras.models.Sequential()\n",
    "# Add Input layer, 隱藏層(hidden layer) 有 256個輸出變數\n",
    "model.add(Dense(units=400, input_dim=784, kernel_initializer='normal', activation='relu')) \n",
    "model.add(Dense(units=200, activation='relu')) \n",
    "# Add output layer\n",
    "model.add(Dense(units=10, kernel_initializer='normal', activation='softmax'))\n"
   ]
  },
  {
   "cell_type": "code",
   "execution_count": null,
   "id": "62d02e56",
   "metadata": {},
   "outputs": [],
   "source": [
    "Model: \"sequential_1\"\n",
    "_________________________________________________________________\n",
    "Layer (type)                 Output Shape              Param #   \n",
    "=================================================================\n",
    "dense_1 (Dense)              (None, 400)               314000    \n",
    "_________________________________________________________________\n",
    "dense_2 (Dense)              (None, 200)               80200     \n",
    "_________________________________________________________________\n",
    "dense_3 (Dense)              (None, 10)                2010      \n",
    "=================================================================\n",
    "Total params: 396,210\n",
    "Trainable params: 396,210\n",
    "Non-trainable params: 0\n",
    "_________________________________________________________________\n",
    "None"
   ]
  },
  {
   "cell_type": "code",
   "execution_count": 8,
   "id": "ca0b28a8",
   "metadata": {},
   "outputs": [
    {
     "data": {
      "text/plain": [
       "396210"
      ]
     },
     "execution_count": 8,
     "metadata": {},
     "output_type": "execute_result"
    }
   ],
   "source": [
    "784 * 400 + 400 +\\\n",
    "400 * 200 + 200 +\\\n",
    "200 * 10  + 10"
   ]
  }
 ],
 "metadata": {
  "kernelspec": {
   "display_name": "Python 3 (ipykernel)",
   "language": "python",
   "name": "python3"
  },
  "language_info": {
   "codemirror_mode": {
    "name": "ipython",
    "version": 3
   },
   "file_extension": ".py",
   "mimetype": "text/x-python",
   "name": "python",
   "nbconvert_exporter": "python",
   "pygments_lexer": "ipython3",
   "version": "3.8.8"
  }
 },
 "nbformat": 4,
 "nbformat_minor": 5
}
