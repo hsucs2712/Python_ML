{
 "cells": [
  {
   "cell_type": "code",
   "execution_count": 6,
   "id": "a7037c9a",
   "metadata": {},
   "outputs": [
    {
     "name": "stdout",
     "output_type": "stream",
     "text": [
      "(2, 3)\n"
     ]
    },
    {
     "data": {
      "text/plain": [
       "array([[1, 1, 1],\n",
       "       [2, 2, 2]])"
      ]
     },
     "execution_count": 6,
     "metadata": {},
     "output_type": "execute_result"
    }
   ],
   "source": [
    "# transpose, inverse\n",
    "\n",
    "import numpy as np\n",
    "A = np.array([[1, 1, 1],\n",
    "              [2, 2, 2]])\n",
    "\n",
    "print(A.shape)\n",
    "A"
   ]
  },
  {
   "cell_type": "code",
   "execution_count": 7,
   "id": "43f80cd8",
   "metadata": {},
   "outputs": [
    {
     "data": {
      "text/plain": [
       "array([[1, 2],\n",
       "       [1, 2],\n",
       "       [1, 2]])"
      ]
     },
     "execution_count": 7,
     "metadata": {},
     "output_type": "execute_result"
    }
   ],
   "source": [
    "# transpose\n",
    "A.T"
   ]
  },
  {
   "cell_type": "code",
   "execution_count": 23,
   "id": "48f74942",
   "metadata": {},
   "outputs": [
    {
     "data": {
      "text/plain": [
       "array([[-2. ,  1. ],\n",
       "       [ 1.5, -0.5]])"
      ]
     },
     "execution_count": 23,
     "metadata": {},
     "output_type": "execute_result"
    }
   ],
   "source": [
    "# inverse\n",
    "# transpose, inverse\n",
    "# https://www.varsitytutors.com/hotmath/hotmath_help/topics/inverse-matrices\n",
    "import numpy as np\n",
    "from numpy import linalg\n",
    "A = np.array([\n",
    "              [1., 2.], \n",
    "              [3., 4.]\n",
    "             ])\n",
    "\n",
    "A\n",
    "# print(dir(linalg))\n",
    "linalg.inv(A)"
   ]
  },
  {
   "cell_type": "code",
   "execution_count": 19,
   "id": "6d291423",
   "metadata": {},
   "outputs": [],
   "source": [
    "from numpy.linalg import inv\n",
    "a = np.array([[1., 2.], \n",
    "              [3., 4.]\n",
    "             ])\n",
    "ainv = inv(a)"
   ]
  }
 ],
 "metadata": {
  "kernelspec": {
   "display_name": "Python 3 (ipykernel)",
   "language": "python",
   "name": "python3"
  },
  "language_info": {
   "codemirror_mode": {
    "name": "ipython",
    "version": 3
   },
   "file_extension": ".py",
   "mimetype": "text/x-python",
   "name": "python",
   "nbconvert_exporter": "python",
   "pygments_lexer": "ipython3",
   "version": "3.8.8"
  }
 },
 "nbformat": 4,
 "nbformat_minor": 5
}
