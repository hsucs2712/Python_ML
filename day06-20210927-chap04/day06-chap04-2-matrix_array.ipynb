{
 "cells": [
  {
   "cell_type": "code",
   "execution_count": 1,
   "id": "c144bdb7",
   "metadata": {},
   "outputs": [],
   "source": [
    "# y = x^2 + 2*x + 1 , y = (x + 1)^2\n",
    "# yp = 2*x\n",
    "\n",
    "def f(x):\n",
    "    return(x**2 + 2*x + 1)\n",
    "\n",
    "def fd(x):\n",
    "    return(2*x + 2)"
   ]
  },
  {
   "cell_type": "code",
   "execution_count": 25,
   "id": "7d8b7ceb",
   "metadata": {},
   "outputs": [],
   "source": [
    "import numpy as np \n",
    "X  = np.arange(-2.3, 0.5, 0.05)\n",
    "y  = f(X)\n",
    "yd = fd(X)"
   ]
  },
  {
   "cell_type": "code",
   "execution_count": 26,
   "id": "8082311f",
   "metadata": {},
   "outputs": [
    {
     "data": {
      "image/png": "[encoded data removed]",
      "text/plain": [
       "<Figure size 432x288 with 1 Axes>"
      ]
     },
     "metadata": {
      "needs_background": "light"
     },
     "output_type": "display_data"
    }
   ],
   "source": [
    "import matplotlib.pyplot as plt\n",
    "# plt.plot(X, y, color='black')\n",
    "plt.scatter(X, y, marker='^')\n",
    "\n",
    "plt.plot(X, yd, color='blue')\n",
    "#plt.scatter(X, yd, marker='+', color='blue')\n",
    "\n",
    "plt.grid()\n",
    "plt.show()"
   ]
  },
  {
   "cell_type": "code",
   "execution_count": null,
   "id": "06d3ca91",
   "metadata": {},
   "outputs": [],
   "source": [
    "# y = x^2 + 2*x + 1 , y = (x + 1)^2\n",
    "# yp = 2*x\n"
   ]
  },
  {
   "cell_type": "code",
   "execution_count": 28,
   "id": "1d3bdaca",
   "metadata": {},
   "outputs": [
    {
     "data": {
      "text/plain": [
       "(5,)"
      ]
     },
     "execution_count": 28,
     "metadata": {},
     "output_type": "execute_result"
    }
   ],
   "source": [
    "import numpy as np\n",
    "data = np.array([1, 2, 3, 4, 5])\n",
    "data.shape"
   ]
  },
  {
   "cell_type": "code",
   "execution_count": 29,
   "id": "2fdad662",
   "metadata": {},
   "outputs": [
    {
     "data": {
      "text/plain": [
       "array([[1],\n",
       "       [2],\n",
       "       [3],\n",
       "       [4],\n",
       "       [5]])"
      ]
     },
     "execution_count": 29,
     "metadata": {},
     "output_type": "execute_result"
    }
   ],
   "source": [
    "data.reshape(5, 1)"
   ]
  },
  {
   "cell_type": "code",
   "execution_count": 30,
   "id": "97f90491",
   "metadata": {},
   "outputs": [
    {
     "data": {
      "text/plain": [
       "array([[1, 2, 3, 4, 5]])"
      ]
     },
     "execution_count": 30,
     "metadata": {},
     "output_type": "execute_result"
    }
   ],
   "source": [
    "data.reshape(1, 5)"
   ]
  },
  {
   "cell_type": "code",
   "execution_count": 38,
   "id": "8e8e8a86",
   "metadata": {},
   "outputs": [
    {
     "name": "stdout",
     "output_type": "stream",
     "text": [
      "(2, 4)\n",
      "(4,)\n",
      "(2,)\n"
     ]
    },
    {
     "data": {
      "text/plain": [
       "array([12, 24])"
      ]
     },
     "execution_count": 38,
     "metadata": {},
     "output_type": "execute_result"
    }
   ],
   "source": [
    "import numpy as np\n",
    "A = np.array([[1, 1, 1, 1],\n",
    "              [2, 2, 2, 2]])\n",
    "print(A.shape)\n",
    "B = np.array([3, 3, 3, 3])\n",
    "\n",
    "print(B.shape)\n",
    "print(A.dot(B).shape)\n",
    "A.dot(B)"
   ]
  },
  {
   "cell_type": "code",
   "execution_count": 42,
   "id": "7ead3d07",
   "metadata": {},
   "outputs": [
    {
     "name": "stdout",
     "output_type": "stream",
     "text": [
      "(2, 4)\n",
      "(2, 1)\n"
     ]
    },
    {
     "data": {
      "text/plain": [
       "array([[12],\n",
       "       [24]])"
      ]
     },
     "execution_count": 42,
     "metadata": {},
     "output_type": "execute_result"
    }
   ],
   "source": [
    "import numpy as np\n",
    "A = np.array([[1, 1, 1, 1],\n",
    "              [2, 2, 2, 2]])\n",
    "print(A.shape)\n",
    "B = np.array([3, 3, 3, 3]).reshape(4, 1)\n",
    "\n",
    "print(A.dot(B).shape)\n",
    "A.dot(B)\n"
   ]
  },
  {
   "cell_type": "code",
   "execution_count": 51,
   "id": "9c64c772",
   "metadata": {},
   "outputs": [
    {
     "data": {
      "text/plain": [
       "()"
      ]
     },
     "execution_count": 51,
     "metadata": {},
     "output_type": "execute_result"
    }
   ],
   "source": [
    "import numpy as np\n",
    "# 0-rank tensor\n",
    "np.array(6).shape "
   ]
  },
  {
   "cell_type": "code",
   "execution_count": 50,
   "id": "ce964f5b",
   "metadata": {},
   "outputs": [
    {
     "data": {
      "text/plain": [
       "(1, 2)"
      ]
     },
     "execution_count": 50,
     "metadata": {},
     "output_type": "execute_result"
    }
   ],
   "source": [
    "import numpy as np\n",
    " \n",
    "# (2,) 1-rank tensor\n",
    "np.array([6, 12]).shape\n",
    "\n",
    "# (2,1) 2-rank tensor\n",
    "np.array([ [6], \n",
    "           [12] ]).shape\n",
    "# (1,2) 2-rank tensor\n",
    "np.array( [  \n",
    "            [6, 12]\n",
    "          ] ).shape\n",
    "\n",
    "# (,2)  做不出來 ?"
   ]
  },
  {
   "cell_type": "code",
   "execution_count": null,
   "id": "42780d2f",
   "metadata": {},
   "outputs": [],
   "source": []
  },
  {
   "cell_type": "code",
   "execution_count": 56,
   "id": "2b8e5dbf",
   "metadata": {},
   "outputs": [
    {
     "data": {
      "text/plain": [
       "(12, 12)"
      ]
     },
     "execution_count": 56,
     "metadata": {},
     "output_type": "execute_result"
    }
   ],
   "source": [
    "import numpy as np\n",
    " \n",
    "# (2,) 1-rank tensor\n",
    "P = np.array([6, 12])\n",
    "\n",
    "# (1,2) 2-rank tensor\n",
    "Q = np.array( [  \n",
    "               [6, 12]\n",
    "              ] )\n",
    "\n",
    "P[1], Q[0][1] #????????"
   ]
  },
  {
   "cell_type": "code",
   "execution_count": null,
   "id": "a31d790b",
   "metadata": {},
   "outputs": [],
   "source": []
  },
  {
   "cell_type": "code",
   "execution_count": null,
   "id": "6fa953de",
   "metadata": {},
   "outputs": [],
   "source": []
  },
  {
   "cell_type": "code",
   "execution_count": 62,
   "id": "b334fa5c",
   "metadata": {},
   "outputs": [
    {
     "name": "stdout",
     "output_type": "stream",
     "text": [
      "(2, 4)\n",
      "(2, 1)\n"
     ]
    },
    {
     "ename": "ValueError",
     "evalue": "operands could not be broadcast together with shapes (2,4) (4,1) ",
     "output_type": "error",
     "traceback": [
      "\u001b[1;31m---------------------------------------------------------------------------\u001b[0m",
      "\u001b[1;31mValueError\u001b[0m                                Traceback (most recent call last)",
      "\u001b[1;32mC:\\Users\\LEWIS_~1\\AppData\\Local\\Temp/ipykernel_13716/2342433588.py\u001b[0m in \u001b[0;36m<module>\u001b[1;34m\u001b[0m\n\u001b[0;32m      9\u001b[0m \u001b[0mA\u001b[0m\u001b[1;33m.\u001b[0m\u001b[0mdot\u001b[0m\u001b[1;33m(\u001b[0m\u001b[0mB\u001b[0m\u001b[1;33m)\u001b[0m\u001b[1;33m\u001b[0m\u001b[1;33m\u001b[0m\u001b[0m\n\u001b[0;32m     10\u001b[0m \u001b[0mA\u001b[0m\u001b[1;33m@\u001b[0m\u001b[0mB\u001b[0m\u001b[1;33m\u001b[0m\u001b[1;33m\u001b[0m\u001b[0m\n\u001b[1;32m---> 11\u001b[1;33m \u001b[0mA\u001b[0m\u001b[1;33m*\u001b[0m\u001b[0mB\u001b[0m\u001b[1;33m\u001b[0m\u001b[1;33m\u001b[0m\u001b[0m\n\u001b[0m",
      "\u001b[1;31mValueError\u001b[0m: operands could not be broadcast together with shapes (2,4) (4,1) "
     ]
    }
   ],
   "source": [
    "# array vs matrix\n",
    "import numpy as np\n",
    "A = np.array([[1, 1, 1, 1],\n",
    "              [2, 2, 2, 2]])\n",
    "print(A.shape)\n",
    "B = np.array([3, 3, 3, 3]).reshape(4, 1)\n",
    "\n",
    "print(A.dot(B).shape)\n",
    "A.dot(B)\n",
    "A@B\n",
    "A*B # <------- array 會發生問題"
   ]
  },
  {
   "cell_type": "code",
   "execution_count": 61,
   "id": "59678bf5",
   "metadata": {},
   "outputs": [
    {
     "name": "stdout",
     "output_type": "stream",
     "text": [
      "(2, 4)\n",
      "(2, 1)\n"
     ]
    },
    {
     "data": {
      "text/plain": [
       "matrix([[12],\n",
       "        [24]])"
      ]
     },
     "execution_count": 61,
     "metadata": {},
     "output_type": "execute_result"
    }
   ],
   "source": [
    "# array vs matrix\n",
    "import numpy as np\n",
    "A = np.matrix([[1, 1, 1, 1],\n",
    "              [2, 2, 2, 2]])\n",
    "print(A.shape)\n",
    "B = np.matrix([3, 3, 3, 3]).reshape(4, 1)\n",
    "\n",
    "print(A.dot(B).shape)\n",
    "A@B\n",
    "A*B # <------- matrix 會發生問題"
   ]
  }
 ],
 "metadata": {
  "kernelspec": {
   "display_name": "Python 3 (ipykernel)",
   "language": "python",
   "name": "python3"
  },
  "language_info": {
   "codemirror_mode": {
    "name": "ipython",
    "version": 3
   },
   "file_extension": ".py",
   "mimetype": "text/x-python",
   "name": "python",
   "nbconvert_exporter": "python",
   "pygments_lexer": "ipython3",
   "version": "3.8.8"
  }
 },
 "nbformat": 4,
 "nbformat_minor": 5
}
