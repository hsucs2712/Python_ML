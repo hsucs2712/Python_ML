{
 "cells": [
  {
   "cell_type": "code",
   "execution_count": 1,
   "metadata": {},
   "outputs": [
    {
     "name": "stderr",
     "output_type": "stream",
     "text": [
      "Using TensorFlow backend.\n"
     ]
    },
    {
     "name": "stdout",
     "output_type": "stream",
     "text": [
      "Model: \"sequential_1\"\n",
      "_________________________________________________________________\n",
      "Layer (type)                 Output Shape              Param #   \n",
      "=================================================================\n",
      "conv2d_1 (Conv2D)            (None, 28, 28, 12)        120       \n",
      "_________________________________________________________________\n",
      "max_pooling2d_1 (MaxPooling2 (None, 14, 14, 12)        0         \n",
      "_________________________________________________________________\n",
      "flatten_1 (Flatten)          (None, 2352)              0         \n",
      "_________________________________________________________________\n",
      "dense_1 (Dense)              (None, 400)               941200    \n",
      "_________________________________________________________________\n",
      "dense_2 (Dense)              (None, 200)               80200     \n",
      "_________________________________________________________________\n",
      "dense_3 (Dense)              (None, 10)                2010      \n",
      "=================================================================\n",
      "Total params: 1,023,530\n",
      "Trainable params: 1,023,530\n",
      "Non-trainable params: 0\n",
      "_________________________________________________________________\n",
      "None\n"
     ]
    }
   ],
   "source": [
    "# 導入函式庫\n",
    "import numpy as np  \n",
    "import keras\n",
    "# from keras.models import Sequential\n",
    "from keras.datasets import mnist\n",
    "from keras.layers import Dense, Dropout, Activation, Flatten\n",
    "from keras.layers import Conv2D, MaxPooling2D\n",
    "from keras.utils import np_utils  # 用來後續將 label 標籤轉為 one-hot-encoding  \n",
    "from matplotlib import pyplot as plt\n",
    "import os\n",
    "\n",
    "\n",
    "# 載入 MNIST 資料庫的訓練資料，並自動分為『訓練組』及『測試組』\n",
    "(X_train, y_train), (X_test, y_test) = mnist.load_data()\n",
    "\n",
    "# 建立簡單的線性執行的模型\n",
    "model = keras.models.Sequential()\n",
    "\n",
    "model.add(Conv2D(filters=12, kernel_size=(3, 3),\n",
    "                 activation='relu', padding='same',\n",
    "                 input_shape=(28, 28, 1))) # 高 寬 RGB\n",
    "model.add(MaxPooling2D(pool_size=(2, 2)))  # kernel_size=(2, 2)\n",
    "model.add(Flatten())                       # fully-connected layer\n",
    "\n",
    "# Add Input layer, 隱藏層(hidden layer) 有 256個輸出變數\n",
    "model.add(Dense(units=400,  activation='relu')) \n",
    "model.add(Dense(units=200, activation='relu')) \n",
    "# Add output layer\n",
    "model.add(Dense(units=10, kernel_initializer='normal', activation='softmax'))\n",
    "\n",
    "# 編譯: 選擇損失函數、優化方法及成效衡量方式\n",
    "model.compile(loss='categorical_crossentropy', optimizer='adam', metrics=['accuracy']) \n",
    "\n",
    "# 將 training 的 label 進行 one-hot encoding，例如數字 7 經過 One-hot encoding 轉換後是 0000001000，即第7個值為 1\n",
    "\n",
    "y_TestOneHot = np_utils.to_categorical(y_test) \n",
    "\n",
    "# 將 training 的 label 進行 one-hot encoding，例如數字 7 經過 One-hot encoding 轉換後是 0000001000，即第7個值為 1\n",
    "y_TrainOneHot = np_utils.to_categorical(y_train) \n",
    "y_TestOneHot = np_utils.to_categorical(y_test) \n",
    "\n",
    "\n",
    "# 將 training 的 input 資料轉為2維\n",
    "X_train_2D = X_train.reshape(60000, 28, 28, 1).astype('float32')  \n",
    "X_test_2D = X_test.reshape(10000, 28, 28, 1).astype('float32')  \n",
    "\n",
    "x_Train_norm = X_train_2D/255\n",
    "x_Test_norm = X_test_2D/255\n",
    "\n",
    "print(model.summary())"
   ]
  },
  {
   "cell_type": "code",
   "execution_count": 2,
   "metadata": {},
   "outputs": [
    {
     "data": {
      "text/plain": [
       "(0.0, 1.0)"
      ]
     },
     "execution_count": 2,
     "metadata": {},
     "output_type": "execute_result"
    }
   ],
   "source": [
    "x_Train_norm.min(), x_Train_norm.max()"
   ]
  },
  {
   "cell_type": "code",
   "execution_count": 3,
   "metadata": {},
   "outputs": [
    {
     "name": "stdout",
     "output_type": "stream",
     "text": [
      "Train on 48000 samples, validate on 12000 samples\n",
      "Epoch 1/50\n",
      " - 4s - loss: 0.3156 - accuracy: 0.9097 - val_loss: 0.1237 - val_accuracy: 0.9647\n",
      "Epoch 2/50\n",
      " - 1s - loss: 0.0915 - accuracy: 0.9730 - val_loss: 0.0890 - val_accuracy: 0.9718\n",
      "Epoch 3/50\n",
      " - 1s - loss: 0.0552 - accuracy: 0.9835 - val_loss: 0.0650 - val_accuracy: 0.9799\n",
      "Epoch 4/50\n",
      " - 1s - loss: 0.0386 - accuracy: 0.9877 - val_loss: 0.0595 - val_accuracy: 0.9827\n",
      "Epoch 5/50\n",
      " - 1s - loss: 0.0283 - accuracy: 0.9915 - val_loss: 0.0548 - val_accuracy: 0.9835\n",
      "Epoch 6/50\n",
      " - 1s - loss: 0.0215 - accuracy: 0.9936 - val_loss: 0.0579 - val_accuracy: 0.9831\n",
      "Epoch 7/50\n",
      " - 1s - loss: 0.0157 - accuracy: 0.9951 - val_loss: 0.0661 - val_accuracy: 0.9820\n",
      "Epoch 8/50\n",
      " - 1s - loss: 0.0107 - accuracy: 0.9969 - val_loss: 0.0778 - val_accuracy: 0.9782\n",
      "Epoch 9/50\n",
      " - 1s - loss: 0.0120 - accuracy: 0.9962 - val_loss: 0.0584 - val_accuracy: 0.9839\n",
      "Epoch 10/50\n",
      " - 1s - loss: 0.0070 - accuracy: 0.9977 - val_loss: 0.0685 - val_accuracy: 0.9829\n",
      "Epoch 11/50\n",
      " - 1s - loss: 0.0075 - accuracy: 0.9979 - val_loss: 0.0619 - val_accuracy: 0.9847\n",
      "Epoch 12/50\n",
      " - 1s - loss: 0.0054 - accuracy: 0.9984 - val_loss: 0.0654 - val_accuracy: 0.9850\n",
      "Epoch 13/50\n",
      " - 1s - loss: 0.0064 - accuracy: 0.9980 - val_loss: 0.0650 - val_accuracy: 0.9847\n",
      "Epoch 14/50\n",
      " - 1s - loss: 0.0063 - accuracy: 0.9981 - val_loss: 0.0797 - val_accuracy: 0.9822\n",
      "Epoch 15/50\n",
      " - 1s - loss: 0.0061 - accuracy: 0.9980 - val_loss: 0.0761 - val_accuracy: 0.9810\n",
      "Epoch 16/50\n",
      " - 1s - loss: 0.0044 - accuracy: 0.9987 - val_loss: 0.0598 - val_accuracy: 0.9872\n",
      "Epoch 17/50\n",
      " - 1s - loss: 0.0034 - accuracy: 0.9989 - val_loss: 0.0664 - val_accuracy: 0.9857\n",
      "Epoch 18/50\n",
      " - 1s - loss: 0.0023 - accuracy: 0.9992 - val_loss: 0.0621 - val_accuracy: 0.9868\n",
      "Epoch 19/50\n",
      " - 1s - loss: 0.0019 - accuracy: 0.9995 - val_loss: 0.0682 - val_accuracy: 0.9863\n",
      "Epoch 20/50\n",
      " - 1s - loss: 0.0025 - accuracy: 0.9991 - val_loss: 0.0733 - val_accuracy: 0.9858\n",
      "Epoch 21/50\n",
      " - 1s - loss: 0.0045 - accuracy: 0.9985 - val_loss: 0.0808 - val_accuracy: 0.9834\n",
      "Epoch 22/50\n",
      " - 1s - loss: 0.0054 - accuracy: 0.9981 - val_loss: 0.0787 - val_accuracy: 0.9856\n",
      "Epoch 23/50\n",
      " - 1s - loss: 0.0044 - accuracy: 0.9984 - val_loss: 0.0866 - val_accuracy: 0.9840\n",
      "Epoch 24/50\n",
      " - 1s - loss: 0.0049 - accuracy: 0.9981 - val_loss: 0.0696 - val_accuracy: 0.9863\n",
      "Epoch 25/50\n",
      " - 1s - loss: 0.0022 - accuracy: 0.9992 - val_loss: 0.0737 - val_accuracy: 0.9852\n",
      "Epoch 26/50\n",
      " - 1s - loss: 0.0011 - accuracy: 0.9997 - val_loss: 0.0690 - val_accuracy: 0.9871\n",
      "Epoch 27/50\n",
      " - 1s - loss: 0.0011 - accuracy: 0.9997 - val_loss: 0.0788 - val_accuracy: 0.9867\n",
      "Epoch 28/50\n",
      " - 1s - loss: 0.0045 - accuracy: 0.9986 - val_loss: 0.0703 - val_accuracy: 0.9855\n",
      "Epoch 29/50\n",
      " - 1s - loss: 0.0029 - accuracy: 0.9992 - val_loss: 0.0911 - val_accuracy: 0.9830\n",
      "Epoch 30/50\n",
      " - 1s - loss: 0.0033 - accuracy: 0.9988 - val_loss: 0.0785 - val_accuracy: 0.9862\n",
      "Epoch 31/50\n",
      " - 1s - loss: 0.0036 - accuracy: 0.9991 - val_loss: 0.0685 - val_accuracy: 0.9871\n",
      "Epoch 32/50\n",
      " - 1s - loss: 3.6389e-04 - accuracy: 0.9999 - val_loss: 0.0718 - val_accuracy: 0.9879\n",
      "Epoch 33/50\n",
      " - 1s - loss: 1.1349e-04 - accuracy: 1.0000 - val_loss: 0.0704 - val_accuracy: 0.9877\n",
      "Epoch 34/50\n",
      " - 1s - loss: 2.4442e-05 - accuracy: 1.0000 - val_loss: 0.0711 - val_accuracy: 0.9878\n",
      "Epoch 35/50\n",
      " - 1s - loss: 1.7478e-05 - accuracy: 1.0000 - val_loss: 0.0720 - val_accuracy: 0.9880\n",
      "Epoch 36/50\n",
      " - 1s - loss: 1.3752e-05 - accuracy: 1.0000 - val_loss: 0.0727 - val_accuracy: 0.9880\n",
      "Epoch 37/50\n",
      " - 1s - loss: 1.1289e-05 - accuracy: 1.0000 - val_loss: 0.0736 - val_accuracy: 0.9882\n",
      "Epoch 38/50\n",
      " - 1s - loss: 9.4686e-06 - accuracy: 1.0000 - val_loss: 0.0743 - val_accuracy: 0.9880\n",
      "Epoch 39/50\n",
      " - 1s - loss: 7.9952e-06 - accuracy: 1.0000 - val_loss: 0.0749 - val_accuracy: 0.9881\n",
      "Epoch 40/50\n",
      " - 1s - loss: 6.8500e-06 - accuracy: 1.0000 - val_loss: 0.0756 - val_accuracy: 0.9882\n",
      "Epoch 41/50\n",
      " - 1s - loss: 5.8475e-06 - accuracy: 1.0000 - val_loss: 0.0764 - val_accuracy: 0.9881\n",
      "Epoch 42/50\n",
      " - 1s - loss: 5.0458e-06 - accuracy: 1.0000 - val_loss: 0.0770 - val_accuracy: 0.9883\n",
      "Epoch 43/50\n",
      " - 1s - loss: 4.3621e-06 - accuracy: 1.0000 - val_loss: 0.0776 - val_accuracy: 0.9883\n",
      "Epoch 44/50\n",
      " - 1s - loss: 3.7227e-06 - accuracy: 1.0000 - val_loss: 0.0786 - val_accuracy: 0.9883\n",
      "Epoch 45/50\n",
      " - 1s - loss: 3.0466e-06 - accuracy: 1.0000 - val_loss: 0.0801 - val_accuracy: 0.9882\n",
      "Epoch 46/50\n",
      " - 1s - loss: 2.3217e-06 - accuracy: 1.0000 - val_loss: 0.0827 - val_accuracy: 0.9882\n",
      "Epoch 47/50\n",
      " - 1s - loss: 1.7848e-06 - accuracy: 1.0000 - val_loss: 0.0848 - val_accuracy: 0.9881\n",
      "Epoch 48/50\n",
      " - 1s - loss: 1.4226e-06 - accuracy: 1.0000 - val_loss: 0.0870 - val_accuracy: 0.9880\n",
      "Epoch 49/50\n",
      " - 1s - loss: 1.1945e-06 - accuracy: 1.0000 - val_loss: 0.0884 - val_accuracy: 0.9883\n",
      "Epoch 50/50\n",
      " - 1s - loss: 1.0118e-06 - accuracy: 1.0000 - val_loss: 0.0892 - val_accuracy: 0.9880\n"
     ]
    }
   ],
   "source": [
    "# 進行訓練, 訓練過程會存在 train_history 變數中\n",
    "# calllback\n",
    "train_history = model.fit(x=x_Train_norm, \n",
    "                          y=y_TrainOneHot, \n",
    "                          validation_split=0.2, \n",
    "                          epochs=50, \n",
    "                          batch_size=200, \n",
    "                          verbose=2)  \n"
   ]
  },
  {
   "cell_type": "code",
   "execution_count": 4,
   "metadata": {},
   "outputs": [
    {
     "data": {
      "image/png": "[encoded data removed]",
      "text/plain": [
       "<Figure size 432x288 with 1 Axes>"
      ]
     },
     "metadata": {
      "needs_background": "light"
     },
     "output_type": "display_data"
    }
   ],
   "source": [
    "%matplotlib inline\n",
    "plt.plot(train_history.history['loss'], color='red')\n",
    "plt.plot(train_history.history['val_loss'], color='blue')\n",
    "plt.show()"
   ]
  },
  {
   "cell_type": "code",
   "execution_count": 5,
   "metadata": {},
   "outputs": [
    {
     "data": {
      "image/png": "[encoded data removed]",
      "text/plain": [
       "<Figure size 432x288 with 1 Axes>"
      ]
     },
     "metadata": {
      "needs_background": "light"
     },
     "output_type": "display_data"
    }
   ],
   "source": [
    "%matplotlib inline\n",
    "plt.plot(train_history.history['accuracy'], color='red')\n",
    "plt.plot(train_history.history['val_accuracy'], color='blue')\n",
    "plt.show()"
   ]
  },
  {
   "cell_type": "code",
   "execution_count": 6,
   "metadata": {},
   "outputs": [
    {
     "name": "stdout",
     "output_type": "stream",
     "text": [
      "60000/60000 [==============================] - 3s 50us/step\n",
      "\n",
      "\t[Info] Accuracy of training data = 99.8%\n"
     ]
    }
   ],
   "source": [
    "# 顯示訓練成果(分數) 98.7%\n",
    "scores = model.evaluate(x_Train_norm, y_TrainOneHot)  \n",
    "print()  \n",
    "print(\"\\t[Info] Accuracy of training data = {:2.1f}%\".format(scores[1]*100.0))  \n"
   ]
  },
  {
   "cell_type": "code",
   "execution_count": null,
   "metadata": {},
   "outputs": [],
   "source": [
    "x_Test_norm.shape\n"
   ]
  },
  {
   "cell_type": "code",
   "execution_count": 7,
   "metadata": {},
   "outputs": [
    {
     "name": "stdout",
     "output_type": "stream",
     "text": [
      "10000/10000 [==============================] - 1s 56us/step\n",
      "\n",
      "\t[Info] Accuracy of testing data = 98.9%\n"
     ]
    }
   ],
   "source": [
    "# 顯示訓練成果(分數) 96.2%\n",
    "scores = model.evaluate(x_Test_norm, y_TestOneHot)  \n",
    "print()  \n",
    "print(\"\\t[Info] Accuracy of testing data = {:2.1f}%\".format(scores[1]*100.0))  \n"
   ]
  },
  {
   "cell_type": "code",
   "execution_count": null,
   "metadata": {},
   "outputs": [],
   "source": [
    "# how to read sample image and detect \n",
    "!dir *.jpg"
   ]
  },
  {
   "cell_type": "code",
   "execution_count": 8,
   "metadata": {
    "scrolled": true
   },
   "outputs": [
    {
     "data": {
      "image/png": "[encoded data removed]",
      "text/plain": [
       "<Figure size 432x288 with 1 Axes>"
      ]
     },
     "metadata": {
      "needs_background": "light"
     },
     "output_type": "display_data"
    }
   ],
   "source": [
    "import matplotlib.pyplot as plt\n",
    "from skimage import color\n",
    "test = color.rgb2gray(plt.imread('5.jpg')) \n",
    "plt.imshow(test, cmap='gray')\n",
    "plt.show()\n"
   ]
  },
  {
   "cell_type": "code",
   "execution_count": null,
   "metadata": {},
   "outputs": [],
   "source": [
    "test.shape"
   ]
  },
  {
   "cell_type": "code",
   "execution_count": null,
   "metadata": {},
   "outputs": [],
   "source": [
    "# ValueError: Error when checking input: expected dense_1_input to have shape (784,) but got array with shape (1,)"
   ]
  },
  {
   "cell_type": "code",
   "execution_count": 9,
   "metadata": {},
   "outputs": [
    {
     "ename": "ValueError",
     "evalue": "Error when checking input: expected conv2d_1_input to have 4 dimensions, but got array with shape (1, 784)",
     "output_type": "error",
     "traceback": [
      "\u001b[1;31m---------------------------------------------------------------------------\u001b[0m",
      "\u001b[1;31mValueError\u001b[0m                                Traceback (most recent call last)",
      "\u001b[1;32m<ipython-input-9-8051e8000b80>\u001b[0m in \u001b[0;36m<module>\u001b[1;34m\u001b[0m\n\u001b[0;32m      1\u001b[0m \u001b[1;32mimport\u001b[0m \u001b[0mnumpy\u001b[0m \u001b[1;32mas\u001b[0m \u001b[0mnp\u001b[0m\u001b[1;33m\u001b[0m\u001b[1;33m\u001b[0m\u001b[0m\n\u001b[1;32m----> 2\u001b[1;33m \u001b[0mmodel\u001b[0m\u001b[1;33m.\u001b[0m\u001b[0mpredict_proba\u001b[0m\u001b[1;33m(\u001b[0m\u001b[0mtest\u001b[0m\u001b[1;33m.\u001b[0m\u001b[0mreshape\u001b[0m\u001b[1;33m(\u001b[0m\u001b[1;36m1\u001b[0m\u001b[1;33m,\u001b[0m \u001b[1;36m784\u001b[0m\u001b[1;33m)\u001b[0m\u001b[1;33m)\u001b[0m\u001b[1;33m,\u001b[0m\u001b[0;31m \u001b[0m\u001b[0;31m\\\u001b[0m\u001b[1;33m\u001b[0m\u001b[1;33m\u001b[0m\u001b[0m\n\u001b[0m\u001b[0;32m      3\u001b[0m \u001b[0mnp\u001b[0m\u001b[1;33m.\u001b[0m\u001b[0margmax\u001b[0m\u001b[1;33m(\u001b[0m\u001b[0mmodel\u001b[0m\u001b[1;33m.\u001b[0m\u001b[0mpredict_proba\u001b[0m\u001b[1;33m(\u001b[0m\u001b[0mtest\u001b[0m\u001b[1;33m.\u001b[0m\u001b[0mreshape\u001b[0m\u001b[1;33m(\u001b[0m\u001b[1;36m1\u001b[0m\u001b[1;33m,\u001b[0m \u001b[1;36m784\u001b[0m\u001b[1;33m)\u001b[0m\u001b[1;33m)\u001b[0m\u001b[1;33m)\u001b[0m\u001b[1;33m\u001b[0m\u001b[1;33m\u001b[0m\u001b[0m\n",
      "\u001b[1;32mc:\\python37\\lib\\site-packages\\keras\\engine\\sequential.py\u001b[0m in \u001b[0;36mpredict_proba\u001b[1;34m(self, x, batch_size, verbose)\u001b[0m\n\u001b[0;32m    244\u001b[0m             \u001b[0mA\u001b[0m \u001b[0mNumpy\u001b[0m \u001b[0marray\u001b[0m \u001b[0mof\u001b[0m \u001b[0mprobability\u001b[0m \u001b[0mpredictions\u001b[0m\u001b[1;33m.\u001b[0m\u001b[1;33m\u001b[0m\u001b[1;33m\u001b[0m\u001b[0m\n\u001b[0;32m    245\u001b[0m         \"\"\"\n\u001b[1;32m--> 246\u001b[1;33m         \u001b[0mpreds\u001b[0m \u001b[1;33m=\u001b[0m \u001b[0mself\u001b[0m\u001b[1;33m.\u001b[0m\u001b[0mpredict\u001b[0m\u001b[1;33m(\u001b[0m\u001b[0mx\u001b[0m\u001b[1;33m,\u001b[0m \u001b[0mbatch_size\u001b[0m\u001b[1;33m,\u001b[0m \u001b[0mverbose\u001b[0m\u001b[1;33m)\u001b[0m\u001b[1;33m\u001b[0m\u001b[1;33m\u001b[0m\u001b[0m\n\u001b[0m\u001b[0;32m    247\u001b[0m         \u001b[1;32mif\u001b[0m \u001b[0mpreds\u001b[0m\u001b[1;33m.\u001b[0m\u001b[0mmin\u001b[0m\u001b[1;33m(\u001b[0m\u001b[1;33m)\u001b[0m \u001b[1;33m<\u001b[0m \u001b[1;36m0.\u001b[0m \u001b[1;32mor\u001b[0m \u001b[0mpreds\u001b[0m\u001b[1;33m.\u001b[0m\u001b[0mmax\u001b[0m\u001b[1;33m(\u001b[0m\u001b[1;33m)\u001b[0m \u001b[1;33m>\u001b[0m \u001b[1;36m1.\u001b[0m\u001b[1;33m:\u001b[0m\u001b[1;33m\u001b[0m\u001b[1;33m\u001b[0m\u001b[0m\n\u001b[0;32m    248\u001b[0m             warnings.warn('Network returning invalid probability values. '\n",
      "\u001b[1;32mc:\\python37\\lib\\site-packages\\keras\\engine\\training.py\u001b[0m in \u001b[0;36mpredict\u001b[1;34m(self, x, batch_size, verbose, steps, callbacks, max_queue_size, workers, use_multiprocessing)\u001b[0m\n\u001b[0;32m   1439\u001b[0m \u001b[1;33m\u001b[0m\u001b[0m\n\u001b[0;32m   1440\u001b[0m         \u001b[1;31m# Case 2: Symbolic tensors or Numpy array-like.\u001b[0m\u001b[1;33m\u001b[0m\u001b[1;33m\u001b[0m\u001b[1;33m\u001b[0m\u001b[0m\n\u001b[1;32m-> 1441\u001b[1;33m         \u001b[0mx\u001b[0m\u001b[1;33m,\u001b[0m \u001b[0m_\u001b[0m\u001b[1;33m,\u001b[0m \u001b[0m_\u001b[0m \u001b[1;33m=\u001b[0m \u001b[0mself\u001b[0m\u001b[1;33m.\u001b[0m\u001b[0m_standardize_user_data\u001b[0m\u001b[1;33m(\u001b[0m\u001b[0mx\u001b[0m\u001b[1;33m)\u001b[0m\u001b[1;33m\u001b[0m\u001b[1;33m\u001b[0m\u001b[0m\n\u001b[0m\u001b[0;32m   1442\u001b[0m         \u001b[1;32mif\u001b[0m \u001b[0mself\u001b[0m\u001b[1;33m.\u001b[0m\u001b[0mstateful\u001b[0m\u001b[1;33m:\u001b[0m\u001b[1;33m\u001b[0m\u001b[1;33m\u001b[0m\u001b[0m\n\u001b[0;32m   1443\u001b[0m             \u001b[1;32mif\u001b[0m \u001b[0mx\u001b[0m\u001b[1;33m[\u001b[0m\u001b[1;36m0\u001b[0m\u001b[1;33m]\u001b[0m\u001b[1;33m.\u001b[0m\u001b[0mshape\u001b[0m\u001b[1;33m[\u001b[0m\u001b[1;36m0\u001b[0m\u001b[1;33m]\u001b[0m \u001b[1;33m>\u001b[0m \u001b[0mbatch_size\u001b[0m \u001b[1;32mand\u001b[0m \u001b[0mx\u001b[0m\u001b[1;33m[\u001b[0m\u001b[1;36m0\u001b[0m\u001b[1;33m]\u001b[0m\u001b[1;33m.\u001b[0m\u001b[0mshape\u001b[0m\u001b[1;33m[\u001b[0m\u001b[1;36m0\u001b[0m\u001b[1;33m]\u001b[0m \u001b[1;33m%\u001b[0m \u001b[0mbatch_size\u001b[0m \u001b[1;33m!=\u001b[0m \u001b[1;36m0\u001b[0m\u001b[1;33m:\u001b[0m\u001b[1;33m\u001b[0m\u001b[1;33m\u001b[0m\u001b[0m\n",
      "\u001b[1;32mc:\\python37\\lib\\site-packages\\keras\\engine\\training.py\u001b[0m in \u001b[0;36m_standardize_user_data\u001b[1;34m(self, x, y, sample_weight, class_weight, check_array_lengths, batch_size)\u001b[0m\n\u001b[0;32m    577\u001b[0m             \u001b[0mfeed_input_shapes\u001b[0m\u001b[1;33m,\u001b[0m\u001b[1;33m\u001b[0m\u001b[1;33m\u001b[0m\u001b[0m\n\u001b[0;32m    578\u001b[0m             \u001b[0mcheck_batch_axis\u001b[0m\u001b[1;33m=\u001b[0m\u001b[1;32mFalse\u001b[0m\u001b[1;33m,\u001b[0m  \u001b[1;31m# Don't enforce the batch size.\u001b[0m\u001b[1;33m\u001b[0m\u001b[1;33m\u001b[0m\u001b[0m\n\u001b[1;32m--> 579\u001b[1;33m             exception_prefix='input')\n\u001b[0m\u001b[0;32m    580\u001b[0m \u001b[1;33m\u001b[0m\u001b[0m\n\u001b[0;32m    581\u001b[0m         \u001b[1;32mif\u001b[0m \u001b[0my\u001b[0m \u001b[1;32mis\u001b[0m \u001b[1;32mnot\u001b[0m \u001b[1;32mNone\u001b[0m\u001b[1;33m:\u001b[0m\u001b[1;33m\u001b[0m\u001b[1;33m\u001b[0m\u001b[0m\n",
      "\u001b[1;32mc:\\python37\\lib\\site-packages\\keras\\engine\\training_utils.py\u001b[0m in \u001b[0;36mstandardize_input_data\u001b[1;34m(data, names, shapes, check_batch_axis, exception_prefix)\u001b[0m\n\u001b[0;32m    133\u001b[0m                         \u001b[1;34m': expected '\u001b[0m \u001b[1;33m+\u001b[0m \u001b[0mnames\u001b[0m\u001b[1;33m[\u001b[0m\u001b[0mi\u001b[0m\u001b[1;33m]\u001b[0m \u001b[1;33m+\u001b[0m \u001b[1;34m' to have '\u001b[0m \u001b[1;33m+\u001b[0m\u001b[1;33m\u001b[0m\u001b[1;33m\u001b[0m\u001b[0m\n\u001b[0;32m    134\u001b[0m                         \u001b[0mstr\u001b[0m\u001b[1;33m(\u001b[0m\u001b[0mlen\u001b[0m\u001b[1;33m(\u001b[0m\u001b[0mshape\u001b[0m\u001b[1;33m)\u001b[0m\u001b[1;33m)\u001b[0m \u001b[1;33m+\u001b[0m \u001b[1;34m' dimensions, but got array '\u001b[0m\u001b[1;33m\u001b[0m\u001b[1;33m\u001b[0m\u001b[0m\n\u001b[1;32m--> 135\u001b[1;33m                         'with shape ' + str(data_shape))\n\u001b[0m\u001b[0;32m    136\u001b[0m                 \u001b[1;32mif\u001b[0m \u001b[1;32mnot\u001b[0m \u001b[0mcheck_batch_axis\u001b[0m\u001b[1;33m:\u001b[0m\u001b[1;33m\u001b[0m\u001b[1;33m\u001b[0m\u001b[0m\n\u001b[0;32m    137\u001b[0m                     \u001b[0mdata_shape\u001b[0m \u001b[1;33m=\u001b[0m \u001b[0mdata_shape\u001b[0m\u001b[1;33m[\u001b[0m\u001b[1;36m1\u001b[0m\u001b[1;33m:\u001b[0m\u001b[1;33m]\u001b[0m\u001b[1;33m\u001b[0m\u001b[1;33m\u001b[0m\u001b[0m\n",
      "\u001b[1;31mValueError\u001b[0m: Error when checking input: expected conv2d_1_input to have 4 dimensions, but got array with shape (1, 784)"
     ]
    }
   ],
   "source": [
    "# 考你\n",
    "import numpy as np\n",
    "model.predict_proba(test.reshape(1, 784)), \\\n",
    "np.argmax(model.predict_proba(test.reshape(1, 784)))\n",
    "\n",
    "# ValueError: Error when checking input: expected conv2d_1_input to have 4 dimensions, but got array with shape (1, 784)"
   ]
  }
 ],
 "metadata": {
  "kernelspec": {
   "display_name": "Python 3",
   "language": "python",
   "name": "python3"
  },
  "language_info": {
   "codemirror_mode": {
    "name": "ipython",
    "version": 3
   },
   "file_extension": ".py",
   "mimetype": "text/x-python",
   "name": "python",
   "nbconvert_exporter": "python",
   "pygments_lexer": "ipython3",
   "version": "3.7.5"
  }
 },
 "nbformat": 4,
 "nbformat_minor": 5
}
