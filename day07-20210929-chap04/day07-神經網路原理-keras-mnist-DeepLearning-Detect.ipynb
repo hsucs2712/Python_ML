{
 "cells": [
  {
   "cell_type": "code",
   "execution_count": 16,
   "id": "3c2d7c95",
   "metadata": {},
   "outputs": [
    {
     "name": "stdout",
     "output_type": "stream",
     "text": [
      "Model: \"sequential_1\"\n",
      "_________________________________________________________________\n",
      "Layer (type)                 Output Shape              Param #   \n",
      "=================================================================\n",
      "dense_3 (Dense)              (None, 400)               314000    \n",
      "_________________________________________________________________\n",
      "dense_4 (Dense)              (None, 200)               80200     \n",
      "_________________________________________________________________\n",
      "dense_5 (Dense)              (None, 10)                2010      \n",
      "=================================================================\n",
      "Total params: 396,210\n",
      "Trainable params: 396,210\n",
      "Non-trainable params: 0\n",
      "_________________________________________________________________\n",
      "None\n"
     ]
    }
   ],
   "source": [
    "# 導入函式庫\n",
    "import numpy as np  \n",
    "import keras\n",
    "# from keras.models import Sequential\n",
    "from keras.datasets import mnist\n",
    "from keras.layers import Dense, Dropout, Activation, Flatten\n",
    "from keras.utils import np_utils  # 用來後續將 label 標籤轉為 one-hot-encoding  \n",
    "from matplotlib import pyplot as plt\n",
    "import os\n",
    "from datetime import datetime\n",
    "\n",
    "start=datetime.now()\n",
    "\n",
    "# 載入 MNIST 資料庫的訓練資料，並自動分為『訓練組』及『測試組』\n",
    "(X_train, y_train), (X_test, y_test) = mnist.load_data()\n",
    "\n",
    "\n",
    "# 建立簡單的線性執行的模型\n",
    "model = keras.models.Sequential()\n",
    "# Add Input layer, 隱藏層(hidden layer) 有 256個輸出變數\n",
    "model.add(Dense(units=400, input_dim=784, kernel_initializer='normal', activation='relu')) \n",
    "model.add(Dense(units=200, activation='relu')) \n",
    "# Add output layer\n",
    "model.add(Dense(units=10, kernel_initializer='normal', activation='softmax'))\n",
    "\n",
    "# 編譯: 選擇損失函數、優化方法及成效衡量方式\n",
    "model.compile(loss='categorical_crossentropy', optimizer='adam', metrics=['accuracy']) \n",
    "\n",
    "# 將 training 的 label 進行 one-hot encoding，例如數字 7 經過 One-hot encoding 轉換後是 0000001000，即第7個值為 1\n",
    "\n",
    "y_TestOneHot = np_utils.to_categorical(y_test) \n",
    "\n",
    "# 將 training 的 label 進行 one-hot encoding，例如數字 7 經過 One-hot encoding 轉換後是 0000001000，即第7個值為 1\n",
    "y_TrainOneHot = np_utils.to_categorical(y_train) \n",
    "y_TestOneHot = np_utils.to_categorical(y_test) \n",
    "\n",
    "\n",
    "# 將 training 的 input 資料轉為2維\n",
    "X_train_2D = X_train.reshape(60000, 28*28).astype('float32')  \n",
    "X_test_2D = X_test.reshape(10000, 28*28).astype('float32')  \n",
    "\n",
    "x_Train_norm = X_train_2D/255\n",
    "x_Test_norm = X_test_2D/255\n",
    "\n",
    "print(model.summary())"
   ]
  },
  {
   "cell_type": "code",
   "execution_count": 17,
   "id": "9189958a",
   "metadata": {},
   "outputs": [
    {
     "data": {
      "text/plain": [
       "(0.0, 1.0)"
      ]
     },
     "execution_count": 17,
     "metadata": {},
     "output_type": "execute_result"
    }
   ],
   "source": [
    "x_Train_norm.min(), x_Train_norm.max()"
   ]
  },
  {
   "cell_type": "code",
   "execution_count": 18,
   "id": "2fd42902",
   "metadata": {},
   "outputs": [
    {
     "name": "stdout",
     "output_type": "stream",
     "text": [
      "Epoch 1/50\n",
      "240/240 - 1s - loss: 0.3409 - accuracy: 0.9061 - val_loss: 0.1546 - val_accuracy: 0.9554\n",
      "Epoch 2/50\n",
      "240/240 - 1s - loss: 0.1263 - accuracy: 0.9620 - val_loss: 0.1113 - val_accuracy: 0.9676\n",
      "Epoch 3/50\n",
      "240/240 - 1s - loss: 0.0809 - accuracy: 0.9758 - val_loss: 0.0973 - val_accuracy: 0.9717\n",
      "Epoch 4/50\n",
      "240/240 - 1s - loss: 0.0558 - accuracy: 0.9833 - val_loss: 0.0895 - val_accuracy: 0.9733\n",
      "Epoch 5/50\n",
      "240/240 - 1s - loss: 0.0394 - accuracy: 0.9883 - val_loss: 0.0850 - val_accuracy: 0.9762\n",
      "Epoch 6/50\n",
      "240/240 - 1s - loss: 0.0284 - accuracy: 0.9918 - val_loss: 0.0930 - val_accuracy: 0.9745\n",
      "Epoch 7/50\n",
      "240/240 - 1s - loss: 0.0213 - accuracy: 0.9935 - val_loss: 0.0823 - val_accuracy: 0.9770\n",
      "Epoch 8/50\n",
      "240/240 - 1s - loss: 0.0160 - accuracy: 0.9949 - val_loss: 0.0936 - val_accuracy: 0.9762\n",
      "Epoch 9/50\n",
      "240/240 - 1s - loss: 0.0113 - accuracy: 0.9969 - val_loss: 0.0855 - val_accuracy: 0.9790\n",
      "Epoch 10/50\n",
      "240/240 - 1s - loss: 0.0125 - accuracy: 0.9962 - val_loss: 0.0948 - val_accuracy: 0.9782\n",
      "Epoch 11/50\n",
      "240/240 - 1s - loss: 0.0081 - accuracy: 0.9977 - val_loss: 0.0975 - val_accuracy: 0.9769\n",
      "Epoch 12/50\n",
      "240/240 - 1s - loss: 0.0075 - accuracy: 0.9980 - val_loss: 0.0950 - val_accuracy: 0.9798\n",
      "Epoch 13/50\n",
      "240/240 - 1s - loss: 0.0059 - accuracy: 0.9981 - val_loss: 0.1048 - val_accuracy: 0.9773\n",
      "Epoch 14/50\n",
      "240/240 - 1s - loss: 0.0129 - accuracy: 0.9957 - val_loss: 0.1093 - val_accuracy: 0.9766\n",
      "Epoch 15/50\n",
      "240/240 - 1s - loss: 0.0077 - accuracy: 0.9976 - val_loss: 0.1102 - val_accuracy: 0.9760\n",
      "Epoch 16/50\n",
      "240/240 - 1s - loss: 0.0148 - accuracy: 0.9952 - val_loss: 0.1002 - val_accuracy: 0.9791\n",
      "Epoch 17/50\n",
      "240/240 - 1s - loss: 0.0029 - accuracy: 0.9992 - val_loss: 0.0961 - val_accuracy: 0.9810\n",
      "Epoch 18/50\n",
      "240/240 - 1s - loss: 9.4085e-04 - accuracy: 0.9999 - val_loss: 0.0961 - val_accuracy: 0.9812\n",
      "Epoch 19/50\n",
      "240/240 - 1s - loss: 3.7027e-04 - accuracy: 1.0000 - val_loss: 0.0978 - val_accuracy: 0.9811\n",
      "Epoch 20/50\n",
      "240/240 - 1s - loss: 1.5969e-04 - accuracy: 1.0000 - val_loss: 0.0992 - val_accuracy: 0.9817\n",
      "Epoch 21/50\n",
      "240/240 - 1s - loss: 1.1474e-04 - accuracy: 1.0000 - val_loss: 0.1000 - val_accuracy: 0.9815\n",
      "Epoch 22/50\n",
      "240/240 - 1s - loss: 9.0817e-05 - accuracy: 1.0000 - val_loss: 0.1020 - val_accuracy: 0.9815\n",
      "Epoch 23/50\n",
      "240/240 - 1s - loss: 7.7647e-05 - accuracy: 1.0000 - val_loss: 0.1036 - val_accuracy: 0.9818\n",
      "Epoch 24/50\n",
      "240/240 - 1s - loss: 6.6707e-05 - accuracy: 1.0000 - val_loss: 0.1046 - val_accuracy: 0.9817\n",
      "Epoch 25/50\n",
      "240/240 - 1s - loss: 5.9692e-05 - accuracy: 1.0000 - val_loss: 0.1056 - val_accuracy: 0.9818\n",
      "Epoch 26/50\n",
      "240/240 - 1s - loss: 5.1776e-05 - accuracy: 1.0000 - val_loss: 0.1070 - val_accuracy: 0.9820\n",
      "Epoch 27/50\n",
      "240/240 - 1s - loss: 4.7476e-05 - accuracy: 1.0000 - val_loss: 0.1084 - val_accuracy: 0.9822\n",
      "Epoch 28/50\n",
      "240/240 - 1s - loss: 4.0620e-05 - accuracy: 1.0000 - val_loss: 0.1090 - val_accuracy: 0.9821\n",
      "Epoch 29/50\n",
      "240/240 - 1s - loss: 3.5957e-05 - accuracy: 1.0000 - val_loss: 0.1110 - val_accuracy: 0.9818\n",
      "Epoch 30/50\n",
      "240/240 - 1s - loss: 3.2378e-05 - accuracy: 1.0000 - val_loss: 0.1120 - val_accuracy: 0.9818\n",
      "Epoch 31/50\n",
      "240/240 - 1s - loss: 2.8413e-05 - accuracy: 1.0000 - val_loss: 0.1128 - val_accuracy: 0.9821\n",
      "Epoch 32/50\n",
      "240/240 - 1s - loss: 2.6405e-05 - accuracy: 1.0000 - val_loss: 0.1141 - val_accuracy: 0.9818\n",
      "Epoch 33/50\n",
      "240/240 - 1s - loss: 2.3176e-05 - accuracy: 1.0000 - val_loss: 0.1151 - val_accuracy: 0.9820\n",
      "Epoch 34/50\n",
      "240/240 - 1s - loss: 2.0714e-05 - accuracy: 1.0000 - val_loss: 0.1161 - val_accuracy: 0.9819\n",
      "Epoch 35/50\n",
      "240/240 - 1s - loss: 1.7759e-05 - accuracy: 1.0000 - val_loss: 0.1179 - val_accuracy: 0.9819\n",
      "Epoch 36/50\n",
      "240/240 - 1s - loss: 1.6210e-05 - accuracy: 1.0000 - val_loss: 0.1192 - val_accuracy: 0.9822\n",
      "Epoch 37/50\n",
      "240/240 - 1s - loss: 1.4189e-05 - accuracy: 1.0000 - val_loss: 0.1207 - val_accuracy: 0.9818\n",
      "Epoch 38/50\n",
      "240/240 - 1s - loss: 1.2856e-05 - accuracy: 1.0000 - val_loss: 0.1215 - val_accuracy: 0.9818\n",
      "Epoch 39/50\n",
      "240/240 - 1s - loss: 1.1340e-05 - accuracy: 1.0000 - val_loss: 0.1228 - val_accuracy: 0.9819\n",
      "Epoch 40/50\n",
      "240/240 - 1s - loss: 1.0107e-05 - accuracy: 1.0000 - val_loss: 0.1245 - val_accuracy: 0.9819\n",
      "Epoch 41/50\n",
      "240/240 - 1s - loss: 8.9980e-06 - accuracy: 1.0000 - val_loss: 0.1256 - val_accuracy: 0.9820\n",
      "Epoch 42/50\n",
      "240/240 - 1s - loss: 8.0001e-06 - accuracy: 1.0000 - val_loss: 0.1256 - val_accuracy: 0.9821\n",
      "Epoch 43/50\n",
      "240/240 - 1s - loss: 7.1576e-06 - accuracy: 1.0000 - val_loss: 0.1265 - val_accuracy: 0.9819\n",
      "Epoch 44/50\n",
      "240/240 - 1s - loss: 6.2054e-06 - accuracy: 1.0000 - val_loss: 0.1284 - val_accuracy: 0.9817\n",
      "Epoch 45/50\n",
      "240/240 - 1s - loss: 5.5638e-06 - accuracy: 1.0000 - val_loss: 0.1296 - val_accuracy: 0.9819\n",
      "Epoch 46/50\n",
      "240/240 - 1s - loss: 5.0170e-06 - accuracy: 1.0000 - val_loss: 0.1305 - val_accuracy: 0.9818\n",
      "Epoch 47/50\n",
      "240/240 - 1s - loss: 4.4044e-06 - accuracy: 1.0000 - val_loss: 0.1313 - val_accuracy: 0.9822\n",
      "Epoch 48/50\n",
      "240/240 - 1s - loss: 3.8691e-06 - accuracy: 1.0000 - val_loss: 0.1335 - val_accuracy: 0.9816\n",
      "Epoch 49/50\n",
      "240/240 - 1s - loss: 3.4457e-06 - accuracy: 1.0000 - val_loss: 0.1348 - val_accuracy: 0.9818\n",
      "Epoch 50/50\n",
      "240/240 - 1s - loss: 3.0641e-06 - accuracy: 1.0000 - val_loss: 0.1357 - val_accuracy: 0.9818\n"
     ]
    }
   ],
   "source": [
    "# 進行訓練, 訓練過程會存在 train_history 變數中\n",
    "# calllback\n",
    "train_history = model.fit(x=x_Train_norm, \n",
    "                          y=y_TrainOneHot, \n",
    "                          validation_split=0.2, \n",
    "                          epochs=50, \n",
    "                          batch_size=200, \n",
    "                          verbose=2)  \n"
   ]
  },
  {
   "cell_type": "code",
   "execution_count": 19,
   "id": "16565aef",
   "metadata": {},
   "outputs": [
    {
     "data": {
      "image/png": "[encoded data removed]",
      "text/plain": [
       "<Figure size 432x288 with 1 Axes>"
      ]
     },
     "metadata": {
      "needs_background": "light"
     },
     "output_type": "display_data"
    }
   ],
   "source": [
    "%matplotlib inline\n",
    "plt.plot(train_history.history['loss'], color='red')\n",
    "plt.plot(train_history.history['val_loss'], color='blue')\n",
    "plt.show()"
   ]
  },
  {
   "cell_type": "code",
   "execution_count": 5,
   "id": "242e6468",
   "metadata": {},
   "outputs": [
    {
     "data": {
      "image/png": "[encoded data removed]",
      "text/plain": [
       "<Figure size 432x288 with 1 Axes>"
      ]
     },
     "metadata": {
      "needs_background": "light"
     },
     "output_type": "display_data"
    }
   ],
   "source": [
    "%matplotlib inline\n",
    "plt.plot(train_history.history['accuracy'], color='red')\n",
    "plt.plot(train_history.history['val_accuracy'], color='blue')\n",
    "plt.show()"
   ]
  },
  {
   "cell_type": "code",
   "execution_count": 20,
   "id": "57eddede",
   "metadata": {},
   "outputs": [
    {
     "name": "stdout",
     "output_type": "stream",
     "text": [
      "1875/1875 [==============================] - 2s 1ms/step - loss: 0.0271 - accuracy: 0.9963\n",
      "\n",
      "\t[Info] Accuracy of training data = 99.6%\n"
     ]
    }
   ],
   "source": [
    "# 顯示訓練成果(分數) 98.7%\n",
    "scores = model.evaluate(x_Train_norm, y_TrainOneHot)  \n",
    "print()  \n",
    "print(\"\\t[Info] Accuracy of training data = {:2.1f}%\".format(scores[1]*100.0))  \n"
   ]
  },
  {
   "cell_type": "code",
   "execution_count": 21,
   "id": "9799fb07",
   "metadata": {},
   "outputs": [
    {
     "data": {
      "text/plain": [
       "(10000, 784)"
      ]
     },
     "execution_count": 21,
     "metadata": {},
     "output_type": "execute_result"
    }
   ],
   "source": [
    "x_Test_norm.shape\n"
   ]
  },
  {
   "cell_type": "code",
   "execution_count": 22,
   "id": "905501ec",
   "metadata": {},
   "outputs": [
    {
     "name": "stdout",
     "output_type": "stream",
     "text": [
      "313/313 [==============================] - 0s 1ms/step - loss: 0.1123 - accuracy: 0.9824\n",
      "\n",
      "\t[Info] Accuracy of testing data = 98.2%\n"
     ]
    }
   ],
   "source": [
    "# 顯示訓練成果(分數) 96.2%\n",
    "scores = model.evaluate(x_Test_norm, y_TestOneHot)  \n",
    "print()  \n",
    "print(\"\\t[Info] Accuracy of testing data = {:2.1f}%\".format(scores[1]*100.0))  \n"
   ]
  },
  {
   "cell_type": "code",
   "execution_count": 33,
   "id": "1d804948",
   "metadata": {},
   "outputs": [
    {
     "name": "stdout",
     "output_type": "stream",
     "text": [
      " 磁碟區 C 中的磁碟沒有標籤。\n",
      " 磁碟區序號:  DCCA-FFA5\n",
      "\n",
      " C:\\python\\第三階段\\day07-20210929-chap04 的目錄\n",
      "\n",
      "2021/09/29  下午 09:16             1,005 6.jpg\n",
      "2021/09/29  下午 09:30               969 66.jpg\n",
      "2021/09/29  上午 05:39            33,760 bear.jpg\n",
      "2021/09/29  上午 05:40           256,759 bird.jpg\n",
      "               4 個檔案         292,493 位元組\n",
      "               0 個目錄  117,112,463,360 位元組可用\n"
     ]
    }
   ],
   "source": [
    "# how to read sample image and detect \n",
    "!dir *.jpg"
   ]
  },
  {
   "cell_type": "code",
   "execution_count": 42,
   "id": "0ddb7f31",
   "metadata": {
    "scrolled": true
   },
   "outputs": [
    {
     "data": {
      "image/png": "[encoded data removed]",
      "text/plain": [
       "<Figure size 432x288 with 1 Axes>"
      ]
     },
     "metadata": {
      "needs_background": "light"
     },
     "output_type": "display_data"
    }
   ],
   "source": [
    "import matplotlib.pyplot as plt\n",
    "from skimage import color\n",
    "test = color.rgb2gray(plt.imread('2.jpg')) # 手寫.png 6.jpg\n",
    "plt.imshow(test, cmap='gray')\n",
    "plt.show()\n"
   ]
  },
  {
   "cell_type": "code",
   "execution_count": 40,
   "id": "3fe6157d",
   "metadata": {},
   "outputs": [
    {
     "data": {
      "text/plain": [
       "(28, 28)"
      ]
     },
     "execution_count": 40,
     "metadata": {},
     "output_type": "execute_result"
    }
   ],
   "source": [
    "test.shape"
   ]
  },
  {
   "cell_type": "code",
   "execution_count": 36,
   "id": "f1ea50a5",
   "metadata": {},
   "outputs": [],
   "source": [
    "# ValueError: Error when checking input: expected dense_1_input to have shape (784,) but got array with shape (1,)"
   ]
  },
  {
   "cell_type": "code",
   "execution_count": 43,
   "id": "6c57949b",
   "metadata": {},
   "outputs": [
    {
     "data": {
      "text/plain": [
       "array([6], dtype=int64)"
      ]
     },
     "execution_count": 43,
     "metadata": {},
     "output_type": "execute_result"
    }
   ],
   "source": [
    "import numpy as np\n",
    "np.argmax(model.predict(test.reshape(1, 784)), axis=1)"
   ]
  },
  {
   "cell_type": "code",
   "execution_count": null,
   "id": "86a00852",
   "metadata": {},
   "outputs": [],
   "source": []
  }
 ],
 "metadata": {
  "kernelspec": {
   "display_name": "Python 3 (ipykernel)",
   "language": "python",
   "name": "python3"
  },
  "language_info": {
   "codemirror_mode": {
    "name": "ipython",
    "version": 3
   },
   "file_extension": ".py",
   "mimetype": "text/x-python",
   "name": "python",
   "nbconvert_exporter": "python",
   "pygments_lexer": "ipython3",
   "version": "3.7.7"
  }
 },
 "nbformat": 4,
 "nbformat_minor": 5
}
